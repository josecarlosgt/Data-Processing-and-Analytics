{
 "cells": [
  {
   "cell_type": "markdown",
   "id": "0aacdebd",
   "metadata": {},
   "source": [
    "# Predicting customer churn"
   ]
  },
  {
   "cell_type": "markdown",
   "id": "c137e43c",
   "metadata": {},
   "source": [
    "## 1. Business understanding"
   ]
  },
  {
   "cell_type": "markdown",
   "id": "0074194a",
   "metadata": {},
   "source": [
    "Customer churn, also known as customer attrition, occurs when customers stop doing business with a company. Companies are interested in identifying these customers because the price for acquiring a new customer is usually higher than retaining the old one.\n",
    "\n",
    "The goal of this project is to build a model that predicts whether a person will leave the company (churn) or stay.\n",
    "\n",
    "Slides "
   ]
  },
  {
   "cell_type": "markdown",
   "id": "82d18364",
   "metadata": {},
   "source": [
    "## 2. Setup"
   ]
  },
  {
   "cell_type": "markdown",
   "id": "c1acfb95",
   "metadata": {},
   "source": [
    "### Coding constants"
   ]
  },
  {
   "cell_type": "code",
   "execution_count": 35,
   "id": "70c2081b",
   "metadata": {},
   "outputs": [],
   "source": [
    "GRAPH_WIDTH = 6\n",
    "GRAPH_HEIGHT = 5"
   ]
  },
  {
   "cell_type": "markdown",
   "id": "09be433f",
   "metadata": {},
   "source": [
    "### Common imports"
   ]
  },
  {
   "cell_type": "code",
   "execution_count": 36,
   "id": "e2dc3da3",
   "metadata": {},
   "outputs": [],
   "source": [
    "%matplotlib inline \n",
    "\n",
    "# Data visualization libraries\n",
    "import matplotlib.pyplot as plt\n",
    "import seaborn as sns\n",
    "\n",
    "# Data processing libraries\n",
    "import pandas as pd\n",
    "import numpy as np"
   ]
  },
  {
   "cell_type": "markdown",
   "id": "e6ea0d44",
   "metadata": {},
   "source": [
    "### Data loading"
   ]
  },
  {
   "cell_type": "markdown",
   "id": "42cb771e",
   "metadata": {},
   "source": [
    "In typical environments your data would be available in a relational database (or some other common data store) and spread across multiple tables/documents/files.\n",
    "\n",
    "In this project, however, things are much simpler: you will only work on a single file, which contains a comma-separated values (CSV) file with all the data."
   ]
  },
  {
   "cell_type": "code",
   "execution_count": 37,
   "id": "6628d62e",
   "metadata": {},
   "outputs": [
    {
     "data": {
      "text/html": [
       "<div>\n",
       "<style scoped>\n",
       "    .dataframe tbody tr th:only-of-type {\n",
       "        vertical-align: middle;\n",
       "    }\n",
       "\n",
       "    .dataframe tbody tr th {\n",
       "        vertical-align: top;\n",
       "    }\n",
       "\n",
       "    .dataframe thead th {\n",
       "        text-align: right;\n",
       "    }\n",
       "</style>\n",
       "<table border=\"1\" class=\"dataframe\">\n",
       "  <thead>\n",
       "    <tr style=\"text-align: right;\">\n",
       "      <th></th>\n",
       "      <th>COLLEGE</th>\n",
       "      <th>INCOME</th>\n",
       "      <th>OVERAGE</th>\n",
       "      <th>LEFTOVER</th>\n",
       "      <th>HOUSE</th>\n",
       "      <th>HANDSET_PRICE</th>\n",
       "      <th>OVER_15MINS_CALLS_PER_MONTH</th>\n",
       "      <th>AVERAGE_CALL_DURATION</th>\n",
       "      <th>REPORTED_SATISFACTION</th>\n",
       "      <th>REPORTED_USAGE_LEVEL</th>\n",
       "      <th>CONSIDERING_CHANGE_OF_PLAN</th>\n",
       "      <th>LEAVE</th>\n",
       "    </tr>\n",
       "  </thead>\n",
       "  <tbody>\n",
       "    <tr>\n",
       "      <th>0</th>\n",
       "      <td>0</td>\n",
       "      <td>31953</td>\n",
       "      <td>0</td>\n",
       "      <td>6</td>\n",
       "      <td>313378</td>\n",
       "      <td>161</td>\n",
       "      <td>0</td>\n",
       "      <td>4</td>\n",
       "      <td>3</td>\n",
       "      <td>3</td>\n",
       "      <td>1</td>\n",
       "      <td>1</td>\n",
       "    </tr>\n",
       "    <tr>\n",
       "      <th>1</th>\n",
       "      <td>1</td>\n",
       "      <td>36147</td>\n",
       "      <td>0</td>\n",
       "      <td>13</td>\n",
       "      <td>800586</td>\n",
       "      <td>244</td>\n",
       "      <td>0</td>\n",
       "      <td>6</td>\n",
       "      <td>3</td>\n",
       "      <td>3</td>\n",
       "      <td>2</td>\n",
       "      <td>1</td>\n",
       "    </tr>\n",
       "    <tr>\n",
       "      <th>2</th>\n",
       "      <td>1</td>\n",
       "      <td>27273</td>\n",
       "      <td>230</td>\n",
       "      <td>0</td>\n",
       "      <td>305049</td>\n",
       "      <td>201</td>\n",
       "      <td>16</td>\n",
       "      <td>15</td>\n",
       "      <td>3</td>\n",
       "      <td>4</td>\n",
       "      <td>3</td>\n",
       "      <td>1</td>\n",
       "    </tr>\n",
       "    <tr>\n",
       "      <th>3</th>\n",
       "      <td>0</td>\n",
       "      <td>120070</td>\n",
       "      <td>38</td>\n",
       "      <td>33</td>\n",
       "      <td>788235</td>\n",
       "      <td>780</td>\n",
       "      <td>3</td>\n",
       "      <td>2</td>\n",
       "      <td>3</td>\n",
       "      <td>0</td>\n",
       "      <td>2</td>\n",
       "      <td>0</td>\n",
       "    </tr>\n",
       "    <tr>\n",
       "      <th>4</th>\n",
       "      <td>1</td>\n",
       "      <td>29215</td>\n",
       "      <td>208</td>\n",
       "      <td>85</td>\n",
       "      <td>224784</td>\n",
       "      <td>241</td>\n",
       "      <td>21</td>\n",
       "      <td>1</td>\n",
       "      <td>4</td>\n",
       "      <td>3</td>\n",
       "      <td>0</td>\n",
       "      <td>1</td>\n",
       "    </tr>\n",
       "  </tbody>\n",
       "</table>\n",
       "</div>"
      ],
      "text/plain": [
       "   COLLEGE  INCOME  OVERAGE  LEFTOVER   HOUSE  HANDSET_PRICE  \\\n",
       "0        0   31953        0         6  313378            161   \n",
       "1        1   36147        0        13  800586            244   \n",
       "2        1   27273      230         0  305049            201   \n",
       "3        0  120070       38        33  788235            780   \n",
       "4        1   29215      208        85  224784            241   \n",
       "\n",
       "   OVER_15MINS_CALLS_PER_MONTH  AVERAGE_CALL_DURATION  REPORTED_SATISFACTION  \\\n",
       "0                            0                      4                      3   \n",
       "1                            0                      6                      3   \n",
       "2                           16                     15                      3   \n",
       "3                            3                      2                      3   \n",
       "4                           21                      1                      4   \n",
       "\n",
       "   REPORTED_USAGE_LEVEL  CONSIDERING_CHANGE_OF_PLAN  LEAVE  \n",
       "0                     3                           1      1  \n",
       "1                     3                           2      1  \n",
       "2                     4                           3      1  \n",
       "3                     0                           2      0  \n",
       "4                     3                           0      1  "
      ]
     },
     "execution_count": 37,
     "metadata": {},
     "output_type": "execute_result"
    }
   ],
   "source": [
    "df = pd.read_csv('data/customer-churn.csv')\n",
    "df.head()"
   ]
  },
  {
   "cell_type": "markdown",
   "id": "96e48580",
   "metadata": {},
   "source": [
    "Take a look at the number of records and attributes:"
   ]
  },
  {
   "cell_type": "code",
   "execution_count": 38,
   "id": "1e8bda30",
   "metadata": {},
   "outputs": [
    {
     "data": {
      "text/plain": [
       "(20000, 12)"
      ]
     },
     "execution_count": 38,
     "metadata": {},
     "output_type": "execute_result"
    }
   ],
   "source": [
    "df.shape"
   ]
  },
  {
   "cell_type": "markdown",
   "id": "da19feed",
   "metadata": {},
   "source": [
    "Also, take a look at the attributes in the data:"
   ]
  },
  {
   "cell_type": "code",
   "execution_count": 39,
   "id": "08d04409",
   "metadata": {},
   "outputs": [
    {
     "data": {
      "text/plain": [
       "Index(['COLLEGE', 'INCOME', 'OVERAGE', 'LEFTOVER', 'HOUSE', 'HANDSET_PRICE',\n",
       "       'OVER_15MINS_CALLS_PER_MONTH', 'AVERAGE_CALL_DURATION',\n",
       "       'REPORTED_SATISFACTION', 'REPORTED_USAGE_LEVEL',\n",
       "       'CONSIDERING_CHANGE_OF_PLAN', 'LEAVE'],\n",
       "      dtype='object')"
      ]
     },
     "execution_count": 39,
     "metadata": {},
     "output_type": "execute_result"
    }
   ],
   "source": [
    "df.columns"
   ]
  },
  {
   "cell_type": "code",
   "execution_count": 40,
   "id": "08473ead",
   "metadata": {},
   "outputs": [
    {
     "name": "stdout",
     "output_type": "stream",
     "text": [
      "<class 'pandas.core.frame.DataFrame'>\n",
      "RangeIndex: 20000 entries, 0 to 19999\n",
      "Data columns (total 12 columns):\n",
      " #   Column                       Non-Null Count  Dtype\n",
      "---  ------                       --------------  -----\n",
      " 0   COLLEGE                      20000 non-null  int64\n",
      " 1   INCOME                       20000 non-null  int64\n",
      " 2   OVERAGE                      20000 non-null  int64\n",
      " 3   LEFTOVER                     20000 non-null  int64\n",
      " 4   HOUSE                        20000 non-null  int64\n",
      " 5   HANDSET_PRICE                20000 non-null  int64\n",
      " 6   OVER_15MINS_CALLS_PER_MONTH  20000 non-null  int64\n",
      " 7   AVERAGE_CALL_DURATION        20000 non-null  int64\n",
      " 8   REPORTED_SATISFACTION        20000 non-null  int64\n",
      " 9   REPORTED_USAGE_LEVEL         20000 non-null  int64\n",
      " 10  CONSIDERING_CHANGE_OF_PLAN   20000 non-null  int64\n",
      " 11  LEAVE                        20000 non-null  int64\n",
      "dtypes: int64(12)\n",
      "memory usage: 1.8 MB\n"
     ]
    }
   ],
   "source": [
    "df.info()"
   ]
  },
  {
   "cell_type": "markdown",
   "id": "2b72da84",
   "metadata": {},
   "source": [
    "## 3. Data understanding"
   ]
  },
  {
   "cell_type": "markdown",
   "id": "f978f530",
   "metadata": {},
   "source": [
    "In this part, we will explore the data by generating some visualizations."
   ]
  },
  {
   "cell_type": "markdown",
   "id": "4599d02e",
   "metadata": {},
   "source": [
    "### Attributes description\n",
    "\n",
    "It is also essential to understand the format and meaning of the values in each attribute.\n",
    "\n",
    "Each row represents a customer of the company, with the following attributes for each customer:\n",
    "\n",
    "| Variables                  | Description                                              | Values \n",
    "|---|---|---|\n",
    "|COLLEGE                     | Is the customer college educated?                        | 0 = no, 1 = yes \n",
    "|INCOME                      | Annual income                                            | number in USD\n",
    "|OVERAGE                     | Average overcharges per month                            | number in minutes\n",
    "|LEFTOVER                    | Average number of leftover minutes per month             | number in minutes\n",
    "|HOUSE                       | Estimated value of dwelling (from census tract)          | number in USD\n",
    "|HANDSET_PRICE               | Cost of phone                                            | number in USD\n",
    "|OVER_15MINS_CALLS_PER_MONTH | per month average number of long calls (15 mins or over) | number in minutes\n",
    "|AVERAGE_CALL_DURATION       | Average duration of a call                               | number in minutes\n",
    "|REPORTED_SATISFACTION       | Reported level of satisfaction                           | 0 = very sat, 1 = sat, 2 = avg, 3 = unsat, 4 = very unsat\n",
    "|REPORTED_USAGE_LEVEL        | Self-reported usage level                                | 0 = very high, 1 = high, 2 = avg, 3 = little, 4 = very little\n",
    "|CONSIDERING_CHANGE_OF_PLAN  | Whether the customer considered changing their plan      | 0 = never thought, 1 = no, 2 = considering, 3 = perhaps, 4 = actively looking into it\n",
    "|LEAVE (Target variable)     | Did the customer stay or leave (churn)?                  | 0 = no, 1 = yes"
   ]
  },
  {
   "cell_type": "code",
   "execution_count": 41,
   "id": "41db1be6",
   "metadata": {},
   "outputs": [
    {
     "data": {
      "text/html": [
       "<div>\n",
       "<style scoped>\n",
       "    .dataframe tbody tr th:only-of-type {\n",
       "        vertical-align: middle;\n",
       "    }\n",
       "\n",
       "    .dataframe tbody tr th {\n",
       "        vertical-align: top;\n",
       "    }\n",
       "\n",
       "    .dataframe thead th {\n",
       "        text-align: right;\n",
       "    }\n",
       "</style>\n",
       "<table border=\"1\" class=\"dataframe\">\n",
       "  <thead>\n",
       "    <tr style=\"text-align: right;\">\n",
       "      <th></th>\n",
       "      <th>count</th>\n",
       "      <th>mean</th>\n",
       "      <th>std</th>\n",
       "      <th>min</th>\n",
       "      <th>25%</th>\n",
       "      <th>50%</th>\n",
       "      <th>75%</th>\n",
       "      <th>max</th>\n",
       "    </tr>\n",
       "  </thead>\n",
       "  <tbody>\n",
       "    <tr>\n",
       "      <th>COLLEGE</th>\n",
       "      <td>20000.0</td>\n",
       "      <td>0.50240</td>\n",
       "      <td>0.500007</td>\n",
       "      <td>0.0</td>\n",
       "      <td>0.00</td>\n",
       "      <td>1.0</td>\n",
       "      <td>1.00</td>\n",
       "      <td>1.0</td>\n",
       "    </tr>\n",
       "    <tr>\n",
       "      <th>INCOME</th>\n",
       "      <td>20000.0</td>\n",
       "      <td>80281.44775</td>\n",
       "      <td>41680.586319</td>\n",
       "      <td>20007.0</td>\n",
       "      <td>42217.00</td>\n",
       "      <td>75366.5</td>\n",
       "      <td>115881.75</td>\n",
       "      <td>159983.0</td>\n",
       "    </tr>\n",
       "    <tr>\n",
       "      <th>OVERAGE</th>\n",
       "      <td>20000.0</td>\n",
       "      <td>85.97955</td>\n",
       "      <td>85.992324</td>\n",
       "      <td>-2.0</td>\n",
       "      <td>0.00</td>\n",
       "      <td>59.0</td>\n",
       "      <td>179.00</td>\n",
       "      <td>335.0</td>\n",
       "    </tr>\n",
       "    <tr>\n",
       "      <th>LEFTOVER</th>\n",
       "      <td>20000.0</td>\n",
       "      <td>23.89865</td>\n",
       "      <td>26.816645</td>\n",
       "      <td>0.0</td>\n",
       "      <td>0.00</td>\n",
       "      <td>14.0</td>\n",
       "      <td>41.00</td>\n",
       "      <td>89.0</td>\n",
       "    </tr>\n",
       "    <tr>\n",
       "      <th>HOUSE</th>\n",
       "      <td>20000.0</td>\n",
       "      <td>493155.26425</td>\n",
       "      <td>252407.884692</td>\n",
       "      <td>150002.0</td>\n",
       "      <td>263714.25</td>\n",
       "      <td>452259.5</td>\n",
       "      <td>702378.00</td>\n",
       "      <td>999996.0</td>\n",
       "    </tr>\n",
       "    <tr>\n",
       "      <th>HANDSET_PRICE</th>\n",
       "      <td>20000.0</td>\n",
       "      <td>389.61510</td>\n",
       "      <td>213.820682</td>\n",
       "      <td>130.0</td>\n",
       "      <td>219.00</td>\n",
       "      <td>326.0</td>\n",
       "      <td>533.25</td>\n",
       "      <td>899.0</td>\n",
       "    </tr>\n",
       "    <tr>\n",
       "      <th>OVER_15MINS_CALLS_PER_MONTH</th>\n",
       "      <td>20000.0</td>\n",
       "      <td>8.00070</td>\n",
       "      <td>8.925418</td>\n",
       "      <td>0.0</td>\n",
       "      <td>1.00</td>\n",
       "      <td>4.0</td>\n",
       "      <td>15.00</td>\n",
       "      <td>29.0</td>\n",
       "    </tr>\n",
       "    <tr>\n",
       "      <th>AVERAGE_CALL_DURATION</th>\n",
       "      <td>20000.0</td>\n",
       "      <td>6.00225</td>\n",
       "      <td>4.402558</td>\n",
       "      <td>1.0</td>\n",
       "      <td>2.00</td>\n",
       "      <td>5.0</td>\n",
       "      <td>10.00</td>\n",
       "      <td>15.0</td>\n",
       "    </tr>\n",
       "    <tr>\n",
       "      <th>REPORTED_SATISFACTION</th>\n",
       "      <td>20000.0</td>\n",
       "      <td>2.43390</td>\n",
       "      <td>1.629437</td>\n",
       "      <td>0.0</td>\n",
       "      <td>0.00</td>\n",
       "      <td>3.0</td>\n",
       "      <td>4.00</td>\n",
       "      <td>4.0</td>\n",
       "    </tr>\n",
       "    <tr>\n",
       "      <th>REPORTED_USAGE_LEVEL</th>\n",
       "      <td>20000.0</td>\n",
       "      <td>2.18495</td>\n",
       "      <td>1.511839</td>\n",
       "      <td>0.0</td>\n",
       "      <td>0.00</td>\n",
       "      <td>3.0</td>\n",
       "      <td>3.00</td>\n",
       "      <td>4.0</td>\n",
       "    </tr>\n",
       "    <tr>\n",
       "      <th>CONSIDERING_CHANGE_OF_PLAN</th>\n",
       "      <td>20000.0</td>\n",
       "      <td>2.15065</td>\n",
       "      <td>1.276611</td>\n",
       "      <td>0.0</td>\n",
       "      <td>1.00</td>\n",
       "      <td>2.0</td>\n",
       "      <td>3.00</td>\n",
       "      <td>4.0</td>\n",
       "    </tr>\n",
       "    <tr>\n",
       "      <th>LEAVE</th>\n",
       "      <td>20000.0</td>\n",
       "      <td>0.45665</td>\n",
       "      <td>0.498130</td>\n",
       "      <td>0.0</td>\n",
       "      <td>0.00</td>\n",
       "      <td>0.0</td>\n",
       "      <td>1.00</td>\n",
       "      <td>1.0</td>\n",
       "    </tr>\n",
       "  </tbody>\n",
       "</table>\n",
       "</div>"
      ],
      "text/plain": [
       "                               count          mean            std       min  \\\n",
       "COLLEGE                      20000.0       0.50240       0.500007       0.0   \n",
       "INCOME                       20000.0   80281.44775   41680.586319   20007.0   \n",
       "OVERAGE                      20000.0      85.97955      85.992324      -2.0   \n",
       "LEFTOVER                     20000.0      23.89865      26.816645       0.0   \n",
       "HOUSE                        20000.0  493155.26425  252407.884692  150002.0   \n",
       "HANDSET_PRICE                20000.0     389.61510     213.820682     130.0   \n",
       "OVER_15MINS_CALLS_PER_MONTH  20000.0       8.00070       8.925418       0.0   \n",
       "AVERAGE_CALL_DURATION        20000.0       6.00225       4.402558       1.0   \n",
       "REPORTED_SATISFACTION        20000.0       2.43390       1.629437       0.0   \n",
       "REPORTED_USAGE_LEVEL         20000.0       2.18495       1.511839       0.0   \n",
       "CONSIDERING_CHANGE_OF_PLAN   20000.0       2.15065       1.276611       0.0   \n",
       "LEAVE                        20000.0       0.45665       0.498130       0.0   \n",
       "\n",
       "                                   25%       50%        75%       max  \n",
       "COLLEGE                           0.00       1.0       1.00       1.0  \n",
       "INCOME                        42217.00   75366.5  115881.75  159983.0  \n",
       "OVERAGE                           0.00      59.0     179.00     335.0  \n",
       "LEFTOVER                          0.00      14.0      41.00      89.0  \n",
       "HOUSE                        263714.25  452259.5  702378.00  999996.0  \n",
       "HANDSET_PRICE                   219.00     326.0     533.25     899.0  \n",
       "OVER_15MINS_CALLS_PER_MONTH       1.00       4.0      15.00      29.0  \n",
       "AVERAGE_CALL_DURATION             2.00       5.0      10.00      15.0  \n",
       "REPORTED_SATISFACTION             0.00       3.0       4.00       4.0  \n",
       "REPORTED_USAGE_LEVEL              0.00       3.0       3.00       4.0  \n",
       "CONSIDERING_CHANGE_OF_PLAN        1.00       2.0       3.00       4.0  \n",
       "LEAVE                             0.00       0.0       1.00       1.0  "
      ]
     },
     "execution_count": 41,
     "metadata": {},
     "output_type": "execute_result"
    }
   ],
   "source": [
    "df.describe().T"
   ]
  },
  {
   "cell_type": "markdown",
   "id": "6ad5904a",
   "metadata": {},
   "source": [
    "### Attributes variables distribution"
   ]
  },
  {
   "cell_type": "markdown",
   "id": "2c09e4e7",
   "metadata": {},
   "source": [
    "Another quick way to get a feel of the type of data you are dealing with is to plot a histogram for each numerical attribute.\n",
    "\n",
    "A histogram shows the *number of instances (on the vertical axis)* that have a given *value range (on the horizontal axis)*. \n",
    "\n",
    "You can either plot this one attribute at a time, or you can call the hist() method on the whole dataset (as shown in the following code example), and it will plot a histogram for each numerical attribute:"
   ]
  },
  {
   "cell_type": "code",
   "execution_count": 42,
   "id": "e451360f",
   "metadata": {},
   "outputs": [
    {
     "data": {
      "text/plain": [
       "array([[<AxesSubplot:title={'center':'COLLEGE'}>,\n",
       "        <AxesSubplot:title={'center':'INCOME'}>,\n",
       "        <AxesSubplot:title={'center':'OVERAGE'}>],\n",
       "       [<AxesSubplot:title={'center':'LEFTOVER'}>,\n",
       "        <AxesSubplot:title={'center':'HOUSE'}>,\n",
       "        <AxesSubplot:title={'center':'HANDSET_PRICE'}>],\n",
       "       [<AxesSubplot:title={'center':'OVER_15MINS_CALLS_PER_MONTH'}>,\n",
       "        <AxesSubplot:title={'center':'AVERAGE_CALL_DURATION'}>,\n",
       "        <AxesSubplot:title={'center':'REPORTED_SATISFACTION'}>],\n",
       "       [<AxesSubplot:title={'center':'REPORTED_USAGE_LEVEL'}>,\n",
       "        <AxesSubplot:title={'center':'CONSIDERING_CHANGE_OF_PLAN'}>,\n",
       "        <AxesSubplot:title={'center':'LEAVE'}>]], dtype=object)"
      ]
     },
     "execution_count": 42,
     "metadata": {},
     "output_type": "execute_result"
    },
    {
     "data": {
      "image/png": "[encoded data removed]",
      "text/plain": [
       "<Figure size 1440x1080 with 12 Axes>"
      ]
     },
     "metadata": {
      "needs_background": "light"
     },
     "output_type": "display_data"
    }
   ],
   "source": [
    "df.hist(bins=50, figsize=(20,15))"
   ]
  },
  {
   "cell_type": "markdown",
   "id": "c81f3aa8",
   "metadata": {},
   "source": [
    "**Obersvations**:\n",
    "   \n",
    "- These attributes have very different scales. Each histogram gives us information about the range of values in each attribute. Some attributes are in minutes, others in USD ranging in the thousands, like INCOME and HOUSE, and some represent values on a point scale.\n",
    "\n",
    "Further data transformation operations include: \n",
    "- Normalize all attributes by converting them into the same scale. This transformation would also help to deal with outliers.\n",
    "- Many histograms are tail-heavy: they extend much farther to the right of the median than to the left. This may make it a bit harder for some algorithms to detect patterns. Data transformation tasks also include altering attributes to exhibit more bell-shaped distributions."
   ]
  },
  {
   "cell_type": "markdown",
   "id": "8032cba3",
   "metadata": {},
   "source": [
    "### Target variable distribution"
   ]
  },
  {
   "cell_type": "markdown",
   "id": "e9c3bb29",
   "metadata": {},
   "source": [
    "It is important to check the distribution of the target variable to detect class imbalance problems.\n",
    "\n",
    "Class imbalance happens when the distribution of records across the known classes is biased or skewed. The distribution can vary from a slight bias to a severe imbalance where there is one record in one class for hundreds, thousands, or millions of examples in the other classes.\n",
    "\n",
    "Class imbalance poses a challenge for predictive modeling as most of the algorithms used for classification are designed around the assumption of an equal number of examples for each class. This results in models that have poor predictive performance, specifically for the class with fewer examples."
   ]
  },
  {
   "cell_type": "code",
   "execution_count": 43,
   "id": "ccf2f051",
   "metadata": {},
   "outputs": [
    {
     "data": {
      "text/plain": [
       "<AxesSubplot:>"
      ]
     },
     "execution_count": 43,
     "metadata": {},
     "output_type": "execute_result"
    },
    {
     "data": {
      "image/png": "[encoded data removed]",
      "text/plain": [
       "<Figure size 432x288 with 1 Axes>"
      ]
     },
     "metadata": {
      "needs_background": "light"
     },
     "output_type": "display_data"
    }
   ],
   "source": [
    "df['LEAVE'].hist()"
   ]
  },
  {
   "cell_type": "markdown",
   "id": "35a4aa38",
   "metadata": {},
   "source": [
    "Values interpretation in the plot:\n",
    "- LEAVE = 0: customer stays\n",
    "- LEAVE = 1: cusomter churns (leaves)"
   ]
  },
  {
   "cell_type": "markdown",
   "id": "094876f4",
   "metadata": {},
   "source": [
    "**Observations**\n",
    "\n",
    "In the plot, the STAY class (LEAVE = 0) has a slightly higher number of examples than the CHURN class (LEAVE = 1). \n",
    "\n",
    "The difference is very subtle, so we don't address class imbalance issues."
   ]
  },
  {
   "cell_type": "markdown",
   "id": "174dc1e9",
   "metadata": {},
   "source": [
    "### Visualizing relationships between the target  and attributes "
   ]
  },
  {
   "cell_type": "markdown",
   "id": "458b68e5",
   "metadata": {},
   "source": [
    "So far, we have only taken a glance at the data to get a general understanding of the kind of data we are manipulating. Now the goal is to go into a little more depth.\n",
    "\n",
    "Since the dataset is not too large, we can quickly generate visualizations to check correlations between the attributes and the target variable. \n",
    "\n",
    "The Python code necessary for generating these visualizations vary for continuous and discrete attributes."
   ]
  },
  {
   "cell_type": "markdown",
   "id": "858ddeda",
   "metadata": {},
   "source": [
    "**For continuous attributes:**"
   ]
  },
  {
   "cell_type": "code",
   "execution_count": 44,
   "id": "94f9337f",
   "metadata": {},
   "outputs": [],
   "source": [
    "def plot_class_attribute_dist(df, class_var, attribute):\n",
    "    df.groupby(class_var)[attribute].plot.hist(\n",
    "        alpha=0.4, figsize=(GRAPH_WIDTH, GRAPH_HEIGHT))\n",
    "    plt.suptitle(attribute)\n",
    "    plt.legend()"
   ]
  },
  {
   "cell_type": "markdown",
   "id": "b085f930",
   "metadata": {},
   "source": [
    "#### House value versus leave"
   ]
  },
  {
   "cell_type": "code",
   "execution_count": 45,
   "id": "2efbd547",
   "metadata": {},
   "outputs": [
    {
     "data": {
      "image/png": "[encoded data removed]",
      "text/plain": [
       "<Figure size 432x360 with 1 Axes>"
      ]
     },
     "metadata": {
      "needs_background": "light"
     },
     "output_type": "display_data"
    }
   ],
   "source": [
    "plot_class_attribute_dist(df, 'LEAVE', 'HOUSE')"
   ]
  },
  {
   "cell_type": "markdown",
   "id": "9119c385",
   "metadata": {},
   "source": [
    "Values interpretation in the plot:\n",
    "- LEAVE = 0 (blue): customer stays\n",
    "- LEAVE = 1 (orange): cusomter churns (leaves)"
   ]
  },
  {
   "cell_type": "markdown",
   "id": "b9a1311f",
   "metadata": {},
   "source": [
    "**Obersvations**:\n",
    "\n",
    "The plot shows a variation in the trends of customers that stay and leave. Approximately before the house value of 600K, the number of customers staying (blue) overtakes the customers leaving (orange). However, after the value of 600K, the number of customers that leave surpasses the number of customers that stay.\n",
    "\n",
    "Thus, we can claim the data suggests that number of customers that leave increases as the house value increases."
   ]
  },
  {
   "cell_type": "markdown",
   "id": "92224bd8",
   "metadata": {},
   "source": [
    "#### Income versus leave"
   ]
  },
  {
   "cell_type": "code",
   "execution_count": 46,
   "id": "06bab2f9",
   "metadata": {},
   "outputs": [
    {
     "data": {
      "image/png": "[encoded data removed]",
      "text/plain": [
       "<Figure size 432x360 with 1 Axes>"
      ]
     },
     "metadata": {
      "needs_background": "light"
     },
     "output_type": "display_data"
    }
   ],
   "source": [
    "plot_class_attribute_dist(df, 'LEAVE', 'INCOME')"
   ]
  },
  {
   "cell_type": "markdown",
   "id": "a1145571",
   "metadata": {},
   "source": [
    "Values interpretation in the plot:\n",
    "- LEAVE = 0 (blue): customer stays\n",
    "- LEAVE = 1 (orange): cusomter churns (leaves)"
   ]
  },
  {
   "cell_type": "markdown",
   "id": "4dc8528b",
   "metadata": {},
   "source": [
    "**Obersvations**:\n",
    "\n",
    "This plot shows an opposite effect to the previous plot. Here, the number of customers that leave decreases as income increases."
   ]
  },
  {
   "cell_type": "markdown",
   "id": "266d4593",
   "metadata": {},
   "source": [
    "#### Handset price versus target variable plot"
   ]
  },
  {
   "cell_type": "code",
   "execution_count": 47,
   "id": "de94591a",
   "metadata": {
    "scrolled": true
   },
   "outputs": [
    {
     "data": {
      "image/png": "[encoded data removed]",
      "text/plain": [
       "<Figure size 432x360 with 1 Axes>"
      ]
     },
     "metadata": {
      "needs_background": "light"
     },
     "output_type": "display_data"
    }
   ],
   "source": [
    "plot_class_attribute_dist(df, 'LEAVE', 'HANDSET_PRICE')"
   ]
  },
  {
   "cell_type": "markdown",
   "id": "74b8906e",
   "metadata": {},
   "source": [
    "**Obersvations**:\n",
    "\n",
    "It is hard to discern any pattern in the plot"
   ]
  },
  {
   "cell_type": "markdown",
   "id": "d085769a",
   "metadata": {},
   "source": [
    "**Discreete attributes:**"
   ]
  },
  {
   "cell_type": "markdown",
   "id": "6c9ca8c8",
   "metadata": {},
   "source": [
    "#### College versus leave"
   ]
  },
  {
   "cell_type": "code",
   "execution_count": 48,
   "id": "c9e97e60",
   "metadata": {},
   "outputs": [
    {
     "data": {
      "text/plain": [
       "<AxesSubplot:xlabel='COLLEGE', ylabel='count'>"
      ]
     },
     "execution_count": 48,
     "metadata": {},
     "output_type": "execute_result"
    },
    {
     "data": {
      "image/png": "[encoded data removed]",
      "text/plain": [
       "<Figure size 432x360 with 1 Axes>"
      ]
     },
     "metadata": {
      "needs_background": "light"
     },
     "output_type": "display_data"
    }
   ],
   "source": [
    "plt.figure(figsize=(GRAPH_WIDTH, GRAPH_HEIGHT))\n",
    "sns.countplot(x='COLLEGE', hue='LEAVE', data=df)"
   ]
  },
  {
   "cell_type": "markdown",
   "id": "4d1303d4",
   "metadata": {},
   "source": [
    "**Obersvations**:\n",
    "\n",
    "The plot does not show any apparent patterns."
   ]
  },
  {
   "cell_type": "markdown",
   "id": "2c1253ee",
   "metadata": {},
   "source": [
    "#### Reported satisfaction versus leave"
   ]
  },
  {
   "cell_type": "code",
   "execution_count": 49,
   "id": "992e2fa3",
   "metadata": {},
   "outputs": [
    {
     "data": {
      "text/plain": [
       "<AxesSubplot:xlabel='REPORTED_SATISFACTION', ylabel='count'>"
      ]
     },
     "execution_count": 49,
     "metadata": {},
     "output_type": "execute_result"
    },
    {
     "data": {
      "image/png": "[encoded data removed]",
      "text/plain": [
       "<Figure size 432x360 with 1 Axes>"
      ]
     },
     "metadata": {
      "needs_background": "light"
     },
     "output_type": "display_data"
    }
   ],
   "source": [
    "plt.figure(figsize=(GRAPH_WIDTH, GRAPH_HEIGHT))\n",
    "sns.countplot(x='REPORTED_SATISFACTION', hue='LEAVE', data=df)"
   ]
  },
  {
   "cell_type": "markdown",
   "id": "a4863a93",
   "metadata": {},
   "source": [
    "**Obersvations**:\n",
    "\n",
    "Again, the plot does not show any apparent patterns.\n",
    "\n",
    "Surprisingly, REPORTED_SATISFACTION does not seem to correlate with LEAVE"
   ]
  },
  {
   "cell_type": "markdown",
   "id": "d2573f3b",
   "metadata": {},
   "source": [
    "#### General observations:\n",
    "\n",
    "HOUSE and INCOME seem to be promising attributes to predict LEAVE. \n",
    "\n",
    "These visualizations are good indicators that we can use later to explain the model's results and convince the audience about the applicability of a data mining solution."
   ]
  },
  {
   "cell_type": "markdown",
   "id": "aaed9846",
   "metadata": {},
   "source": [
    "## 4. Data Modeling"
   ]
  },
  {
   "cell_type": "markdown",
   "id": "8cbb7fb7",
   "metadata": {},
   "source": [
    "At this point, you have framed the problem and got the data, and explored it. Now, we will select and train a classification model using the tree induction technique explained in class.\n",
    "\n",
    "We will use Scikit-learn to build our classification tree.\n",
    "\n",
    "Scikit-learn is a free software machine learning library for the Python programming language. It features various classification, regression, and other types of algorithms, including support vector machines.\n",
    "\n",
    "Scikit-learn is designed to interoperate with NumPy and Pandas DataFrames."
   ]
  },
  {
   "cell_type": "markdown",
   "id": "bacb6bcc",
   "metadata": {},
   "source": [
    "### Fitting a classification tree\n",
    "\n",
    "To build our decision tree using the customer churn dataset, we will use Scikit-learn's [DecisionTreeClassifier](https://scikit-learn.org/stable/modules/generated/sklearn.tree.DecisionTreeClassifier.html) class."
   ]
  },
  {
   "cell_type": "code",
   "execution_count": 50,
   "id": "bb872fa3",
   "metadata": {},
   "outputs": [],
   "source": [
    "from sklearn.tree import DecisionTreeClassifier\n",
    "\n",
    "training = df.loc[:, df.columns != 'LEAVE']\n",
    "labels = df['LEAVE']"
   ]
  },
  {
   "cell_type": "markdown",
   "id": "270a9240",
   "metadata": {},
   "source": [
    "The DecisionTreeClassifier class allows for different parameters that influence the learning process.\n",
    "\n",
    "First, we will specify the depth as two and the criterion as entropy. The criterion refers to the impurity measure used to segment the data.\n",
    "\n",
    "A shallow tree will give us some insights into the building process and easily interpret the results."
   ]
  },
  {
   "cell_type": "code",
   "execution_count": 51,
   "id": "1b44f301",
   "metadata": {},
   "outputs": [],
   "source": [
    "tree_depth_2 = DecisionTreeClassifier(\n",
    "    criterion = \"entropy\", # “gini” or “entropy”, default=”gini”\n",
    "    max_depth = 2)"
   ]
  },
  {
   "cell_type": "markdown",
   "id": "f1869c07",
   "metadata": {},
   "source": [
    "The fit () method performs the building or fitting of the model to the data. This method takes two datasets for supervised learning algorithms:\n",
    "- The first dataset contains the attributes \n",
    "- The second dataset contains the labels.\n",
    "\n",
    "Any other parameter needed to guide the fitting process is considered a hyperparameter (such as the impurity measure and tree depth). It must be set as an instance variable, generally via a constructor parameter."
   ]
  },
  {
   "cell_type": "code",
   "execution_count": 52,
   "id": "491f0aec",
   "metadata": {},
   "outputs": [
    {
     "data": {
      "text/plain": [
       "DecisionTreeClassifier(criterion='entropy', max_depth=2)"
      ]
     },
     "execution_count": 52,
     "metadata": {},
     "output_type": "execute_result"
    }
   ],
   "source": [
    "tree_depth_2.fit(training, labels)"
   ]
  },
  {
   "cell_type": "markdown",
   "id": "3890c847",
   "metadata": {},
   "source": [
    "The following picture shows the resulting tree:"
   ]
  },
  {
   "cell_type": "markdown",
   "id": "d5bf6e5e",
   "metadata": {},
   "source": [
    "![Decision Tree Depth = 2](images/customer-churn_tree-depth-2.png)"
   ]
  },
  {
   "cell_type": "markdown",
   "id": "b996a6d2",
   "metadata": {},
   "source": [
    "**Classification tree with depth = 3 tree**"
   ]
  },
  {
   "cell_type": "markdown",
   "id": "4c1153e5",
   "metadata": {},
   "source": [
    "![Decision Tree Depth = 3](images/customer-churn_tree-depth-3.png)"
   ]
  },
  {
   "cell_type": "markdown",
   "id": "7bdfbce4",
   "metadata": {},
   "source": [
    "**What is the difference between the depth=2 and depth=3 trees?**:\n",
    "\n",
    "From the pictures, it is evident that as we increase the depth of the tree, the resulting leaves contain lower entropy values, suggesting more pure segments and increased predictable capability by the model."
   ]
  },
  {
   "cell_type": "markdown",
   "id": "6a61688a",
   "metadata": {},
   "source": [
    "### Making predictions"
   ]
  },
  {
   "cell_type": "markdown",
   "id": "49bd904a",
   "metadata": {},
   "source": [
    "A classification model object, given a dataset, should be capable of making predictions.\n",
    "\n",
    "Classification model objects have a predict() method that takes a dataset of new instances and returns a dataset of corresponding predictions.\n",
    "\n",
    "To generate the predictions, we will use the same training dataset used for fitting the model:"
   ]
  },
  {
   "cell_type": "code",
   "execution_count": 21,
   "id": "1ab09f35",
   "metadata": {},
   "outputs": [
    {
     "data": {
      "text/plain": [
       "array([0, 1, 0, ..., 0, 0, 0])"
      ]
     },
     "execution_count": 21,
     "metadata": {},
     "output_type": "execute_result"
    }
   ],
   "source": [
    "labels_pred = tree_depth_2.predict(training)\n",
    "labels_pred"
   ]
  },
  {
   "cell_type": "markdown",
   "id": "130328f1",
   "metadata": {},
   "source": [
    "Using the classification model object, we will also calculate the class probabilities:"
   ]
  },
  {
   "cell_type": "code",
   "execution_count": 22,
   "id": "296d135d",
   "metadata": {},
   "outputs": [
    {
     "data": {
      "text/plain": [
       "array([[0.52994453, 0.47005547],\n",
       "       [0.27339084, 0.72660916],\n",
       "       [0.81143248, 0.18856752],\n",
       "       ...,\n",
       "       [0.52994453, 0.47005547],\n",
       "       [0.52994453, 0.47005547],\n",
       "       [0.61507761, 0.38492239]])"
      ]
     },
     "execution_count": 22,
     "metadata": {},
     "output_type": "execute_result"
    }
   ],
   "source": [
    "class_probabilities = tree_depth_2.predict_proba(training)\n",
    "class_probabilities"
   ]
  },
  {
   "cell_type": "markdown",
   "id": "50a582b0",
   "metadata": {},
   "source": [
    "We will build a new DataFrame to display the class predictions and class probabilities:"
   ]
  },
  {
   "cell_type": "code",
   "execution_count": 23,
   "id": "b0cea46b",
   "metadata": {},
   "outputs": [],
   "source": [
    "# Turn LEAVE=0 to STAY and LEAVE=1 to CHURN for easier interpretation\n",
    "\n",
    "interpret_label = lambda x: 'STAY' if x == 0 else 'CHURN'"
   ]
  },
  {
   "cell_type": "code",
   "execution_count": 24,
   "id": "52d234a4",
   "metadata": {},
   "outputs": [],
   "source": [
    "# Interpret label values for both the training and predicted labels\n",
    "\n",
    "labels_interpreted = list(map(interpret_label, labels))\n",
    "labels_pred_interpreted = list(map(interpret_label, labels_pred))"
   ]
  },
  {
   "cell_type": "code",
   "execution_count": 25,
   "id": "b0073040",
   "metadata": {},
   "outputs": [],
   "source": [
    "prob_stay = [p[0] for p in class_probabilities]\n",
    "prob_churn = [p[1] for p in class_probabilities]"
   ]
  },
  {
   "cell_type": "code",
   "execution_count": 26,
   "id": "f3798890",
   "metadata": {},
   "outputs": [
    {
     "data": {
      "text/html": [
       "<div>\n",
       "<style scoped>\n",
       "    .dataframe tbody tr th:only-of-type {\n",
       "        vertical-align: middle;\n",
       "    }\n",
       "\n",
       "    .dataframe tbody tr th {\n",
       "        vertical-align: top;\n",
       "    }\n",
       "\n",
       "    .dataframe thead th {\n",
       "        text-align: right;\n",
       "    }\n",
       "</style>\n",
       "<table border=\"1\" class=\"dataframe\">\n",
       "  <thead>\n",
       "    <tr style=\"text-align: right;\">\n",
       "      <th></th>\n",
       "      <th>Training label</th>\n",
       "      <th>Predicted label</th>\n",
       "      <th>Probability STAY</th>\n",
       "      <th>Probability CHURN</th>\n",
       "    </tr>\n",
       "  </thead>\n",
       "  <tbody>\n",
       "    <tr>\n",
       "      <th>0</th>\n",
       "      <td>CHURN</td>\n",
       "      <td>STAY</td>\n",
       "      <td>0.529945</td>\n",
       "      <td>0.470055</td>\n",
       "    </tr>\n",
       "    <tr>\n",
       "      <th>1</th>\n",
       "      <td>CHURN</td>\n",
       "      <td>CHURN</td>\n",
       "      <td>0.273391</td>\n",
       "      <td>0.726609</td>\n",
       "    </tr>\n",
       "    <tr>\n",
       "      <th>2</th>\n",
       "      <td>CHURN</td>\n",
       "      <td>STAY</td>\n",
       "      <td>0.811432</td>\n",
       "      <td>0.188568</td>\n",
       "    </tr>\n",
       "    <tr>\n",
       "      <th>3</th>\n",
       "      <td>STAY</td>\n",
       "      <td>STAY</td>\n",
       "      <td>0.615078</td>\n",
       "      <td>0.384922</td>\n",
       "    </tr>\n",
       "    <tr>\n",
       "      <th>4</th>\n",
       "      <td>CHURN</td>\n",
       "      <td>STAY</td>\n",
       "      <td>0.811432</td>\n",
       "      <td>0.188568</td>\n",
       "    </tr>\n",
       "    <tr>\n",
       "      <th>5</th>\n",
       "      <td>CHURN</td>\n",
       "      <td>STAY</td>\n",
       "      <td>0.615078</td>\n",
       "      <td>0.384922</td>\n",
       "    </tr>\n",
       "    <tr>\n",
       "      <th>6</th>\n",
       "      <td>CHURN</td>\n",
       "      <td>CHURN</td>\n",
       "      <td>0.273391</td>\n",
       "      <td>0.726609</td>\n",
       "    </tr>\n",
       "    <tr>\n",
       "      <th>7</th>\n",
       "      <td>CHURN</td>\n",
       "      <td>CHURN</td>\n",
       "      <td>0.273391</td>\n",
       "      <td>0.726609</td>\n",
       "    </tr>\n",
       "    <tr>\n",
       "      <th>8</th>\n",
       "      <td>CHURN</td>\n",
       "      <td>STAY</td>\n",
       "      <td>0.529945</td>\n",
       "      <td>0.470055</td>\n",
       "    </tr>\n",
       "    <tr>\n",
       "      <th>9</th>\n",
       "      <td>STAY</td>\n",
       "      <td>STAY</td>\n",
       "      <td>0.811432</td>\n",
       "      <td>0.188568</td>\n",
       "    </tr>\n",
       "    <tr>\n",
       "      <th>10</th>\n",
       "      <td>CHURN</td>\n",
       "      <td>CHURN</td>\n",
       "      <td>0.273391</td>\n",
       "      <td>0.726609</td>\n",
       "    </tr>\n",
       "    <tr>\n",
       "      <th>11</th>\n",
       "      <td>CHURN</td>\n",
       "      <td>STAY</td>\n",
       "      <td>0.529945</td>\n",
       "      <td>0.470055</td>\n",
       "    </tr>\n",
       "    <tr>\n",
       "      <th>12</th>\n",
       "      <td>CHURN</td>\n",
       "      <td>CHURN</td>\n",
       "      <td>0.273391</td>\n",
       "      <td>0.726609</td>\n",
       "    </tr>\n",
       "    <tr>\n",
       "      <th>13</th>\n",
       "      <td>CHURN</td>\n",
       "      <td>STAY</td>\n",
       "      <td>0.529945</td>\n",
       "      <td>0.470055</td>\n",
       "    </tr>\n",
       "    <tr>\n",
       "      <th>14</th>\n",
       "      <td>CHURN</td>\n",
       "      <td>CHURN</td>\n",
       "      <td>0.273391</td>\n",
       "      <td>0.726609</td>\n",
       "    </tr>\n",
       "    <tr>\n",
       "      <th>15</th>\n",
       "      <td>CHURN</td>\n",
       "      <td>STAY</td>\n",
       "      <td>0.529945</td>\n",
       "      <td>0.470055</td>\n",
       "    </tr>\n",
       "    <tr>\n",
       "      <th>16</th>\n",
       "      <td>CHURN</td>\n",
       "      <td>CHURN</td>\n",
       "      <td>0.273391</td>\n",
       "      <td>0.726609</td>\n",
       "    </tr>\n",
       "    <tr>\n",
       "      <th>17</th>\n",
       "      <td>CHURN</td>\n",
       "      <td>STAY</td>\n",
       "      <td>0.529945</td>\n",
       "      <td>0.470055</td>\n",
       "    </tr>\n",
       "    <tr>\n",
       "      <th>18</th>\n",
       "      <td>STAY</td>\n",
       "      <td>STAY</td>\n",
       "      <td>0.529945</td>\n",
       "      <td>0.470055</td>\n",
       "    </tr>\n",
       "    <tr>\n",
       "      <th>19</th>\n",
       "      <td>CHURN</td>\n",
       "      <td>STAY</td>\n",
       "      <td>0.529945</td>\n",
       "      <td>0.470055</td>\n",
       "    </tr>\n",
       "  </tbody>\n",
       "</table>\n",
       "</div>"
      ],
      "text/plain": [
       "   Training label Predicted label  Probability STAY  Probability CHURN\n",
       "0           CHURN            STAY          0.529945           0.470055\n",
       "1           CHURN           CHURN          0.273391           0.726609\n",
       "2           CHURN            STAY          0.811432           0.188568\n",
       "3            STAY            STAY          0.615078           0.384922\n",
       "4           CHURN            STAY          0.811432           0.188568\n",
       "5           CHURN            STAY          0.615078           0.384922\n",
       "6           CHURN           CHURN          0.273391           0.726609\n",
       "7           CHURN           CHURN          0.273391           0.726609\n",
       "8           CHURN            STAY          0.529945           0.470055\n",
       "9            STAY            STAY          0.811432           0.188568\n",
       "10          CHURN           CHURN          0.273391           0.726609\n",
       "11          CHURN            STAY          0.529945           0.470055\n",
       "12          CHURN           CHURN          0.273391           0.726609\n",
       "13          CHURN            STAY          0.529945           0.470055\n",
       "14          CHURN           CHURN          0.273391           0.726609\n",
       "15          CHURN            STAY          0.529945           0.470055\n",
       "16          CHURN           CHURN          0.273391           0.726609\n",
       "17          CHURN            STAY          0.529945           0.470055\n",
       "18           STAY            STAY          0.529945           0.470055\n",
       "19          CHURN            STAY          0.529945           0.470055"
      ]
     },
     "execution_count": 26,
     "metadata": {},
     "output_type": "execute_result"
    }
   ],
   "source": [
    "predictions = pd.DataFrame({\n",
    "    \"Training label\": labels_interpreted,\n",
    "    \"Predicted label\": labels_pred_interpreted,\n",
    "    \"Probability STAY\": prob_stay,\n",
    "    \"Probability CHURN\": prob_churn,\n",
    "})\n",
    "\n",
    "predictions[:20]"
   ]
  },
  {
   "cell_type": "markdown",
   "id": "c964db0e",
   "metadata": {},
   "source": [
    "### Evaluating performance"
   ]
  },
  {
   "cell_type": "markdown",
   "id": "b326f6da",
   "metadata": {},
   "source": [
    "As a simple measure of performance, we can compute the ratio between correct and wrong predictions.\n",
    "\n",
    "Later in the course, we will look at more comprehensive ways to measure a classification model's performance that include concepts such as recall and precision."
   ]
  },
  {
   "cell_type": "code",
   "execution_count": 27,
   "id": "79e76cfb",
   "metadata": {},
   "outputs": [],
   "source": [
    "def evaluate_performance(tree_clf, training, labels):\n",
    "    labels_pred = tree_clf.predict(training)\n",
    "    n_correct = sum(labels_pred == labels)    \n",
    "    print(\n",
    "        f\"Model performance of tree depth={tree_clf.get_depth()}: {((n_correct / len(labels_pred)) * 100):.2f}%\")"
   ]
  },
  {
   "cell_type": "code",
   "execution_count": 28,
   "id": "7ac41a81",
   "metadata": {},
   "outputs": [
    {
     "name": "stdout",
     "output_type": "stream",
     "text": [
      "Model performance of tree depth=2: 64.58%\n"
     ]
    }
   ],
   "source": [
    "evaluate_performance(tree_depth_2, training, labels)"
   ]
  },
  {
   "cell_type": "markdown",
   "id": "93bdb032",
   "metadata": {},
   "source": [
    "### Fine-tune your model"
   ]
  },
  {
   "cell_type": "markdown",
   "id": "c575a297",
   "metadata": {},
   "source": [
    "To improve the perfomance of our tree classifier, we will now build a tree with a higher depth (depth = 10) and evaluate its performance."
   ]
  },
  {
   "cell_type": "code",
   "execution_count": 29,
   "id": "10d2b7f0",
   "metadata": {},
   "outputs": [
    {
     "data": {
      "text/plain": [
       "DecisionTreeClassifier(max_depth=10)"
      ]
     },
     "execution_count": 29,
     "metadata": {},
     "output_type": "execute_result"
    }
   ],
   "source": [
    "tree_depth_10 = DecisionTreeClassifier(\n",
    "    max_depth = 10)\n",
    "\n",
    "tree_depth_10.fit(training, labels)"
   ]
  },
  {
   "cell_type": "code",
   "execution_count": 30,
   "id": "63547722",
   "metadata": {},
   "outputs": [
    {
     "name": "stdout",
     "output_type": "stream",
     "text": [
      "Model performance of tree depth=10: 73.89%\n"
     ]
    }
   ],
   "source": [
    "evaluate_performance(tree_depth_10, training, labels)"
   ]
  },
  {
   "cell_type": "markdown",
   "id": "898a69d7",
   "metadata": {},
   "source": [
    "From 64.58% we jumped to 73.89%. Not bad!\n",
    "\n",
    "Now, we won't impose any restriction on the classifier, allowing the algorithm to determine the tree's depth:"
   ]
  },
  {
   "cell_type": "code",
   "execution_count": 31,
   "id": "a2b2bf3c",
   "metadata": {},
   "outputs": [
    {
     "data": {
      "text/plain": [
       "DecisionTreeClassifier()"
      ]
     },
     "execution_count": 31,
     "metadata": {},
     "output_type": "execute_result"
    }
   ],
   "source": [
    "tree_depth_free = DecisionTreeClassifier()\n",
    "tree_depth_free.fit(training, labels)"
   ]
  },
  {
   "cell_type": "code",
   "execution_count": 32,
   "id": "7b7c097e",
   "metadata": {},
   "outputs": [
    {
     "name": "stdout",
     "output_type": "stream",
     "text": [
      "Model performance of tree depth=43: 100.00%\n"
     ]
    }
   ],
   "source": [
    "evaluate_performance(tree_depth_free, training, labels)"
   ]
  },
  {
   "cell_type": "markdown",
   "id": "e5ef5c51",
   "metadata": {},
   "source": [
    "**Wait, what!?**\n",
    "\n",
    "No error at all? Could this model really be absolutely perfect?\n",
    "\n",
    "Of course, it is much more likely that something went wrong by letting the tree grow uncontrolled. Look at a depth of the tree: Above 40 levels! \n",
    "\n",
    "How can we know what the proper depth is? Definitely, we need a better mechanism for evaluating the performance of different trees to choose the proper depth and most realistic model.\n",
    "\n",
    "We will look later into this problem in detail when learning about overfitting and its avoidance."
   ]
  },
  {
   "cell_type": "markdown",
   "id": "b6d60696",
   "metadata": {},
   "source": [
    "### Assessing feature importance"
   ]
  },
  {
   "cell_type": "markdown",
   "id": "291f64a5",
   "metadata": {},
   "source": [
    "Lastly, we will compute feature importance values to gain insight into the criteria used by the induction algorithm to segment the training dataset."
   ]
  },
  {
   "cell_type": "code",
   "execution_count": 33,
   "id": "37ccde6a",
   "metadata": {},
   "outputs": [
    {
     "name": "stdout",
     "output_type": "stream",
     "text": [
      "01) HOUSE                          0.2143\n",
      "02) INCOME                         0.1811\n",
      "03) OVERAGE                        0.1428\n",
      "04) HANDSET_PRICE                  0.1392\n",
      "05) LEFTOVER                       0.0989\n",
      "06) OVER_15MINS_CALLS_PER_MONTH    0.0518\n",
      "07) AVERAGE_CALL_DURATION          0.0448\n",
      "08) CONSIDERING_CHANGE_OF_PLAN     0.0445\n",
      "09) REPORTED_USAGE_LEVEL           0.0352\n",
      "10) REPORTED_SATISFACTION          0.0302\n",
      "11) COLLEGE                        0.0174\n"
     ]
    }
   ],
   "source": [
    "feature_importances = pd.Series(\n",
    "    tree_depth_free.feature_importances_,\n",
    "    index=training.columns)\n",
    "\n",
    "feature_importances.sort_values(inplace=True, ascending=False)\n",
    "for feature in enumerate(feature_importances.index):\n",
    "    print(f\"{(feature[0]+1):02d}) {feature[1]:<30} {feature_importances[feature[0]]:.4f}\")"
   ]
  },
  {
   "cell_type": "code",
   "execution_count": 34,
   "id": "8aab2f85",
   "metadata": {},
   "outputs": [
    {
     "data": {
      "text/plain": [
       "<AxesSubplot:>"
      ]
     },
     "execution_count": 34,
     "metadata": {},
     "output_type": "execute_result"
    },
    {
     "data": {
      "image/png": "[encoded data removed]",
      "text/plain": [
       "<Figure size 432x360 with 1 Axes>"
      ]
     },
     "metadata": {
      "needs_background": "light"
     },
     "output_type": "display_data"
    }
   ],
   "source": [
    "plt.figure(figsize=(GRAPH_WIDTH, GRAPH_HEIGHT))\n",
    "feature_importances.sort_values(ascending=True).plot.barh()"
   ]
  },
  {
   "cell_type": "markdown",
   "id": "ac5f7a72",
   "metadata": {},
   "source": [
    "## 5. Evaluation"
   ]
  },
  {
   "cell_type": "markdown",
   "id": "7f0e41cd",
   "metadata": {},
   "source": [
    "After selecting the model with the best combination of hyperparameters (e.g. the tree depth), the last step is to evaluate its performance and assess its generability.\n",
    "\n",
    "We will leave this task for another class."
   ]
  },
  {
   "cell_type": "markdown",
   "id": "b958269c",
   "metadata": {},
   "source": [
    "## References\n",
    "\n",
    "Provost, F., & Fawcett, T. (2013). Data science for business: what you need to know about data mining and data-analytic thinking. Chapter 3.\n",
    "\n",
    "Géron, A. (2019) Hands-On Machine Learning with Scikit-Learn, Keras, and TensorFlow: Concepts, Tools, and Techniques to Build Intelligent Systems. Chapter 2."
   ]
  },
  {
   "cell_type": "code",
   "execution_count": null,
   "id": "83ee6943",
   "metadata": {},
   "outputs": [],
   "source": []
  }
 ],
 "metadata": {
  "kernelspec": {
   "display_name": "Python 3 (ipykernel)",
   "language": "python",
   "name": "python3"
  },
  "language_info": {
   "codemirror_mode": {
    "name": "ipython",
    "version": 3
   },
   "file_extension": ".py",
   "mimetype": "text/x-python",
   "name": "python",
   "nbconvert_exporter": "python",
   "pygments_lexer": "ipython3",
   "version": "3.9.6"
  }
 },
 "nbformat": 4,
 "nbformat_minor": 5
}
