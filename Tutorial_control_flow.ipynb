{
 "cells": [
  {
   "cell_type": "markdown",
   "id": "8ddb3d70",
   "metadata": {},
   "source": [
    "# Tutorial: Control flow\n",
    "\n",
    "Python has several built-in keywords for conditional logic, loops, and other standard control flow concepts found in other programming languages.\n",
    "\n",
    "Learning objectives:\n",
    "1. Use the standard types of control flow in Python to write conditional statements\n",
    "2. Use the standard types of control flow in Python to write itereation statements \n",
    "3. Write ternary expressions"
   ]
  },
  {
   "cell_type": "markdown",
   "id": "381ce7ab",
   "metadata": {},
   "source": [
    "## 1. Conditional statements: if, elif, and else\n",
    "\n",
    "The if statement is one of the most well-known control flow statement types. It checks a condition that, if True, evaluates the code in the block that follows:"
   ]
  },
  {
   "cell_type": "code",
   "execution_count": 1,
   "id": "8d82860a",
   "metadata": {},
   "outputs": [
    {
     "name": "stdout",
     "output_type": "stream",
     "text": [
      "Positive and larger than or equal to 5\n"
     ]
    }
   ],
   "source": [
    "n = 5\n",
    "\n",
    "if n < 0:\n",
    "    print(\"It's negative\")\n",
    "elif n == 0:\n",
    "    print(\"Equal to zero\")\n",
    "elif 0 < n < 5:\n",
    "    print(\"Positive but smaller than 5\")\n",
    "else:\n",
    "    print(\"Positive and larger than or equal to 5\")"
   ]
  },
  {
   "cell_type": "markdown",
   "id": "f970844b",
   "metadata": {},
   "source": [
    "With a compound condition using and or or, conditions are evaluated left to right and will short-circuit:"
   ]
  },
  {
   "cell_type": "code",
   "execution_count": 2,
   "id": "db2f165f",
   "metadata": {},
   "outputs": [
    {
     "name": "stdout",
     "output_type": "stream",
     "text": [
      "Made it\n"
     ]
    }
   ],
   "source": [
    "a=5; b=7 # note that statements in Python can be writen in the same line using the semicolon (;)\n",
    "c=8; d=4\n",
    "\n",
    "if a < b or c > d:\n",
    "    print('Made it')"
   ]
  },
  {
   "cell_type": "markdown",
   "id": "913bc76e",
   "metadata": {},
   "source": [
    "> Short-circuit evaluation (also known as minimal evaluation) is the semantics of Boolean operators in which the second argument is executed or evaluated only if the first argument does not suffice to determine the value of the expression. \n",
    "\n",
    "As a result of short-circuit evaluation, the code below runs succesfully, even though the variable z does not exist! You will get a different result if the first condition does not evaluate to true."
   ]
  },
  {
   "cell_type": "code",
   "execution_count": 4,
   "id": "f6ed7c2e",
   "metadata": {},
   "outputs": [
    {
     "name": "stdout",
     "output_type": "stream",
     "text": [
      "Made it\n"
     ]
    }
   ],
   "source": [
    "a=5; b=7\n",
    "\n",
    "if a < b or c > z:\n",
    "    print('Made it')"
   ]
  },
  {
   "cell_type": "markdown",
   "id": "9a9751c9",
   "metadata": {},
   "source": [
    "## 2. Iteration statements\n",
    "\n",
    "### For loops\n",
    "\n",
    "*for* loops are useful for iterating over a collection (like a list or tuple): "
   ]
  },
  {
   "cell_type": "code",
   "execution_count": 5,
   "id": "ce762033",
   "metadata": {},
   "outputs": [
    {
     "data": {
      "text/plain": [
       "12"
      ]
     },
     "execution_count": 5,
     "metadata": {},
     "output_type": "execute_result"
    }
   ],
   "source": [
    "sequence = [1, 2, None, 4, None, 5];  total = 0\n",
    "\n",
    "for value in sequence:\n",
    "    if value is not None:\n",
    "        total += value\n",
    "    \n",
    "total"
   ]
  },
  {
   "cell_type": "markdown",
   "id": "c2daee90",
   "metadata": {},
   "source": [
    "### The *continue* statement\n",
    "\n",
    "You can advance a loop to the next iteration, skipping the remainder of the block, using the *continue* keyword:"
   ]
  },
  {
   "cell_type": "code",
   "execution_count": 6,
   "id": "72b1173e",
   "metadata": {},
   "outputs": [
    {
     "data": {
      "text/plain": [
       "12"
      ]
     },
     "execution_count": 6,
     "metadata": {},
     "output_type": "execute_result"
    }
   ],
   "source": [
    "total = 0\n",
    "\n",
    "for value in sequence:\n",
    "    if value is None:\n",
    "        continue\n",
    "    total += value\n",
    "    \n",
    "total"
   ]
  },
  {
   "cell_type": "markdown",
   "id": "08c95b57",
   "metadata": {},
   "source": [
    "### The *break* statement\n",
    "\n",
    "A loop can be exited altogether with the *break* keyword. This code sums elements of a list until the number 5 is reached:"
   ]
  },
  {
   "cell_type": "code",
   "execution_count": 7,
   "id": "ccffaeff",
   "metadata": {},
   "outputs": [
    {
     "data": {
      "text/plain": [
       "13"
      ]
     },
     "execution_count": 7,
     "metadata": {},
     "output_type": "execute_result"
    }
   ],
   "source": [
    "sequence = [1, 2, 0, 4, 6, 5, 2, 1]\n",
    "total_until_5 = 0\n",
    "\n",
    "for value in sequence:\n",
    "    if value == 5:\n",
    "        break\n",
    "    total_until_5 += value\n",
    "    \n",
    "total_until_5    "
   ]
  },
  {
   "cell_type": "markdown",
   "id": "22e6c79c",
   "metadata": {},
   "source": [
    "> The *break* keyword only terminates the innermost for loop; any outer for loops will continue to run."
   ]
  },
  {
   "cell_type": "markdown",
   "id": "c28d47c4",
   "metadata": {},
   "source": [
    "### While loops\n",
    "\n",
    "A while loop specifies a condition and a block of code that is to be executed until the condition evaluates to false or the loop is explicitly ended with break:"
   ]
  },
  {
   "cell_type": "code",
   "execution_count": 8,
   "id": "2e797421",
   "metadata": {},
   "outputs": [
    {
     "data": {
      "text/plain": [
       "45"
      ]
     },
     "execution_count": 8,
     "metadata": {},
     "output_type": "execute_result"
    }
   ],
   "source": [
    "n = 0\n",
    "total = 0\n",
    "\n",
    "while n < 10:\n",
    "    total += n\n",
    "    n += 1\n",
    "    \n",
    "total"
   ]
  },
  {
   "cell_type": "markdown",
   "id": "87c08f18",
   "metadata": {},
   "source": [
    "### The *pass* statement\n",
    "\n",
    "*pass* is the “no-operation” statement in Python. It can be used in blocks where no action is to be taken (or as a placeholder for code not yet implemented); it is only required because Python uses whitespace to delimit blocks:"
   ]
  },
  {
   "cell_type": "code",
   "execution_count": 9,
   "id": "208b1900",
   "metadata": {},
   "outputs": [],
   "source": [
    "n = 0\n",
    "\n",
    "if n < 0:\n",
    "    print('negative!')\n",
    "elif n == 0:\n",
    "    # TODO \n",
    "    pass\n",
    "else:\n",
    "    print('positive!')"
   ]
  },
  {
   "cell_type": "markdown",
   "id": "cb6eb2d7",
   "metadata": {},
   "source": [
    "## 3. Ternary expressions\n",
    "\n",
    "A ternary expression in Python allows you to combine an if-else block that produces a value into a single line or expression.\n",
    "\n",
    "As with if-else blocks, only one of the expressions will be executed. Thus, the “if ” and “else” sides of the ternary expression could contain costly computations, but only the true branch is ever evaluated."
   ]
  },
  {
   "cell_type": "code",
   "execution_count": 10,
   "id": "6c0b94eb",
   "metadata": {},
   "outputs": [
    {
     "data": {
      "text/plain": [
       "'Non-negative'"
      ]
     },
     "execution_count": 10,
     "metadata": {},
     "output_type": "execute_result"
    }
   ],
   "source": [
    "n = 5\n",
    "\n",
    "'Non-negative' if n >= 0 else 'Negative'"
   ]
  },
  {
   "cell_type": "markdown",
   "id": "69f95843",
   "metadata": {},
   "source": [
    "> While it may be tempting to always use ternary expressions to condense your code, realize that you may sacrifice readability if the condition as well as the true and false expressions are very complex."
   ]
  }
 ],
 "metadata": {
  "kernelspec": {
   "display_name": "Python 3 (ipykernel)",
   "language": "python",
   "name": "python3"
  },
  "language_info": {
   "codemirror_mode": {
    "name": "ipython",
    "version": 3
   },
   "file_extension": ".py",
   "mimetype": "text/x-python",
   "name": "python",
   "nbconvert_exporter": "python",
   "pygments_lexer": "ipython3",
   "version": "3.9.6"
  }
 },
 "nbformat": 4,
 "nbformat_minor": 5
}
