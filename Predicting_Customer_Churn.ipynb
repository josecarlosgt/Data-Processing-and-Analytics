{
 "cells": [
  {
   "cell_type": "markdown",
   "id": "0aacdebd",
   "metadata": {},
   "source": [
    "# Predicting Customer Churn - Overfitting"
   ]
  },
  {
   "cell_type": "markdown",
   "id": "82d18364",
   "metadata": {},
   "source": [
    "## Setup"
   ]
  },
  {
   "cell_type": "markdown",
   "id": "03480126",
   "metadata": {},
   "source": [
    "### Coding constants"
   ]
  },
  {
   "cell_type": "code",
   "execution_count": 4,
   "id": "41d37dac",
   "metadata": {},
   "outputs": [],
   "source": [
    "GRAPH_WIDTH = 10\n",
    "GRAPH_HEIGHT = 5"
   ]
  },
  {
   "cell_type": "markdown",
   "id": "09be433f",
   "metadata": {},
   "source": [
    "### Common imports"
   ]
  },
  {
   "cell_type": "code",
   "execution_count": 5,
   "id": "e2dc3da3",
   "metadata": {},
   "outputs": [],
   "source": [
    "# Data processing \n",
    "import pandas as pd\n",
    "from sklearn.pipeline import Pipeline\n",
    "from sklearn.preprocessing import StandardScaler\n",
    "\n",
    "# Data visualization \n",
    "%matplotlib inline\n",
    "import matplotlib.pyplot as plt\n",
    "import seaborn as sns\n",
    "\n",
    "# Data modeling \n",
    "from sklearn.model_selection import train_test_split\n",
    "from sklearn.tree import DecisionTreeClassifier\n",
    "from sklearn.linear_model import LogisticRegression\n",
    "from sklearn.svm import LinearSVC\n",
    "from sklearn.model_selection import cross_val_score"
   ]
  },
  {
   "cell_type": "markdown",
   "id": "e6ea0d44",
   "metadata": {},
   "source": [
    "### Data loading"
   ]
  },
  {
   "cell_type": "code",
   "execution_count": 6,
   "id": "6628d62e",
   "metadata": {},
   "outputs": [
    {
     "data": {
      "text/html": [
       "<div>\n",
       "<style scoped>\n",
       "    .dataframe tbody tr th:only-of-type {\n",
       "        vertical-align: middle;\n",
       "    }\n",
       "\n",
       "    .dataframe tbody tr th {\n",
       "        vertical-align: top;\n",
       "    }\n",
       "\n",
       "    .dataframe thead th {\n",
       "        text-align: right;\n",
       "    }\n",
       "</style>\n",
       "<table border=\"1\" class=\"dataframe\">\n",
       "  <thead>\n",
       "    <tr style=\"text-align: right;\">\n",
       "      <th></th>\n",
       "      <th>COLLEGE</th>\n",
       "      <th>INCOME</th>\n",
       "      <th>OVERAGE</th>\n",
       "      <th>LEFTOVER</th>\n",
       "      <th>HOUSE</th>\n",
       "      <th>HANDSET_PRICE</th>\n",
       "      <th>OVER_15MINS_CALLS_PER_MONTH</th>\n",
       "      <th>AVERAGE_CALL_DURATION</th>\n",
       "      <th>REPORTED_SATISFACTION</th>\n",
       "      <th>REPORTED_USAGE_LEVEL</th>\n",
       "      <th>CONSIDERING_CHANGE_OF_PLAN</th>\n",
       "      <th>LEAVE</th>\n",
       "    </tr>\n",
       "  </thead>\n",
       "  <tbody>\n",
       "    <tr>\n",
       "      <th>0</th>\n",
       "      <td>0</td>\n",
       "      <td>31953</td>\n",
       "      <td>0</td>\n",
       "      <td>6</td>\n",
       "      <td>313378</td>\n",
       "      <td>161</td>\n",
       "      <td>0</td>\n",
       "      <td>4</td>\n",
       "      <td>3</td>\n",
       "      <td>3</td>\n",
       "      <td>1</td>\n",
       "      <td>1</td>\n",
       "    </tr>\n",
       "    <tr>\n",
       "      <th>1</th>\n",
       "      <td>1</td>\n",
       "      <td>36147</td>\n",
       "      <td>0</td>\n",
       "      <td>13</td>\n",
       "      <td>800586</td>\n",
       "      <td>244</td>\n",
       "      <td>0</td>\n",
       "      <td>6</td>\n",
       "      <td>3</td>\n",
       "      <td>3</td>\n",
       "      <td>2</td>\n",
       "      <td>1</td>\n",
       "    </tr>\n",
       "    <tr>\n",
       "      <th>2</th>\n",
       "      <td>1</td>\n",
       "      <td>27273</td>\n",
       "      <td>230</td>\n",
       "      <td>0</td>\n",
       "      <td>305049</td>\n",
       "      <td>201</td>\n",
       "      <td>16</td>\n",
       "      <td>15</td>\n",
       "      <td>3</td>\n",
       "      <td>4</td>\n",
       "      <td>3</td>\n",
       "      <td>1</td>\n",
       "    </tr>\n",
       "    <tr>\n",
       "      <th>3</th>\n",
       "      <td>0</td>\n",
       "      <td>120070</td>\n",
       "      <td>38</td>\n",
       "      <td>33</td>\n",
       "      <td>788235</td>\n",
       "      <td>780</td>\n",
       "      <td>3</td>\n",
       "      <td>2</td>\n",
       "      <td>3</td>\n",
       "      <td>0</td>\n",
       "      <td>2</td>\n",
       "      <td>0</td>\n",
       "    </tr>\n",
       "    <tr>\n",
       "      <th>4</th>\n",
       "      <td>1</td>\n",
       "      <td>29215</td>\n",
       "      <td>208</td>\n",
       "      <td>85</td>\n",
       "      <td>224784</td>\n",
       "      <td>241</td>\n",
       "      <td>21</td>\n",
       "      <td>1</td>\n",
       "      <td>4</td>\n",
       "      <td>3</td>\n",
       "      <td>0</td>\n",
       "      <td>1</td>\n",
       "    </tr>\n",
       "  </tbody>\n",
       "</table>\n",
       "</div>"
      ],
      "text/plain": [
       "   COLLEGE  INCOME  OVERAGE  LEFTOVER   HOUSE  HANDSET_PRICE  \\\n",
       "0        0   31953        0         6  313378            161   \n",
       "1        1   36147        0        13  800586            244   \n",
       "2        1   27273      230         0  305049            201   \n",
       "3        0  120070       38        33  788235            780   \n",
       "4        1   29215      208        85  224784            241   \n",
       "\n",
       "   OVER_15MINS_CALLS_PER_MONTH  AVERAGE_CALL_DURATION  REPORTED_SATISFACTION  \\\n",
       "0                            0                      4                      3   \n",
       "1                            0                      6                      3   \n",
       "2                           16                     15                      3   \n",
       "3                            3                      2                      3   \n",
       "4                           21                      1                      4   \n",
       "\n",
       "   REPORTED_USAGE_LEVEL  CONSIDERING_CHANGE_OF_PLAN  LEAVE  \n",
       "0                     3                           1      1  \n",
       "1                     3                           2      1  \n",
       "2                     4                           3      1  \n",
       "3                     0                           2      0  \n",
       "4                     3                           0      1  "
      ]
     },
     "execution_count": 6,
     "metadata": {},
     "output_type": "execute_result"
    }
   ],
   "source": [
    "df = pd.read_csv('data/customer-churn.csv')\n",
    "df.head()"
   ]
  },
  {
   "cell_type": "code",
   "execution_count": 7,
   "id": "1e8bda30",
   "metadata": {},
   "outputs": [
    {
     "data": {
      "text/plain": [
       "(20000, 12)"
      ]
     },
     "execution_count": 7,
     "metadata": {},
     "output_type": "execute_result"
    }
   ],
   "source": [
    "df.shape"
   ]
  },
  {
   "cell_type": "code",
   "execution_count": 8,
   "id": "08d04409",
   "metadata": {},
   "outputs": [
    {
     "data": {
      "text/plain": [
       "Index(['COLLEGE', 'INCOME', 'OVERAGE', 'LEFTOVER', 'HOUSE', 'HANDSET_PRICE',\n",
       "       'OVER_15MINS_CALLS_PER_MONTH', 'AVERAGE_CALL_DURATION',\n",
       "       'REPORTED_SATISFACTION', 'REPORTED_USAGE_LEVEL',\n",
       "       'CONSIDERING_CHANGE_OF_PLAN', 'LEAVE'],\n",
       "      dtype='object')"
      ]
     },
     "execution_count": 8,
     "metadata": {},
     "output_type": "execute_result"
    }
   ],
   "source": [
    "df.columns"
   ]
  },
  {
   "cell_type": "markdown",
   "id": "aaed9846",
   "metadata": {},
   "source": [
    "## Data Modeling"
   ]
  },
  {
   "cell_type": "markdown",
   "id": "81da3526",
   "metadata": {},
   "source": [
    "We will keep using our simple measure of performance that computes the ratio between correct and wrong predictions:\n",
    "\n",
    "Other, more robust ways to measure a classification model's performance involve concepts such as recall and precision."
   ]
  },
  {
   "cell_type": "code",
   "execution_count": 29,
   "id": "3704a662",
   "metadata": {},
   "outputs": [],
   "source": [
    "def evaluate_performance(model, training, labels):\n",
    "    labels_pred = model.predict(training)\n",
    "    n_correct = sum(labels_pred == labels)   \n",
    "    performance = n_correct / len(labels_pred)\n",
    "  \n",
    "    return performance"
   ]
  },
  {
   "cell_type": "markdown",
   "id": "9bb23a53",
   "metadata": {},
   "source": [
    "Scikit-Learn provides a few functions to split datasets into multiple subsets in various ways. The simplest function is train_test_split(). This function has a random_state parameter that allows you to set the random generator seed, useful for obtaining the same split every time we call train_test_split with the same random state."
   ]
  },
  {
   "cell_type": "markdown",
   "id": "80f7e3cb",
   "metadata": {},
   "source": [
    "We will split our data into two sets:\n",
    "- One set called training set that we will use for training several model types\n",
    "- One set called test set that we wil use for estimating the final generalization performance"
   ]
  },
  {
   "cell_type": "code",
   "execution_count": 60,
   "id": "15ddc455",
   "metadata": {},
   "outputs": [
    {
     "name": "stdout",
     "output_type": "stream",
     "text": [
      "(16000, 12)\n",
      "(4000, 12)\n"
     ]
    }
   ],
   "source": [
    "training_set, test_set = train_test_split(df, test_size=0.2, random_state=15)\n",
    "\n",
    "print(training_set.shape)\n",
    "print(test_set.shape)"
   ]
  },
  {
   "cell_type": "markdown",
   "id": "299c2df5",
   "metadata": {},
   "source": [
    "Split the training set into two dataframes:\n",
    "- One dataframe containing all the attributes\n",
    "- One dataframe containing all the labels, i.e., the values of the target variable (LEAVE)"
   ]
  },
  {
   "cell_type": "code",
   "execution_count": 61,
   "id": "1fecd1a1",
   "metadata": {},
   "outputs": [],
   "source": [
    "training_attr = training_set.loc[:, training_set.columns != 'LEAVE']\n",
    "training_labels = training_set['LEAVE']"
   ]
  },
  {
   "cell_type": "markdown",
   "id": "5a946f7e",
   "metadata": {},
   "source": [
    "Perform the same task for the test set"
   ]
  },
  {
   "cell_type": "code",
   "execution_count": 62,
   "id": "58a340c6",
   "metadata": {},
   "outputs": [],
   "source": [
    "test_attr = test_set.loc[:, test_set.columns != 'LEAVE']\n",
    "test_labels = test_set['LEAVE']"
   ]
  },
  {
   "cell_type": "markdown",
   "id": "7eab86a7",
   "metadata": {},
   "source": [
    "### Measuring models performance using cross-validation  "
   ]
  },
  {
   "cell_type": "markdown",
   "id": "11d7ec58",
   "metadata": {},
   "source": [
    "Cross-validation is a technique that we can use to better estimate the generalization performance by evaluating the model's accuracy on multiple holdout sets. We can use those evaluations to compute statistics on the estimated performance, such as the mean and variance."
   ]
  },
  {
   "cell_type": "markdown",
   "id": "980af8fc",
   "metadata": {},
   "source": [
    "Create a function that displays the results of K-fold cross-validation:"
   ]
  },
  {
   "cell_type": "code",
   "execution_count": 63,
   "id": "e202d6e6",
   "metadata": {},
   "outputs": [],
   "source": [
    "def display_scores(scores):\n",
    "    print(\"Scores:\", scores)\n",
    "    print(\"Mean:\", scores.mean())\n",
    "    print(\"Standard deviation:\", scores.std())"
   ]
  },
  {
   "cell_type": "markdown",
   "id": "5bca064a",
   "metadata": {},
   "source": [
    "In this Notebook, we will use cross-validation to estimate and compare the generalization performance of several models. In this way, we can decide which model is our best choice, and then estimate the generalization performance on a final holdout test set. \n",
    "\n",
    "> **Note this is a schematic use of cross-validation.** We will use the same cross-validation technique to compare models with different parameters (i.e., trees with different depths) and from other families (e.g., decision trees and linear classifiers). In reality, more sophisticated techniques are available to estimate the optimal parameters of a model."
   ]
  },
  {
   "cell_type": "markdown",
   "id": "3bb8d7d6",
   "metadata": {},
   "source": [
    "### Decision tree with depth = 5"
   ]
  },
  {
   "cell_type": "markdown",
   "id": "96477a32",
   "metadata": {},
   "source": [
    "Create a decision tree with depth = 5."
   ]
  },
  {
   "cell_type": "code",
   "execution_count": 64,
   "id": "d98fd84d",
   "metadata": {},
   "outputs": [],
   "source": [
    "tree_depth_5_clf = DecisionTreeClassifier(max_depth = 5)"
   ]
  },
  {
   "cell_type": "markdown",
   "id": "4cfb2b0d",
   "metadata": {},
   "source": [
    "Scikit-Learn provides a utility for perfomring K-fold cross-validation called cross_val_score.\n",
    "\n",
    "The following code randomly splits the training set into 10 distinct subsets (folds). Then, it trains and evaluates the Decision Tree model 10 times, picking a different fold for evaluation every time and training on the other 9 folds.\n",
    "\n",
    "The result is an array containing the 10 evaluation scores:"
   ]
  },
  {
   "cell_type": "code",
   "execution_count": 65,
   "id": "cd1b50a8",
   "metadata": {},
   "outputs": [
    {
     "name": "stdout",
     "output_type": "stream",
     "text": [
      "Scores: [0.6925   0.676875 0.6975   0.6775   0.69125  0.7025   0.691875 0.701875\n",
      " 0.684375 0.67625 ]\n",
      "Mean: 0.68925\n",
      "Standard deviation: 0.009531198770354134\n"
     ]
    }
   ],
   "source": [
    "scores = cross_val_score(tree_depth_5_clf, training_attr, training_labels, scoring='accuracy', cv=10)\n",
    "display_scores(scores)"
   ]
  },
  {
   "cell_type": "markdown",
   "id": "dd11d1b3",
   "metadata": {},
   "source": [
    "### Decision tree with depth = 7"
   ]
  },
  {
   "cell_type": "code",
   "execution_count": 66,
   "id": "f64d7afe",
   "metadata": {},
   "outputs": [],
   "source": [
    "tree_depth_7_clf = DecisionTreeClassifier(max_depth = 7)"
   ]
  },
  {
   "cell_type": "code",
   "execution_count": 67,
   "id": "a6934f06",
   "metadata": {},
   "outputs": [
    {
     "name": "stdout",
     "output_type": "stream",
     "text": [
      "Scores: [0.68     0.68125  0.689375 0.668125 0.676875 0.701875 0.684375 0.69375\n",
      " 0.6775   0.668125]\n",
      "Mean: 0.682125\n",
      "Standard deviation: 0.010144271782636747\n"
     ]
    }
   ],
   "source": [
    "scores = cross_val_score(tree_depth_7_clf, training_attr, training_labels, scoring='accuracy', cv=10)\n",
    "display_scores(scores)"
   ]
  },
  {
   "cell_type": "markdown",
   "id": "f9dec7d2",
   "metadata": {},
   "source": [
    "### Logistic regression"
   ]
  },
  {
   "cell_type": "code",
   "execution_count": 68,
   "id": "3ab2bc86",
   "metadata": {},
   "outputs": [],
   "source": [
    "logistic_regr_clf = Pipeline([\n",
    "    (\"scaler\", StandardScaler()),\n",
    "    (\"logistic_regression\", LogisticRegression()),\n",
    "])"
   ]
  },
  {
   "cell_type": "code",
   "execution_count": 69,
   "id": "486b5176",
   "metadata": {},
   "outputs": [
    {
     "name": "stdout",
     "output_type": "stream",
     "text": [
      "Scores: [0.6025   0.61625  0.640625 0.6125   0.638125 0.63875  0.615625 0.635\n",
      " 0.61     0.5925  ]\n",
      "Mean: 0.6201875\n",
      "Standard deviation: 0.01606882171318109\n"
     ]
    }
   ],
   "source": [
    "scores = cross_val_score(logistic_regr_clf, training_attr, training_labels, scoring='accuracy', cv=10)\n",
    "display_scores(scores)"
   ]
  },
  {
   "cell_type": "markdown",
   "id": "cdd0d611",
   "metadata": {},
   "source": [
    "### Linear support vector machine"
   ]
  },
  {
   "cell_type": "code",
   "execution_count": 70,
   "id": "a30a9d20",
   "metadata": {},
   "outputs": [],
   "source": [
    "svm_clf = Pipeline([\n",
    "    (\"scaler\", StandardScaler()),\n",
    "    (\"linear_svc\", LinearSVC()), # SVC stands for support vector classifier\n",
    "])"
   ]
  },
  {
   "cell_type": "code",
   "execution_count": 71,
   "id": "0aed5c32",
   "metadata": {},
   "outputs": [
    {
     "name": "stdout",
     "output_type": "stream",
     "text": [
      "Scores: [0.6      0.615625 0.638125 0.618125 0.63875  0.6375   0.61375  0.63375\n",
      " 0.61     0.595625]\n",
      "Mean: 0.620125\n",
      "Standard deviation: 0.015267919799370202\n"
     ]
    }
   ],
   "source": [
    "scores = cross_val_score(svm_clf, training_attr, training_labels, scoring='accuracy', cv=10)\n",
    "display_scores(scores)"
   ]
  },
  {
   "cell_type": "markdown",
   "id": "37384b8d",
   "metadata": {},
   "source": [
    "## Evaluation"
   ]
  },
  {
   "cell_type": "markdown",
   "id": "09323600",
   "metadata": {},
   "source": [
    "By comparing the generalization performance of each model, we can select the model with the best average accuracy.\n",
    "\n",
    "In this case, the best model is a decision tree with depth = 5. \n",
    "\n",
    "We need to estimate the model's generalization accuracy using a test set strictly independent of the data we used when selecting the best model to get an independent estimate of model accuracy.\n",
    "\n",
    "> The test set should separate from the sets used in cross-validation, so the test set is never going to be used to make any modeling decisions."
   ]
  },
  {
   "cell_type": "markdown",
   "id": "cb96893d",
   "metadata": {},
   "source": [
    "Once we’ve chosen the best model, why not learn a new tree with depth=5 nodes from the whole, original training set? \n",
    "\n",
    "Then we might get the best of both worlds: using the subtraining/validation split to pick the best model without tainting the test set, and building a model of this best complexity on the entire training set (subtraining plus validation):"
   ]
  },
  {
   "cell_type": "code",
   "execution_count": 72,
   "id": "3c7f18b3",
   "metadata": {},
   "outputs": [
    {
     "data": {
      "text/plain": [
       "DecisionTreeClassifier(max_depth=5)"
      ]
     },
     "execution_count": 72,
     "metadata": {},
     "output_type": "execute_result"
    }
   ],
   "source": [
    "tree_depth_5_clf.fit(training_attr, training_labels)"
   ]
  },
  {
   "cell_type": "code",
   "execution_count": 74,
   "id": "13721aef",
   "metadata": {},
   "outputs": [
    {
     "data": {
      "text/plain": [
       "'Generalization performance of our final model— decision tree classifier depth = 5: 69.10%'"
      ]
     },
     "execution_count": 74,
     "metadata": {},
     "output_type": "execute_result"
    }
   ],
   "source": [
    "performance = evaluate_performance(tree_depth_5_clf, test_attr, test_labels)\n",
    "\n",
    "\"Generalization performance of our final model— \" +\\\n",
    "    f\"decision tree classifier depth = {tree_depth_5_clf.get_depth()}: {performance * 100:.2f}%\""
   ]
  },
  {
   "cell_type": "code",
   "execution_count": null,
   "id": "83ee6943",
   "metadata": {},
   "outputs": [],
   "source": []
  }
 ],
 "metadata": {
  "kernelspec": {
   "display_name": "Python 3 (ipykernel)",
   "language": "python",
   "name": "python3"
  },
  "language_info": {
   "codemirror_mode": {
    "name": "ipython",
    "version": 3
   },
   "file_extension": ".py",
   "mimetype": "text/x-python",
   "name": "python",
   "nbconvert_exporter": "python",
   "pygments_lexer": "ipython3",
   "version": "3.9.6"
  }
 },
 "nbformat": 4,
 "nbformat_minor": 5
}
