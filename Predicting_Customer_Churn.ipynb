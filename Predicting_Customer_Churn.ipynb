{
 "cells": [
  {
   "cell_type": "markdown",
   "id": "0aacdebd",
   "metadata": {},
   "source": [
    "# Predicting Customer Churn - Decicision Trees & Informative Attributes"
   ]
  },
  {
   "cell_type": "markdown",
   "id": "82d18364",
   "metadata": {},
   "source": [
    "## Setup"
   ]
  },
  {
   "cell_type": "markdown",
   "id": "09be433f",
   "metadata": {},
   "source": [
    "### Common imports"
   ]
  },
  {
   "cell_type": "code",
   "execution_count": 67,
   "id": "e2dc3da3",
   "metadata": {},
   "outputs": [],
   "source": [
    "%matplotlib inline \n",
    "\n",
    "# Data processing libraries\n",
    "import pandas as pd\n",
    "\n",
    "# Data modeling library\n",
    "from sklearn.tree import DecisionTreeClassifier"
   ]
  },
  {
   "cell_type": "markdown",
   "id": "e6ea0d44",
   "metadata": {},
   "source": [
    "### Data loading"
   ]
  },
  {
   "cell_type": "code",
   "execution_count": 68,
   "id": "6628d62e",
   "metadata": {},
   "outputs": [
    {
     "data": {
      "text/html": [
       "<div>\n",
       "<style scoped>\n",
       "    .dataframe tbody tr th:only-of-type {\n",
       "        vertical-align: middle;\n",
       "    }\n",
       "\n",
       "    .dataframe tbody tr th {\n",
       "        vertical-align: top;\n",
       "    }\n",
       "\n",
       "    .dataframe thead th {\n",
       "        text-align: right;\n",
       "    }\n",
       "</style>\n",
       "<table border=\"1\" class=\"dataframe\">\n",
       "  <thead>\n",
       "    <tr style=\"text-align: right;\">\n",
       "      <th></th>\n",
       "      <th>COLLEGE</th>\n",
       "      <th>INCOME</th>\n",
       "      <th>OVERAGE</th>\n",
       "      <th>LEFTOVER</th>\n",
       "      <th>HOUSE</th>\n",
       "      <th>HANDSET_PRICE</th>\n",
       "      <th>OVER_15MINS_CALLS_PER_MONTH</th>\n",
       "      <th>AVERAGE_CALL_DURATION</th>\n",
       "      <th>REPORTED_SATISFACTION</th>\n",
       "      <th>REPORTED_USAGE_LEVEL</th>\n",
       "      <th>CONSIDERING_CHANGE_OF_PLAN</th>\n",
       "      <th>LEAVE</th>\n",
       "    </tr>\n",
       "  </thead>\n",
       "  <tbody>\n",
       "    <tr>\n",
       "      <th>0</th>\n",
       "      <td>0</td>\n",
       "      <td>31953</td>\n",
       "      <td>0</td>\n",
       "      <td>6</td>\n",
       "      <td>313378</td>\n",
       "      <td>161</td>\n",
       "      <td>0</td>\n",
       "      <td>4</td>\n",
       "      <td>3</td>\n",
       "      <td>3</td>\n",
       "      <td>1</td>\n",
       "      <td>1</td>\n",
       "    </tr>\n",
       "    <tr>\n",
       "      <th>1</th>\n",
       "      <td>1</td>\n",
       "      <td>36147</td>\n",
       "      <td>0</td>\n",
       "      <td>13</td>\n",
       "      <td>800586</td>\n",
       "      <td>244</td>\n",
       "      <td>0</td>\n",
       "      <td>6</td>\n",
       "      <td>3</td>\n",
       "      <td>3</td>\n",
       "      <td>2</td>\n",
       "      <td>1</td>\n",
       "    </tr>\n",
       "    <tr>\n",
       "      <th>2</th>\n",
       "      <td>1</td>\n",
       "      <td>27273</td>\n",
       "      <td>230</td>\n",
       "      <td>0</td>\n",
       "      <td>305049</td>\n",
       "      <td>201</td>\n",
       "      <td>16</td>\n",
       "      <td>15</td>\n",
       "      <td>3</td>\n",
       "      <td>4</td>\n",
       "      <td>3</td>\n",
       "      <td>1</td>\n",
       "    </tr>\n",
       "    <tr>\n",
       "      <th>3</th>\n",
       "      <td>0</td>\n",
       "      <td>120070</td>\n",
       "      <td>38</td>\n",
       "      <td>33</td>\n",
       "      <td>788235</td>\n",
       "      <td>780</td>\n",
       "      <td>3</td>\n",
       "      <td>2</td>\n",
       "      <td>3</td>\n",
       "      <td>0</td>\n",
       "      <td>2</td>\n",
       "      <td>0</td>\n",
       "    </tr>\n",
       "    <tr>\n",
       "      <th>4</th>\n",
       "      <td>1</td>\n",
       "      <td>29215</td>\n",
       "      <td>208</td>\n",
       "      <td>85</td>\n",
       "      <td>224784</td>\n",
       "      <td>241</td>\n",
       "      <td>21</td>\n",
       "      <td>1</td>\n",
       "      <td>4</td>\n",
       "      <td>3</td>\n",
       "      <td>0</td>\n",
       "      <td>1</td>\n",
       "    </tr>\n",
       "  </tbody>\n",
       "</table>\n",
       "</div>"
      ],
      "text/plain": [
       "   COLLEGE  INCOME  OVERAGE  LEFTOVER   HOUSE  HANDSET_PRICE  \\\n",
       "0        0   31953        0         6  313378            161   \n",
       "1        1   36147        0        13  800586            244   \n",
       "2        1   27273      230         0  305049            201   \n",
       "3        0  120070       38        33  788235            780   \n",
       "4        1   29215      208        85  224784            241   \n",
       "\n",
       "   OVER_15MINS_CALLS_PER_MONTH  AVERAGE_CALL_DURATION  REPORTED_SATISFACTION  \\\n",
       "0                            0                      4                      3   \n",
       "1                            0                      6                      3   \n",
       "2                           16                     15                      3   \n",
       "3                            3                      2                      3   \n",
       "4                           21                      1                      4   \n",
       "\n",
       "   REPORTED_USAGE_LEVEL  CONSIDERING_CHANGE_OF_PLAN  LEAVE  \n",
       "0                     3                           1      1  \n",
       "1                     3                           2      1  \n",
       "2                     4                           3      1  \n",
       "3                     0                           2      0  \n",
       "4                     3                           0      1  "
      ]
     },
     "execution_count": 68,
     "metadata": {},
     "output_type": "execute_result"
    }
   ],
   "source": [
    "df = pd.read_csv('data/customer-churn.csv')\n",
    "df.head()"
   ]
  },
  {
   "cell_type": "code",
   "execution_count": 72,
   "id": "1e8bda30",
   "metadata": {},
   "outputs": [
    {
     "data": {
      "text/plain": [
       "(20000, 12)"
      ]
     },
     "execution_count": 72,
     "metadata": {},
     "output_type": "execute_result"
    }
   ],
   "source": [
    "df.shape"
   ]
  },
  {
   "cell_type": "code",
   "execution_count": 73,
   "id": "08d04409",
   "metadata": {},
   "outputs": [
    {
     "data": {
      "text/plain": [
       "Index(['COLLEGE', 'INCOME', 'OVERAGE', 'LEFTOVER', 'HOUSE', 'HANDSET_PRICE',\n",
       "       'OVER_15MINS_CALLS_PER_MONTH', 'AVERAGE_CALL_DURATION',\n",
       "       'REPORTED_SATISFACTION', 'REPORTED_USAGE_LEVEL',\n",
       "       'CONSIDERING_CHANGE_OF_PLAN', 'LEAVE'],\n",
       "      dtype='object')"
      ]
     },
     "execution_count": 73,
     "metadata": {},
     "output_type": "execute_result"
    }
   ],
   "source": [
    "df.columns"
   ]
  },
  {
   "cell_type": "code",
   "execution_count": 74,
   "id": "08473ead",
   "metadata": {},
   "outputs": [
    {
     "name": "stdout",
     "output_type": "stream",
     "text": [
      "<class 'pandas.core.frame.DataFrame'>\n",
      "RangeIndex: 20000 entries, 0 to 19999\n",
      "Data columns (total 12 columns):\n",
      " #   Column                       Non-Null Count  Dtype\n",
      "---  ------                       --------------  -----\n",
      " 0   COLLEGE                      20000 non-null  int64\n",
      " 1   INCOME                       20000 non-null  int64\n",
      " 2   OVERAGE                      20000 non-null  int64\n",
      " 3   LEFTOVER                     20000 non-null  int64\n",
      " 4   HOUSE                        20000 non-null  int64\n",
      " 5   HANDSET_PRICE                20000 non-null  int64\n",
      " 6   OVER_15MINS_CALLS_PER_MONTH  20000 non-null  int64\n",
      " 7   AVERAGE_CALL_DURATION        20000 non-null  int64\n",
      " 8   REPORTED_SATISFACTION        20000 non-null  int64\n",
      " 9   REPORTED_USAGE_LEVEL         20000 non-null  int64\n",
      " 10  CONSIDERING_CHANGE_OF_PLAN   20000 non-null  int64\n",
      " 11  LEAVE                        20000 non-null  int64\n",
      "dtypes: int64(12)\n",
      "memory usage: 1.8 MB\n"
     ]
    }
   ],
   "source": [
    "df.info()"
   ]
  },
  {
   "cell_type": "markdown",
   "id": "aaed9846",
   "metadata": {},
   "source": [
    "## Data Modeling"
   ]
  },
  {
   "cell_type": "markdown",
   "id": "8cbb7fb7",
   "metadata": {},
   "source": [
    "At this point, you have framed the problem and got the data, and explored it. Now, we will select and train a classification model using the tree induction technique explained in class.\n",
    "\n",
    "We will use Scikit-learn to build our classification tree.\n",
    "\n",
    "Scikit-learn is a free software machine learning library for the Python programming language. It features various classification, regression, and other types of algorithms, including support vector machines.\n",
    "\n",
    "Scikit-learn is designed to interoperate with NumPy and Pandas DataFrames."
   ]
  },
  {
   "cell_type": "markdown",
   "id": "bacb6bcc",
   "metadata": {},
   "source": [
    "### Fitting a classification tree\n",
    "\n",
    "To build our decision tree using the customer churn dataset, we will use Scikit-learn's [DecisionTreeClassifier](https://scikit-learn.org/stable/modules/generated/sklearn.tree.DecisionTreeClassifier.html) class."
   ]
  },
  {
   "cell_type": "code",
   "execution_count": 75,
   "id": "bb872fa3",
   "metadata": {},
   "outputs": [],
   "source": [
    "training = df.loc[:, df.columns != 'LEAVE']\n",
    "labels = df['LEAVE']"
   ]
  },
  {
   "cell_type": "markdown",
   "id": "270a9240",
   "metadata": {},
   "source": [
    "The DecisionTreeClassifier class allows for different parameters that influence the learning process.\n",
    "\n",
    "First, we will specify the depth as two and the criterion as entropy. The criterion refers to the impurity measure used to segment the data.\n",
    "\n",
    "A shallow tree will give us some insights into the building process and easily interpret the results."
   ]
  },
  {
   "cell_type": "code",
   "execution_count": 76,
   "id": "1b44f301",
   "metadata": {},
   "outputs": [],
   "source": [
    "tree_depth_2 = DecisionTreeClassifier(\n",
    "    criterion = \"entropy\", # “gini” or “entropy”, default=”gini”\n",
    "    max_depth = 2)"
   ]
  },
  {
   "cell_type": "markdown",
   "id": "f1869c07",
   "metadata": {},
   "source": [
    "The fit () method performs the building or fitting of the model to the data. This method takes two datasets for supervised learning algorithms:\n",
    "- The first dataset contains the attributes \n",
    "- The second dataset contains the labels.\n",
    "\n",
    "Any other parameter needed to guide the fitting process is considered a hyperparameter (such as the impurity measure and tree depth). It must be set as an instance variable, generally via a constructor parameter."
   ]
  },
  {
   "cell_type": "code",
   "execution_count": 77,
   "id": "491f0aec",
   "metadata": {},
   "outputs": [
    {
     "data": {
      "text/plain": [
       "DecisionTreeClassifier(criterion='entropy', max_depth=2)"
      ]
     },
     "execution_count": 77,
     "metadata": {},
     "output_type": "execute_result"
    }
   ],
   "source": [
    "tree_depth_2.fit(training, labels)"
   ]
  },
  {
   "cell_type": "markdown",
   "id": "3890c847",
   "metadata": {},
   "source": [
    "The following picture shows the resulting tree:"
   ]
  },
  {
   "cell_type": "markdown",
   "id": "d5bf6e5e",
   "metadata": {},
   "source": [
    "![Decision Tree Depth = 2](images/customer-churn_tree-depth-2.png)"
   ]
  },
  {
   "cell_type": "markdown",
   "id": "b996a6d2",
   "metadata": {},
   "source": [
    "**Classification tree with depth = 3 tree**"
   ]
  },
  {
   "cell_type": "markdown",
   "id": "4c1153e5",
   "metadata": {},
   "source": [
    "![Decision Tree Depth = 3](images/customer-churn_tree-depth-3.png)"
   ]
  },
  {
   "cell_type": "markdown",
   "id": "7bdfbce4",
   "metadata": {},
   "source": [
    "**What is the difference between the depth=2 and depth=3 trees?**:\n",
    "\n",
    "From the pictures, it is evident that as we increase the depth of the tree, the resulting leaves contain lower entropy values, suggesting more pure segments and increased predictable capability by the model."
   ]
  },
  {
   "cell_type": "markdown",
   "id": "6a61688a",
   "metadata": {},
   "source": [
    "### Making predictions"
   ]
  },
  {
   "cell_type": "markdown",
   "id": "49bd904a",
   "metadata": {},
   "source": [
    "A classification model object, given a dataset, should be capable of making predictions.\n",
    "\n",
    "Classification model objects have a predict() method that takes a dataset of new instances and returns a dataset of corresponding predictions.\n",
    "\n",
    "To generate the predictions, we will use the same training dataset used for fitting the model:"
   ]
  },
  {
   "cell_type": "code",
   "execution_count": 78,
   "id": "1ab09f35",
   "metadata": {},
   "outputs": [
    {
     "data": {
      "text/plain": [
       "array([0, 1, 0, ..., 0, 0, 0])"
      ]
     },
     "execution_count": 78,
     "metadata": {},
     "output_type": "execute_result"
    }
   ],
   "source": [
    "labels_pred = tree_depth_2.predict(training)\n",
    "labels_pred"
   ]
  },
  {
   "cell_type": "markdown",
   "id": "130328f1",
   "metadata": {},
   "source": [
    "Using the classification model object, we will also calculate the class probabilities:"
   ]
  },
  {
   "cell_type": "code",
   "execution_count": 79,
   "id": "296d135d",
   "metadata": {},
   "outputs": [
    {
     "data": {
      "text/plain": [
       "array([[0.52994453, 0.47005547],\n",
       "       [0.27339084, 0.72660916],\n",
       "       [0.81143248, 0.18856752],\n",
       "       ...,\n",
       "       [0.52994453, 0.47005547],\n",
       "       [0.52994453, 0.47005547],\n",
       "       [0.61507761, 0.38492239]])"
      ]
     },
     "execution_count": 79,
     "metadata": {},
     "output_type": "execute_result"
    }
   ],
   "source": [
    "class_probabilities = tree_depth_2.predict_proba(training)\n",
    "class_probabilities"
   ]
  },
  {
   "cell_type": "markdown",
   "id": "50a582b0",
   "metadata": {},
   "source": [
    "We will build a new DataFrame to display the class predictions and class probabilities:"
   ]
  },
  {
   "cell_type": "code",
   "execution_count": 80,
   "id": "b0cea46b",
   "metadata": {},
   "outputs": [],
   "source": [
    "# Turn LEAVE=0 to STAY and LEAVE=1 to CHURN for easier interpretation\n",
    "\n",
    "interpret_label = lambda x: 'STAY' if x == 0 else 'CHURN'"
   ]
  },
  {
   "cell_type": "code",
   "execution_count": 81,
   "id": "52d234a4",
   "metadata": {},
   "outputs": [],
   "source": [
    "# Interpret label values for both the training and predicted labels\n",
    "\n",
    "labels_interpreted = list(map(interpret_label, labels))\n",
    "labels_pred_interpreted = list(map(interpret_label, labels_pred))"
   ]
  },
  {
   "cell_type": "code",
   "execution_count": 82,
   "id": "b0073040",
   "metadata": {},
   "outputs": [],
   "source": [
    "prob_stay = [p[0] for p in class_probabilities]\n",
    "prob_churn = [p[1] for p in class_probabilities]"
   ]
  },
  {
   "cell_type": "code",
   "execution_count": 83,
   "id": "f3798890",
   "metadata": {},
   "outputs": [
    {
     "data": {
      "text/html": [
       "<div>\n",
       "<style scoped>\n",
       "    .dataframe tbody tr th:only-of-type {\n",
       "        vertical-align: middle;\n",
       "    }\n",
       "\n",
       "    .dataframe tbody tr th {\n",
       "        vertical-align: top;\n",
       "    }\n",
       "\n",
       "    .dataframe thead th {\n",
       "        text-align: right;\n",
       "    }\n",
       "</style>\n",
       "<table border=\"1\" class=\"dataframe\">\n",
       "  <thead>\n",
       "    <tr style=\"text-align: right;\">\n",
       "      <th></th>\n",
       "      <th>Training label</th>\n",
       "      <th>Predicted label</th>\n",
       "      <th>Probability STAY</th>\n",
       "      <th>Probability CHURN</th>\n",
       "    </tr>\n",
       "  </thead>\n",
       "  <tbody>\n",
       "    <tr>\n",
       "      <th>0</th>\n",
       "      <td>CHURN</td>\n",
       "      <td>STAY</td>\n",
       "      <td>0.529945</td>\n",
       "      <td>0.470055</td>\n",
       "    </tr>\n",
       "    <tr>\n",
       "      <th>1</th>\n",
       "      <td>CHURN</td>\n",
       "      <td>CHURN</td>\n",
       "      <td>0.273391</td>\n",
       "      <td>0.726609</td>\n",
       "    </tr>\n",
       "    <tr>\n",
       "      <th>2</th>\n",
       "      <td>CHURN</td>\n",
       "      <td>STAY</td>\n",
       "      <td>0.811432</td>\n",
       "      <td>0.188568</td>\n",
       "    </tr>\n",
       "    <tr>\n",
       "      <th>3</th>\n",
       "      <td>STAY</td>\n",
       "      <td>STAY</td>\n",
       "      <td>0.615078</td>\n",
       "      <td>0.384922</td>\n",
       "    </tr>\n",
       "    <tr>\n",
       "      <th>4</th>\n",
       "      <td>CHURN</td>\n",
       "      <td>STAY</td>\n",
       "      <td>0.811432</td>\n",
       "      <td>0.188568</td>\n",
       "    </tr>\n",
       "    <tr>\n",
       "      <th>5</th>\n",
       "      <td>CHURN</td>\n",
       "      <td>STAY</td>\n",
       "      <td>0.615078</td>\n",
       "      <td>0.384922</td>\n",
       "    </tr>\n",
       "    <tr>\n",
       "      <th>6</th>\n",
       "      <td>CHURN</td>\n",
       "      <td>CHURN</td>\n",
       "      <td>0.273391</td>\n",
       "      <td>0.726609</td>\n",
       "    </tr>\n",
       "    <tr>\n",
       "      <th>7</th>\n",
       "      <td>CHURN</td>\n",
       "      <td>CHURN</td>\n",
       "      <td>0.273391</td>\n",
       "      <td>0.726609</td>\n",
       "    </tr>\n",
       "    <tr>\n",
       "      <th>8</th>\n",
       "      <td>CHURN</td>\n",
       "      <td>STAY</td>\n",
       "      <td>0.529945</td>\n",
       "      <td>0.470055</td>\n",
       "    </tr>\n",
       "    <tr>\n",
       "      <th>9</th>\n",
       "      <td>STAY</td>\n",
       "      <td>STAY</td>\n",
       "      <td>0.811432</td>\n",
       "      <td>0.188568</td>\n",
       "    </tr>\n",
       "    <tr>\n",
       "      <th>10</th>\n",
       "      <td>CHURN</td>\n",
       "      <td>CHURN</td>\n",
       "      <td>0.273391</td>\n",
       "      <td>0.726609</td>\n",
       "    </tr>\n",
       "    <tr>\n",
       "      <th>11</th>\n",
       "      <td>CHURN</td>\n",
       "      <td>STAY</td>\n",
       "      <td>0.529945</td>\n",
       "      <td>0.470055</td>\n",
       "    </tr>\n",
       "    <tr>\n",
       "      <th>12</th>\n",
       "      <td>CHURN</td>\n",
       "      <td>CHURN</td>\n",
       "      <td>0.273391</td>\n",
       "      <td>0.726609</td>\n",
       "    </tr>\n",
       "    <tr>\n",
       "      <th>13</th>\n",
       "      <td>CHURN</td>\n",
       "      <td>STAY</td>\n",
       "      <td>0.529945</td>\n",
       "      <td>0.470055</td>\n",
       "    </tr>\n",
       "    <tr>\n",
       "      <th>14</th>\n",
       "      <td>CHURN</td>\n",
       "      <td>CHURN</td>\n",
       "      <td>0.273391</td>\n",
       "      <td>0.726609</td>\n",
       "    </tr>\n",
       "    <tr>\n",
       "      <th>15</th>\n",
       "      <td>CHURN</td>\n",
       "      <td>STAY</td>\n",
       "      <td>0.529945</td>\n",
       "      <td>0.470055</td>\n",
       "    </tr>\n",
       "    <tr>\n",
       "      <th>16</th>\n",
       "      <td>CHURN</td>\n",
       "      <td>CHURN</td>\n",
       "      <td>0.273391</td>\n",
       "      <td>0.726609</td>\n",
       "    </tr>\n",
       "    <tr>\n",
       "      <th>17</th>\n",
       "      <td>CHURN</td>\n",
       "      <td>STAY</td>\n",
       "      <td>0.529945</td>\n",
       "      <td>0.470055</td>\n",
       "    </tr>\n",
       "    <tr>\n",
       "      <th>18</th>\n",
       "      <td>STAY</td>\n",
       "      <td>STAY</td>\n",
       "      <td>0.529945</td>\n",
       "      <td>0.470055</td>\n",
       "    </tr>\n",
       "    <tr>\n",
       "      <th>19</th>\n",
       "      <td>CHURN</td>\n",
       "      <td>STAY</td>\n",
       "      <td>0.529945</td>\n",
       "      <td>0.470055</td>\n",
       "    </tr>\n",
       "  </tbody>\n",
       "</table>\n",
       "</div>"
      ],
      "text/plain": [
       "   Training label Predicted label  Probability STAY  Probability CHURN\n",
       "0           CHURN            STAY          0.529945           0.470055\n",
       "1           CHURN           CHURN          0.273391           0.726609\n",
       "2           CHURN            STAY          0.811432           0.188568\n",
       "3            STAY            STAY          0.615078           0.384922\n",
       "4           CHURN            STAY          0.811432           0.188568\n",
       "5           CHURN            STAY          0.615078           0.384922\n",
       "6           CHURN           CHURN          0.273391           0.726609\n",
       "7           CHURN           CHURN          0.273391           0.726609\n",
       "8           CHURN            STAY          0.529945           0.470055\n",
       "9            STAY            STAY          0.811432           0.188568\n",
       "10          CHURN           CHURN          0.273391           0.726609\n",
       "11          CHURN            STAY          0.529945           0.470055\n",
       "12          CHURN           CHURN          0.273391           0.726609\n",
       "13          CHURN            STAY          0.529945           0.470055\n",
       "14          CHURN           CHURN          0.273391           0.726609\n",
       "15          CHURN            STAY          0.529945           0.470055\n",
       "16          CHURN           CHURN          0.273391           0.726609\n",
       "17          CHURN            STAY          0.529945           0.470055\n",
       "18           STAY            STAY          0.529945           0.470055\n",
       "19          CHURN            STAY          0.529945           0.470055"
      ]
     },
     "execution_count": 83,
     "metadata": {},
     "output_type": "execute_result"
    }
   ],
   "source": [
    "predictions = pd.DataFrame({\n",
    "    \"Training label\": labels_interpreted,\n",
    "    \"Predicted label\": labels_pred_interpreted,\n",
    "    \"Probability STAY\": prob_stay,\n",
    "    \"Probability CHURN\": prob_churn,\n",
    "})\n",
    "\n",
    "predictions[:20]"
   ]
  },
  {
   "cell_type": "markdown",
   "id": "c964db0e",
   "metadata": {},
   "source": [
    "### Evaluating performance"
   ]
  },
  {
   "cell_type": "markdown",
   "id": "b326f6da",
   "metadata": {},
   "source": [
    "As a simple measure of performance, we can compute the ratio between correct and wrong predictions.\n",
    "\n",
    "Later in the course, we will look at more comprehensive ways to measure a classification model's performance that include concepts such as recall and precision."
   ]
  },
  {
   "cell_type": "code",
   "execution_count": 84,
   "id": "79e76cfb",
   "metadata": {},
   "outputs": [],
   "source": [
    "def evaluate_performance(tree_clf, training, labels):\n",
    "    labels_pred = tree_clf.predict(training)\n",
    "    n_correct = sum(labels_pred == labels)    \n",
    "    print(\n",
    "        f\"Model performance of tree depth={tree_clf.get_depth()}: {((n_correct / len(labels_pred)) * 100):.2f}%\")"
   ]
  },
  {
   "cell_type": "code",
   "execution_count": 85,
   "id": "7ac41a81",
   "metadata": {},
   "outputs": [
    {
     "name": "stdout",
     "output_type": "stream",
     "text": [
      "Model performance of tree depth=2: 64.58%\n"
     ]
    }
   ],
   "source": [
    "evaluate_performance(tree_depth_2, training, labels)"
   ]
  },
  {
   "cell_type": "markdown",
   "id": "93bdb032",
   "metadata": {},
   "source": [
    "### Fine-tune your model"
   ]
  },
  {
   "cell_type": "markdown",
   "id": "c575a297",
   "metadata": {},
   "source": [
    "To improve the perfomance of our tree classifier, we will now build a tree with a higher depth (depth = 10) and evaluate its performance."
   ]
  },
  {
   "cell_type": "code",
   "execution_count": 86,
   "id": "10d2b7f0",
   "metadata": {},
   "outputs": [
    {
     "data": {
      "text/plain": [
       "DecisionTreeClassifier(max_depth=10)"
      ]
     },
     "execution_count": 86,
     "metadata": {},
     "output_type": "execute_result"
    }
   ],
   "source": [
    "tree_depth_10 = DecisionTreeClassifier(\n",
    "    max_depth = 10)\n",
    "\n",
    "tree_depth_10.fit(training, labels)"
   ]
  },
  {
   "cell_type": "code",
   "execution_count": 87,
   "id": "63547722",
   "metadata": {},
   "outputs": [
    {
     "name": "stdout",
     "output_type": "stream",
     "text": [
      "Model performance of tree depth=10: 73.90%\n"
     ]
    }
   ],
   "source": [
    "evaluate_performance(tree_depth_10, training, labels)"
   ]
  },
  {
   "cell_type": "markdown",
   "id": "898a69d7",
   "metadata": {},
   "source": [
    "From 64.58% we jumped to 73.89%. Not bad!\n",
    "\n",
    "Now, we won't impose any restriction on the classifier, allowing the algorithm to determine the tree's depth:"
   ]
  },
  {
   "cell_type": "code",
   "execution_count": 88,
   "id": "a2b2bf3c",
   "metadata": {},
   "outputs": [
    {
     "data": {
      "text/plain": [
       "DecisionTreeClassifier()"
      ]
     },
     "execution_count": 88,
     "metadata": {},
     "output_type": "execute_result"
    }
   ],
   "source": [
    "tree_depth_free = DecisionTreeClassifier()\n",
    "tree_depth_free.fit(training, labels)"
   ]
  },
  {
   "cell_type": "code",
   "execution_count": 89,
   "id": "7b7c097e",
   "metadata": {},
   "outputs": [
    {
     "name": "stdout",
     "output_type": "stream",
     "text": [
      "Model performance of tree depth=43: 100.00%\n"
     ]
    }
   ],
   "source": [
    "evaluate_performance(tree_depth_free, training, labels)"
   ]
  },
  {
   "cell_type": "markdown",
   "id": "e5ef5c51",
   "metadata": {},
   "source": [
    "**Wait, what!?**\n",
    "\n",
    "No error at all? Could this model really be absolutely perfect?\n",
    "\n",
    "Of course, it is much more likely that something went wrong by letting the tree grow uncontrolled. Look at a depth of the tree: Above 40 levels! \n",
    "\n",
    "How can we know what the proper depth is? Definitely, we need a better mechanism for evaluating the performance of different trees to choose the proper depth and most realistic model.\n",
    "\n",
    "We will look later into this problem in detail when learning about overfitting and its avoidance."
   ]
  },
  {
   "cell_type": "markdown",
   "id": "b6d60696",
   "metadata": {},
   "source": [
    "### Assessing feature importance"
   ]
  },
  {
   "cell_type": "markdown",
   "id": "291f64a5",
   "metadata": {},
   "source": [
    "Lastly, we will compute feature importance values to gain insight into the criteria used by the induction algorithm to segment the training dataset."
   ]
  },
  {
   "cell_type": "code",
   "execution_count": 90,
   "id": "37ccde6a",
   "metadata": {},
   "outputs": [
    {
     "name": "stdout",
     "output_type": "stream",
     "text": [
      "01) HOUSE                          0.2146\n",
      "02) INCOME                         0.1835\n",
      "03) OVERAGE                        0.1459\n",
      "04) HANDSET_PRICE                  0.1396\n",
      "05) LEFTOVER                       0.0988\n",
      "06) OVER_15MINS_CALLS_PER_MONTH    0.0495\n",
      "07) AVERAGE_CALL_DURATION          0.0462\n",
      "08) CONSIDERING_CHANGE_OF_PLAN     0.0410\n",
      "09) REPORTED_USAGE_LEVEL           0.0373\n",
      "10) REPORTED_SATISFACTION          0.0265\n",
      "11) COLLEGE                        0.0171\n"
     ]
    }
   ],
   "source": [
    "feature_importances = pd.Series(\n",
    "    tree_depth_free.feature_importances_,\n",
    "    index=training.columns)\n",
    "\n",
    "feature_importances.sort_values(inplace=True, ascending=False)\n",
    "for feature in enumerate(feature_importances.index):\n",
    "    print(f\"{(feature[0]+1):02d}) {feature[1]:<30} {feature_importances[feature[0]]:.4f}\")"
   ]
  },
  {
   "cell_type": "code",
   "execution_count": 91,
   "id": "8aab2f85",
   "metadata": {},
   "outputs": [
    {
     "data": {
      "text/plain": [
       "<AxesSubplot:>"
      ]
     },
     "execution_count": 91,
     "metadata": {},
     "output_type": "execute_result"
    },
    {
     "data": {
      "image/png": "[encoded data removed]",
      "text/plain": [
       "<Figure size 432x360 with 1 Axes>"
      ]
     },
     "metadata": {
      "needs_background": "light"
     },
     "output_type": "display_data"
    }
   ],
   "source": [
    "plt.figure(figsize=(GRAPH_WIDTH, GRAPH_HEIGHT))\n",
    "feature_importances.sort_values(ascending=True).plot.barh()"
   ]
  },
  {
   "cell_type": "markdown",
   "id": "ac5f7a72",
   "metadata": {},
   "source": [
    "## Evaluation"
   ]
  },
  {
   "cell_type": "markdown",
   "id": "7f0e41cd",
   "metadata": {},
   "source": [
    "After selecting the model with the best combination of hyperparameters (e.g. the tree depth), the last step is to evaluate its performance and assess its generability.\n",
    "\n",
    "We will leave this task for another class."
   ]
  },
  {
   "cell_type": "markdown",
   "id": "b958269c",
   "metadata": {},
   "source": [
    "## References\n",
    "\n",
    "Provost, F., & Fawcett, T. (2013). Data science for business: what you need to know about data mining and data-analytic thinking. Chapter 3.\n",
    "\n",
    "Géron, A. (2019) Hands-On Machine Learning with Scikit-Learn, Keras, and TensorFlow: Concepts, Tools, and Techniques to Build Intelligent Systems. Chapter 2."
   ]
  },
  {
   "cell_type": "code",
   "execution_count": null,
   "id": "83ee6943",
   "metadata": {},
   "outputs": [],
   "source": []
  }
 ],
 "metadata": {
  "kernelspec": {
   "display_name": "Python 3 (ipykernel)",
   "language": "python",
   "name": "python3"
  },
  "language_info": {
   "codemirror_mode": {
    "name": "ipython",
    "version": 3
   },
   "file_extension": ".py",
   "mimetype": "text/x-python",
   "name": "python",
   "nbconvert_exporter": "python",
   "pygments_lexer": "ipython3",
   "version": "3.9.6"
  }
 },
 "nbformat": 4,
 "nbformat_minor": 5
}
