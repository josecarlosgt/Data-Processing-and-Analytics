{
 "cells": [
  {
   "cell_type": "markdown",
   "id": "8771a48b",
   "metadata": {},
   "source": [
    "# Tutorial: Python Basics (review)\n",
    "\n",
    "In this tutorial, you will learn about the essential programming concepts in Python.\n",
    "\n",
    "Skills:\n",
    "- Variables\n",
    "- Formatting strings\n",
    "- Conditions\n",
    "- Type conversion\n",
    "- Functions\n",
    "- Object-oriented programming"
   ]
  },
  {
   "cell_type": "markdown",
   "id": "7a84cf44",
   "metadata": {},
   "source": [
    "## Hello, World!"
   ]
  },
  {
   "cell_type": "markdown",
   "id": "1428d0d4",
   "metadata": {},
   "source": [
    "When using Jupyter Notebooks, code cells allow us to edit and write Python code. When a code cell is executed, the Python code that it contains is sent to the kernel associated with the notebook. The results from this computation are then displayed in the notebook as the cell's output.\n",
    "\n",
    "Let's create a string:"
   ]
  },
  {
   "cell_type": "code",
   "execution_count": 1,
   "id": "355c6cc5",
   "metadata": {},
   "outputs": [
    {
     "data": {
      "text/plain": [
       "'Hello, World!'"
      ]
     },
     "execution_count": 1,
     "metadata": {},
     "output_type": "execute_result"
    }
   ],
   "source": [
    "\"Hello, World!\""
   ]
  },
  {
   "cell_type": "markdown",
   "id": "777672ee",
   "metadata": {},
   "source": [
    "We can also use the *print* function to display values and the contents of variables: "
   ]
  },
  {
   "cell_type": "code",
   "execution_count": 2,
   "id": "e0d1386c",
   "metadata": {},
   "outputs": [
    {
     "name": "stdout",
     "output_type": "stream",
     "text": [
      "Hello, World!\n"
     ]
    }
   ],
   "source": [
    "print(\"Hello, World!\")"
   ]
  },
  {
   "cell_type": "markdown",
   "id": "5ac9fdbd",
   "metadata": {},
   "source": [
    "## Variables"
   ]
  },
  {
   "cell_type": "markdown",
   "id": "07f1795c",
   "metadata": {},
   "source": [
    "We can assing values to variables. There are four primitive variable types:\n",
    "- int\n",
    "- float\n",
    "- booleans\n",
    "- strings\n",
    "\n",
    "And more one variable type for representing the absence of a value:\n",
    "- none"
   ]
  },
  {
   "cell_type": "markdown",
   "id": "0fe6d8a1",
   "metadata": {},
   "source": [
    "An *int* variable:"
   ]
  },
  {
   "cell_type": "code",
   "execution_count": 8,
   "id": "82f3db64",
   "metadata": {},
   "outputs": [
    {
     "data": {
      "text/plain": [
       "5"
      ]
     },
     "execution_count": 8,
     "metadata": {},
     "output_type": "execute_result"
    }
   ],
   "source": [
    "a = 5\n",
    "a"
   ]
  },
  {
   "cell_type": "markdown",
   "id": "34d3deef",
   "metadata": {},
   "source": [
    "We can use the type function to check the type of a variable:"
   ]
  },
  {
   "cell_type": "code",
   "execution_count": 35,
   "id": "7b1bfa50",
   "metadata": {},
   "outputs": [
    {
     "data": {
      "text/plain": [
       "int"
      ]
     },
     "execution_count": 35,
     "metadata": {},
     "output_type": "execute_result"
    }
   ],
   "source": [
    "type(a)"
   ]
  },
  {
   "cell_type": "markdown",
   "id": "94f6a906",
   "metadata": {},
   "source": [
    "An *float* variable:"
   ]
  },
  {
   "cell_type": "code",
   "execution_count": 10,
   "id": "476b16a2",
   "metadata": {},
   "outputs": [
    {
     "data": {
      "text/plain": [
       "5.5"
      ]
     },
     "execution_count": 10,
     "metadata": {},
     "output_type": "execute_result"
    }
   ],
   "source": [
    "b = 5.5\n",
    "b"
   ]
  },
  {
   "cell_type": "code",
   "execution_count": 37,
   "id": "71bdac03",
   "metadata": {},
   "outputs": [
    {
     "data": {
      "text/plain": [
       "float"
      ]
     },
     "execution_count": 37,
     "metadata": {},
     "output_type": "execute_result"
    }
   ],
   "source": [
    "type(b)"
   ]
  },
  {
   "cell_type": "markdown",
   "id": "a0f7850a",
   "metadata": {},
   "source": [
    "We can use different operators to perform operations on numeric types (int and float):"
   ]
  },
  {
   "cell_type": "code",
   "execution_count": 11,
   "id": "bb46deb5",
   "metadata": {},
   "outputs": [
    {
     "data": {
      "text/plain": [
       "10.5"
      ]
     },
     "execution_count": 11,
     "metadata": {},
     "output_type": "execute_result"
    }
   ],
   "source": [
    "a + b"
   ]
  },
  {
   "cell_type": "code",
   "execution_count": 92,
   "id": "f0607850",
   "metadata": {
    "scrolled": true
   },
   "outputs": [
    {
     "data": {
      "text/plain": [
       "False"
      ]
     },
     "execution_count": 92,
     "metadata": {},
     "output_type": "execute_result"
    }
   ],
   "source": [
    "a > b"
   ]
  },
  {
   "cell_type": "markdown",
   "id": "cad53ee9",
   "metadata": {},
   "source": [
    "A *boolean* variable:"
   ]
  },
  {
   "cell_type": "code",
   "execution_count": 12,
   "id": "4dc8604d",
   "metadata": {},
   "outputs": [
    {
     "data": {
      "text/plain": [
       "True"
      ]
     },
     "execution_count": 12,
     "metadata": {},
     "output_type": "execute_result"
    }
   ],
   "source": [
    "d = True\n",
    "d"
   ]
  },
  {
   "cell_type": "code",
   "execution_count": 13,
   "id": "28501788",
   "metadata": {},
   "outputs": [
    {
     "data": {
      "text/plain": [
       "bool"
      ]
     },
     "execution_count": 13,
     "metadata": {},
     "output_type": "execute_result"
    }
   ],
   "source": [
    "type(d)"
   ]
  },
  {
   "cell_type": "markdown",
   "id": "faa94cf7",
   "metadata": {},
   "source": [
    "We can use operators like *and* and *or* to combine boolean variables:"
   ]
  },
  {
   "cell_type": "code",
   "execution_count": 17,
   "id": "c5278b79",
   "metadata": {},
   "outputs": [],
   "source": [
    "d2 = False"
   ]
  },
  {
   "cell_type": "code",
   "execution_count": 18,
   "id": "affd566d",
   "metadata": {},
   "outputs": [
    {
     "data": {
      "text/plain": [
       "False"
      ]
     },
     "execution_count": 18,
     "metadata": {},
     "output_type": "execute_result"
    }
   ],
   "source": [
    "d and d2"
   ]
  },
  {
   "cell_type": "markdown",
   "id": "a6dde65d",
   "metadata": {},
   "source": [
    "*and* and *or* are also very helpful for combining multiple comparisons:"
   ]
  },
  {
   "cell_type": "code",
   "execution_count": 94,
   "id": "d288ad16",
   "metadata": {},
   "outputs": [
    {
     "data": {
      "text/plain": [
       "True"
      ]
     },
     "execution_count": 94,
     "metadata": {},
     "output_type": "execute_result"
    }
   ],
   "source": [
    "number_1 = 5\n",
    "number_2 = 10\n",
    "\n",
    "(number_1 > 0) and (number_2 > 0)"
   ]
  },
  {
   "cell_type": "markdown",
   "id": "3acc6327",
   "metadata": {},
   "source": [
    "A *str* (string) variable:"
   ]
  },
  {
   "cell_type": "code",
   "execution_count": 19,
   "id": "3a4235bc",
   "metadata": {},
   "outputs": [
    {
     "data": {
      "text/plain": [
       "'Hello!'"
      ]
     },
     "execution_count": 19,
     "metadata": {},
     "output_type": "execute_result"
    }
   ],
   "source": [
    "c = \"Hello!\"\n",
    "c"
   ]
  },
  {
   "cell_type": "code",
   "execution_count": 20,
   "id": "8f00f9d7",
   "metadata": {},
   "outputs": [
    {
     "data": {
      "text/plain": [
       "str"
      ]
     },
     "execution_count": 20,
     "metadata": {},
     "output_type": "execute_result"
    }
   ],
   "source": [
    "type(c)"
   ]
  },
  {
   "cell_type": "markdown",
   "id": "d2ae78ee",
   "metadata": {},
   "source": [
    "The *None* value:"
   ]
  },
  {
   "cell_type": "code",
   "execution_count": 21,
   "id": "9e9deb58",
   "metadata": {},
   "outputs": [],
   "source": [
    "e = None\n",
    "e"
   ]
  },
  {
   "cell_type": "code",
   "execution_count": 22,
   "id": "de3e0b70",
   "metadata": {},
   "outputs": [
    {
     "data": {
      "text/plain": [
       "NoneType"
      ]
     },
     "execution_count": 22,
     "metadata": {},
     "output_type": "execute_result"
    }
   ],
   "source": [
    "type(e)"
   ]
  },
  {
   "cell_type": "markdown",
   "id": "6cc6f264",
   "metadata": {},
   "source": [
    "## Formatting strings"
   ]
  },
  {
   "cell_type": "code",
   "execution_count": 25,
   "id": "01c0c809",
   "metadata": {},
   "outputs": [],
   "source": [
    "name = \"Jose\""
   ]
  },
  {
   "cell_type": "markdown",
   "id": "6cf11c87",
   "metadata": {},
   "source": [
    "We can concatanate strings using *+*:"
   ]
  },
  {
   "cell_type": "markdown",
   "id": "fc6a05b7",
   "metadata": {},
   "source": [
    "\"Hello, \" + name"
   ]
  },
  {
   "cell_type": "markdown",
   "id": "46e93956",
   "metadata": {},
   "source": [
    "### F-strings"
   ]
  },
  {
   "cell_type": "markdown",
   "id": "b895f03f",
   "metadata": {},
   "source": [
    "Recent versions of Python support f-strings for formatting strings:"
   ]
  },
  {
   "cell_type": "code",
   "execution_count": 26,
   "id": "72a94871",
   "metadata": {},
   "outputs": [
    {
     "data": {
      "text/plain": [
       "'Hello, Jose'"
      ]
     },
     "execution_count": 26,
     "metadata": {},
     "output_type": "execute_result"
    }
   ],
   "source": [
    "f\"Hello, {name}\""
   ]
  },
  {
   "cell_type": "markdown",
   "id": "6f18df0d",
   "metadata": {},
   "source": [
    "## Condtions"
   ]
  },
  {
   "cell_type": "code",
   "execution_count": 27,
   "id": "705c8829",
   "metadata": {},
   "outputs": [],
   "source": [
    "n = 10"
   ]
  },
  {
   "cell_type": "markdown",
   "id": "986dc1cd",
   "metadata": {},
   "source": [
    "Python conditions begin with the *if* condition followed by a *boolean expression* and a colon.\n",
    "- A boolean expression is something that is going to evaluate to *True* or *False*\n",
    "- The colon indicates the beginning of the body of the if statement"
   ]
  },
  {
   "cell_type": "code",
   "execution_count": 28,
   "id": "6315cd31",
   "metadata": {},
   "outputs": [
    {
     "name": "stdout",
     "output_type": "stream",
     "text": [
      "n is positive\n"
     ]
    }
   ],
   "source": [
    "if n > 0:\n",
    "    print(\"n is positive\")"
   ]
  },
  {
   "cell_type": "markdown",
   "id": "75fe611c",
   "metadata": {},
   "source": [
    "> In Python, identation is required! This is how Python knows what is part of the body of a conditional statement (or any other block statement)."
   ]
  },
  {
   "cell_type": "code",
   "execution_count": 29,
   "id": "1d932d08",
   "metadata": {},
   "outputs": [
    {
     "name": "stdout",
     "output_type": "stream",
     "text": [
      "n is positive\n"
     ]
    }
   ],
   "source": [
    "if n > 0:\n",
    "    print(\"n is positive\")\n",
    "else:\n",
    "    print(\"n is not positive\")"
   ]
  },
  {
   "cell_type": "code",
   "execution_count": 30,
   "id": "64f26405",
   "metadata": {},
   "outputs": [
    {
     "name": "stdout",
     "output_type": "stream",
     "text": [
      "n is positive\n"
     ]
    }
   ],
   "source": [
    "if n > 0:\n",
    "    print(\"n is positive\")\n",
    "elif n < 0:\n",
    "    print(\"n is negative\")\n",
    "else:\n",
    "    print(\"n is zero\")"
   ]
  },
  {
   "cell_type": "markdown",
   "id": "66c851cc",
   "metadata": {},
   "source": [
    "## Type conversion"
   ]
  },
  {
   "cell_type": "code",
   "execution_count": 33,
   "id": "5b3ac174",
   "metadata": {},
   "outputs": [
    {
     "name": "stdout",
     "output_type": "stream",
     "text": [
      "10\n"
     ]
    }
   ],
   "source": [
    "n = input()"
   ]
  },
  {
   "cell_type": "markdown",
   "id": "03c17f3e",
   "metadata": {},
   "source": [
    "The [input](https://docs.python.org/3/library/functions.html#input) function always returns a string, regardless of the value entered by the user."
   ]
  },
  {
   "cell_type": "code",
   "execution_count": 34,
   "id": "f41dbe99",
   "metadata": {},
   "outputs": [
    {
     "ename": "TypeError",
     "evalue": "'>' not supported between instances of 'str' and 'int'",
     "output_type": "error",
     "traceback": [
      "\u001b[0;31m---------------------------------------------------------------------------\u001b[0m",
      "\u001b[0;31mTypeError\u001b[0m                                 Traceback (most recent call last)",
      "\u001b[0;32m/var/folders/fj/bq17tpk16gxc1vblq061by1m0000gq/T/ipykernel_84940/985661644.py\u001b[0m in \u001b[0;36m<module>\u001b[0;34m\u001b[0m\n\u001b[0;32m----> 1\u001b[0;31m \u001b[0;32mif\u001b[0m \u001b[0mn\u001b[0m \u001b[0;34m>\u001b[0m \u001b[0;36m0\u001b[0m\u001b[0;34m:\u001b[0m\u001b[0;34m\u001b[0m\u001b[0;34m\u001b[0m\u001b[0m\n\u001b[0m\u001b[1;32m      2\u001b[0m     \u001b[0mprint\u001b[0m\u001b[0;34m(\u001b[0m\u001b[0;34m\"n is positive\"\u001b[0m\u001b[0;34m)\u001b[0m\u001b[0;34m\u001b[0m\u001b[0;34m\u001b[0m\u001b[0m\n\u001b[1;32m      3\u001b[0m \u001b[0;32melif\u001b[0m \u001b[0mn\u001b[0m \u001b[0;34m<\u001b[0m \u001b[0;36m0\u001b[0m\u001b[0;34m:\u001b[0m\u001b[0;34m\u001b[0m\u001b[0;34m\u001b[0m\u001b[0m\n\u001b[1;32m      4\u001b[0m     \u001b[0mprint\u001b[0m\u001b[0;34m(\u001b[0m\u001b[0;34m\"n is negative\"\u001b[0m\u001b[0;34m)\u001b[0m\u001b[0;34m\u001b[0m\u001b[0;34m\u001b[0m\u001b[0m\n\u001b[1;32m      5\u001b[0m \u001b[0;32melse\u001b[0m\u001b[0;34m:\u001b[0m\u001b[0;34m\u001b[0m\u001b[0;34m\u001b[0m\u001b[0m\n",
      "\u001b[0;31mTypeError\u001b[0m: '>' not supported between instances of 'str' and 'int'"
     ]
    }
   ],
   "source": [
    "if n > 0:\n",
    "    print(\"n is positive\")\n",
    "elif n < 0:\n",
    "    print(\"n is negative\")\n",
    "else:\n",
    "    print(\"n is zero\")"
   ]
  },
  {
   "cell_type": "code",
   "execution_count": 35,
   "id": "970ff24f",
   "metadata": {},
   "outputs": [
    {
     "data": {
      "text/plain": [
       "str"
      ]
     },
     "execution_count": 35,
     "metadata": {},
     "output_type": "execute_result"
    }
   ],
   "source": [
    "type(n)"
   ]
  },
  {
   "cell_type": "markdown",
   "id": "00f0e863",
   "metadata": {},
   "source": [
    "Functions like *int* allow us to convert strings to integers:"
   ]
  },
  {
   "cell_type": "code",
   "execution_count": 36,
   "id": "70e74d9e",
   "metadata": {},
   "outputs": [
    {
     "data": {
      "text/plain": [
       "int"
      ]
     },
     "execution_count": 36,
     "metadata": {},
     "output_type": "execute_result"
    }
   ],
   "source": [
    "n = int(n)\n",
    "\n",
    "type(n)"
   ]
  },
  {
   "cell_type": "code",
   "execution_count": 37,
   "id": "82185401",
   "metadata": {},
   "outputs": [
    {
     "name": "stdout",
     "output_type": "stream",
     "text": [
      "n is positive\n"
     ]
    }
   ],
   "source": [
    "if n > 0:\n",
    "    print(\"n is positive\")\n",
    "elif n < 0:\n",
    "    print(\"n is negative\")\n",
    "else:\n",
    "    print(\"n is zero\")"
   ]
  },
  {
   "cell_type": "markdown",
   "id": "387b7d8a",
   "metadata": {},
   "source": [
    "We can use the *not* operator to negate the result of a comparison:"
   ]
  },
  {
   "cell_type": "code",
   "execution_count": 38,
   "id": "5740c1ea",
   "metadata": {},
   "outputs": [
    {
     "name": "stdout",
     "output_type": "stream",
     "text": [
      "n is negative\n"
     ]
    }
   ],
   "source": [
    "n = -1\n",
    "\n",
    "if not n > 0:\n",
    "    print(\"n is negative\")"
   ]
  },
  {
   "cell_type": "markdown",
   "id": "2ab037fb",
   "metadata": {},
   "source": [
    "## Functions"
   ]
  },
  {
   "cell_type": "markdown",
   "id": "3e49506a",
   "metadata": {},
   "source": [
    "We have seen already a number of built-in functions, such as *print*, *type*, *int*, and *input*.\n",
    "\n",
    "We can also define our functions. Let's write a function that calculates the square:"
   ]
  },
  {
   "cell_type": "code",
   "execution_count": 39,
   "id": "739b43b7",
   "metadata": {},
   "outputs": [],
   "source": [
    "def square(x):\n",
    "    return x * x"
   ]
  },
  {
   "cell_type": "markdown",
   "id": "45a8c95f",
   "metadata": {},
   "source": [
    "> To define a function, we use the def keyword, which stands for \"define\""
   ]
  },
  {
   "cell_type": "code",
   "execution_count": 40,
   "id": "d7d6a2b4",
   "metadata": {},
   "outputs": [
    {
     "data": {
      "text/plain": [
       "100"
      ]
     },
     "execution_count": 40,
     "metadata": {},
     "output_type": "execute_result"
    }
   ],
   "source": [
    "square(10)"
   ]
  },
  {
   "cell_type": "markdown",
   "id": "7a15201c",
   "metadata": {},
   "source": [
    "## Object-Oriented Programming"
   ]
  },
  {
   "cell_type": "markdown",
   "id": "e7459ebb",
   "metadata": {},
   "source": [
    "Another key technique that Python supports is object-oriented programming, a particular type of programming or programming paradigm, which is a way of thinking about how we write programs.\n",
    "\n",
    "In object-oriented programming, we think about the world in terms of objects where objects contain data inside of them called attributes. Objects also support the ability to perform actions through methods or functions, as we call them, that can operate on those objects.\n",
    "\n",
    "In Python, everything is an object! Which means every entity has attributes and methods. String methods are very helpful for manipulating strings:"
   ]
  },
  {
   "cell_type": "code",
   "execution_count": 47,
   "id": "3651b35a",
   "metadata": {},
   "outputs": [
    {
     "data": {
      "text/plain": [
       "1"
      ]
     },
     "execution_count": 47,
     "metadata": {},
     "output_type": "execute_result"
    }
   ],
   "source": [
    "name = \"jose\"\n",
    "\n",
    "name.count('j')"
   ]
  },
  {
   "cell_type": "code",
   "execution_count": 48,
   "id": "3589ab72",
   "metadata": {},
   "outputs": [
    {
     "data": {
      "text/plain": [
       "False"
      ]
     },
     "execution_count": 48,
     "metadata": {},
     "output_type": "execute_result"
    }
   ],
   "source": [
    "name.startswith(\"J\")"
   ]
  },
  {
   "cell_type": "code",
   "execution_count": 49,
   "id": "d8d51c3e",
   "metadata": {},
   "outputs": [
    {
     "data": {
      "text/plain": [
       "'JOSE'"
      ]
     },
     "execution_count": 49,
     "metadata": {},
     "output_type": "execute_result"
    }
   ],
   "source": [
    "name_upper = name.upper()\n",
    "name_upper"
   ]
  },
  {
   "cell_type": "code",
   "execution_count": 50,
   "id": "c993e7c0",
   "metadata": {},
   "outputs": [
    {
     "data": {
      "text/plain": [
       "True"
      ]
     },
     "execution_count": 50,
     "metadata": {},
     "output_type": "execute_result"
    }
   ],
   "source": [
    "name_upper.startswith(\"J\")"
   ]
  },
  {
   "cell_type": "markdown",
   "id": "6546c7e0",
   "metadata": {},
   "source": [
    "## Exercise\n",
    "\n",
    "Write a function called *string_length* that calculates the number of characters in a string:"
   ]
  },
  {
   "cell_type": "code",
   "execution_count": 51,
   "id": "c5119e28",
   "metadata": {},
   "outputs": [
    {
     "data": {
      "text/plain": [
       "4"
      ]
     },
     "execution_count": 51,
     "metadata": {},
     "output_type": "execute_result"
    }
   ],
   "source": [
    "def string_length(string):\n",
    "    \n",
    "    length = len(string)\n",
    "    \n",
    "    return length\n",
    "\n",
    "string_length(\"Jose\")"
   ]
  },
  {
   "cell_type": "code",
   "execution_count": null,
   "id": "129496c7",
   "metadata": {},
   "outputs": [],
   "source": []
  }
 ],
 "metadata": {
  "kernelspec": {
   "display_name": "Python 3 (ipykernel)",
   "language": "python",
   "name": "python3"
  },
  "language_info": {
   "codemirror_mode": {
    "name": "ipython",
    "version": 3
   },
   "file_extension": ".py",
   "mimetype": "text/x-python",
   "name": "python",
   "nbconvert_exporter": "python",
   "pygments_lexer": "ipython3",
   "version": "3.9.6"
  }
 },
 "nbformat": 4,
 "nbformat_minor": 5
}
