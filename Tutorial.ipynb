{
 "cells": [
  {
   "cell_type": "markdown",
   "id": "c33477e9",
   "metadata": {},
   "source": [
    "# Tutorial: Python Built-in data structures (review)\n",
    "\n",
    "Python is well-known for its data structures and its various features for working with data. In this tutorial, we will look at Python features for working with lists and dictionaries. \n",
    "\n",
    "Skills:\n",
    "- Strings\n",
    "- Lists\n",
    "- Loops\n",
    "- Dictionaries\n",
    "- Functions as objects"
   ]
  },
  {
   "cell_type": "markdown",
   "id": "47fb9543",
   "metadata": {},
   "source": [
    "## Strings"
   ]
  },
  {
   "cell_type": "markdown",
   "id": "8c4afcac",
   "metadata": {},
   "source": [
    "Strings are the most basic sequence in Python:"
   ]
  },
  {
   "cell_type": "code",
   "execution_count": 36,
   "id": "32cdcaa4",
   "metadata": {},
   "outputs": [
    {
     "data": {
      "text/plain": [
       "'Jose'"
      ]
     },
     "execution_count": 36,
     "metadata": {},
     "output_type": "execute_result"
    }
   ],
   "source": [
    "my_name = \"Jose\"\n",
    "my_name"
   ]
  },
  {
   "cell_type": "markdown",
   "id": "d4596a73",
   "metadata": {},
   "source": [
    "Use [] to access the individual pieces (characters) that made up a string:"
   ]
  },
  {
   "cell_type": "code",
   "execution_count": 37,
   "id": "8ed19dcd",
   "metadata": {},
   "outputs": [
    {
     "data": {
      "text/plain": [
       "'J'"
      ]
     },
     "execution_count": 37,
     "metadata": {},
     "output_type": "execute_result"
    }
   ],
   "source": [
    "my_name[0]"
   ]
  },
  {
   "cell_type": "code",
   "execution_count": 38,
   "id": "d3ce1dcf",
   "metadata": {},
   "outputs": [
    {
     "data": {
      "text/plain": [
       "'o'"
      ]
     },
     "execution_count": 38,
     "metadata": {},
     "output_type": "execute_result"
    }
   ],
   "source": [
    "my_name[1]"
   ]
  },
  {
   "cell_type": "code",
   "execution_count": 39,
   "id": "88a3d421",
   "metadata": {},
   "outputs": [
    {
     "data": {
      "text/plain": [
       "'s'"
      ]
     },
     "execution_count": 39,
     "metadata": {},
     "output_type": "execute_result"
    }
   ],
   "source": [
    "my_name[2]"
   ]
  },
  {
   "cell_type": "markdown",
   "id": "3ae2153c",
   "metadata": {},
   "source": [
    "We can also specify ranges:"
   ]
  },
  {
   "cell_type": "code",
   "execution_count": 40,
   "id": "ece220f6",
   "metadata": {},
   "outputs": [
    {
     "data": {
      "text/plain": [
       "'Jos'"
      ]
     },
     "execution_count": 40,
     "metadata": {},
     "output_type": "execute_result"
    }
   ],
   "source": [
    "my_name[:3]"
   ]
  },
  {
   "cell_type": "markdown",
   "id": "bae4528b",
   "metadata": {},
   "source": [
    "> We use the same \\[\\] notation for accessing data stored in other types of sequences in Python, such as lists."
   ]
  },
  {
   "cell_type": "markdown",
   "id": "7b71b445",
   "metadata": {},
   "source": [
    "Use the *len* function to obtain the number of characters in a string:"
   ]
  },
  {
   "cell_type": "code",
   "execution_count": 41,
   "id": "56ed5120",
   "metadata": {},
   "outputs": [
    {
     "data": {
      "text/plain": [
       "4"
      ]
     },
     "execution_count": 41,
     "metadata": {},
     "output_type": "execute_result"
    }
   ],
   "source": [
    "len(my_name)"
   ]
  },
  {
   "cell_type": "markdown",
   "id": "7e8d8508",
   "metadata": {},
   "source": [
    "> The *len* function also works with other data structures."
   ]
  },
  {
   "cell_type": "markdown",
   "id": "6f84454d",
   "metadata": {},
   "source": [
    "## Data Structures\n",
    "\n",
    "These the four built-in types of data structures available in Python:\n",
    "\n",
    "- Tuples: a sequence of immutable values\n",
    "- Lists: a sequence of mutable values\n",
    "- Sets: a collection of unique values\n",
    "- Dictionaries: a collection of key-value pairs"
   ]
  },
  {
   "cell_type": "markdown",
   "id": "cfed90b7",
   "metadata": {},
   "source": [
    "Rather than using a single variable for representing a single name, let's create a list representing names of people:"
   ]
  },
  {
   "cell_type": "code",
   "execution_count": 42,
   "id": "fe69f24e",
   "metadata": {},
   "outputs": [
    {
     "data": {
      "text/plain": [
       "['Jose', 'Mary', 'Erick']"
      ]
     },
     "execution_count": 42,
     "metadata": {},
     "output_type": "execute_result"
    }
   ],
   "source": [
    "names = [\"Jose\", \"Mary\", \"Erick\"]\n",
    "names"
   ]
  },
  {
   "cell_type": "markdown",
   "id": "a300c9cf",
   "metadata": {},
   "source": [
    "Lists are mutable, and there are several methods to access and manipulate the data in a list:"
   ]
  },
  {
   "cell_type": "code",
   "execution_count": 43,
   "id": "46da9fc7",
   "metadata": {},
   "outputs": [
    {
     "data": {
      "text/plain": [
       "['Jose', 'Mary', 'Erick', 'Pedro']"
      ]
     },
     "execution_count": 43,
     "metadata": {},
     "output_type": "execute_result"
    }
   ],
   "source": [
    "names.append(\"Pedro\")\n",
    "names"
   ]
  },
  {
   "cell_type": "code",
   "execution_count": 44,
   "id": "fd02f5b3",
   "metadata": {},
   "outputs": [
    {
     "data": {
      "text/plain": [
       "['Erick', 'Jose', 'Mary', 'Pedro']"
      ]
     },
     "execution_count": 44,
     "metadata": {},
     "output_type": "execute_result"
    }
   ],
   "source": [
    "names.sort()\n",
    "names"
   ]
  },
  {
   "cell_type": "markdown",
   "id": "b1e58aab",
   "metadata": {},
   "source": [
    "> Note the *sort* method changes the order in which the elements in the list appear."
   ]
  },
  {
   "cell_type": "markdown",
   "id": "4c85887e",
   "metadata": {},
   "source": [
    "## Loops\n",
    "\n",
    "The main idea behind loops is to write code that can run multiple times.\n",
    "\n",
    "Let's write the simplest loop in Python:"
   ]
  },
  {
   "cell_type": "code",
   "execution_count": 45,
   "id": "2b247bf8",
   "metadata": {},
   "outputs": [
    {
     "name": "stdout",
     "output_type": "stream",
     "text": [
      "0\n",
      "1\n",
      "2\n",
      "3\n",
      "4\n",
      "5\n"
     ]
    }
   ],
   "source": [
    "for item in [0, 1, 2, 3, 4, 5]:\n",
    "    print(item)"
   ]
  },
  {
   "cell_type": "markdown",
   "id": "e0863252",
   "metadata": {},
   "source": [
    "> Python takes each element in the list and executes the code in the loop's body for each element."
   ]
  },
  {
   "cell_type": "markdown",
   "id": "3a873e4f",
   "metadata": {},
   "source": [
    "Another popular way for iterating over a sequence of values is to use the built-in function *range*:"
   ]
  },
  {
   "cell_type": "code",
   "execution_count": 46,
   "id": "1dc9ced1",
   "metadata": {},
   "outputs": [
    {
     "name": "stdout",
     "output_type": "stream",
     "text": [
      "0\n",
      "1\n",
      "2\n",
      "3\n",
      "4\n",
      "5\n"
     ]
    }
   ],
   "source": [
    "for item in range(0, 6):\n",
    "    print(item)"
   ]
  },
  {
   "cell_type": "markdown",
   "id": "6bd2dfdd",
   "metadata": {},
   "source": [
    "## Dictionaries\n",
    "\n",
    "A dictionary or dict is a container that stores mappings of unique keys to values. Dictionaries in Python resemble dictionaries in the real world. A dictionary in the real world contains words (keys) and definitions (values). When you want to obtain a definition (value), you use the word (key) for accessing its definition in the dictionary. The difference between Python dictionaries is that in Python, values can be any object! However, the concept of using keys to access values remains the same.  \n",
    "\n",
    "Let's use a dictionary to organize the list of people in a more detailed way by adding their ages:\n",
    "\n",
    "> We access elements in a dictionary using keys rather than indexes as in lists."
   ]
  },
  {
   "cell_type": "code",
   "execution_count": 47,
   "id": "2381a48f",
   "metadata": {},
   "outputs": [
    {
     "data": {
      "text/plain": [
       "{'Jose': 30, 'Mary': 25, 'Erick': 32}"
      ]
     },
     "execution_count": 47,
     "metadata": {},
     "output_type": "execute_result"
    }
   ],
   "source": [
    "people ={\"Jose\": 30, \"Mary\": 25, \"Erick\": 32}\n",
    "people"
   ]
  },
  {
   "cell_type": "markdown",
   "id": "7ea0bd2f",
   "metadata": {},
   "source": [
    "> We access elements in a dictionary using keys rather than indexes as in lists."
   ]
  },
  {
   "cell_type": "markdown",
   "id": "42f3bfe8",
   "metadata": {},
   "source": [
    "Use the bracket notation to access individual elements in a dictionary:"
   ]
  },
  {
   "cell_type": "code",
   "execution_count": 48,
   "id": "c54740e4",
   "metadata": {},
   "outputs": [
    {
     "data": {
      "text/plain": [
       "30"
      ]
     },
     "execution_count": 48,
     "metadata": {},
     "output_type": "execute_result"
    }
   ],
   "source": [
    "people[\"Jose\"]"
   ]
  },
  {
   "cell_type": "markdown",
   "id": "90e0d9b7",
   "metadata": {},
   "source": [
    "Use the *keys* method to get a list of the keys in the dictionary:"
   ]
  },
  {
   "cell_type": "code",
   "execution_count": 49,
   "id": "310b2221",
   "metadata": {},
   "outputs": [
    {
     "data": {
      "text/plain": [
       "dict_keys(['Jose', 'Mary', 'Erick'])"
      ]
     },
     "execution_count": 49,
     "metadata": {},
     "output_type": "execute_result"
    }
   ],
   "source": [
    "people.keys()"
   ]
  },
  {
   "cell_type": "markdown",
   "id": "afeca9df",
   "metadata": {},
   "source": [
    "We can use the *in* operator to check for the existence of keys:"
   ]
  },
  {
   "cell_type": "code",
   "execution_count": 50,
   "id": "6ef82d57",
   "metadata": {},
   "outputs": [
    {
     "data": {
      "text/plain": [
       "True"
      ]
     },
     "execution_count": 50,
     "metadata": {},
     "output_type": "execute_result"
    }
   ],
   "source": [
    "'Jose' in people.keys()"
   ]
  },
  {
   "cell_type": "code",
   "execution_count": 51,
   "id": "fcaa0abb",
   "metadata": {},
   "outputs": [
    {
     "data": {
      "text/plain": [
       "False"
      ]
     },
     "execution_count": 51,
     "metadata": {},
     "output_type": "execute_result"
    }
   ],
   "source": [
    "'Jose' not in people.keys()"
   ]
  },
  {
   "cell_type": "markdown",
   "id": "6858925b",
   "metadata": {},
   "source": [
    "We can use the *in* operator inside to if statements: "
   ]
  },
  {
   "cell_type": "code",
   "execution_count": 52,
   "id": "c6c68c9a",
   "metadata": {},
   "outputs": [
    {
     "name": "stdout",
     "output_type": "stream",
     "text": [
      "Jose is in the dictionary\n"
     ]
    }
   ],
   "source": [
    "if 'Jose' in people.keys():\n",
    "    print('Jose is in the dictionary')"
   ]
  },
  {
   "cell_type": "markdown",
   "id": "d88131f0",
   "metadata": {},
   "source": [
    "## Functions as objects"
   ]
  },
  {
   "cell_type": "markdown",
   "id": "87d48708",
   "metadata": {},
   "source": [
    "Python follows the functional programming paradigm, in which functions can be treated like any other object. Thus, we can treat functions as the input and output of other functions!"
   ]
  },
  {
   "cell_type": "markdown",
   "id": "8656cb55",
   "metadata": {},
   "source": [
    "Let's arrange the list our previous list of people as list of dictionaries:"
   ]
  },
  {
   "cell_type": "code",
   "execution_count": 53,
   "id": "6fec09f9",
   "metadata": {},
   "outputs": [
    {
     "data": {
      "text/plain": [
       "[{'name': 'Jose', 'age': 30},\n",
       " {'name': 'Mary', 'age': 25},\n",
       " {'name': 'Erick', 'age': 32}]"
      ]
     },
     "execution_count": 53,
     "metadata": {},
     "output_type": "execute_result"
    }
   ],
   "source": [
    "people = [\n",
    "    {\"name\": \"Jose\", \"age\": 30},\n",
    "    {\"name\": \"Mary\", \"age\": 25},\n",
    "    {\"name\": \"Erick\", \"age\": 32}\n",
    "]\n",
    "\n",
    "people"
   ]
  },
  {
   "cell_type": "code",
   "execution_count": 54,
   "id": "a1777d66",
   "metadata": {},
   "outputs": [
    {
     "ename": "TypeError",
     "evalue": "'<' not supported between instances of 'dict' and 'dict'",
     "output_type": "error",
     "traceback": [
      "\u001b[0;31m---------------------------------------------------------------------------\u001b[0m",
      "\u001b[0;31mTypeError\u001b[0m                                 Traceback (most recent call last)",
      "\u001b[0;32m/var/folders/fj/bq17tpk16gxc1vblq061by1m0000gq/T/ipykernel_16066/2445874741.py\u001b[0m in \u001b[0;36m<module>\u001b[0;34m\u001b[0m\n\u001b[0;32m----> 1\u001b[0;31m \u001b[0mpeople\u001b[0m\u001b[0;34m.\u001b[0m\u001b[0msort\u001b[0m\u001b[0;34m(\u001b[0m\u001b[0;34m)\u001b[0m\u001b[0;34m\u001b[0m\u001b[0;34m\u001b[0m\u001b[0m\n\u001b[0m",
      "\u001b[0;31mTypeError\u001b[0m: '<' not supported between instances of 'dict' and 'dict'"
     ]
    }
   ],
   "source": [
    "people.sort()"
   ]
  },
  {
   "cell_type": "code",
   "execution_count": 55,
   "id": "0c37ec58",
   "metadata": {},
   "outputs": [],
   "source": [
    "def sort_people(person):\n",
    "    return person[\"name\"]"
   ]
  },
  {
   "cell_type": "code",
   "execution_count": 56,
   "id": "1a81e223",
   "metadata": {},
   "outputs": [
    {
     "data": {
      "text/plain": [
       "[{'name': 'Erick', 'age': 32},\n",
       " {'name': 'Jose', 'age': 30},\n",
       " {'name': 'Mary', 'age': 25}]"
      ]
     },
     "execution_count": 56,
     "metadata": {},
     "output_type": "execute_result"
    }
   ],
   "source": [
    "people.sort(key=sort_people)\n",
    "people"
   ]
  },
  {
   "cell_type": "markdown",
   "id": "176fc13b",
   "metadata": {},
   "source": [
    "When defining simple functions, we can use the lambda keyword to define a function in the place when we want to use them:"
   ]
  },
  {
   "cell_type": "code",
   "execution_count": 57,
   "id": "79930bc7",
   "metadata": {},
   "outputs": [
    {
     "data": {
      "text/plain": [
       "[{'name': 'Mary', 'age': 25},\n",
       " {'name': 'Jose', 'age': 30},\n",
       " {'name': 'Erick', 'age': 32}]"
      ]
     },
     "execution_count": 57,
     "metadata": {},
     "output_type": "execute_result"
    }
   ],
   "source": [
    "people.sort(key=lambda person: person[\"age\"])\n",
    "people"
   ]
  },
  {
   "cell_type": "code",
   "execution_count": null,
   "id": "e5861908",
   "metadata": {},
   "outputs": [],
   "source": []
  }
 ],
 "metadata": {
  "kernelspec": {
   "display_name": "Python 3 (ipykernel)",
   "language": "python",
   "name": "python3"
  },
  "language_info": {
   "codemirror_mode": {
    "name": "ipython",
    "version": 3
   },
   "file_extension": ".py",
   "mimetype": "text/x-python",
   "name": "python",
   "nbconvert_exporter": "python",
   "pygments_lexer": "ipython3",
   "version": "3.9.6"
  }
 },
 "nbformat": 4,
 "nbformat_minor": 5
}
