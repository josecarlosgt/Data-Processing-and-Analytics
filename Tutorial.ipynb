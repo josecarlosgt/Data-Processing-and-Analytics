{
 "cells": [
  {
   "cell_type": "markdown",
   "metadata": {},
   "source": [
    "# Tutorial: Getting started with Jupyter Notebooks\n",
    "\n",
    "In this tutorial, you will learn about and put into practice Jupyter Notebook's features that facilitate the writing of Python code when performing data science tasks.\n",
    "\n",
    "Learning objectives:\n",
    "1. Use common commands and techniques available in Jupyter notebooks\n",
    "2. Create narrative text using Markdown"
   ]
  },
  {
   "cell_type": "markdown",
   "metadata": {},
   "source": [
    "## Notebook cells\n",
    "\n",
    "The notebook consists of a sequence of **cells**. A cell is a multiline text input field, and its contents can be executed by using:\n",
    "- Shift-Enter\n",
    "- Clicking the “Run” button in the toolbar\n",
    "- Clicking Cell > Run in the menu bar\n",
    "\n",
    "The execution behavior of a cell is determined by the cell’s type. There are three types of cells:\n",
    "- Code cells: allows you to edit and write new code\n",
    "- Markdown cells: write narrative text using rich text \n",
    "- Raw cells: provide a place in which you can write output directly. Raw cells are not evaluated by the notebook.\n",
    "\n",
    "You can learn more about the structure of notebook documents in the [offical Jupyter Notebook documentation](https://jupyter-notebook.readthedocs.io/en/stable/notebook.html)."
   ]
  },
  {
   "cell_type": "markdown",
   "metadata": {},
   "source": [
    "### Code Cells\n",
    "\n",
    "When a code cell is executed, code that it contains is sent to the kernel associated with the notebook (i.e., IPython for Python code). The results that are returned from this computation are then displayed in the notebook as the cell’s output."
   ]
  },
  {
   "cell_type": "code",
   "execution_count": 1,
   "metadata": {},
   "outputs": [
    {
     "data": {
      "text/plain": [
       "5"
      ]
     },
     "execution_count": 1,
     "metadata": {},
     "output_type": "execute_result"
    }
   ],
   "source": [
    "a=5\n",
    "a"
   ]
  },
  {
   "cell_type": "markdown",
   "metadata": {},
   "source": [
    "By default, only the last value computed is displayed:"
   ]
  },
  {
   "cell_type": "code",
   "execution_count": 2,
   "metadata": {},
   "outputs": [
    {
     "data": {
      "text/plain": [
       "6"
      ]
     },
     "execution_count": 2,
     "metadata": {},
     "output_type": "execute_result"
    }
   ],
   "source": [
    "a=5\n",
    "b=6\n",
    "a\n",
    "b"
   ]
  },
  {
   "cell_type": "markdown",
   "metadata": {},
   "source": [
    "## Tab completion\n",
    "\n",
    "While entering expressions in the shell (input prompt), pressing the Tab key will search the namespace for any variables (objects, functions, etc.) matching the characters you have typed so far.\n",
    "\n",
    "For example,\n",
    "\n",
    "an_apple = 27\n",
    "\n",
    "an_example = 42\n",
    "\n",
    "an**\\<Tab\\>**\n",
    "\n",
    "an_apple an_example"
   ]
  },
  {
   "cell_type": "code",
   "execution_count": 3,
   "metadata": {},
   "outputs": [],
   "source": [
    "an_apple = 27\n",
    "an_example = 42"
   ]
  },
  {
   "cell_type": "code",
   "execution_count": 4,
   "metadata": {},
   "outputs": [],
   "source": [
    "# Type an_ an press the tab key"
   ]
  },
  {
   "cell_type": "markdown",
   "metadata": {},
   "source": [
    "## Introspection\n",
    "\n",
    "Using a question mark (?) before or after a variable will display some general information\n",
    "about the object."
   ]
  },
  {
   "cell_type": "code",
   "execution_count": 5,
   "metadata": {},
   "outputs": [],
   "source": [
    "a = 1"
   ]
  },
  {
   "cell_type": "code",
   "execution_count": 6,
   "metadata": {},
   "outputs": [],
   "source": [
    "a?"
   ]
  },
  {
   "cell_type": "markdown",
   "metadata": {},
   "source": [
    "This is referred to as object introspection. If the object is a function or instance method, the docstring, if defined, will also be shown. A docstring is a string literal that occurs as the first statement in a module, function, class, or method definition and it describes the object in which is contained.\n",
    "\n",
    "Suppose we’d written the following function:"
   ]
  },
  {
   "cell_type": "code",
   "execution_count": 7,
   "metadata": {},
   "outputs": [],
   "source": [
    "def add_numbers(a, b):\n",
    "    \"\"\"\n",
    "    Add two numbers together\n",
    "    Returns\n",
    "    -------\n",
    "    the_sum : type of arguments\n",
    "    \"\"\"\n",
    "    return a + b"
   ]
  },
  {
   "cell_type": "markdown",
   "metadata": {},
   "source": [
    "Using ? show us the docstring:"
   ]
  },
  {
   "cell_type": "code",
   "execution_count": 8,
   "metadata": {},
   "outputs": [],
   "source": [
    "add_numbers?"
   ]
  },
  {
   "cell_type": "markdown",
   "metadata": {},
   "source": [
    "Using ?? will also show the function’s source code if possible:"
   ]
  },
  {
   "cell_type": "code",
   "execution_count": 9,
   "metadata": {},
   "outputs": [],
   "source": [
    "add_numbers??"
   ]
  },
  {
   "cell_type": "markdown",
   "metadata": {},
   "source": [
    "## Magic functions\n",
    "\n",
    "\n",
    "Jupyter notebooks allow using IPython’s special commands (which are not built into Python itself) known as “magic” commands or functions. These functions are designed to facilitate common tasks and enable you to control the IPython system's behaviour easily. A magic command is any command prefixed by the symbol %. Magics are specific to and provided by the IPython kernel.\n",
    "\n",
    "To work correctly, magics must use a syntax element that is not valid in the underlying language. For example, the IPython \n",
    "kernel uses the % syntax element for Magics as % is not a valid unary operator in Python."
   ]
  },
  {
   "cell_type": "markdown",
   "metadata": {},
   "source": [
    "### The %run magic\n",
    "\n",
    "You can run any file as a Python program inside the environment of your Jupyter notebook session using the %run command."
   ]
  },
  {
   "cell_type": "code",
   "execution_count": 10,
   "metadata": {},
   "outputs": [
    {
     "name": "stdout",
     "output_type": "stream",
     "text": [
      "1.4666666666666666\n"
     ]
    }
   ],
   "source": [
    "# Run ipython_script_test.py (this script must be located in a folder called util in\n",
    "# the same directory where Jupyter Notebook is currently running)\n",
    "%run util/script.py"
   ]
  },
  {
   "cell_type": "markdown",
   "metadata": {},
   "source": [
    "The script is run in an empty namespace (with no imports or other variables defined). The behavior should be identical to running the program on the command line using python script.py.\n",
    "\n",
    "Note that all the variables (imports, functions, and globals) defined in script.py will then be accessible in the notebook! Thus, you should be careful when organizing your code in separate scripts and use them only for maintaining functions isolated from the rest of your code."
   ]
  },
  {
   "cell_type": "code",
   "execution_count": 11,
   "metadata": {},
   "outputs": [
    {
     "data": {
      "text/plain": [
       "5"
      ]
     },
     "execution_count": 11,
     "metadata": {},
     "output_type": "execute_result"
    }
   ],
   "source": [
    "a #The variable a is defined inside the script.py file.  "
   ]
  },
  {
   "cell_type": "markdown",
   "metadata": {},
   "source": [
    "You should avoid creating variables in this way as this can lead to errors and unexpected behavior."
   ]
  },
  {
   "cell_type": "markdown",
   "metadata": {},
   "source": [
    "### The %load magic\n",
    "\n",
    "You may also use the related %load magic function, which imports a script into a code cell:\n",
    "\n",
    "%run util/script.py"
   ]
  },
  {
   "cell_type": "code",
   "execution_count": 12,
   "metadata": {},
   "outputs": [
    {
     "name": "stdout",
     "output_type": "stream",
     "text": [
      "1.4666666666666666\n"
     ]
    }
   ],
   "source": [
    "# %load util/script.py\n",
    "def f(x, y, z):\n",
    "\treturn (x + y) / z\n",
    "\n",
    "a = 5\n",
    "b = 6\n",
    "c = 7.5\n",
    "result = f(a, b, c)\n",
    "print(result)"
   ]
  },
  {
   "cell_type": "markdown",
   "metadata": {},
   "source": [
    "IPython’s documentation is accessible from within the system, so you can explore all of the special commands available by typing %quickref or %magic"
   ]
  },
  {
   "cell_type": "code",
   "execution_count": 13,
   "metadata": {},
   "outputs": [],
   "source": [
    "%magic"
   ]
  },
  {
   "cell_type": "markdown",
   "metadata": {},
   "source": [
    "Alternatively, you can visit the [official IPython documentation for the built-in magic commands](https://ipython.readthedocs.io/en/stable/interactive/magics.html)"
   ]
  },
  {
   "cell_type": "markdown",
   "metadata": {},
   "source": [
    "## Markdown"
   ]
  },
  {
   "cell_type": "markdown",
   "metadata": {},
   "source": [
    "**Markdown** is a markup language (like HTML) that you can use to use formatting features in plaintext text. Created in 2004 by [John Gruber](https://daringfireball.net/), Markdown is now one of the world’s most popular markup languages.\n",
    "\n",
    "Using Markdown is different from using traditional text editors such as MS Word. In an application like MS Word, you click buttons to format words and phrases, and the changes are visible immediately. Markdown is not like that. When you create a Markdown-formatted file, you add Markdown syntax to the text to indicate which words and phrases should look different.\n",
    "\n",
    "You can learn more about Markdown in the following links:\n",
    "\n",
    "- [Markdown cells in Jupyter Notebooks](https://jupyter-notebook.readthedocs.io/en/stable/examples/Notebook/Working%20With%20Markdown%20Cells.html)\n",
    "\n",
    "Additional guides based on John Gruber's official specification:\n",
    "- [Basic Syntax](https://www.markdownguide.org/basic-syntax/)\n",
    "- [Cheat Sheet](https://www.markdownguide.org/cheat-sheet/)"
   ]
  },
  {
   "cell_type": "markdown",
   "metadata": {},
   "source": [
    "Markdown is a simple and flexible tool that allows you to write narrative text and rich documentation that communicates the purpose of your Python code. "
   ]
  },
  {
   "cell_type": "code",
   "execution_count": null,
   "metadata": {},
   "outputs": [],
   "source": []
  }
 ],
 "metadata": {
  "kernelspec": {
   "display_name": "Python 3",
   "language": "python",
   "name": "python3"
  },
  "language_info": {
   "codemirror_mode": {
    "name": "ipython",
    "version": 3
   },
   "file_extension": ".py",
   "mimetype": "text/x-python",
   "name": "python",
   "nbconvert_exporter": "python",
   "pygments_lexer": "ipython3",
   "version": "3.7.6"
  }
 },
 "nbformat": 4,
 "nbformat_minor": 5
}
