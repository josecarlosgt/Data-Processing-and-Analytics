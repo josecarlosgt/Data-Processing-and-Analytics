{
 "cells": [
  {
   "cell_type": "markdown",
   "id": "780a2297",
   "metadata": {},
   "source": [
    "# Assignment: Data Analysis with Python"
   ]
  },
  {
   "cell_type": "markdown",
   "id": "0d0cdcdf",
   "metadata": {},
   "source": [
    "In this assignment, you will apply Python's built-in data structures and functions to data analysis.\n",
    "\n",
    "A common practice in data processing is the implementation of different processing tasks through a pipeline. In data science, a **pipeline** consists of a set of tasks that change raw data into a more suitable format to conduct downstream analysis. The construction of pipelines simplifies the identification and implementation of the different operations required to analyze a dataset. \n",
    "\n",
    "Skills:\n",
    "- Practice creating custom functions\n",
    "- Construct a data analysis pipeline\n",
    "\n",
    "### Some helpful notes:\n",
    "- When browsing for examples about Python's utilities and features, try to understand the logic and purpose of the functionality you incorporate in your solutions.\n",
    "- Make sure you review the examples covered previously in the tutorials before attempting this lab."
   ]
  },
  {
   "cell_type": "markdown",
   "id": "94bcceee",
   "metadata": {},
   "source": [
    "## Building a data analysis pipeline"
   ]
  },
  {
   "cell_type": "markdown",
   "id": "8e72a496",
   "metadata": {},
   "source": [
    "The string below contains an excerpt of sales numbers from a retail shop. The data comes from a transactional system used at the shop. Every time a customer checks out an order, the system records details of each item sold, such as the item's name, price, time, and date:"
   ]
  },
  {
   "cell_type": "code",
   "execution_count": 35,
   "id": "0ac2f7f3",
   "metadata": {},
   "outputs": [
    {
     "data": {
      "text/plain": [
       "'\\nQueen Microfiber Sheet Set,   $19.00, 07/20/2021 10:23\\nRubbermaid 18pc Plastic Food, $9.99,  07/20/2021 10:45\\nPlastic Mixing Bowl Set of 3, $8.00,  08/20/2021 10:45\\nPryce Silverware Set 20-pc.,  $10.00, 08/21/2021 11:00\\nBlack+Decker 0.7 cu ft,       $59.99, 08/21/2021 11:20\\nSwing Top Wastebasket,        $44.44, 09/10/2021 11:20\\nDelux Bed Pillow,             $20.15, 09/10/2021 13:10\\nBELLA 2 Slice Toaster,        $5.10,  10/10/2021 13:10\\nColander,                     $10.21, 11/10/2021 13:10\\nTower Fan Oscillating,        $30.11, 11/10/2021 9:10\\n'"
      ]
     },
     "execution_count": 35,
     "metadata": {},
     "output_type": "execute_result"
    }
   ],
   "source": [
    "sales_records = \"\"\"\n",
    "Queen Microfiber Sheet Set,   $19.00, 07/20/2021 10:23\n",
    "Rubbermaid 18pc Plastic Food, $9.99,  07/20/2021 10:45\n",
    "Plastic Mixing Bowl Set of 3, $8.00,  08/20/2021 10:45\n",
    "Pryce Silverware Set 20-pc.,  $10.00, 08/21/2021 11:00\n",
    "Black+Decker 0.7 cu ft,       $59.99, 08/21/2021 11:20\n",
    "Swing Top Wastebasket,        $44.44, 09/10/2021 11:20\n",
    "Delux Bed Pillow,             $20.15, 09/10/2021 13:10\n",
    "BELLA 2 Slice Toaster,        $5.10,  10/10/2021 13:10\n",
    "Colander,                     $10.21, 11/10/2021 13:10\n",
    "Tower Fan Oscillating,        $30.11, 11/10/2021 9:10\n",
    "\"\"\"\n",
    "\n",
    "sales_records"
   ]
  },
  {
   "cell_type": "markdown",
   "id": "9453eede",
   "metadata": {},
   "source": [
    "The marketing department wants to conduct a sales analysis using these numbers. Since the original data source contains hundreds of thousands of records, working with a small subset makes it easier to write and test the programming code we need to conduct the sales analysis. \n",
    "\n",
    "The end goal is to calculate the total sales per month. We want to generate data that would enable the marketing team to create a report like this one:\n",
    "\n",
    "<table>\n",
    "    <tr>\n",
    "        <th>Month</th>      <th>Total</th>\n",
    "    </tr>\n",
    "    <tr>\n",
    "        <td>July</td>      <td>\\$28.99</td>\n",
    "    </tr> \n",
    "    <tr>    \n",
    "        <td>August</td>    <td>\\$77.99</td>\n",
    "    </tr> \n",
    "    <tr>    \n",
    "        <td>September</td> <td>\\$64.59</td>\n",
    "    </tr> \n",
    "    <tr>    \n",
    "        <td>October</td>   <td>\\$5.10</td>\n",
    "    </tr> \n",
    "    <tr>    \n",
    "        <td>November</td>  <td>\\$40.32</td>\n",
    "    </tr>\n",
    "</table>"
   ]
  },
  {
   "cell_type": "markdown",
   "id": "93709513",
   "metadata": {},
   "source": [
    "Of course, there are several ways to generate this data. We could create a single function to implement all the logic required to extract the sales numbers and aggregate them by month. The main issue with this approach is that it becomes difficult to maintain or perform changes in the future to the different operations involved in transforming the raw data into month aggregates.\n",
    "\n",
    "In the following problems, you will implement a pipeline for analyzing the data, which in this case consists of generating monthly sales totals. \n",
    "\n",
    "> In each problem, use *list comprehension* when possible to make your code more concise."
   ]
  },
  {
   "cell_type": "markdown",
   "id": "6292c442",
   "metadata": {},
   "source": [
    "### Problem 1: Data Representation"
   ]
  },
  {
   "cell_type": "markdown",
   "id": "b2ff901a",
   "metadata": {},
   "source": [
    "Write a function called *parse* that:\n",
    "- Receives the raw data as a parameter\n",
    "- Parses (transforms) it into a list of lists\n",
    "- Each nested list item represents an attribute of each sales record: the item's name, price, and date.\n",
    "\n",
    "Tips:\n",
    "- Use the [split](https://www.programiz.com/python-programming/methods/string/split) function to parse the text and generate a list of records by splitting the text into a list.\n",
    "- When using split, you will need to specify a separator to *split* the text into a list of strings. Use the characters \"\\n\" and \",\" as separators.\n",
    "- Keep the focus of your parse function to only extracting the different attributes in each record to construct a data structure, as shown in the example below.\n",
    "- This data structure may contain empty values that you will filter out in the following problem."
   ]
  },
  {
   "cell_type": "code",
   "execution_count": 36,
   "id": "bcaf7792",
   "metadata": {},
   "outputs": [
    {
     "data": {
      "text/plain": [
       "[[]]"
      ]
     },
     "execution_count": 36,
     "metadata": {},
     "output_type": "execute_result"
    }
   ],
   "source": [
    "def parse(data):\n",
    "    # YOUR SOLUTION\n",
    "    \n",
    "    return [[]]\n",
    "\n",
    "sales_1 = parse(sales_records)\n",
    "sales_1"
   ]
  },
  {
   "cell_type": "code",
   "execution_count": 37,
   "id": "0c52f16f",
   "metadata": {},
   "outputs": [
    {
     "name": "stdout",
     "output_type": "stream",
     "text": [
      "\n",
      " [[''],\n",
      " ['Queen Microfiber Sheet Set', '   $19.00', ' 07/20/2021 10:23'],\n",
      " ['Rubbermaid 18pc Plastic Food', ' $9.99', '  07/20/2021 10:45'],\n",
      " ...]\n"
     ]
    }
   ],
   "source": [
    "# Example of the expected output:\n",
    "\n",
    "print(\"\"\"\n",
    " [[''],\n",
    " ['Queen Microfiber Sheet Set', '   $19.00', ' 07/20/2021 10:23'],\n",
    " ['Rubbermaid 18pc Plastic Food', ' $9.99', '  07/20/2021 10:45'],\n",
    " ...]\"\"\")"
   ]
  },
  {
   "cell_type": "markdown",
   "id": "88b8c817",
   "metadata": {},
   "source": [
    "### Problem 2: Data cleaning - removing missing values"
   ]
  },
  {
   "cell_type": "markdown",
   "id": "afbf414c",
   "metadata": {},
   "source": [
    "Write a function called *remove_empty* that:\n",
    "- Receives the data processed by the *parse* function as a parameter\n",
    "- Removes all empty elements (if any)\n",
    "- Removes all trailing whitespace from each element\n",
    "\n",
    "Tips:\n",
    "- Use the [strip](https://www.programiz.com/python-programming/methods/string/strip) function to remove trailing whitespace"
   ]
  },
  {
   "cell_type": "code",
   "execution_count": 38,
   "id": "4447d520",
   "metadata": {},
   "outputs": [],
   "source": [
    "def remove_empty(data):\n",
    "    # YOUR SOLUTION    \n",
    "    \n",
    "    return None\n",
    "\n",
    "sales_2 = remove_empty(sales_1)\n",
    "sales_2"
   ]
  },
  {
   "cell_type": "code",
   "execution_count": 39,
   "id": "c43b71c0",
   "metadata": {},
   "outputs": [
    {
     "name": "stdout",
     "output_type": "stream",
     "text": [
      "\n",
      " [['Queen Microfiber Sheet Set', '$19.00', '07/20/2021 10:23'],\n",
      " ['Rubbermaid 18pc Plastic Food', '$9.99', '07/20/2021 10:45'], ...\n",
      "\n"
     ]
    }
   ],
   "source": [
    "# Example of the expected output:\n",
    "\n",
    "print(\"\"\"\n",
    " [['Queen Microfiber Sheet Set', '$19.00', '07/20/2021 10:23'],\n",
    " ['Rubbermaid 18pc Plastic Food', '$9.99', '07/20/2021 10:45'], ...\n",
    "\"\"\")"
   ]
  },
  {
   "cell_type": "markdown",
   "id": "1b707838",
   "metadata": {},
   "source": [
    "### Problem 3: Data exploration"
   ]
  },
  {
   "cell_type": "markdown",
   "id": "d9f5c1e7",
   "metadata": {},
   "source": [
    "In different cells, perform some exploratory operations on the data, such as displaying:\n",
    "1. The number of records in the dataset\n",
    "2. The first five recrods\n",
    "3. The last five recrds\n",
    "4. Five records in alternate order, i.e., records occupying the even positions in the dataset"
   ]
  },
  {
   "cell_type": "code",
   "execution_count": 40,
   "id": "0ccc97ad",
   "metadata": {},
   "outputs": [],
   "source": [
    "# 1. The number of records in the dataset\n",
    "\n",
    "# YOUR SOLUTION"
   ]
  },
  {
   "cell_type": "code",
   "execution_count": 41,
   "id": "38707122",
   "metadata": {},
   "outputs": [],
   "source": [
    "# 2. The first five recrods, i.e, the head of the dataset\n",
    "\n",
    "# YOUR SOLUTION"
   ]
  },
  {
   "cell_type": "code",
   "execution_count": 42,
   "id": "ba776ae6",
   "metadata": {},
   "outputs": [],
   "source": [
    "# 3. The last five recrds, i.e., the tail of the dataset\n",
    "\n",
    "# YOUR SOLUTION"
   ]
  },
  {
   "cell_type": "code",
   "execution_count": 43,
   "id": "9c226283",
   "metadata": {},
   "outputs": [],
   "source": [
    "# 4. Five records in alternate order, i.e., records occupying the even positions in the dataset\n",
    "\n",
    "# YOUR SOLUTION"
   ]
  },
  {
   "cell_type": "markdown",
   "id": "5cfc5e3d",
   "metadata": {},
   "source": [
    "### Problem 4: Data cleaning - formatting"
   ]
  },
  {
   "cell_type": "markdown",
   "id": "acd052ba",
   "metadata": {},
   "source": [
    "Write a function called *format_values* that:\n",
    "- Receives the data processed by the *remove_empty* function as a parameter\n",
    "- Convert prices to the *float* type\n",
    "- Convert dates to the *datetime* type\n",
    "\n",
    "Tips:\n",
    "- Use the [replace](https://www.programiz.com/python-programming/methods/string/replace) function to get rid of the $ sign in the price data by *replacing* it with an empty space.\n",
    "- Use the *float()* function to transform the current string prices into float values.\n",
    "- Review your solution for the previous Lab Practice to process dates."
   ]
  },
  {
   "cell_type": "code",
   "execution_count": 44,
   "id": "39fbf821",
   "metadata": {},
   "outputs": [],
   "source": [
    "def format_values(data):\n",
    "    # YOUR SOLUTION\n",
    "\n",
    "    return None\n",
    "\n",
    "sales_3 = format_values(sales_2)\n",
    "sales_3"
   ]
  },
  {
   "cell_type": "code",
   "execution_count": 45,
   "id": "404dc384",
   "metadata": {},
   "outputs": [
    {
     "name": "stdout",
     "output_type": "stream",
     "text": [
      "\n",
      "[['Queen Microfiber Sheet Set', 19.0, datetime.datetime(2021, 7, 20, 10, 23)],\n",
      " ['Rubbermaid 18pc Plastic Food', 9.99, datetime.datetime(2021, 7, 20, 10, 45)], ...\n",
      "\n"
     ]
    }
   ],
   "source": [
    "# Example of the expected output:\n",
    "\n",
    "print(\"\"\"\n",
    "[['Queen Microfiber Sheet Set', 19.0, datetime.datetime(2021, 7, 20, 10, 23)],\n",
    " ['Rubbermaid 18pc Plastic Food', 9.99, datetime.datetime(2021, 7, 20, 10, 45)], ...\n",
    "\"\"\")"
   ]
  },
  {
   "cell_type": "markdown",
   "id": "a76acab0",
   "metadata": {},
   "source": [
    "### Problem 5: Data exploration (second round)"
   ]
  },
  {
   "cell_type": "markdown",
   "id": "d995ac51",
   "metadata": {},
   "source": [
    "Perform a second round of data exploration by sorting the records by price in ascending order (high to low).\n",
    "\n",
    "Tips:\n",
    "- Learn more about the parameters of the [sort](https://www.programiz.com/python-programming/methods/list/sort) function covered in the tutorial"
   ]
  },
  {
   "cell_type": "code",
   "execution_count": 46,
   "id": "d882bb38",
   "metadata": {},
   "outputs": [],
   "source": [
    "# YOUR SOLUTION"
   ]
  },
  {
   "cell_type": "code",
   "execution_count": 47,
   "id": "a9ff8cb9",
   "metadata": {},
   "outputs": [
    {
     "name": "stdout",
     "output_type": "stream",
     "text": [
      "\n",
      "[['Black+Decker 0.7 cu ft', 59.99, datetime.datetime(2021, 8, 21, 11, 20)],\n",
      " ['Swing Top Wastebasket', 44.44, datetime.datetime(2021, 9, 10, 11, 20)],\n",
      " ...\n",
      " ['BELLA 2 Slice Toaster', 5.1, datetime.datetime(2021, 10, 10, 13, 10)]]\n",
      "\n"
     ]
    }
   ],
   "source": [
    "# Example of the expected output:\n",
    "\n",
    "print(\"\"\"\n",
    "[['Black+Decker 0.7 cu ft', 59.99, datetime.datetime(2021, 8, 21, 11, 20)],\n",
    " ['Swing Top Wastebasket', 44.44, datetime.datetime(2021, 9, 10, 11, 20)],\n",
    " ...\n",
    " ['BELLA 2 Slice Toaster', 5.1, datetime.datetime(2021, 10, 10, 13, 10)]]\n",
    "\"\"\")"
   ]
  },
  {
   "cell_type": "markdown",
   "id": "3a1f8cf7",
   "metadata": {},
   "source": [
    "### Problem 6: Data transformation - Extracting date components"
   ]
  },
  {
   "cell_type": "markdown",
   "id": "c09d0ce0",
   "metadata": {},
   "source": [
    "Write a function called *extract_date* that:\n",
    "- Receives the data processed by the *format_values* function as a parameter\n",
    "- Extracts the date and day from the datetime objects by creating two additional items in each record\n",
    "- Take a look at the example of the expected output shown below to understand how to add the date and day"
   ]
  },
  {
   "cell_type": "code",
   "execution_count": 48,
   "id": "3c27c747",
   "metadata": {},
   "outputs": [],
   "source": [
    "def extract_date(data):\n",
    "    # YOUR SOLUTION\n",
    "\n",
    "    return None\n",
    "\n",
    "sales_4 = extract_date(sales_3)\n",
    "sales_4    "
   ]
  },
  {
   "cell_type": "code",
   "execution_count": 49,
   "id": "0d7ec5a1",
   "metadata": {},
   "outputs": [
    {
     "name": "stdout",
     "output_type": "stream",
     "text": [
      "\n",
      " [['Queen Microfiber Sheet Set', 19.0, datetime.datetime(2021, 7, 20, 10, 23), '07', '20'],\n",
      "  ['Rubbermaid 18pc Plastic Food', 9.99, datetime.datetime(2021, 7, 20, 10, 45), '07', '20'], ...\n",
      "\n"
     ]
    }
   ],
   "source": [
    "# Example of the expected output:\n",
    "\n",
    "print(\"\"\"\n",
    " [['Queen Microfiber Sheet Set', 19.0, datetime.datetime(2021, 7, 20, 10, 23), '07', '20'],\n",
    "  ['Rubbermaid 18pc Plastic Food', 9.99, datetime.datetime(2021, 7, 20, 10, 45), '07', '20'], ...\n",
    "\"\"\")"
   ]
  },
  {
   "cell_type": "markdown",
   "id": "5e92d97f",
   "metadata": {},
   "source": [
    "### Problem 7: Create a pipeline"
   ]
  },
  {
   "cell_type": "markdown",
   "id": "7d811595",
   "metadata": {},
   "source": [
    "You will implement your own pipeline to group all the processing tasks implemented so far in this problem.\n",
    "\n",
    "Create a function called *transform* that receives a list of tasks, representing a task in the pipeline. Your function should apply all the functions in the pipeline and return the processed dataset."
   ]
  },
  {
   "cell_type": "code",
   "execution_count": 50,
   "id": "49d57833",
   "metadata": {},
   "outputs": [],
   "source": [
    "pipeline = [parse, remove_empty, format_values, extract_date]\n",
    "\n",
    "def transform(data, tasks):\n",
    "    # YOUR SOLUTION\n",
    "            \n",
    "    return None\n",
    "\n",
    "sales = transform(sales_records, pipeline)\n",
    "sales"
   ]
  },
  {
   "cell_type": "markdown",
   "id": "6377d1f4",
   "metadata": {},
   "source": [
    "### Problem 8: Data aggregation"
   ]
  },
  {
   "cell_type": "markdown",
   "id": "412df2c7",
   "metadata": {},
   "source": [
    "To finalize the data analysis, write a function called *aggregate* that:\n",
    "- Receives the data processed by the pipeline as a parameter\n",
    "- Aggregate the sales numbers per month in a dictionary object\n",
    "\n",
    "Tips:\n",
    "- If you find this problem difficult to solve, try the \"divide and conquer\" strategy:\n",
    "    1. Try first to generate an intermediate dictionary that contains the list of sales per month. In this dictionary, the keys correspond to month values.\n",
    "    2. Then, iterate the dictionary to sum up the values in each month. \n",
    "- A concise solution may make use of the [setdefault](https://www.w3schools.com/python/ref_dictionary_setdefault.asp) method of Python dictionaries and dict comprehension techniques. "
   ]
  },
  {
   "cell_type": "code",
   "execution_count": 53,
   "id": "8670d557",
   "metadata": {},
   "outputs": [],
   "source": [
    "def aggregate(data):\n",
    "    # YOUR SOLUTION\n",
    "    \n",
    "    return None\n",
    "\n",
    "sales_totals = aggregate(sales)\n",
    "sales_totals"
   ]
  },
  {
   "cell_type": "code",
   "execution_count": 54,
   "id": "b02863e1",
   "metadata": {},
   "outputs": [
    {
     "name": "stdout",
     "output_type": "stream",
     "text": [
      "\n",
      "{'07': 28.990000000000002,\n",
      " '08': 77.99000000000001,\n",
      " '09': 64.59,\n",
      " '10': 5.1,\n",
      " '11': 40.32}\n",
      "\n"
     ]
    }
   ],
   "source": [
    "# Expected output:\n",
    "\n",
    "print(\"\"\"\n",
    "{'07': 28.990000000000002,\n",
    " '08': 77.99000000000001,\n",
    " '09': 64.59,\n",
    " '10': 5.1,\n",
    " '11': 40.32}\n",
    "\"\"\")"
   ]
  },
  {
   "cell_type": "code",
   "execution_count": null,
   "id": "43e7deec",
   "metadata": {},
   "outputs": [],
   "source": []
  }
 ],
 "metadata": {
  "kernelspec": {
   "display_name": "Python 3 (ipykernel)",
   "language": "python",
   "name": "python3"
  },
  "language_info": {
   "codemirror_mode": {
    "name": "ipython",
    "version": 3
   },
   "file_extension": ".py",
   "mimetype": "text/x-python",
   "name": "python",
   "nbconvert_exporter": "python",
   "pygments_lexer": "ipython3",
   "version": "3.9.6"
  }
 },
 "nbformat": 4,
 "nbformat_minor": 5
}
