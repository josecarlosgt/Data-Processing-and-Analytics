{
 "cells": [
  {
   "cell_type": "markdown",
   "id": "b959e7b1",
   "metadata": {},
   "source": [
    "# Predicting Iris Species (COMPLETE)"
   ]
  },
  {
   "cell_type": "markdown",
   "id": "b12dbfff",
   "metadata": {},
   "source": [
    "## 1. Business understanding"
   ]
  },
  {
   "cell_type": "markdown",
   "id": "6facca98",
   "metadata": {},
   "source": [
    "The identification of biodiversity is critical for organizations engaged with the conservation of biodiversity. Although the identification of large animals may be easy, smaller organisms require expert skills for correct identification. The inability to identify species is known as a **taxonomic impediment** or taxonomic problem.\n",
    "\n",
    "This notebook proposes a data mining solution to address taxonomic impediment problems.\n",
    "\n",
    "[Presentation slides](https://docs.google.com/presentation/d/1St9pn2o1xR4_S9GS4uoGl9S4r0JCo8nPppBFBWdf3DA/edit?usp=sharing)"
   ]
  },
  {
   "cell_type": "markdown",
   "id": "977cd6b4",
   "metadata": {},
   "source": [
    "## 2. Setup"
   ]
  },
  {
   "cell_type": "markdown",
   "id": "b6c3c8d7",
   "metadata": {},
   "source": [
    "### Coding constants"
   ]
  },
  {
   "cell_type": "code",
   "execution_count": 53,
   "id": "55ef71d2",
   "metadata": {},
   "outputs": [],
   "source": [
    "GRAPH_WIDTH = 6\n",
    "GRAPH_HEIGHT = 5"
   ]
  },
  {
   "cell_type": "markdown",
   "id": "e489db92",
   "metadata": {},
   "source": [
    "### Common imports"
   ]
  },
  {
   "cell_type": "code",
   "execution_count": 54,
   "id": "d42cf905",
   "metadata": {},
   "outputs": [],
   "source": [
    "%matplotlib inline \n",
    "\n",
    "# Data visualization libraries\n",
    "import matplotlib.pyplot as plt\n",
    "import seaborn as sns\n",
    "\n",
    "# Data processing libraries\n",
    "import pandas as pd\n",
    "import numpy as np\n",
    "from sklearn.pipeline import Pipeline\n",
    "from sklearn.preprocessing import StandardScaler\n",
    "\n",
    "# Data modeling libraries\n",
    "from sklearn.tree import DecisionTreeClassifier\n",
    "from sklearn.linear_model import LogisticRegression\n",
    "from sklearn.svm import LinearSVC"
   ]
  },
  {
   "cell_type": "markdown",
   "id": "6ab5509a",
   "metadata": {},
   "source": [
    "## Load the data"
   ]
  },
  {
   "cell_type": "code",
   "execution_count": 74,
   "id": "d3398359",
   "metadata": {},
   "outputs": [
    {
     "data": {
      "text/html": [
       "<div>\n",
       "<style scoped>\n",
       "    .dataframe tbody tr th:only-of-type {\n",
       "        vertical-align: middle;\n",
       "    }\n",
       "\n",
       "    .dataframe tbody tr th {\n",
       "        vertical-align: top;\n",
       "    }\n",
       "\n",
       "    .dataframe thead th {\n",
       "        text-align: right;\n",
       "    }\n",
       "</style>\n",
       "<table border=\"1\" class=\"dataframe\">\n",
       "  <thead>\n",
       "    <tr style=\"text-align: right;\">\n",
       "      <th></th>\n",
       "      <th>sepal length (cm)</th>\n",
       "      <th>sepal width (cm)</th>\n",
       "      <th>petal length (cm)</th>\n",
       "      <th>petal width (cm)</th>\n",
       "      <th>species</th>\n",
       "    </tr>\n",
       "  </thead>\n",
       "  <tbody>\n",
       "    <tr>\n",
       "      <th>0</th>\n",
       "      <td>5.1</td>\n",
       "      <td>3.5</td>\n",
       "      <td>1.4</td>\n",
       "      <td>0.2</td>\n",
       "      <td>setosa</td>\n",
       "    </tr>\n",
       "    <tr>\n",
       "      <th>1</th>\n",
       "      <td>4.9</td>\n",
       "      <td>3.0</td>\n",
       "      <td>1.4</td>\n",
       "      <td>0.2</td>\n",
       "      <td>setosa</td>\n",
       "    </tr>\n",
       "    <tr>\n",
       "      <th>2</th>\n",
       "      <td>4.7</td>\n",
       "      <td>3.2</td>\n",
       "      <td>1.3</td>\n",
       "      <td>0.2</td>\n",
       "      <td>setosa</td>\n",
       "    </tr>\n",
       "    <tr>\n",
       "      <th>3</th>\n",
       "      <td>4.6</td>\n",
       "      <td>3.1</td>\n",
       "      <td>1.5</td>\n",
       "      <td>0.2</td>\n",
       "      <td>setosa</td>\n",
       "    </tr>\n",
       "    <tr>\n",
       "      <th>4</th>\n",
       "      <td>5.0</td>\n",
       "      <td>3.6</td>\n",
       "      <td>1.4</td>\n",
       "      <td>0.2</td>\n",
       "      <td>setosa</td>\n",
       "    </tr>\n",
       "  </tbody>\n",
       "</table>\n",
       "</div>"
      ],
      "text/plain": [
       "   sepal length (cm)  sepal width (cm)  petal length (cm)  petal width (cm)  \\\n",
       "0                5.1               3.5                1.4               0.2   \n",
       "1                4.9               3.0                1.4               0.2   \n",
       "2                4.7               3.2                1.3               0.2   \n",
       "3                4.6               3.1                1.5               0.2   \n",
       "4                5.0               3.6                1.4               0.2   \n",
       "\n",
       "  species  \n",
       "0  setosa  \n",
       "1  setosa  \n",
       "2  setosa  \n",
       "3  setosa  \n",
       "4  setosa  "
      ]
     },
     "execution_count": 74,
     "metadata": {},
     "output_type": "execute_result"
    }
   ],
   "source": [
    "df = pd.read_csv('data/iris-species.csv')\n",
    "df.head()"
   ]
  },
  {
   "cell_type": "code",
   "execution_count": 75,
   "id": "287ffb95",
   "metadata": {},
   "outputs": [
    {
     "data": {
      "text/plain": [
       "(150, 5)"
      ]
     },
     "execution_count": 75,
     "metadata": {},
     "output_type": "execute_result"
    }
   ],
   "source": [
    "df.shape"
   ]
  },
  {
   "cell_type": "code",
   "execution_count": 76,
   "id": "e138031e",
   "metadata": {},
   "outputs": [
    {
     "data": {
      "text/plain": [
       "Index(['sepal length (cm)', 'sepal width (cm)', 'petal length (cm)',\n",
       "       'petal width (cm)', 'species'],\n",
       "      dtype='object')"
      ]
     },
     "execution_count": 76,
     "metadata": {},
     "output_type": "execute_result"
    }
   ],
   "source": [
    "df.columns"
   ]
  },
  {
   "cell_type": "markdown",
   "id": "01d2a182",
   "metadata": {},
   "source": [
    "## 3. Data understanding"
   ]
  },
  {
   "cell_type": "code",
   "execution_count": 77,
   "id": "f72e8ccd",
   "metadata": {},
   "outputs": [
    {
     "data": {
      "text/html": [
       "<div>\n",
       "<style scoped>\n",
       "    .dataframe tbody tr th:only-of-type {\n",
       "        vertical-align: middle;\n",
       "    }\n",
       "\n",
       "    .dataframe tbody tr th {\n",
       "        vertical-align: top;\n",
       "    }\n",
       "\n",
       "    .dataframe thead th {\n",
       "        text-align: right;\n",
       "    }\n",
       "</style>\n",
       "<table border=\"1\" class=\"dataframe\">\n",
       "  <thead>\n",
       "    <tr style=\"text-align: right;\">\n",
       "      <th></th>\n",
       "      <th>count</th>\n",
       "      <th>mean</th>\n",
       "      <th>std</th>\n",
       "      <th>min</th>\n",
       "      <th>25%</th>\n",
       "      <th>50%</th>\n",
       "      <th>75%</th>\n",
       "      <th>max</th>\n",
       "    </tr>\n",
       "  </thead>\n",
       "  <tbody>\n",
       "    <tr>\n",
       "      <th>sepal length (cm)</th>\n",
       "      <td>150.0</td>\n",
       "      <td>5.843333</td>\n",
       "      <td>0.828066</td>\n",
       "      <td>4.3</td>\n",
       "      <td>5.1</td>\n",
       "      <td>5.80</td>\n",
       "      <td>6.4</td>\n",
       "      <td>7.9</td>\n",
       "    </tr>\n",
       "    <tr>\n",
       "      <th>sepal width (cm)</th>\n",
       "      <td>150.0</td>\n",
       "      <td>3.057333</td>\n",
       "      <td>0.435866</td>\n",
       "      <td>2.0</td>\n",
       "      <td>2.8</td>\n",
       "      <td>3.00</td>\n",
       "      <td>3.3</td>\n",
       "      <td>4.4</td>\n",
       "    </tr>\n",
       "    <tr>\n",
       "      <th>petal length (cm)</th>\n",
       "      <td>150.0</td>\n",
       "      <td>3.758000</td>\n",
       "      <td>1.765298</td>\n",
       "      <td>1.0</td>\n",
       "      <td>1.6</td>\n",
       "      <td>4.35</td>\n",
       "      <td>5.1</td>\n",
       "      <td>6.9</td>\n",
       "    </tr>\n",
       "    <tr>\n",
       "      <th>petal width (cm)</th>\n",
       "      <td>150.0</td>\n",
       "      <td>1.199333</td>\n",
       "      <td>0.762238</td>\n",
       "      <td>0.1</td>\n",
       "      <td>0.3</td>\n",
       "      <td>1.30</td>\n",
       "      <td>1.8</td>\n",
       "      <td>2.5</td>\n",
       "    </tr>\n",
       "  </tbody>\n",
       "</table>\n",
       "</div>"
      ],
      "text/plain": [
       "                   count      mean       std  min  25%   50%  75%  max\n",
       "sepal length (cm)  150.0  5.843333  0.828066  4.3  5.1  5.80  6.4  7.9\n",
       "sepal width (cm)   150.0  3.057333  0.435866  2.0  2.8  3.00  3.3  4.4\n",
       "petal length (cm)  150.0  3.758000  1.765298  1.0  1.6  4.35  5.1  6.9\n",
       "petal width (cm)   150.0  1.199333  0.762238  0.1  0.3  1.30  1.8  2.5"
      ]
     },
     "execution_count": 77,
     "metadata": {},
     "output_type": "execute_result"
    }
   ],
   "source": [
    "df.describe().T"
   ]
  },
  {
   "cell_type": "markdown",
   "id": "c2e331db",
   "metadata": {},
   "source": [
    "### Attributes variables distribution"
   ]
  },
  {
   "cell_type": "code",
   "execution_count": 78,
   "id": "927ad27f",
   "metadata": {},
   "outputs": [
    {
     "data": {
      "text/plain": [
       "array([[<AxesSubplot:title={'center':'sepal length (cm)'}>,\n",
       "        <AxesSubplot:title={'center':'sepal width (cm)'}>],\n",
       "       [<AxesSubplot:title={'center':'petal length (cm)'}>,\n",
       "        <AxesSubplot:title={'center':'petal width (cm)'}>]], dtype=object)"
      ]
     },
     "execution_count": 78,
     "metadata": {},
     "output_type": "execute_result"
    },
    {
     "data": {
      "image/png": "[encoded data removed]",
      "text/plain": [
       "<Figure size 1440x1080 with 4 Axes>"
      ]
     },
     "metadata": {
      "needs_background": "light"
     },
     "output_type": "display_data"
    }
   ],
   "source": [
    "df.hist(bins=50, figsize=(20,15))"
   ]
  },
  {
   "cell_type": "markdown",
   "id": "10e5cd10",
   "metadata": {},
   "source": [
    "**Observations**\n"
   ]
  },
  {
   "cell_type": "markdown",
   "id": "9c4f50dd",
   "metadata": {},
   "source": [
    "### Target variable distribution"
   ]
  },
  {
   "cell_type": "code",
   "execution_count": 79,
   "id": "5f65e084",
   "metadata": {},
   "outputs": [
    {
     "data": {
      "text/plain": [
       "<AxesSubplot:>"
      ]
     },
     "execution_count": 79,
     "metadata": {},
     "output_type": "execute_result"
    },
    {
     "data": {
      "image/png": "[encoded data removed]",
      "text/plain": [
       "<Figure size 432x288 with 1 Axes>"
      ]
     },
     "metadata": {
      "needs_background": "light"
     },
     "output_type": "display_data"
    }
   ],
   "source": [
    "df['species'].hist()"
   ]
  },
  {
   "cell_type": "markdown",
   "id": "64211cb3",
   "metadata": {},
   "source": [
    "**Observations**\n"
   ]
  },
  {
   "cell_type": "markdown",
   "id": "e1b205d4",
   "metadata": {},
   "source": [
    "### Visualizing relationships between the target variable and attributes "
   ]
  },
  {
   "cell_type": "markdown",
   "id": "b9cb6a9d",
   "metadata": {},
   "source": [
    "**Function for continuous attributes:**"
   ]
  },
  {
   "cell_type": "code",
   "execution_count": 71,
   "id": "7554b1ad",
   "metadata": {},
   "outputs": [],
   "source": [
    "def plot_class_attribute_dist(df, class_var, attribute):\n",
    "    df.groupby(class_var)[attribute].plot.hist(\n",
    "        alpha=0.4, figsize=(GRAPH_WIDTH, GRAPH_HEIGHT))\n",
    "    plt.suptitle(attribute)\n",
    "    plt.legend()"
   ]
  },
  {
   "cell_type": "markdown",
   "id": "4ac02052",
   "metadata": {},
   "source": [
    "#### Petal length versus species"
   ]
  },
  {
   "cell_type": "code",
   "execution_count": 16,
   "id": "dfc4389d",
   "metadata": {},
   "outputs": [
    {
     "data": {
      "image/png": "[encoded data removed]",
      "text/plain": [
       "<Figure size 432x360 with 1 Axes>"
      ]
     },
     "metadata": {
      "needs_background": "light"
     },
     "output_type": "display_data"
    }
   ],
   "source": [
    "plot_class_attribute_dist(iris_df_viz, 'species', 'petal length (cm)')"
   ]
  },
  {
   "cell_type": "markdown",
   "id": "3042f22f",
   "metadata": {},
   "source": [
    "**Observations**\n"
   ]
  },
  {
   "cell_type": "markdown",
   "id": "51180558",
   "metadata": {},
   "source": [
    "#### Petal width length versus species"
   ]
  },
  {
   "cell_type": "code",
   "execution_count": 81,
   "id": "759a744c",
   "metadata": {},
   "outputs": [
    {
     "data": {
      "image/png": "[encoded data removed]",
      "text/plain": [
       "<Figure size 432x360 with 1 Axes>"
      ]
     },
     "metadata": {
      "needs_background": "light"
     },
     "output_type": "display_data"
    }
   ],
   "source": [
    "plot_class_attribute_dist(iris_df_viz, 'species', 'petal width (cm)')"
   ]
  },
  {
   "cell_type": "markdown",
   "id": "1f624ea4",
   "metadata": {},
   "source": [
    "**Observations**\n"
   ]
  },
  {
   "cell_type": "markdown",
   "id": "bca44eca",
   "metadata": {},
   "source": [
    "#### Sepal length versus species"
   ]
  },
  {
   "cell_type": "code",
   "execution_count": 80,
   "id": "0e58425e",
   "metadata": {},
   "outputs": [
    {
     "data": {
      "image/png": "[encoded data removed]",
      "text/plain": [
       "<Figure size 432x360 with 1 Axes>"
      ]
     },
     "metadata": {
      "needs_background": "light"
     },
     "output_type": "display_data"
    }
   ],
   "source": [
    "plot_class_attribute_dist(iris_df_viz, 'species', 'sepal length (cm)')"
   ]
  },
  {
   "cell_type": "markdown",
   "id": "7df0c818",
   "metadata": {},
   "source": [
    "**Observations**\n"
   ]
  },
  {
   "cell_type": "markdown",
   "id": "277d6745",
   "metadata": {},
   "source": [
    "#### Sepal width versus species"
   ]
  },
  {
   "cell_type": "code",
   "execution_count": 15,
   "id": "7a2b68b4",
   "metadata": {},
   "outputs": [
    {
     "data": {
      "image/png": "[encoded data removed]",
      "text/plain": [
       "<Figure size 432x360 with 1 Axes>"
      ]
     },
     "metadata": {
      "needs_background": "light"
     },
     "output_type": "display_data"
    }
   ],
   "source": [
    "plot_class_attribute_dist(iris_df_viz, 'species', 'sepal width (cm)')"
   ]
  },
  {
   "cell_type": "markdown",
   "id": "9eac65d1",
   "metadata": {},
   "source": [
    "**Observations**\n"
   ]
  },
  {
   "cell_type": "markdown",
   "id": "2d6f5dc2",
   "metadata": {},
   "source": [
    "## 4. Data Processing"
   ]
  },
  {
   "cell_type": "markdown",
   "id": "082e5f0d",
   "metadata": {},
   "source": [
    "The data has been preprocessed already, so there is nothing to do here."
   ]
  },
  {
   "cell_type": "markdown",
   "id": "e7b1c445",
   "metadata": {},
   "source": [
    "## 5. Data Modeling"
   ]
  },
  {
   "cell_type": "code",
   "execution_count": 82,
   "id": "5d8c19fb",
   "metadata": {},
   "outputs": [],
   "source": [
    "training = df.loc[:, df.columns != 'species']\n",
    "labels = df['species']"
   ]
  },
  {
   "cell_type": "markdown",
   "id": "2fc57e29",
   "metadata": {},
   "source": [
    "### Evaluating performance"
   ]
  },
  {
   "cell_type": "markdown",
   "id": "dd776ec0",
   "metadata": {},
   "source": [
    "We will use the ratio between correct and wrong predictions as a simple measure of performance to compare different models:"
   ]
  },
  {
   "cell_type": "code",
   "execution_count": 83,
   "id": "88f4d5d4",
   "metadata": {},
   "outputs": [],
   "source": [
    "def evaluate_performance(model, training, labels):\n",
    "    labels_pred = model.predict(training)\n",
    "    n_correct = sum(labels_pred == labels)    \n",
    "    print(\n",
    "        f\"Model performance: {((n_correct / len(labels_pred)) * 100):.2f}%\")"
   ]
  },
  {
   "cell_type": "markdown",
   "id": "0e3abd5c",
   "metadata": {},
   "source": [
    "## Decision tree with depth = 10"
   ]
  },
  {
   "cell_type": "code",
   "execution_count": 91,
   "id": "37c690e4",
   "metadata": {},
   "outputs": [
    {
     "data": {
      "text/plain": [
       "DecisionTreeClassifier(max_depth=10)"
      ]
     },
     "execution_count": 91,
     "metadata": {},
     "output_type": "execute_result"
    }
   ],
   "source": [
    "tree_depth_10_clf = DecisionTreeClassifier(\n",
    "    max_depth = 10)\n",
    "\n",
    "tree_depth_10_clf.fit(training, labels)"
   ]
  },
  {
   "cell_type": "code",
   "execution_count": 92,
   "id": "31ce9f49",
   "metadata": {},
   "outputs": [
    {
     "name": "stdout",
     "output_type": "stream",
     "text": [
      "Model performance: 100.00%\n"
     ]
    }
   ],
   "source": [
    "evaluate_performance(tree_depth_10_clf, training, labels)"
   ]
  },
  {
   "cell_type": "markdown",
   "id": "9a0bfb69",
   "metadata": {},
   "source": [
    "## Logistic regression"
   ]
  },
  {
   "cell_type": "code",
   "execution_count": 93,
   "id": "aa967abd",
   "metadata": {},
   "outputs": [
    {
     "data": {
      "text/plain": [
       "Pipeline(steps=[('scaler', StandardScaler()),\n",
       "                ('logistic_regression', LogisticRegression())])"
      ]
     },
     "execution_count": 93,
     "metadata": {},
     "output_type": "execute_result"
    }
   ],
   "source": [
    "logistic_regr_clf = Pipeline([\n",
    "    (\"scaler\", StandardScaler()),\n",
    "    (\"logistic_regression\", LogisticRegression()),\n",
    "])\n",
    "\n",
    "logistic_regr_clf.fit(training, labels)"
   ]
  },
  {
   "cell_type": "code",
   "execution_count": 94,
   "id": "815a4d71",
   "metadata": {},
   "outputs": [
    {
     "name": "stdout",
     "output_type": "stream",
     "text": [
      "Model performance: 97.33%\n"
     ]
    }
   ],
   "source": [
    "evaluate_performance(logistic_regr_clf, training, labels)"
   ]
  },
  {
   "cell_type": "markdown",
   "id": "2f818733",
   "metadata": {},
   "source": [
    "## Linear support vector machine"
   ]
  },
  {
   "cell_type": "code",
   "execution_count": 95,
   "id": "2553d4ba",
   "metadata": {},
   "outputs": [],
   "source": [
    "svm_clf = Pipeline([\n",
    "    (\"scaler\", StandardScaler()),\n",
    "    (\"linear_svc\", LinearSVC()), # SVC stands for support vector classifier\n",
    "])"
   ]
  },
  {
   "cell_type": "code",
   "execution_count": 96,
   "id": "3e96af11",
   "metadata": {},
   "outputs": [
    {
     "data": {
      "text/plain": [
       "Pipeline(steps=[('scaler', StandardScaler()), ('linear_svc', LinearSVC())])"
      ]
     },
     "execution_count": 96,
     "metadata": {},
     "output_type": "execute_result"
    }
   ],
   "source": [
    "svm_clf.fit(training, labels)"
   ]
  },
  {
   "cell_type": "code",
   "execution_count": 97,
   "id": "65fd179b",
   "metadata": {},
   "outputs": [
    {
     "name": "stdout",
     "output_type": "stream",
     "text": [
      "Model performance: 94.67%\n"
     ]
    }
   ],
   "source": [
    "evaluate_performance(svm_clf, training, labels)"
   ]
  },
  {
   "cell_type": "markdown",
   "id": "1b7857df",
   "metadata": {},
   "source": [
    "### Assessing feature importance"
   ]
  },
  {
   "cell_type": "code",
   "execution_count": 98,
   "id": "70ed0ee7",
   "metadata": {},
   "outputs": [
    {
     "name": "stdout",
     "output_type": "stream",
     "text": [
      "01) petal length (cm)              0.5641\n",
      "02) petal width (cm)               0.4226\n",
      "03) sepal length (cm)              0.0133\n",
      "04) sepal width (cm)               0.0000\n"
     ]
    }
   ],
   "source": [
    "feature_importances = pd.Series(\n",
    "    tree_depth_10_clf.feature_importances_,\n",
    "    index=training.columns)\n",
    "\n",
    "feature_importances.sort_values(inplace=True, ascending=False)\n",
    "for feature in enumerate(feature_importances.index):\n",
    "    print(f\"{(feature[0]+1):02d}) {feature[1]:<30} {feature_importances[feature[0]]:.4f}\")"
   ]
  },
  {
   "cell_type": "code",
   "execution_count": 99,
   "id": "0b51646e",
   "metadata": {},
   "outputs": [
    {
     "data": {
      "text/plain": [
       "<AxesSubplot:>"
      ]
     },
     "execution_count": 99,
     "metadata": {},
     "output_type": "execute_result"
    },
    {
     "data": {
      "image/png": "[encoded data removed]",
      "text/plain": [
       "<Figure size 432x360 with 1 Axes>"
      ]
     },
     "metadata": {
      "needs_background": "light"
     },
     "output_type": "display_data"
    }
   ],
   "source": [
    "plt.figure(figsize=(GRAPH_WIDTH, GRAPH_HEIGHT))\n",
    "feature_importances.sort_values(ascending=True).plot.barh()"
   ]
  },
  {
   "cell_type": "markdown",
   "id": "bb8d6811",
   "metadata": {},
   "source": [
    "## 6. Evaluation"
   ]
  },
  {
   "cell_type": "markdown",
   "id": "e7753b66",
   "metadata": {},
   "source": [
    "After selecting the best model, the last step is to evaluate its performance and assess its generability.\n",
    "\n",
    "We will leave this task for another class."
   ]
  }
 ],
 "metadata": {
  "kernelspec": {
   "display_name": "Python 3 (ipykernel)",
   "language": "python",
   "name": "python3"
  },
  "language_info": {
   "codemirror_mode": {
    "name": "ipython",
    "version": 3
   },
   "file_extension": ".py",
   "mimetype": "text/x-python",
   "name": "python",
   "nbconvert_exporter": "python",
   "pygments_lexer": "ipython3",
   "version": "3.9.6"
  }
 },
 "nbformat": 4,
 "nbformat_minor": 5
}
