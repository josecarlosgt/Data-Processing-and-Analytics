{
 "cells": [
  {
   "cell_type": "markdown",
   "id": "0aacdebd",
   "metadata": {},
   "source": [
    "# Predicting Customer Churn - Experiment: Visualizing a fitting curve "
   ]
  },
  {
   "cell_type": "markdown",
   "id": "82d18364",
   "metadata": {},
   "source": [
    "## Setup"
   ]
  },
  {
   "cell_type": "markdown",
   "id": "03480126",
   "metadata": {},
   "source": [
    "### Coding constants"
   ]
  },
  {
   "cell_type": "code",
   "execution_count": 1,
   "id": "41d37dac",
   "metadata": {},
   "outputs": [],
   "source": [
    "GRAPH_WIDTH = 10\n",
    "GRAPH_HEIGHT = 5"
   ]
  },
  {
   "cell_type": "markdown",
   "id": "09be433f",
   "metadata": {},
   "source": [
    "### Common imports"
   ]
  },
  {
   "cell_type": "code",
   "execution_count": 3,
   "id": "e2dc3da3",
   "metadata": {},
   "outputs": [],
   "source": [
    "# Data processing \n",
    "import pandas as pd\n",
    "from sklearn.pipeline import Pipeline\n",
    "from sklearn.preprocessing import StandardScaler\n",
    "\n",
    "# Data visualization \n",
    "%matplotlib inline\n",
    "import matplotlib.pyplot as plt\n",
    "import seaborn as sns\n",
    "\n",
    "# Data modeling \n",
    "from sklearn.model_selection import train_test_split\n",
    "from sklearn.tree import DecisionTreeClassifier"
   ]
  },
  {
   "cell_type": "markdown",
   "id": "e6ea0d44",
   "metadata": {},
   "source": [
    "### Data loading"
   ]
  },
  {
   "cell_type": "code",
   "execution_count": 4,
   "id": "6628d62e",
   "metadata": {},
   "outputs": [
    {
     "data": {
      "text/html": [
       "<div>\n",
       "<style scoped>\n",
       "    .dataframe tbody tr th:only-of-type {\n",
       "        vertical-align: middle;\n",
       "    }\n",
       "\n",
       "    .dataframe tbody tr th {\n",
       "        vertical-align: top;\n",
       "    }\n",
       "\n",
       "    .dataframe thead th {\n",
       "        text-align: right;\n",
       "    }\n",
       "</style>\n",
       "<table border=\"1\" class=\"dataframe\">\n",
       "  <thead>\n",
       "    <tr style=\"text-align: right;\">\n",
       "      <th></th>\n",
       "      <th>COLLEGE</th>\n",
       "      <th>INCOME</th>\n",
       "      <th>OVERAGE</th>\n",
       "      <th>LEFTOVER</th>\n",
       "      <th>HOUSE</th>\n",
       "      <th>HANDSET_PRICE</th>\n",
       "      <th>OVER_15MINS_CALLS_PER_MONTH</th>\n",
       "      <th>AVERAGE_CALL_DURATION</th>\n",
       "      <th>REPORTED_SATISFACTION</th>\n",
       "      <th>REPORTED_USAGE_LEVEL</th>\n",
       "      <th>CONSIDERING_CHANGE_OF_PLAN</th>\n",
       "      <th>LEAVE</th>\n",
       "    </tr>\n",
       "  </thead>\n",
       "  <tbody>\n",
       "    <tr>\n",
       "      <th>0</th>\n",
       "      <td>0</td>\n",
       "      <td>31953</td>\n",
       "      <td>0</td>\n",
       "      <td>6</td>\n",
       "      <td>313378</td>\n",
       "      <td>161</td>\n",
       "      <td>0</td>\n",
       "      <td>4</td>\n",
       "      <td>3</td>\n",
       "      <td>3</td>\n",
       "      <td>1</td>\n",
       "      <td>1</td>\n",
       "    </tr>\n",
       "    <tr>\n",
       "      <th>1</th>\n",
       "      <td>1</td>\n",
       "      <td>36147</td>\n",
       "      <td>0</td>\n",
       "      <td>13</td>\n",
       "      <td>800586</td>\n",
       "      <td>244</td>\n",
       "      <td>0</td>\n",
       "      <td>6</td>\n",
       "      <td>3</td>\n",
       "      <td>3</td>\n",
       "      <td>2</td>\n",
       "      <td>1</td>\n",
       "    </tr>\n",
       "    <tr>\n",
       "      <th>2</th>\n",
       "      <td>1</td>\n",
       "      <td>27273</td>\n",
       "      <td>230</td>\n",
       "      <td>0</td>\n",
       "      <td>305049</td>\n",
       "      <td>201</td>\n",
       "      <td>16</td>\n",
       "      <td>15</td>\n",
       "      <td>3</td>\n",
       "      <td>4</td>\n",
       "      <td>3</td>\n",
       "      <td>1</td>\n",
       "    </tr>\n",
       "    <tr>\n",
       "      <th>3</th>\n",
       "      <td>0</td>\n",
       "      <td>120070</td>\n",
       "      <td>38</td>\n",
       "      <td>33</td>\n",
       "      <td>788235</td>\n",
       "      <td>780</td>\n",
       "      <td>3</td>\n",
       "      <td>2</td>\n",
       "      <td>3</td>\n",
       "      <td>0</td>\n",
       "      <td>2</td>\n",
       "      <td>0</td>\n",
       "    </tr>\n",
       "    <tr>\n",
       "      <th>4</th>\n",
       "      <td>1</td>\n",
       "      <td>29215</td>\n",
       "      <td>208</td>\n",
       "      <td>85</td>\n",
       "      <td>224784</td>\n",
       "      <td>241</td>\n",
       "      <td>21</td>\n",
       "      <td>1</td>\n",
       "      <td>4</td>\n",
       "      <td>3</td>\n",
       "      <td>0</td>\n",
       "      <td>1</td>\n",
       "    </tr>\n",
       "  </tbody>\n",
       "</table>\n",
       "</div>"
      ],
      "text/plain": [
       "   COLLEGE  INCOME  OVERAGE  LEFTOVER   HOUSE  HANDSET_PRICE  \\\n",
       "0        0   31953        0         6  313378            161   \n",
       "1        1   36147        0        13  800586            244   \n",
       "2        1   27273      230         0  305049            201   \n",
       "3        0  120070       38        33  788235            780   \n",
       "4        1   29215      208        85  224784            241   \n",
       "\n",
       "   OVER_15MINS_CALLS_PER_MONTH  AVERAGE_CALL_DURATION  REPORTED_SATISFACTION  \\\n",
       "0                            0                      4                      3   \n",
       "1                            0                      6                      3   \n",
       "2                           16                     15                      3   \n",
       "3                            3                      2                      3   \n",
       "4                           21                      1                      4   \n",
       "\n",
       "   REPORTED_USAGE_LEVEL  CONSIDERING_CHANGE_OF_PLAN  LEAVE  \n",
       "0                     3                           1      1  \n",
       "1                     3                           2      1  \n",
       "2                     4                           3      1  \n",
       "3                     0                           2      0  \n",
       "4                     3                           0      1  "
      ]
     },
     "execution_count": 4,
     "metadata": {},
     "output_type": "execute_result"
    }
   ],
   "source": [
    "df = pd.read_csv('data/customer-churn.csv')\n",
    "df.head()"
   ]
  },
  {
   "cell_type": "code",
   "execution_count": 5,
   "id": "1e8bda30",
   "metadata": {},
   "outputs": [
    {
     "data": {
      "text/plain": [
       "(20000, 12)"
      ]
     },
     "execution_count": 5,
     "metadata": {},
     "output_type": "execute_result"
    }
   ],
   "source": [
    "df.shape"
   ]
  },
  {
   "cell_type": "code",
   "execution_count": 6,
   "id": "08d04409",
   "metadata": {},
   "outputs": [
    {
     "data": {
      "text/plain": [
       "Index(['COLLEGE', 'INCOME', 'OVERAGE', 'LEFTOVER', 'HOUSE', 'HANDSET_PRICE',\n",
       "       'OVER_15MINS_CALLS_PER_MONTH', 'AVERAGE_CALL_DURATION',\n",
       "       'REPORTED_SATISFACTION', 'REPORTED_USAGE_LEVEL',\n",
       "       'CONSIDERING_CHANGE_OF_PLAN', 'LEAVE'],\n",
       "      dtype='object')"
      ]
     },
     "execution_count": 6,
     "metadata": {},
     "output_type": "execute_result"
    }
   ],
   "source": [
    "df.columns"
   ]
  },
  {
   "cell_type": "markdown",
   "id": "aaed9846",
   "metadata": {},
   "source": [
    "## Experiment: Visualizing a fitting curve"
   ]
  },
  {
   "cell_type": "markdown",
   "id": "c88fc5ca",
   "metadata": {},
   "source": [
    "We will keep using our simple measure of performance that computes the ratio between correct and wrong predictions:"
   ]
  },
  {
   "cell_type": "code",
   "execution_count": 7,
   "id": "3704a662",
   "metadata": {},
   "outputs": [],
   "source": [
    "def evaluate_performance(model, training, labels):\n",
    "    labels_pred = model.predict(training)\n",
    "    n_correct = sum(labels_pred == labels)   \n",
    "    performance = n_correct / len(labels_pred)\n",
    "  \n",
    "    return performance"
   ]
  },
  {
   "cell_type": "markdown",
   "id": "147cad91",
   "metadata": {},
   "source": [
    "Scikit-Learn provides a few functions to split datasets into multiple subsets in various ways. The simplest function is train_test_split(). This function has a random_state parameter that allows you to set the random generator seed, useful for obtaining the same split every time we call train_test_split with the same random state."
   ]
  },
  {
   "cell_type": "markdown",
   "id": "9138d7d1",
   "metadata": {},
   "source": [
    "We will split our data into two sets:\n",
    "- One set called training set\n",
    "- One set called holdout set"
   ]
  },
  {
   "cell_type": "code",
   "execution_count": 8,
   "id": "15ddc455",
   "metadata": {},
   "outputs": [
    {
     "name": "stdout",
     "output_type": "stream",
     "text": [
      "(16000, 12)\n",
      "(4000, 12)\n"
     ]
    }
   ],
   "source": [
    "training_set, holdout_set = train_test_split(df, test_size=0.2, random_state=15)\n",
    "\n",
    "print(training_set.shape)\n",
    "print(holdout_set.shape)"
   ]
  },
  {
   "cell_type": "markdown",
   "id": "55918608",
   "metadata": {},
   "source": [
    "Split the training set into two dataframes:\n",
    "- One dataframe containing all the attributes\n",
    "- One dataframe containing all the labels, i.e., the values of the target variable (LEAVE)"
   ]
  },
  {
   "cell_type": "code",
   "execution_count": 9,
   "id": "1fecd1a1",
   "metadata": {},
   "outputs": [],
   "source": [
    "training_attr = training_set.loc[:, training_set.columns != 'LEAVE']\n",
    "training_labels = training_set['LEAVE']"
   ]
  },
  {
   "cell_type": "markdown",
   "id": "675a835a",
   "metadata": {},
   "source": [
    "Perform the same task for the holdout set"
   ]
  },
  {
   "cell_type": "code",
   "execution_count": 10,
   "id": "58a340c6",
   "metadata": {},
   "outputs": [],
   "source": [
    "holdout_attr = holdout_set.loc[:, holdout_set.columns != 'LEAVE']\n",
    "holdout_labels = holdout_set['LEAVE']"
   ]
  },
  {
   "cell_type": "markdown",
   "id": "8d901097",
   "metadata": {},
   "source": [
    "We will build many decision trees with a different depth each. For each decision tree built, we will have three considerations:\n",
    "1. First, we will build the decision tree using the training set\n",
    "2. Second, we will assess the accuracy (performance or error) of the decision tree on the training set\n",
    "3. Third, we will also assess the accuracy of the decision tree on the holdout set.\n",
    "\n",
    "The purpose of this experiment is to measure the accuracy of a decision tree on training and holdout sets as we vary the depth of the tree. \n",
    "\n",
    "**Note the holdout set was not used to train the model; thus, measuring accuracy on the holdout set gives us an estimation of generalization performance.**  "
   ]
  },
  {
   "cell_type": "code",
   "execution_count": 11,
   "id": "c4b9a609",
   "metadata": {},
   "outputs": [],
   "source": [
    "training_performance_values = []\n",
    "holdout_performance_values = []\n",
    "depth_values = []\n",
    "\n",
    "for depth in range(1, 51, 1):    \n",
    "    tree_clf = DecisionTreeClassifier(max_depth = depth)\n",
    "    tree_clf.fit(training_attr, training_labels)\n",
    "    \n",
    "    training_performance = evaluate_performance(tree_clf, training_attr, training_labels)\n",
    "    training_performance_values.append(training_performance)\n",
    "    \n",
    "    holdout_performance = evaluate_performance(tree_clf, holdout_attr, holdout_labels)\n",
    "    holdout_performance_values.append(holdout_performance)\n",
    "\n",
    "    depth_values.append(depth)"
   ]
  },
  {
   "cell_type": "markdown",
   "id": "591c9053",
   "metadata": {},
   "source": [
    "Create a dataframe with the results of the experiment to facilitate building the graph:"
   ]
  },
  {
   "cell_type": "code",
   "execution_count": 12,
   "id": "275c44f0",
   "metadata": {},
   "outputs": [
    {
     "data": {
      "text/html": [
       "<div>\n",
       "<style scoped>\n",
       "    .dataframe tbody tr th:only-of-type {\n",
       "        vertical-align: middle;\n",
       "    }\n",
       "\n",
       "    .dataframe tbody tr th {\n",
       "        vertical-align: top;\n",
       "    }\n",
       "\n",
       "    .dataframe thead th {\n",
       "        text-align: right;\n",
       "    }\n",
       "</style>\n",
       "<table border=\"1\" class=\"dataframe\">\n",
       "  <thead>\n",
       "    <tr style=\"text-align: right;\">\n",
       "      <th></th>\n",
       "      <th>Performance on training data</th>\n",
       "      <th>Performance on holdout data</th>\n",
       "    </tr>\n",
       "  </thead>\n",
       "  <tbody>\n",
       "    <tr>\n",
       "      <th>1</th>\n",
       "      <td>0.621812</td>\n",
       "      <td>0.61200</td>\n",
       "    </tr>\n",
       "    <tr>\n",
       "      <th>2</th>\n",
       "      <td>0.646437</td>\n",
       "      <td>0.64325</td>\n",
       "    </tr>\n",
       "    <tr>\n",
       "      <th>3</th>\n",
       "      <td>0.662500</td>\n",
       "      <td>0.66425</td>\n",
       "    </tr>\n",
       "    <tr>\n",
       "      <th>4</th>\n",
       "      <td>0.688625</td>\n",
       "      <td>0.68825</td>\n",
       "    </tr>\n",
       "    <tr>\n",
       "      <th>5</th>\n",
       "      <td>0.695812</td>\n",
       "      <td>0.69100</td>\n",
       "    </tr>\n",
       "  </tbody>\n",
       "</table>\n",
       "</div>"
      ],
      "text/plain": [
       "   Performance on training data  Performance on holdout data\n",
       "1                      0.621812                      0.61200\n",
       "2                      0.646437                      0.64325\n",
       "3                      0.662500                      0.66425\n",
       "4                      0.688625                      0.68825\n",
       "5                      0.695812                      0.69100"
      ]
     },
     "execution_count": 12,
     "metadata": {},
     "output_type": "execute_result"
    }
   ],
   "source": [
    "fitting_curve = pd.DataFrame({\n",
    "    'Performance on training data': training_performance_values,\n",
    "    'Performance on holdout data': holdout_performance_values,\n",
    "}, index= depth_values)\n",
    "\n",
    "fitting_curve.head()"
   ]
  },
  {
   "cell_type": "code",
   "execution_count": 13,
   "id": "a78dd562",
   "metadata": {},
   "outputs": [
    {
     "data": {
      "text/plain": [
       "Text(0, 0.5, 'Accuracy')"
      ]
     },
     "execution_count": 13,
     "metadata": {},
     "output_type": "execute_result"
    },
    {
     "data": {
      "image/png": "[encoded data removed]",
      "text/plain": [
       "<Figure size 720x360 with 1 Axes>"
      ]
     },
     "metadata": {
      "needs_background": "light"
     },
     "output_type": "display_data"
    }
   ],
   "source": [
    "plt.figure(figsize=(GRAPH_WIDTH, GRAPH_HEIGHT))\n",
    "\n",
    "plot = sns.lineplot(\n",
    "    data=fitting_curve,\n",
    "    dashes=False)\n",
    "\n",
    "plot.set_title('Fitting Graph', fontsize = 15)\n",
    "plot.set_xlabel(\"Tree depth\", fontsize = 15)\n",
    "plot.set_ylabel(\"Accuracy\", fontsize = 15)"
   ]
  },
  {
   "cell_type": "markdown",
   "id": "7a8872e7",
   "metadata": {},
   "source": [
    "The fitting curve shows a typical inverted U-shape for the accuracy of the models on the holdout set.\n",
    "\n",
    "Beginning at the left, the tree is very small and has poor performance. As it is allowed more and more nodes it improves rapidly, and both training-set accuracy and holdoutset accuracy improve. Also we see that training-set accuracy always is at least a little better than holdout-set accuracy, since we did get to look at the training data when building the model.\n",
    "\n",
    "> At some point the tree starts to overfit: it acquires details of the training set that are not characteristic of the population in general, as represented by the holdout set.\n",
    "\n",
    "In this experiment overfitting starts to happen at around depth = 5, known as a \"sweet spot\". As the trees are allowed to get larger, the training set accuracy continues to increase—in fact, it is capable of memorizing the entire training set if we let it, leading to an accuracy of 1.0.\n",
    "\n",
    "But the holdout accuracy declines as the tree grows past its “sweet spot”; the data subsets at the leaves get smaller\n",
    "and smaller, and the model generalizes from fewer and fewer data. Such inferences will be increasingly error-prone and the performance on the holdout data suffers."
   ]
  }
 ],
 "metadata": {
  "kernelspec": {
   "display_name": "Python 3 (ipykernel)",
   "language": "python",
   "name": "python3"
  },
  "language_info": {
   "codemirror_mode": {
    "name": "ipython",
    "version": 3
   },
   "file_extension": ".py",
   "mimetype": "text/x-python",
   "name": "python",
   "nbconvert_exporter": "python",
   "pygments_lexer": "ipython3",
   "version": "3.9.6"
  }
 },
 "nbformat": 4,
 "nbformat_minor": 5
}
