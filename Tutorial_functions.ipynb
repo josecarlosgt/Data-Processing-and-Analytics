{
 "cells": [
  {
   "cell_type": "markdown",
   "id": "a0a7f37b",
   "metadata": {},
   "source": [
    "# Tutorial: Functions\n",
    "\n",
    "In this tutorial, you will learn how to create your own reusable Python functions.\n",
    "\n",
    "Learning objectives:\n",
    "1. Manipulate sequence-like objects through built-in sequence functions \n",
    "2. Create custom functions\n",
    "3. Create anonymous (lambda) functions"
   ]
  },
  {
   "cell_type": "markdown",
   "id": "bfe130ff",
   "metadata": {},
   "source": [
    "## 1. Built-in sequence functions\n",
    "\n",
    "Python has a handful of useful functions to work with iterable objects that you should familiarize yourself with and use at any opportunity."
   ]
  },
  {
   "cell_type": "markdown",
   "id": "7346b9a8",
   "metadata": {},
   "source": [
    "### len()\n",
    "\n",
    "Return the length (the number of items) of an object. The argument may be a sequence or a collection."
   ]
  },
  {
   "cell_type": "code",
   "execution_count": 1,
   "id": "aed7d70c",
   "metadata": {},
   "outputs": [
    {
     "data": {
      "text/plain": [
       "5"
      ]
     },
     "execution_count": 1,
     "metadata": {},
     "output_type": "execute_result"
    }
   ],
   "source": [
    "a_list = [5, 6, 1, 2, 10]\n",
    "len(a_list) # number of items in the list"
   ]
  },
  {
   "cell_type": "code",
   "execution_count": 2,
   "id": "765397b1",
   "metadata": {},
   "outputs": [
    {
     "data": {
      "text/plain": [
       "2"
      ]
     },
     "execution_count": 2,
     "metadata": {},
     "output_type": "execute_result"
    }
   ],
   "source": [
    "dictionary = {'a': 1, 'b': 2}\n",
    "len(dictionary) # number of items in the dictionary"
   ]
  },
  {
   "cell_type": "code",
   "execution_count": 3,
   "id": "85d309bd",
   "metadata": {},
   "outputs": [
    {
     "data": {
      "text/plain": [
       "4"
      ]
     },
     "execution_count": 3,
     "metadata": {},
     "output_type": "execute_result"
    }
   ],
   "source": [
    "a_string = \"abcd\"\n",
    "len(a_string)"
   ]
  },
  {
   "cell_type": "markdown",
   "id": "47453e80",
   "metadata": {},
   "source": [
    "### enumerate()\n",
    "\n",
    "It’s common when iterating over a sequence to want to keep track of the index of the current item. "
   ]
  },
  {
   "cell_type": "code",
   "execution_count": 4,
   "id": "23ee6389",
   "metadata": {},
   "outputs": [
    {
     "name": "stdout",
     "output_type": "stream",
     "text": [
      "0 -> a\n",
      "1 -> b\n",
      "2 -> c\n",
      "3 -> d\n"
     ]
    }
   ],
   "source": [
    "tup = ('a', 'b', 'c', 'd')\n",
    "\n",
    "index = 0\n",
    "for value in tup:\n",
    "    # do something with index and value\n",
    "    print(index, \"->\", tup[index])\n",
    "    \n",
    "    # increase index to retrieve next item in collection\n",
    "    index += 1"
   ]
  },
  {
   "cell_type": "markdown",
   "id": "e0318bde",
   "metadata": {},
   "source": [
    "Since this is so common, Python has a built-in function, enumerate, which returns a sequence of (i, value) tuples: "
   ]
  },
  {
   "cell_type": "code",
   "execution_count": 5,
   "id": "565122df",
   "metadata": {},
   "outputs": [
    {
     "name": "stdout",
     "output_type": "stream",
     "text": [
      "0 -> a\n",
      "1 -> b\n",
      "2 -> c\n",
      "3 -> d\n"
     ]
    }
   ],
   "source": [
    "for index, value in enumerate(tup):\n",
    "    print(index, \"->\", value)"
   ]
  },
  {
   "cell_type": "markdown",
   "id": "0da72ede",
   "metadata": {},
   "source": [
    "### sorted()\n",
    "\n",
    "The sorted function returns a new sorted list from the elements of any sequence.\n",
    "\n",
    "The sorted function accepts the same arguments as the sort method on lists."
   ]
  },
  {
   "cell_type": "code",
   "execution_count": 6,
   "id": "80d2fb44",
   "metadata": {},
   "outputs": [
    {
     "data": {
      "text/plain": [
       "[1, 2, 5, 6, 10]"
      ]
     },
     "execution_count": 6,
     "metadata": {},
     "output_type": "execute_result"
    }
   ],
   "source": [
    "a_list = [5, 6, 1, 2, 10]\n",
    "\n",
    "sorted(a_list)"
   ]
  },
  {
   "cell_type": "markdown",
   "id": "939bb123",
   "metadata": {},
   "source": [
    "### range()\n",
    "\n",
    "The range function returns an iterator that yields a sequence of integers:"
   ]
  },
  {
   "cell_type": "code",
   "execution_count": 7,
   "id": "10e9bb00",
   "metadata": {},
   "outputs": [
    {
     "data": {
      "text/plain": [
       "range(0, 10)"
      ]
     },
     "execution_count": 7,
     "metadata": {},
     "output_type": "execute_result"
    }
   ],
   "source": [
    "r = range(10)\n",
    "r"
   ]
  },
  {
   "cell_type": "markdown",
   "id": "c560ffc8",
   "metadata": {},
   "source": [
    "The range function does not directly return all the elements in the range. If we need to, we can use *list()* to generate at once all the elements specified in the iterator:"
   ]
  },
  {
   "cell_type": "code",
   "execution_count": 8,
   "id": "20937d66",
   "metadata": {},
   "outputs": [
    {
     "data": {
      "text/plain": [
       "[0, 1, 2, 3, 4, 5, 6, 7, 8, 9]"
      ]
     },
     "execution_count": 8,
     "metadata": {},
     "output_type": "execute_result"
    }
   ],
   "source": [
    "list(r) # We use the *list* function to materialize the objects specified in the range object"
   ]
  },
  {
   "cell_type": "markdown",
   "id": "526df115",
   "metadata": {},
   "source": [
    "> Using functions like *range()* consume less amount of memory when compared to a list or tuple. Irrespective of the range it represents, a range iterator *yields* only one element at a time. "
   ]
  },
  {
   "cell_type": "markdown",
   "id": "ac5876c7",
   "metadata": {},
   "source": [
    "We can specify a start and end:"
   ]
  },
  {
   "cell_type": "code",
   "execution_count": 9,
   "id": "ca091545",
   "metadata": {},
   "outputs": [
    {
     "data": {
      "text/plain": [
       "[10, 11, 12, 13, 14, 15, 16, 17, 18, 19]"
      ]
     },
     "execution_count": 9,
     "metadata": {},
     "output_type": "execute_result"
    }
   ],
   "source": [
    "list(range(10, 20))"
   ]
  },
  {
   "cell_type": "markdown",
   "id": "f687d2d8",
   "metadata": {},
   "source": [
    "Besides a start and end, a step (which may be negative) can be given:"
   ]
  },
  {
   "cell_type": "code",
   "execution_count": 10,
   "id": "3e143f59",
   "metadata": {},
   "outputs": [
    {
     "data": {
      "text/plain": [
       "[0, 2, 4, 6, 8, 10, 12, 14, 16, 18]"
      ]
     },
     "execution_count": 10,
     "metadata": {},
     "output_type": "execute_result"
    }
   ],
   "source": [
    "list(range(0, 20, 2))"
   ]
  },
  {
   "cell_type": "code",
   "execution_count": 11,
   "id": "3c5a4d5d",
   "metadata": {},
   "outputs": [
    {
     "data": {
      "text/plain": [
       "[5, 4, 3, 2, 1]"
      ]
     },
     "execution_count": 11,
     "metadata": {},
     "output_type": "execute_result"
    }
   ],
   "source": [
    "list(range(5, 0, -1))"
   ]
  },
  {
   "cell_type": "markdown",
   "id": "505e434f",
   "metadata": {},
   "source": [
    "A common use of range is for iterating through sequences by index:"
   ]
  },
  {
   "cell_type": "code",
   "execution_count": 12,
   "id": "309b6fe0",
   "metadata": {},
   "outputs": [
    {
     "name": "stdout",
     "output_type": "stream",
     "text": [
      "1\n",
      "2\n",
      "3\n",
      "4\n"
     ]
    }
   ],
   "source": [
    "seq = [1, 2, 3, 4]\n",
    "for i in range(len(seq)):\n",
    "    val = seq[i]\n",
    "    print (val)"
   ]
  },
  {
   "cell_type": "markdown",
   "id": "cb2920a5",
   "metadata": {},
   "source": [
    "### reversed()\n",
    "\n",
    "reversed iterates over the elements of a sequence in reverse order:"
   ]
  },
  {
   "cell_type": "code",
   "execution_count": 13,
   "id": "ab2fe75f",
   "metadata": {},
   "outputs": [
    {
     "data": {
      "text/plain": [
       "[9, 8, 7, 6, 5, 4, 3, 2, 1, 0]"
      ]
     },
     "execution_count": 13,
     "metadata": {},
     "output_type": "execute_result"
    }
   ],
   "source": [
    "list(reversed(range(10)))"
   ]
  },
  {
   "cell_type": "markdown",
   "id": "58c892fd",
   "metadata": {},
   "source": [
    "## 2. Creating custom functions\n",
    "\n",
    "Functions are declared with the *def* keyword and returned from with the *return* keyword:"
   ]
  },
  {
   "cell_type": "code",
   "execution_count": 14,
   "id": "f52303a8",
   "metadata": {},
   "outputs": [],
   "source": [
    "def my_function(x, y, z):\n",
    "    if z > 1:\n",
    "        return z * (x + y)\n",
    "    else:\n",
    "        return z / (x + y)"
   ]
  },
  {
   "cell_type": "code",
   "execution_count": 15,
   "id": "523ced95",
   "metadata": {},
   "outputs": [
    {
     "data": {
      "text/plain": [
       "50"
      ]
     },
     "execution_count": 15,
     "metadata": {},
     "output_type": "execute_result"
    }
   ],
   "source": [
    "my_function(5,5,5)"
   ]
  },
  {
   "cell_type": "markdown",
   "id": "8893506f",
   "metadata": {},
   "source": [
    "### Returning Multiple Values\n",
    "\n",
    "In data analysis and other scientific applications, you may find yourself doing this often. What’s happening here is that the function is actually just returning one object, namely a tuple, which is then being unpacked into the result variables. "
   ]
  },
  {
   "cell_type": "code",
   "execution_count": 16,
   "id": "86dd3eb1",
   "metadata": {},
   "outputs": [
    {
     "name": "stdout",
     "output_type": "stream",
     "text": [
      "5 6 7\n"
     ]
    }
   ],
   "source": [
    "def f():\n",
    "    a=5\n",
    "    b=6\n",
    "    c=7\n",
    "\n",
    "    return a, b, c\n",
    "\n",
    "a,b,c=f()\n",
    "\n",
    "print(f'{a} {b} {c}')"
   ]
  },
  {
   "cell_type": "markdown",
   "id": "fba92b09",
   "metadata": {},
   "source": [
    "### Functions are objects too!\n",
    "\n",
    "You can use functions as arguments to other functions:"
   ]
  },
  {
   "cell_type": "code",
   "execution_count": 21,
   "id": "bf200e4b",
   "metadata": {},
   "outputs": [],
   "source": [
    "import re\n",
    "\n",
    "def remove_punctuation(value):\n",
    "    return re.sub('[!#?]', '', value)\n",
    "\n",
    "clean_ops = [str.strip, remove_punctuation, str.title]\n",
    "\n",
    "def clean_strings(strings, ops):\n",
    "    result = set()\n",
    "    for value in strings:\n",
    "        for function in ops:\n",
    "            value = function(value)\n",
    "        result.add(value)\n",
    "    \n",
    "    return result"
   ]
  },
  {
   "cell_type": "code",
   "execution_count": 22,
   "id": "db5d340e",
   "metadata": {},
   "outputs": [
    {
     "data": {
      "text/plain": [
       "{'Alabama', 'Florida', 'Georgia', 'South Carolina', 'West Virginia'}"
      ]
     },
     "execution_count": 22,
     "metadata": {},
     "output_type": "execute_result"
    }
   ],
   "source": [
    "states = [' Alabama ', 'Georgia!', 'Georgia', 'georgia', 'FlOrIda', 'south carolina##', 'West virginia?']\n",
    "\n",
    "clean_strings(states, clean_ops)"
   ]
  },
  {
   "cell_type": "markdown",
   "id": "244ec7ef",
   "metadata": {},
   "source": [
    "## 3. Anonymous (lambda) functions\n",
    "\n",
    "Python has support for anonymous or lambda functions, which are a way of writing functions consisting of a single statement, the result of which is the return value. They are defined with the lambda keyword, which has no meaning other than \"we are declaring an anonymous function.\"\n",
    "\n",
    "One reason lambda functions are called anonymous functions is that, unlike functions declared with the def keyword, the function object itself is never given an explicit \\__name__ attribute."
   ]
  },
  {
   "cell_type": "code",
   "execution_count": 53,
   "id": "527d13c8",
   "metadata": {},
   "outputs": [
    {
     "data": {
      "text/plain": [
       "4"
      ]
     },
     "execution_count": 53,
     "metadata": {},
     "output_type": "execute_result"
    }
   ],
   "source": [
    "anonymous_function = lambda x: x * 2\n",
    "\n",
    "anonymous_function(2)"
   ]
  },
  {
   "cell_type": "markdown",
   "id": "10000282",
   "metadata": {},
   "source": [
    "The code above is equivalent to creating a function using the def keyword:"
   ]
  },
  {
   "cell_type": "code",
   "execution_count": 54,
   "id": "ed75a77b",
   "metadata": {},
   "outputs": [
    {
     "data": {
      "text/plain": [
       "4"
      ]
     },
     "execution_count": 54,
     "metadata": {},
     "output_type": "execute_result"
    }
   ],
   "source": [
    "def short_function(x):\n",
    "    return x*2\n",
    "\n",
    "short_function(2)"
   ]
  },
  {
   "cell_type": "markdown",
   "id": "a881bcea",
   "metadata": {},
   "source": [
    "*Lambda functions are convenient in data analysis* because there are many cases where data transformation functions will take functions as arguments. It’s often less typing (and clearer) to pass a lambda function as opposed to writing a full-out function declaration or even assigning the lambda function to a local variable."
   ]
  },
  {
   "cell_type": "markdown",
   "id": "44a84fcd",
   "metadata": {},
   "source": [
    "For example, we can use lambda functions and the [reduce](https://www.geeksforgeeks.org/reduce-in-python/) function from the [functools](https://docs.python.org/3/library/functools.html) to process elements in a list:"
   ]
  },
  {
   "cell_type": "code",
   "execution_count": 65,
   "id": "8ecc4b27",
   "metadata": {},
   "outputs": [
    {
     "data": {
      "text/plain": [
       "5"
      ]
     },
     "execution_count": 65,
     "metadata": {},
     "output_type": "execute_result"
    }
   ],
   "source": [
    "from functools import reduce\n",
    "\n",
    "a_list=[1, 1, 1, 2]\n",
    "\n",
    "reduce(lambda a, b: a + b, a_list)"
   ]
  },
  {
   "cell_type": "markdown",
   "id": "82f63dd5",
   "metadata": {},
   "source": [
    "We can easily specify the behavior of the reduce function with lambda functions:"
   ]
  },
  {
   "cell_type": "code",
   "execution_count": 64,
   "id": "1cb49d62",
   "metadata": {},
   "outputs": [
    {
     "data": {
      "text/plain": [
       "2"
      ]
     },
     "execution_count": 64,
     "metadata": {},
     "output_type": "execute_result"
    }
   ],
   "source": [
    "reduce(lambda a, b: a * b, a_list)"
   ]
  },
  {
   "cell_type": "code",
   "execution_count": null,
   "id": "eb68326b",
   "metadata": {},
   "outputs": [],
   "source": []
  }
 ],
 "metadata": {
  "kernelspec": {
   "display_name": "Python 3 (ipykernel)",
   "language": "python",
   "name": "python3"
  },
  "language_info": {
   "codemirror_mode": {
    "name": "ipython",
    "version": 3
   },
   "file_extension": ".py",
   "mimetype": "text/x-python",
   "name": "python",
   "nbconvert_exporter": "python",
   "pygments_lexer": "ipython3",
   "version": "3.9.6"
  }
 },
 "nbformat": 4,
 "nbformat_minor": 5
}
