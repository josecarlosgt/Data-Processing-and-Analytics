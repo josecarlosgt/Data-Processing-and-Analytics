{
 "cells": [
  {
   "cell_type": "markdown",
   "metadata": {},
   "source": [
    "# Lab Practice: Python language basics and control flow\n",
    "\n",
    "In this lab, you will practice fundamental concepts of programming in Python covered previously in tutorials.\n",
    "\n",
    "Learning objectives:\n",
    "- Practice the use of scalar types and string formatting in Python\n",
    "- Practice control flow structures in Python, including conditionals and iteration statements\n",
    "- Work with time data in Python\n",
    "\n",
    "### Some helpful notes:\n",
    "- This lab practice should take about two hours to complete.\n",
    "If a problem takes you too long to solve, don't hesitate to ask your instructor in class or post your questions in Canvas.\n",
    "- Do not try to solve the problems by copy&pasting solutions from other sources. Engaging in this kind of practice may lead you to finish this lab faster, but it won't contribute to your learning and improving your problem-solving skills. \n",
    "- When browsing for examples about Python's utilities and features, try to understand the logic and purpose of the functionality you incorporate in your solutions.\n",
    "- Make sure you review the examples covered in the tutorials before attempting this lab.\n",
    "\n",
    "> When using general-purpose programming languages like Python, it is common to rely on external sources of documentation to solve specific problems. In this lab practice, you will use references to Python's official documentation site and other sites to learn more about string interpolation in Python (f-strings) and how to work with dates and times."
   ]
  },
  {
   "cell_type": "markdown",
   "metadata": {},
   "source": [
    "## Formatting\n",
    "\n",
    "Python's *f-strings* include several options for formatting several types of values, such as dates and numbers. Use *f-strings* to solve problems 1 to 3.\n",
    "\n",
    "The link below contains a useful reference for all possible formats supported by *f-strings*:\n",
    "\n",
    "[Python f-strings guide](https://saralgyaan.com/posts/f-string-in-python-usage-guide)"
   ]
  },
  {
   "cell_type": "markdown",
   "metadata": {},
   "source": [
    "### Problem 1: string interpolation \n",
    "\n",
    "Generate a string that includes the sum of the two integers in the next cell. Your string should read:\n",
    "\n",
    "*'The sum of 5 and 10 is 15'*\n",
    "\n",
    "Your string should work regardless of the values in the *number_1* and *number_2* variables."
   ]
  },
  {
   "cell_type": "code",
   "execution_count": 69,
   "metadata": {},
   "outputs": [],
   "source": [
    "number_1 = 5\n",
    "number_2 = 10\n",
    "\n",
    "# YOUR SOLUTION"
   ]
  },
  {
   "cell_type": "markdown",
   "metadata": {},
   "source": [
    "### Problem 2: formatting currencies\n",
    "\n",
    "Generate a string that displays the total variable below with a dollar sign and two decimal values. Your string should read:\n",
    "\n",
    "*'The total of your order is $10.40'*\n",
    "\n",
    "Your string should work regardless of the value in the *total* variable."
   ]
  },
  {
   "cell_type": "code",
   "execution_count": 71,
   "metadata": {},
   "outputs": [],
   "source": [
    "total=10\n",
    "\n",
    "# YOUR SOLUTION"
   ]
  },
  {
   "cell_type": "markdown",
   "metadata": {},
   "source": [
    "### Problem 3: Padding zeros\n",
    "\n",
    "Generate one string for each integer value in the *totals* list. If the value contains only one digit, your string should contain a leading 0. Your strings should read:\n",
    "\n",
    "- 01\n",
    "- 04\n",
    "- 05\n",
    "- 10\n",
    "- 23\n",
    "- 04\n",
    "- 55\n",
    "\n",
    "Use the *print* function to display each string."
   ]
  },
  {
   "cell_type": "code",
   "execution_count": 73,
   "metadata": {},
   "outputs": [],
   "source": [
    "totals = [1, 4, 5, 10, 23, 4, 55]\n",
    "\n",
    "# YOUR SOLUTION"
   ]
  },
  {
   "cell_type": "markdown",
   "metadata": {},
   "source": [
    "## Problem 4: Sales tax calculator\n",
    "\n",
    "Write an expression that takes a state tax rate and price value, including tax, and generates the following string:"
   ]
  },
  {
   "cell_type": "code",
   "execution_count": 75,
   "metadata": {},
   "outputs": [
    {
     "name": "stdout",
     "output_type": "stream",
     "text": [
      "\n",
      "    CA tax rate: 7.5%\n",
      "    Price excluding tax: $93.02\n",
      "    Tax: $6.98\n",
      "\n"
     ]
    }
   ],
   "source": [
    "print(\"\"\"\n",
    "    CA tax rate: 7.5%\n",
    "    Price excluding tax: $93.02\n",
    "    Tax: $6.98\n",
    "\"\"\")"
   ]
  },
  {
   "cell_type": "markdown",
   "metadata": {},
   "source": [
    "Your solution should display:\n",
    "- The tax rate as a percentage\n",
    "- Each value should be displayed with two decimal points\n",
    "- A dollar sign should precede currency values\n",
    "\n",
    "The link below can be useful to check your answer.\n",
    "\n",
    "[US Sales Tax Calculator](https://calculatorsworld.com/financial/us-sales-tax-calculator/)"
   ]
  },
  {
   "cell_type": "code",
   "execution_count": 76,
   "metadata": {},
   "outputs": [],
   "source": [
    "CA_TAX_RATE = 0.075\n",
    "price_including_tax = 100\n",
    "\n",
    "# YOUR SOLUTION"
   ]
  },
  {
   "cell_type": "markdown",
   "metadata": {},
   "source": [
    "## Problem 5: Distance meter\n",
    "\n",
    "In data mining, it is common to generate or derive new attributes from existing ones. For example, consider the following record that contains (x,y) coordinates for two points:\n",
    "\n",
    "Point 1: x = 10, y = 15 / Point 2: x = 20, y = 25\n",
    "\n",
    "If we were to build a model and include those attributes, generating a new attribute representing the distance between the two points could be more manageable than including the coordinates separately.\n",
    "\n",
    "For this problem, write an expression that generates the Euclidean distance between the two points above.\n",
    "\n",
    "Notes:\n",
    "\n",
    "- Create a variable for each coordinate. Your solution should work regardless of the values in the coordinate variables.\n",
    "- Generate and display a string with your answer in the format of your choice"
   ]
  },
  {
   "cell_type": "code",
   "execution_count": 78,
   "metadata": {},
   "outputs": [],
   "source": [
    "# YOUR SOLUTION"
   ]
  },
  {
   "cell_type": "markdown",
   "metadata": {},
   "source": [
    "## Working with dates \n",
    "\n",
    "Python's datetime module is very useful for working with dates and times. This module supports several operations such as arithmetic calculations between dates and formatting of the different components of dates and times.\n",
    "\n",
    "The following link describes the directives available in Python datetime objects:\n",
    "\n",
    "[Python datetime directives](https://docs.python.org/3.7/library/datetime.html#strftime-and-strptime-behavior)\n",
    "\n",
    "The following link describes an additional module for working with differences between datetime objects:\n",
    "\n",
    "[Python's timedelta objects](https://docs.python.org/3.7/library/datetime.html#timedelta-objects) \n",
    "\n",
    "When browsing the official documentations, make sure you are refering to the documentation corresponding to your Python version. For example, the link above refers to documentation of the datetime module for Python 3.7.\n",
    "\n",
    "To use the datetime module, you need to import it:"
   ]
  },
  {
   "cell_type": "code",
   "execution_count": 79,
   "metadata": {},
   "outputs": [],
   "source": [
    "from datetime import datetime"
   ]
  },
  {
   "cell_type": "markdown",
   "metadata": {},
   "source": [
    "Use the *today()* function to create a datetime object that represents today's date and time:"
   ]
  },
  {
   "cell_type": "code",
   "execution_count": 80,
   "metadata": {},
   "outputs": [
    {
     "data": {
      "text/plain": [
       "datetime.datetime(2021, 8, 20, 21, 26, 57, 108250)"
      ]
     },
     "execution_count": 80,
     "metadata": {},
     "output_type": "execute_result"
    }
   ],
   "source": [
    "datetime.today()"
   ]
  },
  {
   "cell_type": "markdown",
   "metadata": {},
   "source": [
    "Use the *strptime()* function to create a datetime object from a string:"
   ]
  },
  {
   "cell_type": "code",
   "execution_count": 81,
   "metadata": {},
   "outputs": [
    {
     "data": {
      "text/plain": [
       "datetime.datetime(1985, 6, 5, 0, 0)"
      ]
     },
     "execution_count": 81,
     "metadata": {},
     "output_type": "execute_result"
    }
   ],
   "source": [
    "datetime.strptime('Jun 5 1985', '%b %d %Y')"
   ]
  },
  {
   "cell_type": "markdown",
   "metadata": {},
   "source": [
    "### Problem 6: Today's date and time\n",
    "\n",
    "Generate a string that displays right now's date and time. Your string should read:\n",
    "\n",
    "*Today's time and date is 07:38 PM August 20, 2021*"
   ]
  },
  {
   "cell_type": "code",
   "execution_count": 82,
   "metadata": {},
   "outputs": [],
   "source": [
    "from datetime import datetime\n",
    "\n",
    "# YOUR SOLUTION"
   ]
  },
  {
   "cell_type": "markdown",
   "metadata": {},
   "source": [
    "### Problem 7: Time differences\n",
    "\n",
    "Take for granted you are in the Pacific Stanard Time (PST) zone. New Zealand Standard Time (NZST) zone is 19 hours ahead of PST.\n",
    "\n",
    "Write a program that calculates the current time and date in both PST and NZST. The output of your program should read:"
   ]
  },
  {
   "cell_type": "code",
   "execution_count": 66,
   "metadata": {},
   "outputs": [
    {
     "name": "stdout",
     "output_type": "stream",
     "text": [
      "\n",
      "    Today's time and date is 08:42 PM August, 20, 2021\n",
      "    New Zealand's the time is 03:42 PM August, 21, 2021\n",
      "\n"
     ]
    }
   ],
   "source": [
    "print(\"\"\"\n",
    "    Today's time and date is 08:42 PM August, 20, 2021\n",
    "    New Zealand's the time is 03:42 PM August, 21, 2021\n",
    "\"\"\")"
   ]
  },
  {
   "cell_type": "markdown",
   "metadata": {},
   "source": [
    "You may find this link useful:\n",
    " \n",
    "- [Converting PST to Wellington Time](https://www.worldtimebuddy.com/pst-to-new-zealand-wellington)"
   ]
  },
  {
   "cell_type": "markdown",
   "metadata": {},
   "source": [
    "## Problem 8: Decision-making\n",
    "\n",
    "Write a program that implements the following decision-making logic for processing a sales order:\n",
    "- Orders with a total less than \\\\$100 must be processed immediately\n",
    "- Orders which total \\\\$100 or more require approval\n",
    "- A junior sales manager must approve orders up to and including \\\\$500\n",
    "- A senior sales manager must approve orders totaling more than \\\\$500\n",
    "\n",
    "Notes:\n",
    "- Create a variable for representing the total of the order with a value of your choice.\n",
    "- Display the result of your implementation of the decision-making logic with the format of your choice.\n",
    "- When displaying the result, you must include the order's total as this would help to check if your implementation is correct."
   ]
  },
  {
   "cell_type": "code",
   "execution_count": 68,
   "metadata": {},
   "outputs": [],
   "source": [
    "# YOUR SOLUTION"
   ]
  },
  {
   "cell_type": "markdown",
   "metadata": {},
   "source": [
    "## Problem 9: Data simulation\n",
    "\n",
    "Assume you are a data scientist working in a research study on population distribution by income. The lead researcher asks you to write a program that generates simulation data to test their data analysis code.  \n",
    "\n",
    "Your program should generate random data for simulating the income of only 20 people. For each person, generate a random integer number between \\\\$10,000 and \\\\$60,000. In the end, you must also display the average income.\n",
    "\n",
    "Notes:\n",
    "- For each person, display the income being generated with a format of your choice. \n",
    "- You do not need to use lists or other data structures to store the random values.\n",
    "- For this problem, you need to do some research on your own to learn how to generate random integer values in Python."
   ]
  },
  {
   "cell_type": "code",
   "execution_count": 15,
   "metadata": {},
   "outputs": [],
   "source": [
    "# YOUR SOLUTION"
   ]
  },
  {
   "cell_type": "markdown",
   "metadata": {},
   "source": [
    "## Problem 10: Running total\n",
    "\n",
    "The data structure below represents an excerpt of sales data collected from an OLTP system used in a retail shop. Write a program that iterates the data structure and calculates the running total and highest sales number's date.\n",
    "\n",
    "The output of your program should read:\n",
    "\n",
    "*The sales total is \\\\$2346.15. The date with the highest sales is October 03, 2009, with \\\\$755.31*\n",
    "\n",
    "Notes:\n",
    "- Notice the currency and date formats used in the sample output\n",
    "- You do not need to construct additional data structures to solve this problem. However, you can declare additional variables outside the *for* statement if you need"
   ]
  },
  {
   "cell_type": "code",
   "execution_count": 19,
   "metadata": {},
   "outputs": [],
   "source": [
    "log=[\n",
    "    ('20091001', '600.44'),\n",
    "    ('20091002', '334.51'),\n",
    "    ('20091003', '755.31'),\n",
    "    ('20091005', '100.89'),\n",
    "    ('20091007', '555')    \n",
    "]\n",
    "\n",
    "for item in log:\n",
    "    current_date = item[0]\n",
    "    current_sales = item[1]\n",
    "    # YOUR SOLUTION "
   ]
  },
  {
   "cell_type": "code",
   "execution_count": null,
   "metadata": {},
   "outputs": [],
   "source": []
  }
 ],
 "metadata": {
  "kernelspec": {
   "display_name": "Python 3",
   "language": "python",
   "name": "python3"
  },
  "language_info": {
   "codemirror_mode": {
    "name": "ipython",
    "version": 3
   },
   "file_extension": ".py",
   "mimetype": "text/x-python",
   "name": "python",
   "nbconvert_exporter": "python",
   "pygments_lexer": "ipython3",
   "version": "3.7.6"
  }
 },
 "nbformat": 4,
 "nbformat_minor": 5
}
