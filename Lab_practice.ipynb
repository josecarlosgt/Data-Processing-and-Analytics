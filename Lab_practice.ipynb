{
 "cells": [
  {
   "cell_type": "markdown",
   "metadata": {},
   "source": [
    "# Lab Practice: Python language basics and control flow"
   ]
  },
  {
   "cell_type": "markdown",
   "metadata": {},
   "source": [
    "## Formatting strings\n",
    "\n",
    "https://saralgyaan.com/posts/f-string-in-python-usage-guide/"
   ]
  },
  {
   "cell_type": "markdown",
   "metadata": {},
   "source": [
    "### Problem #1 "
   ]
  },
  {
   "cell_type": "code",
   "execution_count": 208,
   "metadata": {},
   "outputs": [
    {
     "data": {
      "text/plain": [
       "'The sum of 5 and 10 is 15'"
      ]
     },
     "execution_count": 208,
     "metadata": {},
     "output_type": "execute_result"
    }
   ],
   "source": [
    "# SOLUTION \n",
    "\n",
    "number_1 = 5\n",
    "number_2 = 10\n",
    "\n",
    "f\"The sum of {number_1} and {number_2} is {number_1 + number_2}\""
   ]
  },
  {
   "cell_type": "code",
   "execution_count": 209,
   "metadata": {},
   "outputs": [],
   "source": [
    "number_1 = 5\n",
    "number_2 = 10\n",
    "\n",
    "# YOUR SOLUTION"
   ]
  },
  {
   "cell_type": "markdown",
   "metadata": {},
   "source": [
    "### Problem #2"
   ]
  },
  {
   "cell_type": "code",
   "execution_count": 211,
   "metadata": {},
   "outputs": [
    {
     "data": {
      "text/plain": [
       "'The total of your order is $10.00'"
      ]
     },
     "execution_count": 211,
     "metadata": {},
     "output_type": "execute_result"
    }
   ],
   "source": [
    "# SOLUTION \n",
    "\n",
    "total=10\n",
    "\n",
    "f\"The total of your order is ${total:.2f}\""
   ]
  },
  {
   "cell_type": "code",
   "execution_count": 212,
   "metadata": {},
   "outputs": [],
   "source": [
    "total=10\n",
    "\n",
    "# YOUR SOLUTION"
   ]
  },
  {
   "cell_type": "markdown",
   "metadata": {},
   "source": [
    "### Problem #3"
   ]
  },
  {
   "cell_type": "code",
   "execution_count": 213,
   "metadata": {},
   "outputs": [
    {
     "name": "stdout",
     "output_type": "stream",
     "text": [
      "01\n",
      "04\n",
      "05\n",
      "10\n",
      "23\n",
      "04\n",
      "55\n"
     ]
    }
   ],
   "source": [
    "# SOLUTION \n",
    "\n",
    "totals = [1, 4, 5, 10, 23, 4, 55]\n",
    "\n",
    "for total in totals:\n",
    "    print(f\"{total:02}\")"
   ]
  },
  {
   "cell_type": "code",
   "execution_count": 214,
   "metadata": {},
   "outputs": [],
   "source": [
    "totals = [1, 4, 5, 10, 23, 4, 55]\n",
    "\n",
    "# YOUR SOLUTION"
   ]
  },
  {
   "cell_type": "markdown",
   "metadata": {},
   "source": [
    "### Extra problem"
   ]
  },
  {
   "cell_type": "code",
   "execution_count": 215,
   "metadata": {},
   "outputs": [
    {
     "name": "stdout",
     "output_type": "stream",
     "text": [
      "00.00\n",
      "04.20\n",
      "05.00\n",
      "10.00\n",
      "23.00\n",
      "04.00\n",
      "55.00\n",
      "03.33\n",
      "01.30\n",
      "00.10\n"
     ]
    }
   ],
   "source": [
    "# SOLUTION \n",
    "\n",
    "import math\n",
    "\n",
    "totals = [0, 4.2, 5, 10, 23, 4, 55, 3.333, 1.3, 0.1]\n",
    "\n",
    "for value in totals:\n",
    "    # Extract integer part\n",
    "    integer_value = math.trunc(value)\n",
    "    # Extract decimal part\n",
    "    decimal_value = value % 1\n",
    "    # Format decimal part to show only two digits\n",
    "    str_decimal_value = f\"{decimal_value:.2f}\".split(\".\")[1]\n",
    "\n",
    "    print(f\"{integer_value:02}.{str_decimal_value}\")"
   ]
  },
  {
   "cell_type": "code",
   "execution_count": 216,
   "metadata": {},
   "outputs": [],
   "source": [
    "totals = [0, 4.2, 5, 10, 23, 4, 55, 3.333, 1.3, 0.1]\n",
    "\n",
    "# YOUR SOLUTION"
   ]
  },
  {
   "cell_type": "markdown",
   "metadata": {},
   "source": [
    "## Problem #4: sales tax calculator\n",
    "\n",
    "https://calculatorsworld.com/financial/us-sales-tax-calculator/"
   ]
  },
  {
   "cell_type": "code",
   "execution_count": 217,
   "metadata": {},
   "outputs": [
    {
     "name": "stdout",
     "output_type": "stream",
     "text": [
      "\n",
      "    Taxe rate: 7.5%\n",
      "    Price excluding tax: $93.02\n",
      "    Tax: $6.98\n",
      "\n"
     ]
    }
   ],
   "source": [
    "TAX_RATE = 0.075\n",
    "price_including_tax = 100\n",
    "\n",
    "print(f\"\"\"\n",
    "    Taxe rate: {TAX_RATE*100}%\n",
    "    Price excluding tax: ${price_including_tax / (1 + TAX_RATE):.2f}\n",
    "    Tax: ${price_including_tax - (price_including_tax / (1 + TAX_RATE)):.2f}\n",
    "\"\"\")"
   ]
  },
  {
   "cell_type": "code",
   "execution_count": 218,
   "metadata": {},
   "outputs": [],
   "source": [
    "TAX_RATE = 0.075\n",
    "price_including_tax = 100\n",
    "\n",
    "# YOUR SOLUTION"
   ]
  },
  {
   "cell_type": "markdown",
   "metadata": {},
   "source": [
    "## Regular expressions\n",
    "\n",
    "https://docs.python.org/3/howto/regex.html\n",
    "\n",
    "Find all\n",
    "\n",
    "Replace\n",
    "\n",
    "Classes"
   ]
  },
  {
   "cell_type": "markdown",
   "metadata": {},
   "source": [
    "### Problem #5: integers basic calculator (part I)\n",
    "\n",
    "Parse an expression."
   ]
  },
  {
   "cell_type": "code",
   "execution_count": 240,
   "metadata": {},
   "outputs": [
    {
     "name": "stdout",
     "output_type": "stream",
     "text": [
      "\n",
      "    Operand 1: 4\n",
      "    Operand 2: 4\n",
      "    Operator: +\n",
      "\n"
     ]
    }
   ],
   "source": [
    "# SOLUTION \n",
    "\n",
    "import re\n",
    "\n",
    "expression = \"4 + 4\"\n",
    "\n",
    "expression_spaces_removed = re.sub(\"\\s+\", \"\", expression)\n",
    "\n",
    "p = re.compile('\\d+')\n",
    "numbers = p.findall(expression_spaces_removed)\n",
    "\n",
    "operator = re.sub(\"\\d+\", \"\", expression_spaces_removed) \n",
    "\n",
    "print(f\"\"\"\n",
    "    Operand 1: {numbers[0]}\n",
    "    Operand 2: {numbers[1]}\n",
    "    Operator: {operator}\n",
    "\"\"\")"
   ]
  },
  {
   "cell_type": "code",
   "execution_count": 241,
   "metadata": {},
   "outputs": [],
   "source": [
    "# YOUR SOLUTION"
   ]
  },
  {
   "cell_type": "markdown",
   "metadata": {},
   "source": [
    "### Problem #6: integers basic calculator (part II)\n",
    "\n",
    "Implement a basic calculator for integers."
   ]
  },
  {
   "cell_type": "code",
   "execution_count": 239,
   "metadata": {},
   "outputs": [
    {
     "name": "stdout",
     "output_type": "stream",
     "text": [
      "Enter expression: 100 * 2\n"
     ]
    },
    {
     "data": {
      "text/plain": [
       "200"
      ]
     },
     "execution_count": 239,
     "metadata": {},
     "output_type": "execute_result"
    }
   ],
   "source": [
    "import re\n",
    "\n",
    "expression = input(\"Enter expression: \")\n",
    "\n",
    "expression_spaces_removed = re.sub(\"\\s+\", \"\", expression)\n",
    "\n",
    "p = re.compile('\\d+')\n",
    "numbers = p.findall(expression_spaces_removed)\n",
    "\n",
    "operator = re.sub(\"\\d+\", \"\", expression_spaces_removed)\n",
    "\n",
    "if operator == \"+\":\n",
    "    result = int(numbers[0]) + int(numbers[1])\n",
    "elif operator == \"-\":\n",
    "    result = int(numbers[0]) - int(numbers[1])\n",
    "elif operator == \"*\":\n",
    "    result = int(numbers[0]) * int(numbers[1])\n",
    "elif operator == \"/\":\n",
    "    result = int(numbers[0]) / int(numbers[1])\n",
    "    \n",
    "result"
   ]
  },
  {
   "cell_type": "code",
   "execution_count": null,
   "metadata": {},
   "outputs": [],
   "source": [
    "expression = input(\"Enter expression: \")\n",
    "\n",
    "# YOUR SOLUTION"
   ]
  },
  {
   "cell_type": "markdown",
   "metadata": {},
   "source": [
    "## Working with dates \n",
    "\n",
    "https://saralgyaan.com/posts/f-string-in-python-usage-guide/  \n",
    "https://docs.python.org/3.7/library/datetime.html#strftime-and-strptime-behavior\n",
    "- When browsing the official documentations, make sure you are refering to the documentation corresponding to your Python version."
   ]
  },
  {
   "cell_type": "markdown",
   "metadata": {},
   "source": [
    "### Problem #7"
   ]
  },
  {
   "cell_type": "code",
   "execution_count": 219,
   "metadata": {},
   "outputs": [
    {
     "data": {
      "text/plain": [
       "\"Today's time and date is 05:39 PM August, 07, 2021\""
      ]
     },
     "execution_count": 219,
     "metadata": {},
     "output_type": "execute_result"
    }
   ],
   "source": [
    "# SOLUTION \n",
    "\n",
    "from datetime import datetime\n",
    "\n",
    "dt = datetime.today()\n",
    "f\"Today's time and date is {dt:%I:%M %p %B, %d, %Y}\""
   ]
  },
  {
   "cell_type": "code",
   "execution_count": 220,
   "metadata": {},
   "outputs": [],
   "source": [
    "from datetime import datetime\n",
    "\n",
    "# YOUR SOLUTION"
   ]
  },
  {
   "cell_type": "markdown",
   "metadata": {},
   "source": [
    "### Problem #8\n",
    "\n",
    "Take for granted you are in the Pacific Stanard Time (PST) zone. New Zealand Standard Time (NZST) zone is 19 hours ahead of PST.\n",
    "\n",
    "https://docs.python.org/3.7/library/datetime.html#timedelta-objects  \n",
    "https://www.worldtimebuddy.com/pst-to-new-zealand-wellington"
   ]
  },
  {
   "cell_type": "code",
   "execution_count": 221,
   "metadata": {},
   "outputs": [
    {
     "name": "stdout",
     "output_type": "stream",
     "text": [
      "\n",
      "    Today's time and date is 05:39 PM August, 07, 2021\n",
      "    New Zealand's the time is 12:39 PM August, 08, 2021\n",
      "\n"
     ]
    }
   ],
   "source": [
    "# SOLUTION \n",
    "\n",
    "from datetime import datetime, timedelta\n",
    "\n",
    "pst = datetime.today()\n",
    "nzt = pst + timedelta(hours=19)\n",
    "\n",
    "print(f\"\"\"\n",
    "    Today's time and date is {pst:%I:%M %p %B, %d, %Y}\n",
    "    New Zealand's the time is {nzt:%I:%M %p %B, %d, %Y}\n",
    "\"\"\")"
   ]
  },
  {
   "cell_type": "code",
   "execution_count": 222,
   "metadata": {},
   "outputs": [],
   "source": [
    "from datetime import datetime, timedelta\n",
    "\n",
    "# YOUR SOLUTION"
   ]
  },
  {
   "cell_type": "markdown",
   "metadata": {},
   "source": [
    "### Problem #9\n",
    "\n",
    "https://dateutil.readthedocs.io/en/stable/relativedelta.html"
   ]
  },
  {
   "cell_type": "code",
   "execution_count": 223,
   "metadata": {},
   "outputs": [
    {
     "data": {
      "text/plain": [
       "'Your are 36 years old'"
      ]
     },
     "execution_count": 223,
     "metadata": {},
     "output_type": "execute_result"
    }
   ],
   "source": [
    "# SOLUTION \n",
    "\n",
    "from datetime import datetime\n",
    "from dateutil.relativedelta import relativedelta\n",
    "\n",
    "import re\n",
    "message = \"My date of birth is June 05, 1985\"\n",
    "\n",
    "p = re.compile('My date of birth is (.+)')\n",
    "m = p.match(message)\n",
    "str_DoB = m.group(1)\n",
    "DoB = datetime.strptime(str_DoB, '%B %d, %Y')\n",
    "\n",
    "ageRel = relativedelta(datetime.today(), DoB)\n",
    "f\"Your are {ageRel.years} years old\""
   ]
  },
  {
   "cell_type": "code",
   "execution_count": 224,
   "metadata": {},
   "outputs": [],
   "source": [
    "message = \"My date of birth is June 5, 1985\"\n",
    "\n",
    "# YOUR SOLUTION"
   ]
  },
  {
   "cell_type": "markdown",
   "metadata": {},
   "source": [
    "### Problem #10 "
   ]
  },
  {
   "cell_type": "code",
   "execution_count": 225,
   "metadata": {},
   "outputs": [
    {
     "data": {
      "text/plain": [
       "'The sales total is $2346.15. The date with the highest sales is October 03, 2009 with $755.31'"
      ]
     },
     "execution_count": 225,
     "metadata": {},
     "output_type": "execute_result"
    }
   ],
   "source": [
    "# SOLUTION \n",
    "\n",
    "from datetime import datetime\n",
    "\n",
    "log=[\n",
    "    ('20091001', '600.44'),\n",
    "    ('20091002', '334.51'),\n",
    "    ('20091003', '755.31'),\n",
    "    ('20091005', '100.89'),\n",
    "    ('20091007', '555')    \n",
    "]\n",
    "\n",
    "top_date, top_sales = None, None\n",
    "total = 0\n",
    "for item in log:\n",
    "    current_date = datetime.strptime(item[0], '%Y%m%d')\n",
    "    current_sales = float(item[1])\n",
    "    \n",
    "    if top_sales is not None:\n",
    "        if current_sales > top_sales:\n",
    "            top_date = current_date\n",
    "            top_sales = current_sales\n",
    "    else:\n",
    "        top_sales = current_sales\n",
    "        \n",
    "    total = total + current_sales\n",
    "\n",
    "f\"The sales total is ${total:.2f}. The date with the highest sales is {top_date:%B %d, %Y} with ${top_sales:.2f}\""
   ]
  },
  {
   "cell_type": "code",
   "execution_count": 226,
   "metadata": {},
   "outputs": [],
   "source": [
    "log=[\n",
    "    ('20091001', '600.44'),\n",
    "    ('20091002', '334.51'),\n",
    "    ('20091003', '755.31'),\n",
    "    ('20091005', '100.89'),\n",
    "    ('20091007', '555')    \n",
    "]\n",
    "\n",
    "for item in log:\n",
    "    current_date = item[0]\n",
    "    current_sales = item[1]\n",
    "    # YOUR SOLUTION "
   ]
  },
  {
   "cell_type": "code",
   "execution_count": null,
   "metadata": {},
   "outputs": [],
   "source": []
  }
 ],
 "metadata": {
  "kernelspec": {
   "display_name": "Python 3",
   "language": "python",
   "name": "python3"
  },
  "language_info": {
   "codemirror_mode": {
    "name": "ipython",
    "version": 3
   },
   "file_extension": ".py",
   "mimetype": "text/x-python",
   "name": "python",
   "nbconvert_exporter": "python",
   "pygments_lexer": "ipython3",
   "version": "3.7.6"
  }
 },
 "nbformat": 4,
 "nbformat_minor": 5
}
