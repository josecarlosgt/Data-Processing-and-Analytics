{
 "cells": [
  {
   "cell_type": "markdown",
   "id": "496b79d5",
   "metadata": {},
   "source": [
    "# Lab Practice: Python language basics and control flow\n",
    "\n",
    "In this lab, you will practice fundamental concepts of programming in Python for working with data.\n",
    "\n",
    "Learning objectives:\n",
    "- Practice scalar types and string formatting \n",
    "- Work with dates and time data \n",
    "- Practice control flow structures \n",
    "\n",
    "### Some helpful notes:\n",
    "- This lab practice should take about two hours to complete. If a problem takes you too long to solve, don't hesitate to ask your instructor in class or post your questions in Canvas.\n",
    "- Do not try to solve the problems by copy&pasting solutions from other sources. Engaging in this kind of practice may lead you to finish this lab faster, but it won't contribute to your learning and improving your problem-solving skills. \n",
    "- When browsing for examples about Python's utilities and features, try to understand the logic and purpose of the functionality you incorporate in your solutions.\n",
    "- Make sure you review the examples covered previously in the tutorials before attempting this lab.\n",
    "\n",
    "> When using general-purpose programming languages like Python, it is common to rely on external sources of documentation to solve specific problems. In this lab practice, you will use references to Python's official documentation site, and other sources to learn more about string interpolation in Python (f-strings), work with dates and times, and generate random values.\n",
    ">\n",
    "> When browsing the official documentation, make sure you refer to the documentation corresponding to your Python version. For example, the link https://docs.python.org/3.7/library/datetime.html refers to documentation of the datetime module for Python's version 3.7."
   ]
  },
  {
   "cell_type": "markdown",
   "id": "d9d7a6b6",
   "metadata": {},
   "source": [
    "## Part I: Formatting strings\n",
    "\n",
    "Python's *f-strings* include several options for scalar value types, such as dates and numbers. Use *f-strings* to solve problems 1 to 3.\n",
    "\n",
    "The link below contains a useful reference for all possible formats supported by *f-strings*:\n",
    "\n",
    "[Python f-strings guide](https://saralgyaan.com/posts/f-string-in-python-usage-guide)"
   ]
  },
  {
   "cell_type": "markdown",
   "id": "450319fc",
   "metadata": {},
   "source": [
    "### Problem 1: String interpolation \n",
    "\n",
    "Generate a string that includes the sum of the two integers in the next cell. Your string should read:\n",
    "\n",
    "*'The sum of 5 and 10 is 15'*\n",
    "\n",
    "Your string should work regardless of the values in the number variables."
   ]
  },
  {
   "cell_type": "code",
   "execution_count": 1,
   "id": "7b84c6c2",
   "metadata": {},
   "outputs": [],
   "source": [
    "number_1 = 5\n",
    "number_2 = 10\n",
    "\n",
    "# YOUR SOLUTION"
   ]
  },
  {
   "cell_type": "markdown",
   "id": "dddb396a",
   "metadata": {},
   "source": [
    "### Problem 2: Formatting currencies\n",
    "\n",
    "Generate a string that displays the total variable below with a dollar sign and two decimal values. Your string should read:\n",
    "\n",
    "*'The total of your order is $10.40'*\n",
    "\n",
    "Your string should work regardless of the value in the *total* variable."
   ]
  },
  {
   "cell_type": "code",
   "execution_count": 1,
   "id": "0f14d1fa",
   "metadata": {},
   "outputs": [],
   "source": [
    "total=10.4\n",
    "\n",
    "# YOUR SOLUTION"
   ]
  },
  {
   "cell_type": "markdown",
   "id": "0f0ff2d8",
   "metadata": {},
   "source": [
    "### Problem 3: Padding zeros\n",
    "\n",
    "Generate one string for each integer value in the *totals* list. If the value contains only one digit, your string should contain a leading 0. Your strings should read:\n",
    "\n",
    "- 01\n",
    "- 04\n",
    "- 05\n",
    "- 10\n",
    "- 23\n",
    "- 04\n",
    "- 55\n",
    "\n",
    "Notes:\n",
    "- Since I haven't covered data structures in the tutorials, the cell below contains base code that handles the iteration of the data structure containing the numbers.\n",
    "- Use the *print* function to display each string."
   ]
  },
  {
   "cell_type": "code",
   "execution_count": 2,
   "id": "42c28f83",
   "metadata": {},
   "outputs": [
    {
     "name": "stdout",
     "output_type": "stream",
     "text": [
      "1\n",
      "4\n",
      "5\n",
      "10\n",
      "23\n",
      "4\n",
      "55\n"
     ]
    }
   ],
   "source": [
    "totals = [1, 4, 5, 10, 23, 4, 55]\n",
    "\n",
    "for number in totals:\n",
    "    print(number)\n",
    "\n",
    "# YOUR SOLUTION"
   ]
  },
  {
   "cell_type": "markdown",
   "id": "c12a1ca2",
   "metadata": {},
   "source": [
    "### Problem 4: Sales tax calculator\n",
    "\n",
    "Write an expression that takes a state tax rate and price value, including tax, and generates the following string:"
   ]
  },
  {
   "cell_type": "code",
   "execution_count": 4,
   "id": "fe250be1",
   "metadata": {},
   "outputs": [
    {
     "name": "stdout",
     "output_type": "stream",
     "text": [
      "\n",
      "    CA tax rate: 7.5%\n",
      "    Price excluding tax: $93.02\n",
      "    Tax: $6.98\n",
      "\n"
     ]
    }
   ],
   "source": [
    "print(\"\"\"\n",
    "    CA tax rate: 7.5%\n",
    "    Price excluding tax: $93.02\n",
    "    Tax: $6.98\n",
    "\"\"\")"
   ]
  },
  {
   "cell_type": "markdown",
   "id": "2ab7fe7f",
   "metadata": {},
   "source": [
    "Your solution should display:\n",
    "- The tax rate as a percentage\n",
    "- Each value should be displayed with two decimal points\n",
    "- A dollar sign should precede currency values\n",
    "\n",
    "The link below can be useful to check your answer.\n",
    "\n",
    "[US Sales Tax Calculator](https://calculatorsworld.com/financial/us-sales-tax-calculator/)"
   ]
  },
  {
   "cell_type": "code",
   "execution_count": 5,
   "id": "d7aa4f9f",
   "metadata": {},
   "outputs": [],
   "source": [
    "CA_TAX_RATE = 0.075\n",
    "price_including_tax = 100\n",
    "\n",
    "# YOUR SOLUTION"
   ]
  },
  {
   "cell_type": "markdown",
   "id": "418ce6d2",
   "metadata": {},
   "source": [
    "## Part II: Working with dates \n",
    "\n",
    "Python's [datetime](https://docs.python.org/3.7/library/datetime.html) module is very useful for working with dates and times. This module supports several operations such as arithmetic calculations between dates and formatting of the different components of dates and times.\n",
    "\n",
    "The following link describes the directives available in Python datetime objects for identifying the components of dates and times:\n",
    "\n",
    "[Python datetime directives](https://docs.python.org/3.7/library/datetime.html#strftime-and-strptime-behavior)\n",
    "\n",
    "The following links describe an additional module for working with differences between datetime objects:\n",
    "\n",
    "- [Python's timedelta objects](https://docs.python.org/3.7/library/datetime.html#timedelta-objects) \n",
    "- [Example of timedelta objects](https://www.geeksforgeeks.org/python-datetime-timedelta-function/)"
   ]
  },
  {
   "cell_type": "code",
   "execution_count": 3,
   "id": "46d26542",
   "metadata": {},
   "outputs": [],
   "source": [
    "from datetime import datetime"
   ]
  },
  {
   "cell_type": "markdown",
   "id": "adb658d3",
   "metadata": {},
   "source": [
    "Use the *today()* function to create a datetime object that represents today's date and time:"
   ]
  },
  {
   "cell_type": "code",
   "execution_count": 9,
   "id": "ef536940",
   "metadata": {},
   "outputs": [
    {
     "data": {
      "text/plain": [
       "datetime.datetime(2021, 8, 21, 14, 14, 26, 764275)"
      ]
     },
     "execution_count": 9,
     "metadata": {},
     "output_type": "execute_result"
    }
   ],
   "source": [
    "datetime.today()"
   ]
  },
  {
   "cell_type": "markdown",
   "id": "34102c08",
   "metadata": {},
   "source": [
    "Use the *strptime()* function to create a datetime object from a string:"
   ]
  },
  {
   "cell_type": "code",
   "execution_count": 4,
   "id": "4b4a1fb7",
   "metadata": {},
   "outputs": [
    {
     "data": {
      "text/plain": [
       "datetime.datetime(1985, 6, 5, 0, 0)"
      ]
     },
     "execution_count": 4,
     "metadata": {},
     "output_type": "execute_result"
    }
   ],
   "source": [
    "dt = datetime.strptime('Jun 5 1985', '%b %d %Y')\n",
    "dt"
   ]
  },
  {
   "cell_type": "markdown",
   "id": "c99c6b0f",
   "metadata": {},
   "source": [
    "Use the *strftime()* function to format a datetime object into a string:"
   ]
  },
  {
   "cell_type": "code",
   "execution_count": 5,
   "id": "a56e4dd6",
   "metadata": {},
   "outputs": [
    {
     "data": {
      "text/plain": [
       "'Jun 05 1985'"
      ]
     },
     "execution_count": 5,
     "metadata": {},
     "output_type": "execute_result"
    }
   ],
   "source": [
    "dt.strftime('%b %d %Y')"
   ]
  },
  {
   "cell_type": "markdown",
   "id": "50304793",
   "metadata": {},
   "source": [
    "### Problem 5: Today's date and time\n",
    "\n",
    "Generate a string that displays right now's date and time. Your string should read:\n",
    "\n",
    "*Today's time and date is 07:38 PM August 20, 2021*"
   ]
  },
  {
   "cell_type": "code",
   "execution_count": 11,
   "id": "4255ebd5",
   "metadata": {},
   "outputs": [],
   "source": [
    "from datetime import datetime\n",
    "\n",
    "# YOUR SOLUTION"
   ]
  },
  {
   "cell_type": "markdown",
   "id": "b0f6aa2d",
   "metadata": {},
   "source": [
    "### Problem 6: Time differences\n",
    "\n",
    "Take for granted you are in the Pacific Stanard Time (PST) zone. New Zealand Standard Time (NZST) zone is 19 hours ahead of PST.\n",
    "\n",
    "Write a program that calculates the current time and date in both PST and NZST. The output of your program should read:"
   ]
  },
  {
   "cell_type": "code",
   "execution_count": 12,
   "id": "649d1ec3",
   "metadata": {},
   "outputs": [
    {
     "name": "stdout",
     "output_type": "stream",
     "text": [
      "\n",
      "    Today's time and date is 08:42 PM August, 20, 2021\n",
      "    New Zealand's the time is 03:42 PM August, 21, 2021\n",
      "\n"
     ]
    }
   ],
   "source": [
    "print(\"\"\"\n",
    "    Today's time and date is 08:42 PM August, 20, 2021\n",
    "    New Zealand's the time is 03:42 PM August, 21, 2021\n",
    "\"\"\")"
   ]
  },
  {
   "cell_type": "markdown",
   "id": "7059d8a6",
   "metadata": {},
   "source": [
    "You may find this link useful:\n",
    " \n",
    "[Converting PST to Wellington Time](https://www.worldtimebuddy.com/pst-to-new-zealand-wellington)"
   ]
  },
  {
   "cell_type": "markdown",
   "id": "33ca39aa",
   "metadata": {},
   "source": [
    "### Problem 7: Extracting date components\n",
    "\n",
    "When working with data, it is common to generate or derive new attributes from existing ones. A typical operation is to extract date components such as the day, month, and year from dates.\n",
    "\n",
    "The data structure below contains dates in August and September chosen to promote benevolent causes."
   ]
  },
  {
   "cell_type": "code",
   "execution_count": 8,
   "id": "3efe88ee",
   "metadata": {},
   "outputs": [],
   "source": [
    "for_better_world_dates = [\n",
    "    [\"09-August-2021\", \"International Day of the World’s Indigenous People\"],\n",
    "    [\"19-August-2021\", \"World Humanitarian Day\"],\n",
    "    [\"21-August-2021\", \"World Senior Citizens Day\"],\n",
    "    [\"23-August-2021\", \"International Day for the Remembrance of the Slave Trade and its Abolition\"],\n",
    "    [\"26-August-2021\", \"Women’s Equality Day\"],\n",
    "    [\"05-September-2021\", \"International Day of Charity\"],\n",
    "    [\"06-September-2021\", \"Fight Procrastination Day\"],\n",
    "    [\"15-September-2021\", \"International Day of Democracy\"],\n",
    "    [\"21-September-2021\", \"International Day of Peace\"],\n",
    "    [\"26-September-2021\", \"World Environmental Health Day\"]   \n",
    "]"
   ]
  },
  {
   "cell_type": "markdown",
   "id": "ea467237",
   "metadata": {},
   "source": [
    "Write a program that extracts the day, month, and year into three variables. Then, use these variables to populate the following f-string:\n",
    "\n",
    "`{cause}: {month}/{day}/{year}`\n",
    "\n",
    "For example, for the record \"Fight Procrastination Day\", the f-string would generate the following string:\n",
    "\n",
    "*Fight Procrastination Day: 09/06/2021*\n",
    "\n",
    "Notes:\n",
    "- Use the *print* function to display each formatted string"
   ]
  },
  {
   "cell_type": "code",
   "execution_count": 9,
   "id": "50af15e1",
   "metadata": {},
   "outputs": [],
   "source": [
    "from datetime import datetime\n",
    "\n",
    "for record in for_better_world_dates:\n",
    "    date_string = record[0]\n",
    "    cause = record[1]\n",
    "    \n",
    "    # YOUR SOLUTION"
   ]
  },
  {
   "cell_type": "markdown",
   "id": "4c8fb623",
   "metadata": {},
   "source": [
    "## Part III: Control flow"
   ]
  },
  {
   "cell_type": "markdown",
   "id": "e52525e2",
   "metadata": {},
   "source": [
    "### Problem 8: Decision-making\n",
    "\n",
    "Write a program that implements the following decision-making logic for processing a sales order:\n",
    "1. Orders with a total less than \\\\$100 must be processed immediately\n",
    "2. Orders which total \\\\$100 or more require approval\n",
    "3. A junior sales manager must approve orders up to and including \\\\$500\n",
    "4. A senior sales manager must approve orders totaling more than \\\\$500\n",
    "\n",
    "Notes:\n",
    "- Create a variable for representing the total of the order with a value of your choice.\n",
    "- Display the result of your implementation of the decision-making logic as a string with the format of your choice."
   ]
  },
  {
   "cell_type": "code",
   "execution_count": 68,
   "id": "d1c2c1af",
   "metadata": {},
   "outputs": [],
   "source": [
    "# YOUR SOLUTION"
   ]
  },
  {
   "cell_type": "markdown",
   "id": "0d57b7c4",
   "metadata": {},
   "source": [
    "### Problem 9: Generate a random number\n",
    "\n",
    "Using the *randint* function from the [random](https://docs.python.org/3/library/random.html) module to generate a number between 1 and 10.\n",
    "\n",
    "[Here](https://www.tutorialspoint.com/generating-random-number-list-in-python) is an example of how to use the randint function."
   ]
  },
  {
   "cell_type": "code",
   "execution_count": 68,
   "id": "2c5dc52a",
   "metadata": {},
   "outputs": [],
   "source": [
    "# YOUR SOLUTION"
   ]
  },
  {
   "cell_type": "markdown",
   "id": "dfa3bbd2",
   "metadata": {},
   "source": [
    "### Problem 10: Data simulation\n",
    "\n",
    "Assume you are a data scientist working in a research study on population distribution by income. The lead researcher asks you to write a program that generates simulation data to test their data analysis code.  \n",
    "\n",
    "Your program should generate random data for simulating the income of only 20 people. For each person, generate a random integer number between \\\\$10,000 and \\\\$60,000. In the end, you must also display the average income.\n",
    "\n",
    "Notes:\n",
    "- For each person, display the income being generated with a format of your choice. \n",
    "- You do not need to use lists or other data structures to store the random values."
   ]
  },
  {
   "cell_type": "code",
   "execution_count": 15,
   "id": "bba5f9a4",
   "metadata": {},
   "outputs": [],
   "source": [
    "# YOUR SOLUTION"
   ]
  },
  {
   "cell_type": "markdown",
   "id": "e55ebb40",
   "metadata": {},
   "source": [
    "### Problem 11: Running total (EXTRA)\n",
    "\n",
    "The data structure below represents an excerpt of sales data collected from an OLTP system used in a retail shop. Write a program that iterates the data structure and calculates the running total and highest sales number's date.\n",
    "\n",
    "The output of your program should read:\n",
    "\n",
    "*The sales total is \\\\$2346.15. The date with the highest sales is October 03, 2009, with \\\\$755.31*\n",
    "\n",
    "Notes:\n",
    "- Notice the currency and date formats used in the sample output\n",
    "- You do not need to construct additional data structures to solve this problem. However, you can declare additional variables outside the *for* statement if you need"
   ]
  },
  {
   "cell_type": "code",
   "execution_count": 10,
   "id": "9f8acf0f",
   "metadata": {},
   "outputs": [],
   "source": [
    "log=[\n",
    "    ('20091001', '600.44'),\n",
    "    ('20091002', '334.51'),\n",
    "    ('20091003', '755.31'),\n",
    "    ('20091005', '100.89'),\n",
    "    ('20091007', '555')    \n",
    "]\n",
    "\n",
    "for item in log:\n",
    "    current_date = item[0]\n",
    "    current_sales = item[1]\n",
    "    \n",
    "    # YOUR SOLUTION "
   ]
  },
  {
   "cell_type": "code",
   "execution_count": null,
   "id": "6878b86a",
   "metadata": {},
   "outputs": [],
   "source": []
  }
 ],
 "metadata": {
  "kernelspec": {
   "display_name": "Python 3 (ipykernel)",
   "language": "python",
   "name": "python3"
  },
  "language_info": {
   "codemirror_mode": {
    "name": "ipython",
    "version": 3
   },
   "file_extension": ".py",
   "mimetype": "text/x-python",
   "name": "python",
   "nbconvert_exporter": "python",
   "pygments_lexer": "ipython3",
   "version": "3.9.6"
  }
 },
 "nbformat": 4,
 "nbformat_minor": 5
}
