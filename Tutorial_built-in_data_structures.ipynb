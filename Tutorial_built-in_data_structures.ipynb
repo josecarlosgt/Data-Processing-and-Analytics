{
 "cells": [
  {
   "cell_type": "markdown",
   "id": "f4b8c7e5",
   "metadata": {},
   "source": [
    "# Tutorial: Built-in data structures\n",
    "\n",
    "In this tutorial, you will learn about the capabilities built into the Python language that will be useful throughout the rest of the course. \n",
    "\n",
    "Learning objectives:\n",
    "1. Use Python’s built-in data structures: tuples, lists, dicts, and sets.\n",
    "2. Use list comprehension techniques to create built-in data structures"
   ]
  },
  {
   "cell_type": "markdown",
   "id": "2060c7e4",
   "metadata": {},
   "source": [
    "## 1. Python’s built-in data structures\n",
    "\n",
    "Built-in data structures in Python consist of objects that act containers of other objects."
   ]
  },
  {
   "cell_type": "markdown",
   "id": "f0541012",
   "metadata": {},
   "source": [
    "## Tuples\n",
    "\n",
    "A tuple is a fixed-length, **immutable** sequence of Python objects.\n",
    "\n",
    "The easiest way to create one is with a comma-separated sequence of values:"
   ]
  },
  {
   "cell_type": "code",
   "execution_count": 1,
   "id": "96a0a9ae",
   "metadata": {},
   "outputs": [
    {
     "data": {
      "text/plain": [
       "(4, 5, 6)"
      ]
     },
     "execution_count": 1,
     "metadata": {},
     "output_type": "execute_result"
    }
   ],
   "source": [
    "a_tuple = 4, 5, 6\n",
    "a_tuple"
   ]
  },
  {
   "cell_type": "markdown",
   "id": "21a0bf8c",
   "metadata": {},
   "source": [
    "While the objects stored in a tuple may be mutable themselves, once the tuple is created it’s not possible to modify which object is stored in each slot:"
   ]
  },
  {
   "cell_type": "code",
   "execution_count": 2,
   "id": "18da0799",
   "metadata": {},
   "outputs": [
    {
     "ename": "TypeError",
     "evalue": "'tuple' object does not support item assignment",
     "output_type": "error",
     "traceback": [
      "\u001b[0;31m---------------------------------------------------------------------------\u001b[0m",
      "\u001b[0;31mTypeError\u001b[0m                                 Traceback (most recent call last)",
      "\u001b[0;32m/var/folders/fj/bq17tpk16gxc1vblq061by1m0000gq/T/ipykernel_26246/1804785408.py\u001b[0m in \u001b[0;36m<module>\u001b[0;34m\u001b[0m\n\u001b[0;32m----> 1\u001b[0;31m \u001b[0ma_tuple\u001b[0m\u001b[0;34m[\u001b[0m\u001b[0;36m0\u001b[0m\u001b[0;34m]\u001b[0m \u001b[0;34m=\u001b[0m \u001b[0;36m1\u001b[0m\u001b[0;34m\u001b[0m\u001b[0;34m\u001b[0m\u001b[0m\n\u001b[0m",
      "\u001b[0;31mTypeError\u001b[0m: 'tuple' object does not support item assignment"
     ]
    }
   ],
   "source": [
    "a_tuple[0] = 1"
   ]
  },
  {
   "cell_type": "markdown",
   "id": "dcd907d5",
   "metadata": {},
   "source": [
    "As anything else in Python, tuple are objects. Tuples are objects from the class tuple:"
   ]
  },
  {
   "cell_type": "code",
   "execution_count": 3,
   "id": "95282ae8",
   "metadata": {
    "scrolled": true
   },
   "outputs": [
    {
     "data": {
      "text/plain": [
       "tuple"
      ]
     },
     "execution_count": 3,
     "metadata": {},
     "output_type": "execute_result"
    }
   ],
   "source": [
    "type(a_tuple)"
   ]
  },
  {
   "cell_type": "markdown",
   "id": "e4f8e2d1",
   "metadata": {},
   "source": [
    "You can also use parentheses to create tuples: "
   ]
  },
  {
   "cell_type": "code",
   "execution_count": 4,
   "id": "f1bef781",
   "metadata": {},
   "outputs": [
    {
     "data": {
      "text/plain": [
       "(4, 5, 6)"
      ]
     },
     "execution_count": 4,
     "metadata": {},
     "output_type": "execute_result"
    }
   ],
   "source": [
    "a_tuple = (4, 5, 6)\n",
    "a_tuple"
   ]
  },
  {
   "cell_type": "markdown",
   "id": "67e3f557",
   "metadata": {},
   "source": [
    "Elements can be accessed with square brackets [] as with most other sequence types.\n",
    "\n",
    "As in many other languages, tuples and all other sequences are 0-indexed in Python:"
   ]
  },
  {
   "cell_type": "code",
   "execution_count": 5,
   "id": "156f91d2",
   "metadata": {},
   "outputs": [
    {
     "data": {
      "text/plain": [
       "4"
      ]
     },
     "execution_count": 5,
     "metadata": {},
     "output_type": "execute_result"
    }
   ],
   "source": [
    "a_tuple = (4, 5, 6)\n",
    "a_tuple[0]"
   ]
  },
  {
   "cell_type": "markdown",
   "id": "edf8fbbe",
   "metadata": {},
   "source": [
    "### Tuple unpacking\n",
    "\n",
    "Tuple unpacking (also known as multiple assignment), a common practice in Python, allows you to assign multiple variables at the same time in one statement.\n",
    "\n",
    "Let's first create a tuple:"
   ]
  },
  {
   "cell_type": "code",
   "execution_count": 6,
   "id": "115a330f",
   "metadata": {},
   "outputs": [
    {
     "data": {
      "text/plain": [
       "(4, 5, 6)"
      ]
     },
     "execution_count": 6,
     "metadata": {},
     "output_type": "execute_result"
    }
   ],
   "source": [
    "a_tuple = 4, 5, 6\n",
    "a_tuple"
   ]
  },
  {
   "cell_type": "markdown",
   "id": "f2511adb",
   "metadata": {},
   "source": [
    "Tuple unpacking is done by assigning a tuple-like expression (i.e., an expression that evaluates to a tuple) to a variable. When this happens, Python will attempt to unpack the value on the right hand side of the equals sign:"
   ]
  },
  {
   "cell_type": "code",
   "execution_count": 7,
   "id": "3ca3fd11",
   "metadata": {},
   "outputs": [
    {
     "name": "stdout",
     "output_type": "stream",
     "text": [
      "4 5 6\n"
     ]
    }
   ],
   "source": [
    "a, b, c = a_tuple\n",
    "\n",
    "print(a, b, c)"
   ]
  },
  {
   "cell_type": "markdown",
   "id": "e7f79126",
   "metadata": {},
   "source": [
    "This is a shorter version:"
   ]
  },
  {
   "cell_type": "code",
   "execution_count": 8,
   "id": "4b18743f",
   "metadata": {},
   "outputs": [
    {
     "name": "stdout",
     "output_type": "stream",
     "text": [
      "4 5 6\n"
     ]
    }
   ],
   "source": [
    "a, b, c = 4, 5, 6\n",
    "\n",
    "print(a, b, c)"
   ]
  },
  {
   "cell_type": "markdown",
   "id": "7e24d511",
   "metadata": {},
   "source": [
    "## Lists\n",
    "\n",
    "In contrast with tuples, lists are **mutable** objects, which means their length is variable and their contents can be modified in-place.\n",
    "\n",
    "You can define them using square brackets []:"
   ]
  },
  {
   "cell_type": "code",
   "execution_count": 9,
   "id": "165f9d13",
   "metadata": {},
   "outputs": [
    {
     "data": {
      "text/plain": [
       "[2, 3, 7]"
      ]
     },
     "execution_count": 9,
     "metadata": {},
     "output_type": "execute_result"
    }
   ],
   "source": [
    "a_list = [2, 3, 7]\n",
    "a_list"
   ]
  },
  {
   "cell_type": "markdown",
   "id": "2fde3bcc",
   "metadata": {},
   "source": [
    "We can also use the list function to create lists from other objects, such as tuples:"
   ]
  },
  {
   "cell_type": "code",
   "execution_count": 10,
   "id": "4ae1fd27",
   "metadata": {},
   "outputs": [
    {
     "data": {
      "text/plain": [
       "[2, 3, 7]"
      ]
     },
     "execution_count": 10,
     "metadata": {},
     "output_type": "execute_result"
    }
   ],
   "source": [
    "a_tuple = 2, 3, 7\n",
    "a_list = list(a_tuple)\n",
    "a_list"
   ]
  },
  {
   "cell_type": "markdown",
   "id": "2046c03b",
   "metadata": {},
   "source": [
    "Lists are objects from the class list:"
   ]
  },
  {
   "cell_type": "code",
   "execution_count": 11,
   "id": "2a132dd9",
   "metadata": {},
   "outputs": [
    {
     "data": {
      "text/plain": [
       "list"
      ]
     },
     "execution_count": 11,
     "metadata": {},
     "output_type": "execute_result"
    }
   ],
   "source": [
    "type(a_list)"
   ]
  },
  {
   "cell_type": "markdown",
   "id": "b581bceb",
   "metadata": {},
   "source": [
    "> Lists and tuples are semantically similar and can be used interchangeably in many functions. The main difference is that tuples cannot be modified."
   ]
  },
  {
   "cell_type": "markdown",
   "id": "18954ac1",
   "metadata": {},
   "source": [
    "### Manipulating elements in a list\n",
    "\n",
    "We can manipulate elements in a list using different methods:"
   ]
  },
  {
   "cell_type": "code",
   "execution_count": 12,
   "id": "b5cecea7",
   "metadata": {},
   "outputs": [],
   "source": [
    "a_list = ['foo', 'bar', 'baz']"
   ]
  },
  {
   "cell_type": "markdown",
   "id": "9359f350",
   "metadata": {},
   "source": [
    "Elements can be appended to the end of the list with the append method:"
   ]
  },
  {
   "cell_type": "code",
   "execution_count": 13,
   "id": "d8bf501e",
   "metadata": {},
   "outputs": [
    {
     "data": {
      "text/plain": [
       "['foo', 'bar', 'baz', 'dwarf']"
      ]
     },
     "execution_count": 13,
     "metadata": {},
     "output_type": "execute_result"
    }
   ],
   "source": [
    "a_list.append('dwarf')\n",
    "a_list"
   ]
  },
  {
   "cell_type": "markdown",
   "id": "cd36ba28",
   "metadata": {},
   "source": [
    "Using insert you can insert an element at a specific location in the list:"
   ]
  },
  {
   "cell_type": "code",
   "execution_count": 14,
   "id": "dbc985b2",
   "metadata": {},
   "outputs": [
    {
     "data": {
      "text/plain": [
       "['foo', 'red', 'bar', 'baz', 'dwarf']"
      ]
     },
     "execution_count": 14,
     "metadata": {},
     "output_type": "execute_result"
    }
   ],
   "source": [
    "a_list.insert(1, 'red')\n",
    "a_list"
   ]
  },
  {
   "cell_type": "code",
   "execution_count": 15,
   "id": "ee00024d",
   "metadata": {},
   "outputs": [
    {
     "ename": "SyntaxError",
     "evalue": "invalid syntax (3148373685.py, line 1)",
     "output_type": "error",
     "traceback": [
      "\u001b[0;36m  File \u001b[0;32m\"/var/folders/fj/bq17tpk16gxc1vblq061by1m0000gq/T/ipykernel_26246/3148373685.py\"\u001b[0;36m, line \u001b[0;32m1\u001b[0m\n\u001b[0;31m    The inverse operation to insert is pop, which removes and returns an element at a particular index:\u001b[0m\n\u001b[0m        ^\u001b[0m\n\u001b[0;31mSyntaxError\u001b[0m\u001b[0;31m:\u001b[0m invalid syntax\n"
     ]
    }
   ],
   "source": [
    "The inverse operation to insert is pop, which removes and returns an element at a particular index:"
   ]
  },
  {
   "cell_type": "code",
   "execution_count": 16,
   "id": "58ec6c97",
   "metadata": {},
   "outputs": [
    {
     "data": {
      "text/plain": [
       "'bar'"
      ]
     },
     "execution_count": 16,
     "metadata": {},
     "output_type": "execute_result"
    }
   ],
   "source": [
    "a_list.pop(2)"
   ]
  },
  {
   "cell_type": "code",
   "execution_count": 17,
   "id": "34af65e8",
   "metadata": {},
   "outputs": [
    {
     "data": {
      "text/plain": [
       "['foo', 'red', 'baz', 'dwarf']"
      ]
     },
     "execution_count": 17,
     "metadata": {},
     "output_type": "execute_result"
    }
   ],
   "source": [
    "a_list"
   ]
  },
  {
   "cell_type": "markdown",
   "id": "6271bcdb",
   "metadata": {},
   "source": [
    "Elements can be removed by value with remove, which locates the first such value and removes it from the list:"
   ]
  },
  {
   "cell_type": "code",
   "execution_count": 18,
   "id": "f18f241f",
   "metadata": {},
   "outputs": [
    {
     "data": {
      "text/plain": [
       "['red', 'baz', 'dwarf']"
      ]
     },
     "execution_count": 18,
     "metadata": {},
     "output_type": "execute_result"
    }
   ],
   "source": [
    "a_list.remove('foo')\n",
    "a_list"
   ]
  },
  {
   "cell_type": "markdown",
   "id": "2f676a92",
   "metadata": {},
   "source": [
    "Check if a list contains a value using the in keyword:"
   ]
  },
  {
   "cell_type": "code",
   "execution_count": 19,
   "id": "a27f77f3",
   "metadata": {},
   "outputs": [
    {
     "data": {
      "text/plain": [
       "True"
      ]
     },
     "execution_count": 19,
     "metadata": {},
     "output_type": "execute_result"
    }
   ],
   "source": [
    "'dwarf' in a_list"
   ]
  },
  {
   "cell_type": "markdown",
   "id": "1e212110",
   "metadata": {},
   "source": [
    "The keyword not can be used to negate in:"
   ]
  },
  {
   "cell_type": "code",
   "execution_count": 20,
   "id": "b4c31dda",
   "metadata": {},
   "outputs": [
    {
     "name": "stdout",
     "output_type": "stream",
     "text": [
      "False\n"
     ]
    }
   ],
   "source": [
    "print('dwarf' not in a_list)"
   ]
  },
  {
   "cell_type": "markdown",
   "id": "57ceeae6",
   "metadata": {},
   "source": [
    "> Checking whether a list contains a value is a lot slower than doing so with dicts and sets (to be introduced shortly), as Python makes a linear scan across the values of the list, whereas it can check the others (based on hash tables) in constant time."
   ]
  },
  {
   "cell_type": "markdown",
   "id": "a0295d3f",
   "metadata": {},
   "source": [
    "### Concatenating and combining lists\n",
    "\n",
    "Adding two lists together with + concatenates them (you can concatenate tuples in the same way):"
   ]
  },
  {
   "cell_type": "code",
   "execution_count": 21,
   "id": "2ddd4e94",
   "metadata": {},
   "outputs": [
    {
     "data": {
      "text/plain": [
       "[4, 5, 'foo', 7, 8, 9]"
      ]
     },
     "execution_count": 21,
     "metadata": {},
     "output_type": "execute_result"
    }
   ],
   "source": [
    "[4, 5, 'foo'] + [7, 8, 9]"
   ]
  },
  {
   "cell_type": "markdown",
   "id": "6878dd77",
   "metadata": {},
   "source": [
    "If you have a list already defined, you can append multiple elements to it using the extend method:"
   ]
  },
  {
   "cell_type": "code",
   "execution_count": 22,
   "id": "c8cacbb5",
   "metadata": {},
   "outputs": [
    {
     "data": {
      "text/plain": [
       "[4, 5, 'foo', 7, 8]"
      ]
     },
     "execution_count": 22,
     "metadata": {},
     "output_type": "execute_result"
    }
   ],
   "source": [
    "a_list = [4, 5, 'foo']\n",
    "a_list.extend([7, 8])\n",
    "\n",
    "a_list"
   ]
  },
  {
   "cell_type": "markdown",
   "id": "9dfef269",
   "metadata": {},
   "source": [
    "> Note that list concatenation by addition is a comparatively expensive operation since a new list must be created and the objects copied over. Using extend to append elements to an existing list, especially if you are building up a large list, is usually preferable."
   ]
  },
  {
   "cell_type": "markdown",
   "id": "cc6dcdaf",
   "metadata": {},
   "source": [
    "### Sorting\n",
    "\n",
    "You can sort a list in-place (without creating a new object) by calling its sort function:"
   ]
  },
  {
   "cell_type": "code",
   "execution_count": 23,
   "id": "0d64f788",
   "metadata": {},
   "outputs": [
    {
     "data": {
      "text/plain": [
       "[1, 2, 3, 5, 7]"
      ]
     },
     "execution_count": 23,
     "metadata": {},
     "output_type": "execute_result"
    }
   ],
   "source": [
    "a_list = [7, 2, 5, 1, 3]\n",
    "a_list.sort()\n",
    "\n",
    "a_list"
   ]
  },
  {
   "cell_type": "markdown",
   "id": "8fecc172",
   "metadata": {},
   "source": [
    "Python also has a number of built-in functions to work with lists and iterable objects in general:"
   ]
  },
  {
   "cell_type": "markdown",
   "id": "bd045d6d",
   "metadata": {},
   "source": [
    "Return the largest item:"
   ]
  },
  {
   "cell_type": "code",
   "execution_count": 24,
   "id": "b2c00770",
   "metadata": {},
   "outputs": [
    {
     "data": {
      "text/plain": [
       "7"
      ]
     },
     "execution_count": 24,
     "metadata": {},
     "output_type": "execute_result"
    }
   ],
   "source": [
    "max(a_list)"
   ]
  },
  {
   "cell_type": "markdown",
   "id": "187c353f",
   "metadata": {},
   "source": [
    "Sums items of a list (or any iterable object) and returns the total:"
   ]
  },
  {
   "cell_type": "code",
   "execution_count": 25,
   "id": "5bba52e6",
   "metadata": {},
   "outputs": [
    {
     "data": {
      "text/plain": [
       "18"
      ]
     },
     "execution_count": 25,
     "metadata": {},
     "output_type": "execute_result"
    }
   ],
   "source": [
    "sum(a_list)"
   ]
  },
  {
   "cell_type": "markdown",
   "id": "70e01f2b",
   "metadata": {},
   "source": [
    "### Slicing\n",
    "\n",
    "You can select sections of most sequence types by using slice notation, which in its basic form consists of the pattern start:stop:step passed to the indexing operator []:"
   ]
  },
  {
   "cell_type": "code",
   "execution_count": 26,
   "id": "fabe8527",
   "metadata": {},
   "outputs": [
    {
     "data": {
      "text/plain": [
       "[0, 1, 2, 3, 4, 5, 6, 7]"
      ]
     },
     "execution_count": 26,
     "metadata": {},
     "output_type": "execute_result"
    }
   ],
   "source": [
    "seq=[0, 1, 2, 3, 4, 5, 6, 7]\n",
    "seq"
   ]
  },
  {
   "cell_type": "markdown",
   "id": "85b85246",
   "metadata": {},
   "source": [
    "s[start:stop] → returns items from start to stop-1"
   ]
  },
  {
   "cell_type": "code",
   "execution_count": 30,
   "id": "f21dedf1",
   "metadata": {},
   "outputs": [
    {
     "data": {
      "text/plain": [
       "[0, 1, 2, 3]"
      ]
     },
     "execution_count": 30,
     "metadata": {},
     "output_type": "execute_result"
    }
   ],
   "source": [
    "seq[0:4] # items from position 0 to 3(4 minus 1):"
   ]
  },
  {
   "cell_type": "markdown",
   "id": "3a92822e",
   "metadata": {},
   "source": [
    "s[start:] → items start through the rest of the array"
   ]
  },
  {
   "cell_type": "code",
   "execution_count": 31,
   "id": "a5892411",
   "metadata": {},
   "outputs": [
    {
     "data": {
      "text/plain": [
       "[4, 5, 6, 7]"
      ]
     },
     "execution_count": 31,
     "metadata": {},
     "output_type": "execute_result"
    }
   ],
   "source": [
    "seq[4:] # items from position 4 to the end"
   ]
  },
  {
   "cell_type": "markdown",
   "id": "80533630",
   "metadata": {},
   "source": [
    "s[:stop] → items from the beginning through stop-1 "
   ]
  },
  {
   "cell_type": "code",
   "execution_count": 32,
   "id": "9cfde980",
   "metadata": {},
   "outputs": [
    {
     "data": {
      "text/plain": [
       "[0, 1, 2, 3]"
      ]
     },
     "execution_count": 32,
     "metadata": {},
     "output_type": "execute_result"
    }
   ],
   "source": [
    "seq[:4] # items from the beginning to position 3(4 minus 1)"
   ]
  },
  {
   "cell_type": "markdown",
   "id": "77032465",
   "metadata": {},
   "source": [
    "s[:] → a copy of the whole array"
   ]
  },
  {
   "cell_type": "code",
   "execution_count": 33,
   "id": "9d7fa6a8",
   "metadata": {},
   "outputs": [
    {
     "data": {
      "text/plain": [
       "[0, 1, 2, 3, 4, 5, 6, 7]"
      ]
     },
     "execution_count": 33,
     "metadata": {},
     "output_type": "execute_result"
    }
   ],
   "source": [
    "seq[:] # all items"
   ]
  },
  {
   "cell_type": "markdown",
   "id": "4040bc89",
   "metadata": {},
   "source": [
    "Negative indices slice the sequence relative to the end where the last position corresponds to -1:"
   ]
  },
  {
   "cell_type": "code",
   "execution_count": 34,
   "id": "024c0061",
   "metadata": {},
   "outputs": [
    {
     "name": "stdout",
     "output_type": "stream",
     "text": [
      "sequence:  [0, 1, 2, 3, 4, 5, 6, 7]\n",
      "last element: 7\n",
      "item at position -6(2): 2\n",
      "items from position -6(2) to position -2(6): [2, 3, 4, 5]\n",
      "items from position -4(4) to the end: [4, 5, 6, 7]\n"
     ]
    }
   ],
   "source": [
    "seq=[0, 1, 2, 3, 4, 5, 6, 7]\n",
    "print(\"sequence: \", seq)\n",
    "\n",
    "print(\"last element:\", seq[-1])\n",
    "print(\"item at position -6(2):\", seq[-6])\n",
    "print(\"items from position -6(2) to position -2(6):\", seq[-6:-2]) \n",
    "print(\"items from position -4(4) to the end:\", seq[-4:])"
   ]
  },
  {
   "cell_type": "markdown",
   "id": "3b15f9e3",
   "metadata": {},
   "source": [
    "A **step** can also be used after a second colon to slice the list every certain number of items.\n",
    "\n",
    "s[::step] → list contents every step items "
   ]
  },
  {
   "cell_type": "code",
   "execution_count": 35,
   "id": "14524c1c",
   "metadata": {},
   "outputs": [
    {
     "data": {
      "text/plain": [
       "[0, 2, 4, 6]"
      ]
     },
     "execution_count": 35,
     "metadata": {},
     "output_type": "execute_result"
    }
   ],
   "source": [
    "seq[::2] # list contents two by two"
   ]
  },
  {
   "cell_type": "markdown",
   "id": "82542cc1",
   "metadata": {},
   "source": [
    "A step may be a negative number to indicate reverse sequencing.\n",
    "\n",
    "All items in the array, reversed:"
   ]
  },
  {
   "cell_type": "code",
   "execution_count": 36,
   "id": "c6ba286a",
   "metadata": {},
   "outputs": [
    {
     "data": {
      "text/plain": [
       "[7, 6, 5, 4, 3, 2, 1, 0]"
      ]
     },
     "execution_count": 36,
     "metadata": {},
     "output_type": "execute_result"
    }
   ],
   "source": [
    "seq[::-1]"
   ]
  },
  {
   "cell_type": "markdown",
   "id": "aac541df",
   "metadata": {},
   "source": [
    "## Dictionaries\n",
    "\n",
    "Dictionaries are likely the most important built-in Python data structure. A more common name for it is hashmap or associative array.\n",
    "\n",
    "A dictionary is a flexibly sized collection of key-value pairs, where key and value are Python objects. One approach for creating one is to use curly braces {} and colons to separate keys and values:"
   ]
  },
  {
   "cell_type": "code",
   "execution_count": 37,
   "id": "0025fe88",
   "metadata": {},
   "outputs": [
    {
     "data": {
      "text/plain": [
       "{'a': 'some value', 'b': [1, 2, 3, 4]}"
      ]
     },
     "execution_count": 37,
     "metadata": {},
     "output_type": "execute_result"
    }
   ],
   "source": [
    "dictionary = {'a' : 'some value', 'b' : [1, 2, 3, 4]}\n",
    "dictionary"
   ]
  },
  {
   "cell_type": "markdown",
   "id": "3a3f8cba",
   "metadata": {},
   "source": [
    "Dictionaries are objects from the dict class:"
   ]
  },
  {
   "cell_type": "code",
   "execution_count": 38,
   "id": "be557fd0",
   "metadata": {},
   "outputs": [
    {
     "data": {
      "text/plain": [
       "dict"
      ]
     },
     "execution_count": 38,
     "metadata": {},
     "output_type": "execute_result"
    }
   ],
   "source": [
    "type(dictionary)"
   ]
  },
  {
   "cell_type": "markdown",
   "id": "39c61216",
   "metadata": {},
   "source": [
    "You can access, insert, or set elements using the same syntax as # for accessing elements of a list or tuple:"
   ]
  },
  {
   "cell_type": "code",
   "execution_count": 39,
   "id": "c3153a63",
   "metadata": {},
   "outputs": [
    {
     "data": {
      "text/plain": [
       "{'a': 'some value', 'b': [1, 2, 3, 4], 7: 'an integer'}"
      ]
     },
     "execution_count": 39,
     "metadata": {},
     "output_type": "execute_result"
    }
   ],
   "source": [
    "dictionary[7] = 'an integer'\n",
    "dictionary"
   ]
  },
  {
   "cell_type": "markdown",
   "id": "0c8e7327",
   "metadata": {},
   "source": [
    "You can check if a dict contains a key using the same syntax used for checking whether a list or tuple contains a value:"
   ]
  },
  {
   "cell_type": "code",
   "execution_count": 40,
   "id": "e7b0086c",
   "metadata": {},
   "outputs": [
    {
     "data": {
      "text/plain": [
       "True"
      ]
     },
     "execution_count": 40,
     "metadata": {},
     "output_type": "execute_result"
    }
   ],
   "source": [
    "'b' in dictionary"
   ]
  },
  {
   "cell_type": "code",
   "execution_count": 41,
   "id": "95f1fbcd",
   "metadata": {},
   "outputs": [
    {
     "data": {
      "text/plain": [
       "False"
      ]
     },
     "execution_count": 41,
     "metadata": {},
     "output_type": "execute_result"
    }
   ],
   "source": [
    "'c' in dictionary"
   ]
  },
  {
   "cell_type": "markdown",
   "id": "3ab8edad",
   "metadata": {},
   "source": [
    "You can delete values either using the *del* keyword or the *pop* method (which simultaneously returns the value and deletes the key):"
   ]
  },
  {
   "cell_type": "code",
   "execution_count": 42,
   "id": "4ab96dd8",
   "metadata": {},
   "outputs": [
    {
     "data": {
      "text/plain": [
       "{'b': [1, 2, 3, 4], 7: 'an integer'}"
      ]
     },
     "execution_count": 42,
     "metadata": {},
     "output_type": "execute_result"
    }
   ],
   "source": [
    "del dictionary['a']\n",
    "dictionary"
   ]
  },
  {
   "cell_type": "code",
   "execution_count": 43,
   "id": "af6a6370",
   "metadata": {},
   "outputs": [
    {
     "data": {
      "text/plain": [
       "'an integer'"
      ]
     },
     "execution_count": 43,
     "metadata": {},
     "output_type": "execute_result"
    }
   ],
   "source": [
    "dictionary.pop(7)"
   ]
  },
  {
   "cell_type": "code",
   "execution_count": 44,
   "id": "7ccc7833",
   "metadata": {},
   "outputs": [
    {
     "data": {
      "text/plain": [
       "{'b': [1, 2, 3, 4]}"
      ]
     },
     "execution_count": 44,
     "metadata": {},
     "output_type": "execute_result"
    }
   ],
   "source": [
    "dictionary"
   ]
  },
  {
   "cell_type": "markdown",
   "id": "06baba02",
   "metadata": {},
   "source": [
    "The keys and values method give you iterators of the dict’s keys and values, respectively.\n",
    "\n",
    "While the key-value pairs are not in any particular order, these functions output the keys and values in the same order:"
   ]
  },
  {
   "cell_type": "code",
   "execution_count": 45,
   "id": "06e298ce",
   "metadata": {},
   "outputs": [
    {
     "data": {
      "text/plain": [
       "dict_keys(['a', 'b'])"
      ]
     },
     "execution_count": 45,
     "metadata": {},
     "output_type": "execute_result"
    }
   ],
   "source": [
    "dictionary = {'a' : 'some value', 'b' : [1, 2, 3, 4]}\n",
    "\n",
    "dictionary.keys()"
   ]
  },
  {
   "cell_type": "code",
   "execution_count": 46,
   "id": "4e3d1522",
   "metadata": {},
   "outputs": [
    {
     "data": {
      "text/plain": [
       "dict_values(['some value', [1, 2, 3, 4]])"
      ]
     },
     "execution_count": 46,
     "metadata": {},
     "output_type": "execute_result"
    }
   ],
   "source": [
    "dictionary.values()"
   ]
  },
  {
   "cell_type": "markdown",
   "id": "8c6d120c",
   "metadata": {},
   "source": [
    "## Valid types for keys\n",
    "\n",
    "While the values of a dict can be any Python object, the keys generally have to be immutable objects like scalar types (int, float, string) or tuples (all the objects in the tuple need to be immutable, too).\n",
    "\n",
    "The technical term here is hashability. You can check whether an object is hashable (can be used as a key in a dict) with the hash function:"
   ]
  },
  {
   "cell_type": "code",
   "execution_count": 47,
   "id": "a43108b3",
   "metadata": {},
   "outputs": [
    {
     "name": "stdout",
     "output_type": "stream",
     "text": [
      "3870778937854110384\n",
      "-9209053662355515447\n"
     ]
    }
   ],
   "source": [
    "print( hash('string') )\n",
    "print( hash((1, 2, (2, 3))) )"
   ]
  },
  {
   "cell_type": "code",
   "execution_count": 48,
   "id": "e184c45e",
   "metadata": {},
   "outputs": [
    {
     "ename": "TypeError",
     "evalue": "unhashable type: 'list'",
     "output_type": "error",
     "traceback": [
      "\u001b[0;31m---------------------------------------------------------------------------\u001b[0m",
      "\u001b[0;31mTypeError\u001b[0m                                 Traceback (most recent call last)",
      "\u001b[0;32m/var/folders/fj/bq17tpk16gxc1vblq061by1m0000gq/T/ipykernel_26246/1767385392.py\u001b[0m in \u001b[0;36m<module>\u001b[0;34m\u001b[0m\n\u001b[0;32m----> 1\u001b[0;31m \u001b[0mhash\u001b[0m\u001b[0;34m(\u001b[0m\u001b[0;34m(\u001b[0m\u001b[0;36m1\u001b[0m\u001b[0;34m,\u001b[0m \u001b[0;36m2\u001b[0m\u001b[0;34m,\u001b[0m \u001b[0;34m[\u001b[0m\u001b[0;36m2\u001b[0m\u001b[0;34m,\u001b[0m \u001b[0;36m3\u001b[0m\u001b[0;34m]\u001b[0m\u001b[0;34m)\u001b[0m\u001b[0;34m)\u001b[0m \u001b[0;31m# fails because lists are mutable\u001b[0m\u001b[0;34m\u001b[0m\u001b[0;34m\u001b[0m\u001b[0m\n\u001b[0m",
      "\u001b[0;31mTypeError\u001b[0m: unhashable type: 'list'"
     ]
    }
   ],
   "source": [
    "hash((1, 2, [2, 3])) # fails because lists are mutable"
   ]
  },
  {
   "cell_type": "markdown",
   "id": "f880f0a3",
   "metadata": {},
   "source": [
    "## Sets\n",
    "\n",
    "A set is an unordered collection of **unique** elements.\n",
    "\n",
    "Sets support mathematical set operations like union, intersection, difference, and symmetric difference. \n",
    "\n",
    "A set can be created in two ways:\n",
    "- Using the *set* function\n",
    "- Using the set literal with curly braces"
   ]
  },
  {
   "cell_type": "code",
   "execution_count": 49,
   "id": "7f8f7f41",
   "metadata": {},
   "outputs": [
    {
     "data": {
      "text/plain": [
       "{1, 2, 3}"
      ]
     },
     "execution_count": 49,
     "metadata": {},
     "output_type": "execute_result"
    }
   ],
   "source": [
    "set([2, 2, 2, 1, 3, 3])"
   ]
  },
  {
   "cell_type": "code",
   "execution_count": 50,
   "id": "9ce90f70",
   "metadata": {},
   "outputs": [
    {
     "data": {
      "text/plain": [
       "{1, 2, 3}"
      ]
     },
     "execution_count": 50,
     "metadata": {},
     "output_type": "execute_result"
    }
   ],
   "source": [
    "{2, 2, 2, 1, 3, 3}"
   ]
  },
  {
   "cell_type": "markdown",
   "id": "94d84347",
   "metadata": {},
   "source": [
    "Sets are objects of the set class:"
   ]
  },
  {
   "cell_type": "code",
   "execution_count": 51,
   "id": "160c248a",
   "metadata": {},
   "outputs": [
    {
     "data": {
      "text/plain": [
       "set"
      ]
     },
     "execution_count": 51,
     "metadata": {},
     "output_type": "execute_result"
    }
   ],
   "source": [
    "a_set = {1, 2}\n",
    "type(a_set)"
   ]
  },
  {
   "cell_type": "markdown",
   "id": "5d05943c",
   "metadata": {},
   "source": [
    "## 2. List Comprehensions"
   ]
  },
  {
   "cell_type": "markdown",
   "id": "d450d474",
   "metadata": {},
   "source": [
    "The simplest form of list comprehension is just to replicate a list into another list:"
   ]
  },
  {
   "cell_type": "code",
   "execution_count": 52,
   "id": "dd61ed0d",
   "metadata": {},
   "outputs": [],
   "source": [
    "a_list = [1, 2, 3]"
   ]
  },
  {
   "cell_type": "code",
   "execution_count": 53,
   "id": "95dd086e",
   "metadata": {},
   "outputs": [
    {
     "data": {
      "text/plain": [
       "[1, 2, 3]"
      ]
     },
     "execution_count": 53,
     "metadata": {},
     "output_type": "execute_result"
    }
   ],
   "source": [
    "[l for l in a_list]"
   ]
  },
  {
   "cell_type": "markdown",
   "id": "47a60ee9",
   "metadata": {},
   "source": [
    "We can assign the result of a list comprehension to another list:"
   ]
  },
  {
   "cell_type": "code",
   "execution_count": 54,
   "id": "d07d803b",
   "metadata": {},
   "outputs": [
    {
     "data": {
      "text/plain": [
       "[1, 2, 3]"
      ]
     },
     "execution_count": 54,
     "metadata": {},
     "output_type": "execute_result"
    }
   ],
   "source": [
    "another_list = [l for l in a_list]\n",
    "another_list"
   ]
  },
  {
   "cell_type": "markdown",
   "id": "9612cd65",
   "metadata": {},
   "source": [
    "We can do much more. For example, given a list of strings, we could filter out trings with length 2 or less and also convert them to ppercase like this:"
   ]
  },
  {
   "cell_type": "code",
   "execution_count": 55,
   "id": "c9bbb577",
   "metadata": {},
   "outputs": [
    {
     "data": {
      "text/plain": [
       "['BAT', 'CAR', 'DOVE', 'PYTHON']"
      ]
     },
     "execution_count": 55,
     "metadata": {},
     "output_type": "execute_result"
    }
   ],
   "source": [
    "strings = ['a', 'as', 'bat', 'car', 'dove', 'python']\n",
    "\n",
    "list_comp = [s.upper() for s in strings if len(s) > 2]\n",
    "list_comp"
   ]
  },
  {
   "cell_type": "markdown",
   "id": "e5b276f7",
   "metadata": {},
   "source": [
    "The code above is equivalent to the following code using a for statement:"
   ]
  },
  {
   "cell_type": "code",
   "execution_count": 56,
   "id": "728815e2",
   "metadata": {},
   "outputs": [
    {
     "data": {
      "text/plain": [
       "['BAT', 'CAR', 'DOVE', 'PYTHON']"
      ]
     },
     "execution_count": 56,
     "metadata": {},
     "output_type": "execute_result"
    }
   ],
   "source": [
    "list_comp = []\n",
    "for s in strings:\n",
    "    if(len(s) > 2):\n",
    "        list_comp.append(s.upper())\n",
    "    \n",
    "list_comp"
   ]
  },
  {
   "cell_type": "markdown",
   "id": "2c079d5d",
   "metadata": {},
   "source": [
    "### Review: mutable and immutable objects\n",
    "\n",
    "Lists, dicts, and most user-defined types (classes), are mutable.\n",
    "\n",
    "This means that the object or values that they contain can be modified:"
   ]
  },
  {
   "cell_type": "code",
   "execution_count": 57,
   "id": "4b5d0161",
   "metadata": {},
   "outputs": [
    {
     "data": {
      "text/plain": [
       "['foo', 2, (3, 4)]"
      ]
     },
     "execution_count": 57,
     "metadata": {},
     "output_type": "execute_result"
    }
   ],
   "source": [
    "list = ['foo', 2, [4, 5]]\n",
    "list[2] = (3, 4)\n",
    "\n",
    "list"
   ]
  },
  {
   "cell_type": "markdown",
   "id": "479a165b",
   "metadata": {},
   "source": [
    "Others, like strings, tupbles, and sets, are immutable:"
   ]
  },
  {
   "cell_type": "code",
   "execution_count": 58,
   "id": "9f22ec02",
   "metadata": {},
   "outputs": [
    {
     "ename": "TypeError",
     "evalue": "'str' object does not support item assignment",
     "output_type": "error",
     "traceback": [
      "\u001b[0;31m---------------------------------------------------------------------------\u001b[0m",
      "\u001b[0;31mTypeError\u001b[0m                                 Traceback (most recent call last)",
      "\u001b[0;32m/var/folders/fj/bq17tpk16gxc1vblq061by1m0000gq/T/ipykernel_26246/515884629.py\u001b[0m in \u001b[0;36m<module>\u001b[0;34m\u001b[0m\n\u001b[1;32m      1\u001b[0m \u001b[0mstring\u001b[0m \u001b[0;34m=\u001b[0m \u001b[0;34m\"Hello\"\u001b[0m\u001b[0;34m\u001b[0m\u001b[0;34m\u001b[0m\u001b[0m\n\u001b[0;32m----> 2\u001b[0;31m \u001b[0mstring\u001b[0m\u001b[0;34m[\u001b[0m\u001b[0;36m1\u001b[0m\u001b[0;34m]\u001b[0m \u001b[0;34m=\u001b[0m \u001b[0;34m'a'\u001b[0m\u001b[0;34m\u001b[0m\u001b[0;34m\u001b[0m\u001b[0m\n\u001b[0m",
      "\u001b[0;31mTypeError\u001b[0m: 'str' object does not support item assignment"
     ]
    }
   ],
   "source": [
    "string = \"Hello\"\n",
    "string[1] = 'a'"
   ]
  },
  {
   "cell_type": "code",
   "execution_count": null,
   "id": "33b58b9a",
   "metadata": {},
   "outputs": [],
   "source": []
  }
 ],
 "metadata": {
  "kernelspec": {
   "display_name": "Python 3 (ipykernel)",
   "language": "python",
   "name": "python3"
  },
  "language_info": {
   "codemirror_mode": {
    "name": "ipython",
    "version": 3
   },
   "file_extension": ".py",
   "mimetype": "text/x-python",
   "name": "python",
   "nbconvert_exporter": "python",
   "pygments_lexer": "ipython3",
   "version": "3.9.6"
  }
 },
 "nbformat": 4,
 "nbformat_minor": 5
}
