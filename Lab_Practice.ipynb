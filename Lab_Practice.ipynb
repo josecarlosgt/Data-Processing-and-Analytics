{
 "cells": [
  {
   "cell_type": "markdown",
   "metadata": {},
   "source": [
    "# Lab Practice: Built-in data structures and functions in Python"
   ]
  },
  {
   "cell_type": "markdown",
   "metadata": {},
   "source": [
    "## 1. Sales analysis\n",
    "\n",
    "The list below contains sales numbers for similarly priced items in a retailer shop. The operations department wants to improve their inventory management. They want to know which products are the most sold by the shop and minimize shortages of those products. \n",
    "\n",
    "Write a function that processes the list and returns a list sorted by the products popularity, i.e., the product at the top is the most sold product."
   ]
  },
  {
   "cell_type": "code",
   "execution_count": 4,
   "metadata": {},
   "outputs": [
    {
     "data": {
      "text/plain": [
       "[{'item': 'Queen Microfiber Sheet Set', 'price': '$19.00'},\n",
       " {'item': 'Rubbermaid 18pc Plastic Food', 'price': '$9.99'},\n",
       " {'item': 'Plastic Mixing Bowl Set of 3', 'price': '$8.00'},\n",
       " {'item': 'Pryce Silverware Set 20-pc.', 'price': '$10.00'},\n",
       " {'item': 'Black+Decker 0.7 cu ft', 'price': '$59.99'}]"
      ]
     },
     "execution_count": 4,
     "metadata": {},
     "output_type": "execute_result"
    }
   ],
   "source": [
    "sales = [\n",
    "    {\"item\": \"Queen Microfiber Sheet Set\", \"price\": \"$19.00\"},\n",
    "    {\"item\": \"Rubbermaid 18pc Plastic Food\", \"price\": \"$9.99\"},\n",
    "    {\"item\": \"Plastic Mixing Bowl Set of 3\", \"price\": \"$8.00\"},\n",
    "    {\"item\": \"Pryce Silverware Set 20-pc.\", \"price\": \"$10.00\"},\n",
    "    {\"item\": \"Black+Decker 0.7 cu ft\", \"price\": \"$59.99\"}\n",
    "]\n",
    "\n",
    "sales"
   ]
  },
  {
   "cell_type": "markdown",
   "metadata": {},
   "source": [
    "## 2. Dates recognizer in emails\n",
    "\n",
    "\n"
   ]
  },
  {
   "cell_type": "code",
   "execution_count": null,
   "metadata": {},
   "outputs": [],
   "source": [
    "email=\"This is an email with a date on.\""
   ]
  },
  {
   "cell_type": "markdown",
   "metadata": {},
   "source": [
    "## 3. Text analytics\n",
    "Show what the text is about."
   ]
  },
  {
   "cell_type": "markdown",
   "metadata": {},
   "source": [
    "## 4. Social media analytics\n",
    "\n",
    "Extract the hashtags. Report most popular hashtags."
   ]
  },
  {
   "cell_type": "markdown",
   "metadata": {},
   "source": [
    "## 5. Stream translator \n",
    "\n",
    "Use generator functions.\n",
    "\n",
    "https://www.oreilly.com/content/2-great-benefits-of-python-generators-and-how-they-changed-me-forever/"
   ]
  },
  {
   "cell_type": "code",
   "execution_count": 1,
   "metadata": {},
   "outputs": [],
   "source": [
    "articles=\"\"\"\n",
    "article: Buzz_Aldrin\n",
    "requests: 2183\n",
    "bytes_served: 71437760\n",
    "\n",
    "article: Isaac_Newton\n",
    "requests: 25810\n",
    "bytes_served: 1680833779\n",
    "\n",
    "article: Main_Page\n",
    "requests: 559944\n",
    "bytes_served: 9458944804\n",
    "\n",
    "article: Olympic_Games\n",
    "requests: 1173\n",
    "bytes_served: 147591514\n",
    "\"\"\""
   ]
  },
  {
   "cell_type": "code",
   "execution_count": null,
   "metadata": {},
   "outputs": [],
   "source": []
  }
 ],
 "metadata": {
  "kernelspec": {
   "display_name": "Python 3",
   "language": "python",
   "name": "python3"
  },
  "language_info": {
   "codemirror_mode": {
    "name": "ipython",
    "version": 3
   },
   "file_extension": ".py",
   "mimetype": "text/x-python",
   "name": "python",
   "nbconvert_exporter": "python",
   "pygments_lexer": "ipython3",
   "version": "3.7.6"
  }
 },
 "nbformat": 4,
 "nbformat_minor": 5
}
