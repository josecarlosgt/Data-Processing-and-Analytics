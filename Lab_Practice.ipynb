{
 "cells": [
  {
   "cell_type": "markdown",
   "id": "5986d142",
   "metadata": {},
   "source": [
    "# Lab Practice: Hashtag analysis"
   ]
  },
  {
   "cell_type": "markdown",
   "id": "07bdd364",
   "metadata": {},
   "source": [
    "A hashtag is a label commonly used on social media sites that make finding information with a theme or specific content easier. In business, hashtags are relevant indicators of trends and users' attitudes towards particular issues."
   ]
  },
  {
   "cell_type": "markdown",
   "id": "666ee1dd",
   "metadata": {},
   "source": [
    "![Word cloud image](images/word-cloud.jpeg)"
   ]
  },
  {
   "cell_type": "markdown",
   "id": "b3cf3c74",
   "metadata": {},
   "source": [
    "## Analyzing hashtags in Twitter data\n",
    "\n",
    "The goal of this lab is to learn which hashtags are trending in a corpus composed of tweets. We will reach the goal by discovering the hashtags and their frequencies as shown in the following data structure:\n",
    "\n",
    "`{'#schoolstrike4climate': 1,\n",
    " '#climatechange': 3,\n",
    " '#idai,': 1,\n",
    " '#savethebees': 1,\n",
    " '#sustainable': 1,\n",
    " '#climatecrisis,': 1}`"
   ]
  },
  {
   "cell_type": "markdown",
   "id": "c2dc9550",
   "metadata": {},
   "source": [
    "The following corpus contains a collection of six tweets:"
   ]
  },
  {
   "cell_type": "code",
   "execution_count": null,
   "id": "af003d51",
   "metadata": {},
   "outputs": [],
   "source": [
    "corpus=\"\"\"\n",
    "With more than 1.5 million students striking in more than 2000 places on Friday, the #SchoolStrike4Climate was the single largest day of #ClimateChange action in history.\n",
    "$200 million. That's how much the five largest oil and gas companies spend EVERY year to prevent meaningful action on climate change. When we are in the White House we will not allow them to destroy our planet for profit any longer.\n",
    "#Climatechange is making deadly storms, like Cyclone #Idai, more severe.\n",
    "Harvesting garden radishes, let some of them overgrow several weeks to allow bees to have access to flowers. #SaveTheBees #ClimateCHANGE #Sustainable\n",
    "Companies are now harnessing the power of ocean waves to generate electricity.\n",
    "We have the solutions to the #climatecrisis, let's implement them.\n",
    "\"\"\""
   ]
  },
  {
   "cell_type": "markdown",
   "id": "85faedef",
   "metadata": {},
   "source": [
    "> As in the Tutorial Exercise, the data size has at the moment is very small (just a few tweets). A larger corpus would probably reveal more interesting hashtag trends. This lab practice aims to implement a basic set of operations that we can later apply to a bigger number of tweets. "
   ]
  },
  {
   "cell_type": "markdown",
   "id": "5614d224",
   "metadata": {},
   "source": [
    "Take a look at the way in which Python represents the text:"
   ]
  },
  {
   "cell_type": "code",
   "execution_count": null,
   "id": "f36dc3fb",
   "metadata": {},
   "outputs": [],
   "source": [
    "corpus"
   ]
  },
  {
   "cell_type": "markdown",
   "id": "00faf3bb",
   "metadata": {},
   "source": [
    "> Notice the corpus contains both newline characters (\\n) and blank spaces as separators. The task of representing this corpus as a list of words would require dealing with these two separators."
   ]
  },
  {
   "cell_type": "markdown",
   "id": "6ccecae5",
   "metadata": {},
   "source": [
    "## Task #1: Data representation"
   ]
  },
  {
   "cell_type": "markdown",
   "id": "7c14713c",
   "metadata": {},
   "source": [
    "Before starting with the preprocessing and analysis of the data, we need to represent the corpus as a list of words (we will use the same format used in the tutorial).\n",
    "\n",
    "Steps to follow:\n",
    "- Use the [replace method](https://www.w3schools.com/python/ref_string_replace.asp) to replace newline characters (\"\\n\") with blank spaces (\" \").\n",
    "- Use the [split method](https://www.w3schools.com/python/ref_string_split.asp) to transform the corpus into a list of words"
   ]
  },
  {
   "cell_type": "code",
   "execution_count": null,
   "id": "94b008ac",
   "metadata": {},
   "outputs": [],
   "source": [
    "# YOUR SOLUTION\n",
    "\n",
    "words = []"
   ]
  },
  {
   "cell_type": "markdown",
   "id": "d164ccb4",
   "metadata": {},
   "source": [
    "## Task #2: Data exploration"
   ]
  },
  {
   "cell_type": "markdown",
   "id": "e9e27b25",
   "metadata": {},
   "source": [
    "Using [] and a range, display the first five items of the list:"
   ]
  },
  {
   "cell_type": "code",
   "execution_count": null,
   "id": "493aa6cb",
   "metadata": {},
   "outputs": [],
   "source": [
    "# YOUR SOLUTION"
   ]
  },
  {
   "cell_type": "markdown",
   "id": "ff57f6c5",
   "metadata": {},
   "source": [
    "Note that some words are empty strings. We will get rid of these empty strings in the next task."
   ]
  },
  {
   "cell_type": "code",
   "execution_count": null,
   "id": "119f6076",
   "metadata": {},
   "outputs": [],
   "source": [
    "len(words[0])"
   ]
  },
  {
   "cell_type": "markdown",
   "id": "f1f876f6",
   "metadata": {},
   "source": [
    "## Task #3: Data cleaning"
   ]
  },
  {
   "cell_type": "markdown",
   "id": "98268ba6",
   "metadata": {},
   "source": [
    "Create a function called *remove_empty* that receives a list of words and returns another list of words where all words have a length greater than 1 (non-empty):"
   ]
  },
  {
   "cell_type": "code",
   "execution_count": 77,
   "id": "ed6f9d60",
   "metadata": {},
   "outputs": [],
   "source": [
    "# YOUR SOLUTION\n",
    "\n",
    "def remove_empty(words):\n",
    "    words_non_empty = []\n",
    "\n",
    "    return words_non_empty"
   ]
  },
  {
   "cell_type": "code",
   "execution_count": null,
   "id": "d71c2515",
   "metadata": {},
   "outputs": [],
   "source": [
    "words_non_empty = remove_empty(words)\n",
    "words_non_empty[0:5]"
   ]
  },
  {
   "cell_type": "markdown",
   "id": "4e25eb3e",
   "metadata": {},
   "source": [
    "## Task #4: Data transformation - normalization"
   ]
  },
  {
   "cell_type": "markdown",
   "id": "bf43eb01",
   "metadata": {},
   "source": [
    "Write a function a named *normalize* that receives a list of words as a parameter and returns another list of words where each word is in lower case:"
   ]
  },
  {
   "cell_type": "code",
   "execution_count": null,
   "id": "2c46ddcb",
   "metadata": {},
   "outputs": [],
   "source": [
    "# YOUR SOLUTION\n",
    "\n",
    "def normalize(words):\n",
    "    words_normalized = []\n",
    "    \n",
    "    return words_normalized"
   ]
  },
  {
   "cell_type": "code",
   "execution_count": null,
   "id": "9ae747b0",
   "metadata": {},
   "outputs": [],
   "source": [
    "words_normalized = normalize(words_non_empty)\n",
    "words_non_empty[0:5]"
   ]
  },
  {
   "cell_type": "markdown",
   "id": "73dc2fec",
   "metadata": {},
   "source": [
    "## Task #5: Data transformation - hashtag extraction"
   ]
  },
  {
   "cell_type": "markdown",
   "id": "d14fad3c",
   "metadata": {},
   "source": [
    "Write a function a named *extract_hashtags* that receives a list of words as a parameter and returns a list of hashtags:\n",
    "\n",
    "Tips:\n",
    "- Use the [startswith](https://www.w3schools.com/python/ref_string_startswith.asp) method"
   ]
  },
  {
   "cell_type": "code",
   "execution_count": null,
   "id": "550b8b1a",
   "metadata": {},
   "outputs": [],
   "source": [
    "# YOUR SOLUTION\n",
    "\n",
    "def extract_hashtags(words):\n",
    "    hashtags = []\n",
    "    \n",
    "    return hashtags"
   ]
  },
  {
   "cell_type": "code",
   "execution_count": null,
   "id": "9b8cefa5",
   "metadata": {},
   "outputs": [],
   "source": [
    "hashtags = extract_hashtags(words_normalized)\n",
    "hashtags"
   ]
  },
  {
   "cell_type": "markdown",
   "id": "0460d24f",
   "metadata": {},
   "source": [
    "## Task #6: Hashtag analysis"
   ]
  },
  {
   "cell_type": "markdown",
   "id": "af99592f",
   "metadata": {},
   "source": [
    "Create a data structure that contains the counts for each hashtag generate in the previous task:"
   ]
  },
  {
   "cell_type": "code",
   "execution_count": null,
   "id": "9074ebeb",
   "metadata": {},
   "outputs": [],
   "source": [
    "# YOUR SOLUTION"
   ]
  },
  {
   "cell_type": "code",
   "execution_count": null,
   "id": "9e270f45",
   "metadata": {},
   "outputs": [],
   "source": []
  }
 ],
 "metadata": {
  "kernelspec": {
   "display_name": "Python 3 (ipykernel)",
   "language": "python",
   "name": "python3"
  },
  "language_info": {
   "codemirror_mode": {
    "name": "ipython",
    "version": 3
   },
   "file_extension": ".py",
   "mimetype": "text/x-python",
   "name": "python",
   "nbconvert_exporter": "python",
   "pygments_lexer": "ipython3",
   "version": "3.9.6"
  }
 },
 "nbformat": 4,
 "nbformat_minor": 5
}
