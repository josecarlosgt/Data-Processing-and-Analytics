{
 "cells": [
  {
   "cell_type": "markdown",
   "metadata": {},
   "source": [
    "# Lab Practice: Built-in data structures and functions in Python"
   ]
  },
  {
   "cell_type": "markdown",
   "metadata": {},
   "source": [
    "In this lab, you apply Python's built-in data structures and functions to data processing.\n",
    "\n",
    "A popular technique when processing data is the implementation of different tasks through a pipeline. In data science, a **pipeline** consists of a set of tasks that change raw data into a more suitable format to conduct downstream analysis. The construction of pipelines simplifies the identification and implementation of the different operations required to analyze a dataset. \n",
    "\n",
    "Learning objectives:\n",
    "- Practice creating custom functions\n",
    "- Construct a data analysis pipeline\n",
    "\n",
    "### Some helpful notes:\n",
    "- This lab practice should take about two hours to complete. If a problem takes you too long to solve, don't hesitate to ask your instructor in class or post your questions in Canvas.\n",
    "- Do not try to solve the problems by copy&pasting solutions from other sources. Engaging in this kind of practice may lead you to finish this lab faster, but it won't contribute to your learning and improving your problem-solving skills. \n",
    "- When browsing for examples about Python's utilities and features, try to understand the logic and purpose of the functionality you incorporate in your solutions.\n",
    "- Make sure you review the examples covered previously in the tutorials before attempting this lab."
   ]
  },
  {
   "cell_type": "markdown",
   "metadata": {},
   "source": [
    "## Part I: Functions"
   ]
  },
  {
   "cell_type": "markdown",
   "metadata": {},
   "source": [
    "### Problem 1: Distance meter"
   ]
  },
  {
   "cell_type": "markdown",
   "metadata": {},
   "source": [
    "When working with data, combining or transforming existing attributes into new attributes is a common task. Consider the following record that contains (x,y) coordinates for two points:\n",
    "\n",
    "Point 1: x = 10, y = 15; Point 2: x = 20, y = 25\n",
    "\n",
    "Another way to represent the information contained in this record is to calculate the distance between the points. For this problem, write a function that calculates the Euclidean distance between the two points above.\n",
    "\n",
    "Notes:\n",
    "\n",
    "- Create a *tuple* to represent each point. Your solution should work regardless of the values in the coordinate variables.\n",
    "- You may use Python's [math](https://docs.python.org/3.7/library/math.html) module"
   ]
  },
  {
   "cell_type": "code",
   "execution_count": 150,
   "metadata": {},
   "outputs": [],
   "source": [
    "def calc_distance (p_1, p_2):\n",
    "    distance = None\n",
    "    \n",
    "    # YOUR SOLUTION\n",
    "    \n",
    "    return distance\n",
    "\n",
    "# calc_distance(p_1, p_2)"
   ]
  },
  {
   "cell_type": "markdown",
   "metadata": {},
   "source": [
    "### Problem 2: Pricing"
   ]
  },
  {
   "cell_type": "markdown",
   "metadata": {},
   "source": [
    "Write a function that implements a pricing strategy that reduces the price of a purchase order by 10% only if the order exceeds $100. The price received by your function is before tax.\n",
    "\n",
    "Your function should return four values:\n",
    "1. Total with the discount applied (if the discount applies)\n",
    "2. Discount (if any, otherwise the discount is 0)\n",
    "3. Sales tax\n",
    "4. Total with sales tax included\n",
    "\n",
    "> As a good programming practice, every constant value in your code (e.g., tax rate, discount rate, etc.) should be assigned to a variable and avoid using literal values elsewhere. In this way, you can define constant values in a single location in your program, which makes it easier to update these values in the future if necessary."
   ]
  },
  {
   "cell_type": "code",
   "execution_count": 152,
   "metadata": {},
   "outputs": [
    {
     "name": "stdout",
     "output_type": "stream",
     "text": [
      "\n",
      "   The details of the purchase order are:\n",
      "       Total: $0.00\n",
      "       Discount: $0.00\n",
      "       Tax (6.5)%: $0.00\n",
      "       Total after tax: $0.00\n",
      "\n"
     ]
    }
   ],
   "source": [
    "SALES_TAX_RATE = 0.065\n",
    "\n",
    "def pricing(total):\n",
    "    # YOUR SOLUTION\n",
    "    return 0, 0, 0, 0\n",
    "\n",
    "total, discount, tax, total_w_tax = pricing(100)\n",
    "print(f\"\"\"\n",
    "   The details of the purchase order are:\n",
    "       Total: ${total:.2f}\n",
    "       Discount: ${discount:.2f}\n",
    "       Tax ({SALES_TAX_RATE * 100})%: ${tax:.2f}\n",
    "       Total after tax: ${total_w_tax:.2f}\n",
    "\"\"\")"
   ]
  },
  {
   "cell_type": "markdown",
   "metadata": {},
   "source": [
    "## Part II: Building a data analysis pipeline "
   ]
  },
  {
   "cell_type": "markdown",
   "metadata": {},
   "source": [
    "The string below contains an excerpt of sales numbers from a retail shop. The data comes from a transactional system used at the shop. Every time a customer checks out an order, the system records details of each item sold, such as the item's name, price, time, and date:"
   ]
  },
  {
   "cell_type": "code",
   "execution_count": 214,
   "metadata": {},
   "outputs": [
    {
     "data": {
      "text/plain": [
       "'\\nQueen Microfiber Sheet Set,   $19.00, 07/20/2021 10:23\\nRubbermaid 18pc Plastic Food, $9.99,  07/20/2021 10:45\\nPlastic Mixing Bowl Set of 3, $8.00,  08/20/2021 10:45\\nPryce Silverware Set 20-pc.,  $10.00, 08/21/2021 11:00\\nBlack+Decker 0.7 cu ft,       $59.99, 08/21/2021 11:20\\nSwing Top Wastebasket,        $44.44, 09/10/2021 11:20\\nDelux Bed Pillow,             $20.15, 09/10/2021 13:10\\nBELLA 2 Slice Toaster,        $5.10,  10/10/2021 13:10\\nColander,                     $10.21, 11/10/2021 13:10\\nTower Fan Oscillating,        $30.11, 11/10/2021 9:10\\n'"
      ]
     },
     "execution_count": 214,
     "metadata": {},
     "output_type": "execute_result"
    }
   ],
   "source": [
    "sales_data = \"\"\"\n",
    "Queen Microfiber Sheet Set,   $19.00, 07/20/2021 10:23\n",
    "Rubbermaid 18pc Plastic Food, $9.99,  07/20/2021 10:45\n",
    "Plastic Mixing Bowl Set of 3, $8.00,  08/20/2021 10:45\n",
    "Pryce Silverware Set 20-pc.,  $10.00, 08/21/2021 11:00\n",
    "Black+Decker 0.7 cu ft,       $59.99, 08/21/2021 11:20\n",
    "Swing Top Wastebasket,        $44.44, 09/10/2021 11:20\n",
    "Delux Bed Pillow,             $20.15, 09/10/2021 13:10\n",
    "BELLA 2 Slice Toaster,        $5.10,  10/10/2021 13:10\n",
    "Colander,                     $10.21, 11/10/2021 13:10\n",
    "Tower Fan Oscillating,        $30.11, 11/10/2021 9:10\n",
    "\"\"\"\n",
    "\n",
    "sales_records"
   ]
  },
  {
   "cell_type": "markdown",
   "metadata": {},
   "source": [
    "The marketing department wants to conduct a sales analysis using these numbers. Since the original data source contains hundreds of thousands of records, working with a small subset makes it easier to write and test the programming code we need to conduct the sales analysis. \n",
    "\n",
    "The end goal is to calculate the total sales per month. We want to generate data that would enable the marketing team to create a report like this one:\n",
    "\n",
    "<table>\n",
    "    <tr>\n",
    "        <th>Month</th>      <th>Total</th>\n",
    "    </tr>\n",
    "    <tr>\n",
    "        <td>July</td>      <td>\\$28.99</td>\n",
    "    </tr> \n",
    "    <tr>    \n",
    "        <td>August</td>    <td>\\$77.99</td>\n",
    "    </tr> \n",
    "    <tr>    \n",
    "        <td>September</td> <td>\\$64.59</td>\n",
    "    </tr> \n",
    "    <tr>    \n",
    "        <td>October</td>   <td>\\$5.10</td>\n",
    "    </tr> \n",
    "    <tr>    \n",
    "        <td>November</td>  <td>\\$40.32</td>\n",
    "    </tr>\n",
    "</table>"
   ]
  },
  {
   "cell_type": "markdown",
   "metadata": {},
   "source": [
    "Of course, there are several ways to meet the end goal. We could create a function to implement all the logic required to extract the sales numbers and aggregate them by month. The problem with creating a single function is that it becomes difficult to maintain it in the future.\n",
    "\n",
    "In the following problems, you will implement a pipeline for analyzing the data, which in this case consists of generating monthly sales totals. "
   ]
  },
  {
   "cell_type": "markdown",
   "metadata": {},
   "source": [
    "### Problem 3: Data Representation"
   ]
  },
  {
   "cell_type": "markdown",
   "metadata": {},
   "source": [
    "Write a function called *parse* that:\n",
    "- Receives the raw data as a parameter\n",
    "- Parses (transforms) it into a list of lists\n",
    "\n",
    "Each nested list item represents an attribute of each sales record: the item's name, price, and date.\n",
    "\n",
    "Useful functions for this task:\n",
    "- [split](https://www.programiz.com/python-programming/methods/string/split)\n",
    "\n",
    "Notes:\n",
    "- Keep the focus of your parse function to only extracting the different attributes in each record to construct a data structure, as shown in the example below.\n",
    "- This data structure may contain empty values that you will filter out in the following problem.\n",
    "- Use *list comprehension* when possible to write more concise code."
   ]
  },
  {
   "cell_type": "code",
   "execution_count": 161,
   "metadata": {},
   "outputs": [],
   "source": [
    "def parse(data):\n",
    "    # YOUR SOLUTION\n",
    "    \n",
    "    return None\n",
    "\n",
    "sales_1 = parse(sales_records)\n",
    "sales_1"
   ]
  },
  {
   "cell_type": "code",
   "execution_count": 162,
   "metadata": {},
   "outputs": [
    {
     "name": "stdout",
     "output_type": "stream",
     "text": [
      "\n",
      " [[''],\n",
      " ['Queen Microfiber Sheet Set', '   $19.00', ' 07/20/2021 10:23'], ...\n",
      "\n"
     ]
    }
   ],
   "source": [
    "# Example of the expected output:\n",
    "\n",
    "print(\"\"\"\n",
    " [[''],\n",
    " ['Queen Microfiber Sheet Set', '   $19.00', ' 07/20/2021 10:23'], ...\n",
    "\"\"\")"
   ]
  },
  {
   "cell_type": "markdown",
   "metadata": {},
   "source": [
    "### Problem 4: Data cleaning - removing missing values"
   ]
  },
  {
   "cell_type": "markdown",
   "metadata": {},
   "source": [
    "Write a function called *remove_empty* that:\n",
    "- Receives the data processed by the *parse* function as a parameter\n",
    "- Removes all empty elements (if any)\n",
    "- Removes all trailing whitespace from each element\n",
    "\n",
    "Useful functions for this task:\n",
    "- [strip](https://www.programiz.com/python-programming/methods/string/strip)\n",
    "\n",
    "Notes:\n",
    "- Use *list comprehension* when possible to write more concise code."
   ]
  },
  {
   "cell_type": "code",
   "execution_count": 163,
   "metadata": {},
   "outputs": [],
   "source": [
    "def remove_empty(data):\n",
    "    # YOUR SOLUTION    \n",
    "    \n",
    "    return None\n",
    "\n",
    "sales_2 = remove_empty(sales_1)\n",
    "sales_2"
   ]
  },
  {
   "cell_type": "code",
   "execution_count": 164,
   "metadata": {},
   "outputs": [
    {
     "name": "stdout",
     "output_type": "stream",
     "text": [
      "\n",
      " [['Queen Microfiber Sheet Set', '$19.00', '07/20/2021 10:23'],\n",
      " ['Rubbermaid 18pc Plastic Food', '$9.99', '07/20/2021 10:45'], ...\n",
      "\n"
     ]
    }
   ],
   "source": [
    "# Example of the expected output:\n",
    "\n",
    "print(\"\"\"\n",
    " [['Queen Microfiber Sheet Set', '$19.00', '07/20/2021 10:23'],\n",
    " ['Rubbermaid 18pc Plastic Food', '$9.99', '07/20/2021 10:45'], ...\n",
    "\"\"\")"
   ]
  },
  {
   "cell_type": "markdown",
   "metadata": {},
   "source": [
    "### Problem 5: Data exploration"
   ]
  },
  {
   "cell_type": "markdown",
   "metadata": {},
   "source": [
    "In different cells, perform some exploratory operations on the data, such as displaying:\n",
    "- The number of records in the dataset\n",
    "- The first 5 recrods\n",
    "- The last 5 recrds\n",
    "- 5 records in alternate order, i.e., records occupying the even positions"
   ]
  },
  {
   "cell_type": "code",
   "execution_count": 200,
   "metadata": {},
   "outputs": [],
   "source": [
    "# YOUR SOLUTION"
   ]
  },
  {
   "cell_type": "code",
   "execution_count": 201,
   "metadata": {},
   "outputs": [],
   "source": [
    "# YOUR SOLUTION"
   ]
  },
  {
   "cell_type": "code",
   "execution_count": 202,
   "metadata": {},
   "outputs": [],
   "source": [
    "# YOUR SOLUTION"
   ]
  },
  {
   "cell_type": "code",
   "execution_count": 203,
   "metadata": {},
   "outputs": [
    {
     "data": {
      "text/plain": [
       "10"
      ]
     },
     "execution_count": 203,
     "metadata": {},
     "output_type": "execute_result"
    }
   ],
   "source": [
    "# SOLUTION\n",
    "\n",
    "len(sales_2)"
   ]
  },
  {
   "cell_type": "markdown",
   "metadata": {},
   "source": [
    "### Problem 6: Data cleaning - formatting"
   ]
  },
  {
   "cell_type": "markdown",
   "metadata": {},
   "source": [
    "Write a function called *format_values* that:\n",
    "- Receives the data processed by the *remove_empty* function as a parameter\n",
    "- Convert sales numbers to the *float* type\n",
    "- Conver sales dates to the *datetime* type\n",
    "\n",
    "Useful functions for this task:\n",
    "- [replace](https://www.programiz.com/python-programming/methods/string/replace)\n",
    "\n",
    "Notes:\n",
    "- Use *list comprehension* when possible to write more concise code."
   ]
  },
  {
   "cell_type": "code",
   "execution_count": 207,
   "metadata": {},
   "outputs": [],
   "source": [
    "def format_values(data):\n",
    "    # YOUR SOLUTION\n",
    "\n",
    "    return None\n",
    "\n",
    "sales_3 = format_values(sales_2)\n",
    "sales_3"
   ]
  },
  {
   "cell_type": "code",
   "execution_count": 208,
   "metadata": {},
   "outputs": [
    {
     "name": "stdout",
     "output_type": "stream",
     "text": [
      "\n",
      "[['Queen Microfiber Sheet Set', 19.0, datetime.datetime(2021, 7, 20, 10, 23)],\n",
      " ['Rubbermaid 18pc Plastic Food', 9.99, datetime.datetime(2021, 7, 20, 10, 45)], ...\n",
      "\n"
     ]
    }
   ],
   "source": [
    "# Example of the expected output:\n",
    "\n",
    "print(\"\"\"\n",
    "[['Queen Microfiber Sheet Set', 19.0, datetime.datetime(2021, 7, 20, 10, 23)],\n",
    " ['Rubbermaid 18pc Plastic Food', 9.99, datetime.datetime(2021, 7, 20, 10, 45)], ...\n",
    "\"\"\")"
   ]
  },
  {
   "cell_type": "markdown",
   "metadata": {},
   "source": [
    "### Problem 7: Data exploration (second round)"
   ]
  },
  {
   "cell_type": "markdown",
   "metadata": {},
   "source": [
    "Perform a second round of data exploration by sorting the records by price in ascending order (high to low).\n",
    "\n",
    "Notes:\n",
    "- You may find helpful to learn more about the parameters of the [sort](https://www.programiz.com/python-programming/methods/list/sort) function covered in the tutorial"
   ]
  },
  {
   "cell_type": "code",
   "execution_count": 211,
   "metadata": {},
   "outputs": [],
   "source": [
    "# YOUR SOLUTION"
   ]
  },
  {
   "cell_type": "code",
   "execution_count": 212,
   "metadata": {},
   "outputs": [
    {
     "name": "stdout",
     "output_type": "stream",
     "text": [
      "\n",
      "[['Black+Decker 0.7 cu ft', 59.99, datetime.datetime(2021, 8, 21, 11, 20)],\n",
      " ['Swing Top Wastebasket', 44.44, datetime.datetime(2021, 9, 10, 11, 20)],\n",
      " ...\n",
      " ['BELLA 2 Slice Toaster', 5.1, datetime.datetime(2021, 10, 10, 13, 10)]]\n",
      "\n"
     ]
    }
   ],
   "source": [
    "# Example of the expected output:\n",
    "\n",
    "print(\"\"\"\n",
    "[['Black+Decker 0.7 cu ft', 59.99, datetime.datetime(2021, 8, 21, 11, 20)],\n",
    " ['Swing Top Wastebasket', 44.44, datetime.datetime(2021, 9, 10, 11, 20)],\n",
    " ...\n",
    " ['BELLA 2 Slice Toaster', 5.1, datetime.datetime(2021, 10, 10, 13, 10)]]\n",
    "\"\"\")"
   ]
  },
  {
   "cell_type": "markdown",
   "metadata": {},
   "source": [
    "### Problem 8: Data transformation - Extracting date components"
   ]
  },
  {
   "cell_type": "markdown",
   "metadata": {},
   "source": [
    "Write a function called *extract_date* that:\n",
    "- Receives the data processed by the *format_values* function as a parameter\n",
    "- Extracts the date and day from the datetime objects\n",
    "\n",
    "Notes:\n",
    "- Use *list comprehension* when possible to write more concise code."
   ]
  },
  {
   "cell_type": "code",
   "execution_count": 167,
   "metadata": {},
   "outputs": [],
   "source": [
    "def extract_date(data):\n",
    "    # YOUR SOLUTION\n",
    "\n",
    "    return None\n",
    "\n",
    "sales_4 = extract_date(sales_3)\n",
    "sales_4    "
   ]
  },
  {
   "cell_type": "code",
   "execution_count": 179,
   "metadata": {},
   "outputs": [
    {
     "name": "stdout",
     "output_type": "stream",
     "text": [
      "\n",
      " [['Queen Microfiber Sheet Set', 19.0, datetime.datetime(2021, 7, 20, 10, 23), '07', '20'],\n",
      "  ['Rubbermaid 18pc Plastic Food', 9.99, datetime.datetime(2021, 7, 20, 10, 45), '07', '20'], ...\n",
      "\n"
     ]
    }
   ],
   "source": [
    "# Example of the expected output:\n",
    "\n",
    "print(\"\"\"\n",
    " [['Queen Microfiber Sheet Set', 19.0, datetime.datetime(2021, 7, 20, 10, 23), '07', '20'],\n",
    "  ['Rubbermaid 18pc Plastic Food', 9.99, datetime.datetime(2021, 7, 20, 10, 45), '07', '20'], ...\n",
    "\"\"\")"
   ]
  },
  {
   "cell_type": "markdown",
   "metadata": {},
   "source": [
    "### Problem 9: Create a pipeline"
   ]
  },
  {
   "cell_type": "markdown",
   "metadata": {},
   "source": [
    "You will implement your own pipeline to group all the processing tasks implemented so far in this problem.\n",
    "\n",
    "Create a function called *transform* that receives a list of tasks, representing a task in the pipeline. Your function should apply all the functions in the pipeline and return the processed dataset."
   ]
  },
  {
   "cell_type": "code",
   "execution_count": null,
   "metadata": {},
   "outputs": [],
   "source": [
    "pipeline = [parse, remove_empty, format_values, extract_date]\n",
    "\n",
    "def transform(data, tasks):\n",
    "    # YOUR SOLUTION\n",
    "            \n",
    "    return None\n",
    "\n",
    "sales = transform(sales_records, pipeline)\n",
    "sales"
   ]
  },
  {
   "cell_type": "markdown",
   "metadata": {},
   "source": [
    "### Problem 10: Data aggregation"
   ]
  },
  {
   "cell_type": "markdown",
   "metadata": {},
   "source": [
    "To finalize the data analysis, write a function called *aggregate* that:\n",
    "- Receives the data processed by the pipeline as a parameter\n",
    "- Aggregate the sales numbers per month in a dictionary object\n",
    "\n",
    "Notes:\n",
    "- Use *dict comprehension* when possible to write more concise code."
   ]
  },
  {
   "cell_type": "code",
   "execution_count": 175,
   "metadata": {},
   "outputs": [],
   "source": [
    "def aggregate(data):\n",
    "    # YOUR SOLUTION\n",
    "    \n",
    "    return None\n",
    "\n",
    "sales_totals = aggregate(sales)\n",
    "sales_totals"
   ]
  },
  {
   "cell_type": "code",
   "execution_count": 176,
   "metadata": {},
   "outputs": [
    {
     "name": "stdout",
     "output_type": "stream",
     "text": [
      "\n",
      "{'07': 28.990000000000002,\n",
      " '08': 77.99000000000001,\n",
      " '09': 64.59,\n",
      " '10': 5.1,\n",
      " '11': 40.32}\n",
      "\n"
     ]
    }
   ],
   "source": [
    "# Expected output:\n",
    "\n",
    "print(\"\"\"\n",
    "{'07': 28.990000000000002,\n",
    " '08': 77.99000000000001,\n",
    " '09': 64.59,\n",
    " '10': 5.1,\n",
    " '11': 40.32}\n",
    "\"\"\")"
   ]
  },
  {
   "cell_type": "markdown",
   "metadata": {},
   "source": [
    "Notes:\n",
    "- If you find this problem difficult to solve, try the \"divide and conquer\" strategy\n",
    "- You may try first to generate an intermediate dictionary that contains the list of sales per month\n",
    "- You may find helpful the [reduce](https://www.geeksforgeeks.org/reduce-in-python/) function from the functools module "
   ]
  },
  {
   "cell_type": "code",
   "execution_count": null,
   "metadata": {},
   "outputs": [],
   "source": []
  }
 ],
 "metadata": {
  "kernelspec": {
   "display_name": "Python 3",
   "language": "python",
   "name": "python3"
  },
  "language_info": {
   "codemirror_mode": {
    "name": "ipython",
    "version": 3
   },
   "file_extension": ".py",
   "mimetype": "text/x-python",
   "name": "python",
   "nbconvert_exporter": "python",
   "pygments_lexer": "ipython3",
   "version": "3.7.6"
  }
 },
 "nbformat": 4,
 "nbformat_minor": 5
}
