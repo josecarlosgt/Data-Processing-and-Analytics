{
 "cells": [
  {
   "cell_type": "markdown",
   "metadata": {},
   "source": [
    "# Lab Practice: Formatting text with Markdown in Jupyter notebooks"
   ]
  },
  {
   "cell_type": "markdown",
   "metadata": {},
   "source": [
    "In this lab practice, you will practice using the Markdown markup language for writing narrative text and communicating the result of your experiments and observations.\n",
    "\n",
    "Learning objectives:\n",
    "\n",
    "- Write narrative text using Markdown\n",
    "\n",
    "## Instructions\n",
    "\n",
    "The text content in the **Text** section talks about prime numbers. Your task is to use Markdown to format the content described above and make it look like the picture. To complete this task, you need to review the Markdown documentation sites mentioned in the tutorials and choose the most appropriate Markdown markup elements. Some of these elements include:\n",
    "- Headings\n",
    "- Sub-headings\n",
    "- Inline styling elements like bold and italics\n",
    "- Pictures\n",
    "- Links\n",
    "- Blockquotes\n",
    "\n",
    "Note:\n",
    "\n",
    "- Pay attention to formatting details, such as headings, sub-headings, and text in bold and italics.\n",
    "- Take a look at the content of the *images* folder to create link in your notebook to the image displayed in the picture.\n",
    "- Include a navigation menu as shown in the picture with links to the different sections in the notebook."
   ]
  },
  {
   "cell_type": "markdown",
   "metadata": {},
   "source": [
    "![exercise-jnt-1](images/exercise-jnt-1.png)"
   ]
  },
  {
   "cell_type": "markdown",
   "metadata": {},
   "source": [
    "## Text\n",
    "\n",
    "Prime Numbers–Why Are They So Essential?\n",
    "\n",
    "In this notebook, you will learn about:\n",
    "\n",
    "What is a prime number?\n",
    "\n",
    "A prime number (or a prime) is a number greater than 1 that is not a product of two smaller natural numbers. A natural number greater than 1 that is not prime is called a composite number.\n",
    "\n",
    "For example, 5 is prime because the only way of writing it as a product is 1 × 5 or 5 × 1, involving 5 itself. However, 4 is composite because it is a product (2 × 2) in which both numbers are smaller than 4.\n",
    "\n",
    "The following image provides a visual comparison between prime numbers and composite numbers. Composite numbers can be arranged into rectangles, but prime numbers cannot."
   ]
  },
  {
   "cell_type": "markdown",
   "metadata": {},
   "source": [
    "## References\n",
    "\n",
    "- https://en.wikipedia.org/wiki/Prime_number"
   ]
  },
  {
   "cell_type": "code",
   "execution_count": null,
   "metadata": {},
   "outputs": [],
   "source": []
  }
 ],
 "metadata": {
  "kernelspec": {
   "display_name": "Python 3",
   "language": "python",
   "name": "python3"
  },
  "language_info": {
   "codemirror_mode": {
    "name": "ipython",
    "version": 3
   },
   "file_extension": ".py",
   "mimetype": "text/x-python",
   "name": "python",
   "nbconvert_exporter": "python",
   "pygments_lexer": "ipython3",
   "version": "3.7.6"
  }
 },
 "nbformat": 4,
 "nbformat_minor": 5
}
