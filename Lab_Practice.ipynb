{
 "cells": [
  {
   "cell_type": "markdown",
   "metadata": {},
   "source": [
    "# Lab Practice: Writing narrative text in Jupyter notebooks"
   ]
  },
  {
   "cell_type": "markdown",
   "metadata": {},
   "source": [
    "In this lab practice, you will get started with Jupyter notebooks and Markdown. After you finish, submit your Jupyter notebook in Canvas.\n",
    "\n",
    "Learning objectives:\n",
    "\n",
    "- Create narrative text using Markdown\n",
    "- Write an interactive program using Jupyter notebooks\n",
    "\n",
    "## Instructions\n",
    "\n",
    "Under the picture below, you will find two sections: **Text** and **Python Code**.\n",
    "\n",
    "The text content in the **Text** section describes prime numbers and their *business* applications in the modern world. The programming code in the **Python Code** section contains a function written in the Python programming language that computes the factors of a given number.\n",
    "\n",
    "## Task 1\n",
    "\n",
    "Your first task is to use Markdown to format the content described above and make it look like the picture below. To complete this task, you need to look at a Markdown documentation site and choose the most appropriate Markdown elements to present the content, as shown in the picture. Some of these elements include:\n",
    "- Headings\n",
    "- Sub-headings\n",
    "- Inline styling elements like bold and italics\n",
    "- Pictures\n",
    "- Links\n",
    "- Blockquotes\n",
    "\n",
    "Note:\n",
    "\n",
    "- Pay attention to formatting details, such as headings, sub-headings, and text in bold and italics.\n",
    "- You may visit the links in the *references* section to obtain the image displayed in the picture and use it in your notebook.\n",
    "- Include a navigation menu as shown in the picture with links to the different sections in the notebook.\n",
    "\n",
    "## Task 2\n",
    "\n",
    "Note the statement towards the end of the picture that says *\\[Explain the results of your experiments here\\]*. This statement suggests that you should run some experiments using the Python code given to you. In this case, performing experiments is as simple as calling the function `print_factors` with different numbers to see what happens.\n",
    "\n",
    "After coming up with some interesting observations (if any), replace the placeholder text *\\[Explain the results of your experiments here\\]* with your writing. Start with understanding the Python code.\n",
    "\n",
    "> The quality of your writing will depend on how your observation relate to the points made in the beginning. A good explanation of your experiments would relate what you observed with the business applications of prime numbers introduced previously.\n",
    "\n",
    "Here are some examples of primes:\n",
    "\n",
    "- 8191\n",
    "- 131071\n",
    "- 524287\n",
    "- 6700417\n",
    "- 2147483647\n",
    "- 999999000001\t\n",
    "\n",
    "When running your experiments, you may need to [interrupt the kernel](https://jupyter-notebook.readthedocs.io/en/stable/notebook.html#basic-workflow) at some point."
   ]
  },
  {
   "cell_type": "markdown",
   "metadata": {},
   "source": [
    "![exercise-jnt-1](images/exercise-jnt-1.png)\n",
    "![exercise-jnt-2](images/exercise-jnt-2.png)\n",
    "![exercise-jnt-3](images/exercise-jnt-3.png)"
   ]
  },
  {
   "cell_type": "markdown",
   "metadata": {},
   "source": [
    "## Text\n",
    "\n",
    "Prime Numbers–Why Are They So Essential?\n",
    "\n",
    "In this notebook, you will learn about:\n",
    "\n",
    "What is a prime number?\n",
    "\n",
    "A prime number (or a prime) is a number greater than 1 that is not a product of two smaller natural numbers. A natural number greater than 1 that is not prime is called a composite number.\n",
    "\n",
    "For example, 5 is prime because the only way of writing it as a product is 1 × 5 or 5 × 1, involving 5 itself. However, 4 is composite because it is a product (2 × 2) in which both numbers are smaller than 4.\n",
    "\n",
    "The following image provides a visual comparison between prime numbers and composite numbers. Composite numbers can be arranged into rectangles, but prime numbers cannot.\n",
    "\n",
    "An overview of public-key cryptography\n",
    "\n",
    "Primes are widely used in information technology. An essential application of primes is a type of cryptography called public key-cryptography. Public-key cryptography uses a pair of keys: a public key (which can be made public) and a private key (which must be kept private). In a secure system based on public-key cryptography, messages are encrypted as follows:\n",
    "\n",
    "The sender uses the receiver's public key to encrypt messages.  \n",
    "The receiver uses its private key to decrypt the messages.\n",
    "\n",
    "The main characteristic of public-key cryptography is that while anyone who has access to the receiver's public key can encrypt a message, the message can only be decrypted using the receiver's private key.\n",
    "\n",
    "Public-key cryptography is fundamental for establishing secure communications over the Internet (via HTTPS). Every time you use your browser for purchasing goods and services over the Internet, all your personal information (e.g., your credit card number) is encrypted using public-key cryptography.\n",
    "\n",
    "What do prime numbers have to do with public-key cryptography?\n",
    "\n",
    "Creating a pair of public and private keys involves generating a (very) large random number from the product of two large primes. Public-key cryptography relies on the difficulty of factoring large numbers into their prime factors. This is because no efficient factorization algorithm has been invented that decomposes a composite number into its factors.\n",
    "\n",
    "An algorithm that efficiently factors an arbitrary integer would render public-key cryptography insecure! However, at present, the only way to obtain prime factorization is through brute-force attacks, which takes immense computing power when the prime factors are large. This is the reason why the prime numbers used in public-key cryptography must be very large.\n",
    "\n",
    "Experimenting with prime numbers in Python\n",
    "\n",
    "The print_factors function below computers the factors of a given number.\n",
    "\n",
    "References  \n",
    "\n",
    "https://en.wikipedia.org/wiki/Prime_number  \n",
    "https://en.wikipedia.org/wiki/Integer_factorization  \n",
    "https://en.wikipedia.org/wiki/Largest_known_prime_number"
   ]
  },
  {
   "cell_type": "markdown",
   "metadata": {},
   "source": [
    "## Python code"
   ]
  },
  {
   "cell_type": "code",
   "execution_count": 4,
   "metadata": {},
   "outputs": [],
   "source": [
    "# This function computes the factors of the argument passed\n",
    "def print_factors(x):\n",
    "   print(\"The factors of\",x,\"are:\")\n",
    "   for i in range(1, x + 1):\n",
    "       if x % i == 0:\n",
    "           print(i)"
   ]
  },
  {
   "cell_type": "code",
   "execution_count": 5,
   "metadata": {},
   "outputs": [
    {
     "name": "stdout",
     "output_type": "stream",
     "text": [
      "The factors of 320 are:\n",
      "1\n",
      "2\n",
      "4\n",
      "5\n",
      "8\n",
      "10\n",
      "16\n",
      "20\n",
      "32\n",
      "40\n",
      "64\n",
      "80\n",
      "160\n",
      "320\n",
      "The factors of 241 are:\n",
      "1\n",
      "241\n"
     ]
    }
   ],
   "source": [
    "print_factors(320) # Composite number\n",
    "print_factors(241) # Prime number"
   ]
  },
  {
   "cell_type": "code",
   "execution_count": null,
   "metadata": {},
   "outputs": [],
   "source": []
  }
 ],
 "metadata": {
  "kernelspec": {
   "display_name": "Python 3",
   "language": "python",
   "name": "python3"
  },
  "language_info": {
   "codemirror_mode": {
    "name": "ipython",
    "version": 3
   },
   "file_extension": ".py",
   "mimetype": "text/x-python",
   "name": "python",
   "nbconvert_exporter": "python",
   "pygments_lexer": "ipython3",
   "version": "3.7.6"
  }
 },
 "nbformat": 4,
 "nbformat_minor": 5
}
