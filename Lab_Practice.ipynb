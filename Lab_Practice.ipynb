{
 "cells": [
  {
   "cell_type": "markdown",
   "id": "d7e26652",
   "metadata": {},
   "source": [
    "# Lab Practice (review)\n",
    "\n",
    "In this lab, you will practice fundamental concepts of programming in Python.\n",
    "\n",
    "Skills:\n",
    "\n",
    "- Work with scalar types and string formatting\n",
    "- Create conditional statements\n",
    "- Create custom functions\n",
    "\n",
    "Some helpful notes:\n",
    "- This lab practice should take about two hours to complete. If a problem takes you too long to solve, don't hesitate to ask your instructor in class or post your questions in Canvas.\n",
    "- Do not try to solve the problems by copy&pasting solutions from other sources. Engaging in this kind of practice may lead you to finish this lab faster, but it won't contribute to your learning and improving your problem-solving skills.\n",
    "\n",
    "\n",
    "> When browsing for examples about Python's utilities and features, try to understand the logic and purpose of the functionality you incorporate in your solutions.\n",
    "Make sure you review the examples covered previously in the tutorials before attempting this lab."
   ]
  },
  {
   "cell_type": "markdown",
   "id": "b8412b69",
   "metadata": {},
   "source": [
    "## Problem #1"
   ]
  },
  {
   "cell_type": "markdown",
   "id": "db3f17f5",
   "metadata": {},
   "source": [
    "Write an expression that computes the sum of two numbers of your choice stored in separate variables, *number_1* and *number_2*."
   ]
  },
  {
   "cell_type": "code",
   "execution_count": 1,
   "id": "ff9d4e40",
   "metadata": {},
   "outputs": [],
   "source": [
    "# YOUR SOLUTION"
   ]
  },
  {
   "cell_type": "markdown",
   "id": "1988914d",
   "metadata": {},
   "source": [
    "## Problem #2"
   ]
  },
  {
   "cell_type": "markdown",
   "id": "908d5ed9",
   "metadata": {},
   "source": [
    "Write Python code that generates the following result:\n",
    "\n",
    "'I was born in 1985'\n",
    "\n",
    "Where the value 1985 is stored in a separate variable named *year_of_birth*"
   ]
  },
  {
   "cell_type": "code",
   "execution_count": 2,
   "id": "43433c0a",
   "metadata": {},
   "outputs": [],
   "source": [
    "# YOUR SOLUTION"
   ]
  },
  {
   "cell_type": "markdown",
   "id": "fdd1cdda",
   "metadata": {},
   "source": [
    "## Problem #3"
   ]
  },
  {
   "cell_type": "markdown",
   "id": "a9fd1393",
   "metadata": {},
   "source": [
    "Write Python code that generates the following result:\n",
    "\n",
    "'5 times 10 is 50'\n",
    "\n",
    "The numbers 5 and 10 are stored in separate variables named *number_1* and *number_2*, and the multiplication result is expressed as an expression."
   ]
  },
  {
   "cell_type": "code",
   "execution_count": 3,
   "id": "ca763e18",
   "metadata": {},
   "outputs": [],
   "source": [
    "# YOUR SOLUTION"
   ]
  },
  {
   "cell_type": "markdown",
   "id": "05550625",
   "metadata": {},
   "source": [
    "## Problem #4"
   ]
  },
  {
   "cell_type": "markdown",
   "id": "191061ef",
   "metadata": {},
   "source": [
    "Write Python code that generates the following result:\n",
    "\n",
    "'That 5 is greater than 10 is: False'\n",
    "\n",
    "The numbers 5 and 10 are stored in separate variables named *number_1* and *number_2*, and the comparison result is expressed as an expression using the *>* operator."
   ]
  },
  {
   "cell_type": "code",
   "execution_count": 4,
   "id": "bccc2218",
   "metadata": {},
   "outputs": [],
   "source": [
    "# YOUR SOLUTION"
   ]
  },
  {
   "cell_type": "markdown",
   "id": "1089307c",
   "metadata": {},
   "source": [
    "## Problem #5"
   ]
  },
  {
   "cell_type": "markdown",
   "id": "cf0723e5",
   "metadata": {},
   "source": [
    "Write Python code that generates the following result:\n",
    "\n",
    "'That 5 is even is: False'\n",
    "\n",
    "The number 5 is stored in a separate variable named *number*. Evaluating if the number is even is expressed as an expression using the *%* (remainder or modulus) operator."
   ]
  },
  {
   "cell_type": "code",
   "execution_count": 5,
   "id": "b9a948f2",
   "metadata": {},
   "outputs": [],
   "source": [
    "# YOUR SOLUTION"
   ]
  },
  {
   "cell_type": "markdown",
   "id": "f20eae7a",
   "metadata": {},
   "source": [
    "## Problem #6"
   ]
  },
  {
   "cell_type": "markdown",
   "id": "d99fc328",
   "metadata": {},
   "source": [
    "Write Python code that evaluates if two numbers stored in variables named *number_1* and *number_2* are greater than a third number stored in a variable named *number_3*."
   ]
  },
  {
   "cell_type": "code",
   "execution_count": 6,
   "id": "403a95de",
   "metadata": {},
   "outputs": [],
   "source": [
    "# YOUR SOLUTION"
   ]
  },
  {
   "cell_type": "markdown",
   "id": "8226244a",
   "metadata": {},
   "source": [
    "## Problem #7"
   ]
  },
  {
   "cell_type": "markdown",
   "id": "0ba9f625",
   "metadata": {},
   "source": [
    "Write Python code that generates the following string:\n",
    "\n",
    "'The length of the string \"This is some text\" is 17'\n",
    "\n",
    "The string 'This is some text' is stored in a variable called *text*, and the number 17 represents the number of characters in the string obtained using the *len* function."
   ]
  },
  {
   "cell_type": "code",
   "execution_count": 7,
   "id": "8867136a",
   "metadata": {},
   "outputs": [],
   "source": [
    "# YOUR SOLUTION"
   ]
  },
  {
   "cell_type": "markdown",
   "id": "bf668401",
   "metadata": {},
   "source": [
    "## Problem #8"
   ]
  },
  {
   "cell_type": "markdown",
   "id": "dc8f37cc",
   "metadata": {},
   "source": [
    "Write Python code that checks if the number of characters in a string stored in a variable named *text* is greater than 3."
   ]
  },
  {
   "cell_type": "code",
   "execution_count": 8,
   "id": "2929437a",
   "metadata": {},
   "outputs": [],
   "source": [
    "# YOUR SOLUTION"
   ]
  },
  {
   "cell_type": "markdown",
   "id": "39ae4ba4",
   "metadata": {},
   "source": [
    "## Problem #9"
   ]
  },
  {
   "cell_type": "markdown",
   "id": "ab6ece51",
   "metadata": {},
   "source": [
    "Write Python code that increments by one the value of a variable named *number* only if the variable equals 0."
   ]
  },
  {
   "cell_type": "code",
   "execution_count": 9,
   "id": "0c6b5053",
   "metadata": {},
   "outputs": [],
   "source": [
    "# YOUR SOLUTION"
   ]
  },
  {
   "cell_type": "markdown",
   "id": "3263b621",
   "metadata": {},
   "source": [
    "## Problem #10"
   ]
  },
  {
   "cell_type": "markdown",
   "id": "55042148",
   "metadata": {},
   "source": [
    "Write Python code that concatenates a dot ('.') to the end of a string stored in a variable named *text* only if the text variable does not end with a dot."
   ]
  },
  {
   "cell_type": "code",
   "execution_count": 10,
   "id": "a52288ab",
   "metadata": {},
   "outputs": [],
   "source": [
    "# YOUR SOLUTION"
   ]
  },
  {
   "cell_type": "markdown",
   "id": "209282a4",
   "metadata": {},
   "source": [
    "## Problem #11"
   ]
  },
  {
   "cell_type": "markdown",
   "id": "089f34cd",
   "metadata": {},
   "source": [
    "Write a function called *average* that computes the average of any three numbers and *returns* the average."
   ]
  },
  {
   "cell_type": "code",
   "execution_count": 11,
   "id": "bc9e614d",
   "metadata": {},
   "outputs": [],
   "source": [
    "# YOUR SOLUTION"
   ]
  },
  {
   "cell_type": "markdown",
   "id": "387f848d",
   "metadata": {},
   "source": [
    "## Problem #12"
   ]
  },
  {
   "cell_type": "markdown",
   "id": "4c1e91b6",
   "metadata": {},
   "source": [
    "Write a function called *apply_discount* that applies a 10% discount to a sales number received as a parameter only if the number is greater than 100. Your function should return the sales number with the discount rule applied."
   ]
  },
  {
   "cell_type": "code",
   "execution_count": 12,
   "id": "c04688c7",
   "metadata": {},
   "outputs": [],
   "source": [
    "# YOUR SOLUTION"
   ]
  },
  {
   "cell_type": "markdown",
   "id": "bb56054e",
   "metadata": {},
   "source": [
    "## Problem #13"
   ]
  },
  {
   "cell_type": "markdown",
   "id": "075d5d94",
   "metadata": {},
   "source": [
    "Write a function called *check_score* that receives a number representing a score and *prints* \"PASS\" if the score is greater or equal than 50 or \"FAILED\" otherwise."
   ]
  },
  {
   "cell_type": "code",
   "execution_count": 13,
   "id": "1faa5bdb",
   "metadata": {},
   "outputs": [],
   "source": [
    "# YOUR SOLUTION"
   ]
  },
  {
   "cell_type": "markdown",
   "id": "3df4550d",
   "metadata": {},
   "source": [
    "## Problem #14"
   ]
  },
  {
   "cell_type": "markdown",
   "id": "f2f79932",
   "metadata": {},
   "source": [
    "Write a function named *card_rank_to_number* that receives a string representing a rank of a standard 52-card deck and *returns* a **numeric value** representing the rank. Follow the following convetion for non-numeric ranks:\n",
    "\n",
    "- \"Ace\": 0\n",
    "- \"Jack\": 11\n",
    "- \"Queen\": 12\n",
    "- \"King\": 13"
   ]
  },
  {
   "cell_type": "code",
   "execution_count": 14,
   "id": "ce0b1f0e",
   "metadata": {},
   "outputs": [],
   "source": [
    "# YOUR SOLUTION"
   ]
  },
  {
   "cell_type": "markdown",
   "id": "72af38d5",
   "metadata": {},
   "source": [
    "## Problem #15"
   ]
  },
  {
   "cell_type": "markdown",
   "id": "f61d7749",
   "metadata": {},
   "source": [
    "Write a function named *validate_phone_number* that receives a string representing a phone number and validates if the number according to the following rules:\n",
    "\n",
    "- The phone number is of length 10 characters\n",
    "- The phone number starts with 323\n",
    "- Assume all characters in the string are digits\n",
    "\n",
    "If the phone number is valid, your function should *return* True and False otherwise."
   ]
  },
  {
   "cell_type": "code",
   "execution_count": 15,
   "id": "60cc21ed",
   "metadata": {},
   "outputs": [],
   "source": [
    "# YOUR SOLUTION"
   ]
  },
  {
   "cell_type": "code",
   "execution_count": null,
   "id": "86905e87",
   "metadata": {},
   "outputs": [],
   "source": []
  }
 ],
 "metadata": {
  "kernelspec": {
   "display_name": "Python 3 (ipykernel)",
   "language": "python",
   "name": "python3"
  },
  "language_info": {
   "codemirror_mode": {
    "name": "ipython",
    "version": 3
   },
   "file_extension": ".py",
   "mimetype": "text/x-python",
   "name": "python",
   "nbconvert_exporter": "python",
   "pygments_lexer": "ipython3",
   "version": "3.9.6"
  }
 },
 "nbformat": 4,
 "nbformat_minor": 5
}
