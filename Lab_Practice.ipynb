{
 "cells": [
  {
   "cell_type": "markdown",
   "metadata": {},
   "source": [
    "# Lab practice: Essential functionality in Pandas"
   ]
  },
  {
   "cell_type": "markdown",
   "metadata": {},
   "source": [
    "In this lab, you will apply Panda DataFrame objects to work with tabular data and write queries to retrieve data from a DataFrame.\n",
    "\n",
    "Learning objectives:\n",
    "\n",
    "1. Create dataframes from generated data\n",
    "2. Working with tabular data"
   ]
  },
  {
   "cell_type": "code",
   "execution_count": 1,
   "metadata": {},
   "outputs": [],
   "source": [
    "import pandas as pd\n",
    "import numpy as np"
   ]
  },
  {
   "cell_type": "markdown",
   "metadata": {},
   "source": [
    "## Part I: Creating dataframes from generated data"
   ]
  },
  {
   "cell_type": "markdown",
   "metadata": {},
   "source": [
    "### Problem 1: Creating a dataframe from a sequence"
   ]
  },
  {
   "cell_type": "markdown",
   "metadata": {},
   "source": [
    "Create a dataframe of 10 rows and 10 columns filled with a sequence of integers from 0 to 99. Name the columns with the prefix 'col_' followed by an integer starting from 1 indicating the position of the column."
   ]
  },
  {
   "cell_type": "code",
   "execution_count": 2,
   "metadata": {},
   "outputs": [],
   "source": [
    "# YOUR SOLUTION"
   ]
  },
  {
   "cell_type": "code",
   "execution_count": 3,
   "metadata": {},
   "outputs": [
    {
     "name": "stdout",
     "output_type": "stream",
     "text": [
      "\n",
      "\tcol_1\tcol_2\tcol_3\tcol_4\tcol_5\tcol_6\tcol_7\tcol_8\tcol_9\tcol_10\n",
      "0\t0\t1\t2\t3\t4\t5\t6\t7\t8\t9\n",
      "...\n",
      "9\t90\t91\t92\t93\t94\t95\t96\t97\t98\t99\n",
      "\n"
     ]
    }
   ],
   "source": [
    "# Example of expected output\n",
    "\n",
    "print(\"\"\"\n",
    "\tcol_1\tcol_2\tcol_3\tcol_4\tcol_5\tcol_6\tcol_7\tcol_8\tcol_9\tcol_10\n",
    "0\t0\t1\t2\t3\t4\t5\t6\t7\t8\t9\n",
    "...\n",
    "9\t90\t91\t92\t93\t94\t95\t96\t97\t98\t99\n",
    "\"\"\")"
   ]
  },
  {
   "cell_type": "markdown",
   "metadata": {},
   "source": [
    "### Problem 2: Creating a dataframe from random integers "
   ]
  },
  {
   "cell_type": "markdown",
   "metadata": {},
   "source": [
    "Create a dataframe of 5 rows and 10 columns filled with random integers from 1 to 100. Regarding the index,\n",
    "- Name the columns with the prefix 'col_' followed by an integer starting from 1 indicating the position of the column.\n",
    "- Name the rows with the labels: *a*, *b*, *c*, *d*, and *e*.\n",
    "\n",
    "Useful links:\n",
    "- https://numpy.org/devdocs/reference/random/generated/numpy.random.randint.html"
   ]
  },
  {
   "cell_type": "code",
   "execution_count": 5,
   "metadata": {},
   "outputs": [
    {
     "name": "stdout",
     "output_type": "stream",
     "text": [
      "\n",
      "\tcol_1\tcol_2\tcol_3\tcol_4\tcol_5\tcol_6\tcol_7\tcol_8\tcol_9\tcol_10\n",
      "a\t97\t58\t26\t92\t7\t99\t49\t92\t56\t85\n",
      "b\t88\t24\t22\t72\t54\t49\t89\t80\t77\t49\n",
      "...\n",
      "\n"
     ]
    }
   ],
   "source": [
    "# Example of expected output\n",
    "\n",
    "print(\"\"\"\n",
    "\tcol_1\tcol_2\tcol_3\tcol_4\tcol_5\tcol_6\tcol_7\tcol_8\tcol_9\tcol_10\n",
    "a\t97\t58\t26\t92\t7\t99\t49\t92\t56\t85\n",
    "b\t88\t24\t22\t72\t54\t49\t89\t80\t77\t49\n",
    "...\n",
    "\"\"\")"
   ]
  },
  {
   "cell_type": "code",
   "execution_count": 6,
   "metadata": {},
   "outputs": [],
   "source": [
    "# YOUR SOLUTION"
   ]
  },
  {
   "cell_type": "markdown",
   "metadata": {},
   "source": [
    "### Problem 3: Dropping a column"
   ]
  },
  {
   "cell_type": "markdown",
   "metadata": {},
   "source": [
    "Create a new DataFrame by dropping the column *col_10* from the random integers DataFrame."
   ]
  },
  {
   "cell_type": "code",
   "execution_count": 8,
   "metadata": {},
   "outputs": [],
   "source": [
    "# YOUR SOLUTION"
   ]
  },
  {
   "cell_type": "markdown",
   "metadata": {},
   "source": [
    "### Problems 4-5: Filtering  "
   ]
  },
  {
   "cell_type": "markdown",
   "metadata": {},
   "source": [
    "Retrieve all rows and columns where the column 'col_1' value is greater than 50."
   ]
  },
  {
   "cell_type": "code",
   "execution_count": 10,
   "metadata": {},
   "outputs": [
    {
     "name": "stdout",
     "output_type": "stream",
     "text": [
      "\n",
      "\tcol_1\tcol_2\tcol_3\tcol_4\tcol_5\tcol_6\tcol_7\tcol_8\tcol_9\tcol_10\n",
      "a\t76\t81\t41\t82\t88\t5\t82\t8\t46\t65\n",
      "c\t65\t93\t53\t76\t69\t48\t33\t22\t90\t29 \n",
      "...\n",
      "\n"
     ]
    }
   ],
   "source": [
    "# Example of expected output\n",
    "\n",
    "print(\"\"\"\n",
    "\tcol_1\tcol_2\tcol_3\tcol_4\tcol_5\tcol_6\tcol_7\tcol_8\tcol_9\tcol_10\n",
    "a\t76\t81\t41\t82\t88\t5\t82\t8\t46\t65\n",
    "c\t65\t93\t53\t76\t69\t48\t33\t22\t90\t29 \n",
    "...\n",
    "\"\"\")"
   ]
  },
  {
   "cell_type": "code",
   "execution_count": 11,
   "metadata": {},
   "outputs": [],
   "source": [
    "# YOUR SOLUTION"
   ]
  },
  {
   "cell_type": "markdown",
   "metadata": {},
   "source": [
    "Retrieve all rows and the last 5 columns where the column 'col_6' value is even."
   ]
  },
  {
   "cell_type": "code",
   "execution_count": 13,
   "metadata": {},
   "outputs": [
    {
     "name": "stdout",
     "output_type": "stream",
     "text": [
      "\n",
      "\tcol_6\tcol_7\tcol_8\tcol_9\tcol_10\n",
      "c\t48\t33\t22\t90\t29\n",
      "d\t18\t29\t18\t24\t63\n",
      "\n"
     ]
    }
   ],
   "source": [
    "# Example of expected output\n",
    "\n",
    "print(\"\"\"\n",
    "\tcol_6\tcol_7\tcol_8\tcol_9\tcol_10\n",
    "c\t48\t33\t22\t90\t29\n",
    "d\t18\t29\t18\t24\t63\n",
    "\"\"\")"
   ]
  },
  {
   "cell_type": "code",
   "execution_count": 14,
   "metadata": {},
   "outputs": [],
   "source": [
    "# YOUR SOLUTION"
   ]
  },
  {
   "cell_type": "markdown",
   "metadata": {},
   "source": [
    "## Part II: Working with tabular data"
   ]
  },
  {
   "cell_type": "markdown",
   "metadata": {},
   "source": [
    "For the following problems, you will be working with a dataset from NYC about causes of death from 2007 to 2014. The dataset is in CSV format. We are interested in the following fields:\n",
    " - Year\n",
    " - Ethnicity\n",
    " - Sex\n",
    " - Cause of Death\n",
    " \n",
    "The end goal is to determine the leading causes of death for males and females, according to the data."
   ]
  },
  {
   "cell_type": "markdown",
   "metadata": {},
   "source": [
    "Load the dataset:"
   ]
  },
  {
   "cell_type": "code",
   "execution_count": 18,
   "metadata": {},
   "outputs": [
    {
     "data": {
      "text/html": [
       "<div>\n",
       "<style scoped>\n",
       "    .dataframe tbody tr th:only-of-type {\n",
       "        vertical-align: middle;\n",
       "    }\n",
       "\n",
       "    .dataframe tbody tr th {\n",
       "        vertical-align: top;\n",
       "    }\n",
       "\n",
       "    .dataframe thead th {\n",
       "        text-align: right;\n",
       "    }\n",
       "</style>\n",
       "<table border=\"1\" class=\"dataframe\">\n",
       "  <thead>\n",
       "    <tr style=\"text-align: right;\">\n",
       "      <th></th>\n",
       "      <th>Year</th>\n",
       "      <th>Cause of Death</th>\n",
       "      <th>Sex</th>\n",
       "      <th>Ethnicity</th>\n",
       "      <th>Count</th>\n",
       "      <th>Death Rate</th>\n",
       "      <th>Age Adjusted Death Rate</th>\n",
       "    </tr>\n",
       "  </thead>\n",
       "  <tbody>\n",
       "    <tr>\n",
       "      <th>0</th>\n",
       "      <td>2010</td>\n",
       "      <td>Influenza (Flu) and Pneumonia (J09-J18)</td>\n",
       "      <td>F</td>\n",
       "      <td>Hispanic</td>\n",
       "      <td>228</td>\n",
       "      <td>18.7</td>\n",
       "      <td>23.1</td>\n",
       "    </tr>\n",
       "    <tr>\n",
       "      <th>1</th>\n",
       "      <td>2008</td>\n",
       "      <td>Accidents Except Drug Posioning (V01-X39, X43,...</td>\n",
       "      <td>F</td>\n",
       "      <td>Hispanic</td>\n",
       "      <td>68</td>\n",
       "      <td>5.8</td>\n",
       "      <td>6.6</td>\n",
       "    </tr>\n",
       "    <tr>\n",
       "      <th>2</th>\n",
       "      <td>2013</td>\n",
       "      <td>Accidents Except Drug Posioning (V01-X39, X43,...</td>\n",
       "      <td>M</td>\n",
       "      <td>White Non-Hispanic</td>\n",
       "      <td>271</td>\n",
       "      <td>20.1</td>\n",
       "      <td>17.9</td>\n",
       "    </tr>\n",
       "    <tr>\n",
       "      <th>3</th>\n",
       "      <td>2010</td>\n",
       "      <td>Cerebrovascular Disease (Stroke: I60-I69)</td>\n",
       "      <td>M</td>\n",
       "      <td>Hispanic</td>\n",
       "      <td>140</td>\n",
       "      <td>12.3</td>\n",
       "      <td>21.4</td>\n",
       "    </tr>\n",
       "    <tr>\n",
       "      <th>4</th>\n",
       "      <td>2009</td>\n",
       "      <td>Assault (Homicide: Y87.1, X85-Y09)</td>\n",
       "      <td>M</td>\n",
       "      <td>Black Non-Hispanic</td>\n",
       "      <td>255</td>\n",
       "      <td>30</td>\n",
       "      <td>30</td>\n",
       "    </tr>\n",
       "  </tbody>\n",
       "</table>\n",
       "</div>"
      ],
      "text/plain": [
       "   Year                                     Cause of Death Sex  \\\n",
       "0  2010            Influenza (Flu) and Pneumonia (J09-J18)   F   \n",
       "1  2008  Accidents Except Drug Posioning (V01-X39, X43,...   F   \n",
       "2  2013  Accidents Except Drug Posioning (V01-X39, X43,...   M   \n",
       "3  2010          Cerebrovascular Disease (Stroke: I60-I69)   M   \n",
       "4  2009                 Assault (Homicide: Y87.1, X85-Y09)   M   \n",
       "\n",
       "            Ethnicity Count Death Rate Age Adjusted Death Rate  \n",
       "0            Hispanic   228       18.7                    23.1  \n",
       "1            Hispanic    68        5.8                     6.6  \n",
       "2  White Non-Hispanic   271       20.1                    17.9  \n",
       "3            Hispanic   140       12.3                    21.4  \n",
       "4  Black Non-Hispanic   255         30                      30  "
      ]
     },
     "execution_count": 18,
     "metadata": {},
     "output_type": "execute_result"
    }
   ],
   "source": [
    "df_original = pd.read_csv('data/nyc_deaths.csv')\n",
    "df_original.head()"
   ]
  },
  {
   "cell_type": "markdown",
   "metadata": {},
   "source": [
    "Number of rows and attributes:"
   ]
  },
  {
   "cell_type": "code",
   "execution_count": 19,
   "metadata": {},
   "outputs": [
    {
     "data": {
      "text/plain": [
       "(1094, 7)"
      ]
     },
     "execution_count": 19,
     "metadata": {},
     "output_type": "execute_result"
    }
   ],
   "source": [
    "df_original.shape"
   ]
  },
  {
   "cell_type": "markdown",
   "metadata": {},
   "source": [
    "### Problem 6: Data cleaning "
   ]
  },
  {
   "cell_type": "markdown",
   "metadata": {},
   "source": [
    "Before using the data for doing any analysis, your first need to perform some cleaning operations. \n",
    "\n",
    "Apply your current knowledge on manipulating data in a DataFrame to construct a new DataFrame with the following characteristics:\n",
    "1. The Death Rate and Age Adjusted Death Rate columns removed\n",
    "2. All values in the Count column are valid, i.e., represent counts. Notice that some values contain a dot in the original dataset, i.e., '.', so you need to remove these records.\n",
    "3. The Count column is a numeric dtype\n",
    "\n",
    "For completing the last task, you can use the [pandas.to_numeric](https://pandas.pydata.org/docs/reference/api/pandas.to_numeric.html) function. For example,\n",
    "\n",
    "`df['Count'] = pd.to_numeric(df['Count'])`\n",
    "\n",
    "Although the code above is correct, you may see a warning raised about how Pandas internally manages the assignment of DataFrame values.\n",
    "\n",
    "To avoid the warning, you can execute the equivalent code:\n",
    "\n",
    "`df = df_original.copy()\n",
    "df.loc[:, 'Count'] = pd.to_numeric(df['Count'])`\n",
    "\n",
    "You can read more about the details at the following link:\n",
    "\n",
    "https://pandas.pydata.org/pandas-docs/stable/user_guide/indexing.html#returning-a-view-versus-a-copy"
   ]
  },
  {
   "cell_type": "code",
   "execution_count": 20,
   "metadata": {},
   "outputs": [
    {
     "name": "stdout",
     "output_type": "stream",
     "text": [
      "\n",
      "\tYear\tCause of Death\tSex\tEthnicity\tCount\n",
      "0\t2010\tInfluenza ...\tF\tHispanic\t228\n",
      "1\t2008\tAccidents ...\tF\tHispanic\t68\n",
      "2\t2013\tAccidents ...\tM\tWhite...\t271\n",
      "3\t2010\tCerebrov...\tM\tHispanic\t140\n",
      "4\t2009\tAssault ...\tM\tBlack ...\t255\n",
      "...\n",
      "\n"
     ]
    }
   ],
   "source": [
    "# Example of expected output\n",
    "\n",
    "print(\"\"\"\n",
    "\tYear\tCause of Death\tSex\tEthnicity\tCount\n",
    "0\t2010\tInfluenza ...\tF\tHispanic\t228\n",
    "1\t2008\tAccidents ...\tF\tHispanic\t68\n",
    "2\t2013\tAccidents ...\tM\tWhite...\t271\n",
    "3\t2010\tCerebrov...\tM\tHispanic\t140\n",
    "4\t2009\tAssault ...\tM\tBlack ...\t255\n",
    "...\n",
    "\"\"\")"
   ]
  },
  {
   "cell_type": "code",
   "execution_count": 21,
   "metadata": {},
   "outputs": [],
   "source": [
    "# YOUR SOLUTION"
   ]
  },
  {
   "cell_type": "markdown",
   "metadata": {},
   "source": [
    "Now that you have cleared out all incomplete and useless values, the data is ready to answer some questions. Answer the questions made in each problem."
   ]
  },
  {
   "cell_type": "markdown",
   "metadata": {},
   "source": [
    "### Problem 7: How many male records and how many female records are there in the data?"
   ]
  },
  {
   "cell_type": "code",
   "execution_count": 27,
   "metadata": {},
   "outputs": [],
   "source": [
    "# YOUR SOLUTION"
   ]
  },
  {
   "cell_type": "markdown",
   "metadata": {},
   "source": [
    "### Problem 8: What ethnicities are included in the data for females?"
   ]
  },
  {
   "cell_type": "markdown",
   "metadata": {},
   "source": [
    "Useful links:\n",
    "- https://pandas.pydata.org/docs/reference/api/pandas.Series.unique.html"
   ]
  },
  {
   "cell_type": "code",
   "execution_count": 30,
   "metadata": {},
   "outputs": [],
   "source": [
    "# YOUR SOLUTION"
   ]
  },
  {
   "cell_type": "markdown",
   "metadata": {},
   "source": [
    "### Problem 9:  What are the three most frequent causes of death? \n",
    "\n",
    "To answer this question, list causes of death by their frequencies in descending order.\n",
    "\n",
    "Useful links:\n",
    "\n",
    "https://pandas.pydata.org/pandas-docs/stable/reference/api/pandas.DataFrame.groupby.html\n",
    "\n",
    "The groupby function behaves very similarlty to the GROUP BY clause in SQL. The groupby function combines records with the same value and it usually involves an arithmetic operation that dictates how to aggregate multiple values:\n",
    "\n",
    "`\n",
    "data_frame = pd.DataFrame(\n",
    "    [{'player': 'james', 'score':30}, {'player': 'james', 'score':20}, {'player': 'michael', 'score':30}])\n",
    "grouped_data_frame = data_frame.groupby(['player']).sum()`\n",
    "\n",
    "*groupby* creates a new DataFrame with rows representing the results of the aggregation in each column."
   ]
  },
  {
   "cell_type": "code",
   "execution_count": 32,
   "metadata": {},
   "outputs": [],
   "source": [
    "# YOUR SOLUTION"
   ]
  },
  {
   "cell_type": "code",
   "execution_count": 33,
   "metadata": {},
   "outputs": [
    {
     "name": "stdout",
     "output_type": "stream",
     "text": [
      "\n",
      "\t\t\tCount\n",
      "Cause of Death\t\n",
      "Diseases of Heart ...\t147551\n",
      "Malignant Neoplasms ...\t106367\n",
      "All Other Causes\t77999\n",
      "\n"
     ]
    }
   ],
   "source": [
    "# Example of expected output\n",
    "\n",
    "print(\"\"\"\n",
    "\t\t\tCount\n",
    "Cause of Death\t\n",
    "Diseases of Heart ...\t147551\n",
    "Malignant Neoplasms ...\t106367\n",
    "All Other Causes\t77999\n",
    "\"\"\")"
   ]
  },
  {
   "cell_type": "markdown",
   "metadata": {},
   "source": [
    "### Problem 10:  Are there differences in the leading causes of death among males and females? "
   ]
  },
  {
   "cell_type": "markdown",
   "metadata": {},
   "source": [
    "To answer this question, you can compute distinct DataFrames for males and females and compare the leading causes of death by looking at the ten most frequent causes of death in each group. Try to come up with a statement similar to the observation made at the end of this cell.      \n",
    "\n",
    "Comparing the leading causes of death in each group may be difficult if the data for both groups live in different DataFrames. We will cover later how to combine multiple DataFrames. You can try the following code that combines two DataFrames:\n",
    "\n",
    "`pd.merge(m_leading_death, f_leading_death, suffixes=('_male', '_female'), on=\"Cause of Death\", how='outer')`\n",
    "\n",
    "The *merge* function works like a JOIN operation in SQL. For this function to work, both DataFrames must have the same structure and have similar values on the \"Cause of Death\" column, which in this case, it is also the row index. Having all the data in the same DataFrame makes it easier to compare both groups and make observations.\n",
    "\n",
    "> For example, you may find that Mental and Behavioral Disorders are a leading cause of death in men, but not in women, according to the top 10 leading causes of death for both groups in the data."
   ]
  },
  {
   "cell_type": "code",
   "execution_count": 35,
   "metadata": {},
   "outputs": [],
   "source": [
    "# YOUR SOLUTION"
   ]
  },
  {
   "cell_type": "code",
   "execution_count": null,
   "metadata": {},
   "outputs": [],
   "source": []
  }
 ],
 "metadata": {
  "kernelspec": {
   "display_name": "Python 3",
   "language": "python",
   "name": "python3"
  },
  "language_info": {
   "codemirror_mode": {
    "name": "ipython",
    "version": 3
   },
   "file_extension": ".py",
   "mimetype": "text/x-python",
   "name": "python",
   "nbconvert_exporter": "python",
   "pygments_lexer": "ipython3",
   "version": "3.7.6"
  }
 },
 "nbformat": 4,
 "nbformat_minor": 4
}
