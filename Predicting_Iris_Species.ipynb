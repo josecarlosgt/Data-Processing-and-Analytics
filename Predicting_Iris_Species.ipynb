{
 "cells": [
  {
   "cell_type": "markdown",
   "id": "b959e7b1",
   "metadata": {},
   "source": [
    "# Predicting Iris Species"
   ]
  },
  {
   "cell_type": "markdown",
   "id": "b12dbfff",
   "metadata": {},
   "source": [
    "## 1. Business understanding"
   ]
  },
  {
   "cell_type": "markdown",
   "id": "6450e922",
   "metadata": {},
   "source": [
    "In this notebook, we are going to build a predictive model learning to explore the capacity of machine learning to address the taxonomic impediment.\n",
    "\n",
    "[Presentation slides](https://docs.google.com/presentation/d/1St9pn2o1xR4_S9GS4uoGl9S4r0JCo8nPppBFBWdf3DA/edit?usp=sharing)"
   ]
  },
  {
   "cell_type": "markdown",
   "id": "977cd6b4",
   "metadata": {},
   "source": [
    "## 2. Setup"
   ]
  },
  {
   "cell_type": "markdown",
   "id": "b6c3c8d7",
   "metadata": {},
   "source": [
    "### Coding constants"
   ]
  },
  {
   "cell_type": "markdown",
   "id": "e489db92",
   "metadata": {},
   "source": [
    "### Common imports"
   ]
  },
  {
   "cell_type": "markdown",
   "id": "6ab5509a",
   "metadata": {},
   "source": [
    "## Load the data"
   ]
  },
  {
   "cell_type": "markdown",
   "id": "01d2a182",
   "metadata": {},
   "source": [
    "## 3. Data understanding"
   ]
  },
  {
   "cell_type": "markdown",
   "id": "c2e331db",
   "metadata": {},
   "source": [
    "### Attributes variables distribution"
   ]
  },
  {
   "cell_type": "markdown",
   "id": "9c4f50dd",
   "metadata": {},
   "source": [
    "### Target variable distribution"
   ]
  },
  {
   "cell_type": "markdown",
   "id": "e1b205d4",
   "metadata": {},
   "source": [
    "### Visualizing relationships between the target variable and attributes "
   ]
  },
  {
   "cell_type": "markdown",
   "id": "2d6f5dc2",
   "metadata": {},
   "source": [
    "## 4. Data Processing"
   ]
  },
  {
   "cell_type": "markdown",
   "id": "082e5f0d",
   "metadata": {},
   "source": [
    "The data has been preprocessed already, so there is nothing to do here."
   ]
  },
  {
   "cell_type": "markdown",
   "id": "e7b1c445",
   "metadata": {},
   "source": [
    "## 5. Data Modeling"
   ]
  },
  {
   "cell_type": "markdown",
   "id": "0967f6d4",
   "metadata": {},
   "source": [
    "### Assessing feature importance"
   ]
  }
 ],
 "metadata": {
  "kernelspec": {
   "display_name": "Python 3 (ipykernel)",
   "language": "python",
   "name": "python3"
  },
  "language_info": {
   "codemirror_mode": {
    "name": "ipython",
    "version": 3
   },
   "file_extension": ".py",
   "mimetype": "text/x-python",
   "name": "python",
   "nbconvert_exporter": "python",
   "pygments_lexer": "ipython3",
   "version": "3.9.6"
  }
 },
 "nbformat": 4,
 "nbformat_minor": 5
}
