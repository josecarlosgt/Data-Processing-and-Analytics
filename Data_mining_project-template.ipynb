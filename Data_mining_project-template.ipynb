{
 "cells": [
  {
   "cell_type": "markdown",
   "id": "0aacdebd",
   "metadata": {},
   "source": [
    "# \\[Project title\\]"
   ]
  },
  {
   "cell_type": "markdown",
   "id": "7ce08580",
   "metadata": {},
   "source": [
    "## 1. Business understanding"
   ]
  },
  {
   "cell_type": "markdown",
   "id": "16167aea",
   "metadata": {},
   "source": [
    "Briefly explains the project from a business perspective, casting business objectives into a data mining problem definition. Complement this section with a slideshow presentation."
   ]
  },
  {
   "cell_type": "markdown",
   "id": "0efeb5e6",
   "metadata": {},
   "source": [
    "## 2. Setup"
   ]
  },
  {
   "cell_type": "markdown",
   "id": "18af0a3e",
   "metadata": {},
   "source": [
    "The purpose of this section is to improve the organization and efficiency of your Python code."
   ]
  },
  {
   "cell_type": "markdown",
   "id": "fa8f594e",
   "metadata": {},
   "source": [
    "### Coding constants"
   ]
  },
  {
   "cell_type": "markdown",
   "id": "3ace5f46",
   "metadata": {},
   "source": [
    "Declare any constants used in your project. You should declare as constants any value that does not change during the execution of your programming code. Constants improve the clarity and maintainability of your code. Constants also make your code safer by avoiding unforeseen changes in values that should not change."
   ]
  },
  {
   "cell_type": "code",
   "execution_count": 1,
   "id": "32b63afb",
   "metadata": {},
   "outputs": [],
   "source": [
    "# [DEFINE YOUR CONSTANTS HERE]\n",
    "\n",
    "# Example:\n",
    "CONSTANT = 1"
   ]
  },
  {
   "cell_type": "markdown",
   "id": "b492a5ff",
   "metadata": {},
   "source": [
    "### Common imports"
   ]
  },
  {
   "cell_type": "markdown",
   "id": "6a7a902c",
   "metadata": {},
   "source": [
    "Include imports to modules used throughout your project. The benefits of including common imports at the beginning of your project include:\n",
    "\n",
    "- It enables users of your notebook to check for dependencies and proceed with any installations if necessary. If imports are dispersed, the only way to find them is by browsing through the whole notebook.\n",
    "- Avoid running code that uses a dependency before importing it.\n",
    "- Importing a module can take time. Putting the imports at the beginning means it will happen as soon as you start the notebook. For example, if you do the import within a function, you may experience slowness during its execution.\n",
    "- However, if an import is too specific and only used once, you may include the import right in the cell where it is used."
   ]
  },
  {
   "cell_type": "code",
   "execution_count": 2,
   "id": "e2dc3da3",
   "metadata": {},
   "outputs": [],
   "source": [
    "# [IMPORT COMMON MODULES HERE]\n",
    "\n",
    "# Example:\n",
    "import pandas as pd"
   ]
  },
  {
   "cell_type": "markdown",
   "id": "fec0474b",
   "metadata": {},
   "source": [
    "### Data loading"
   ]
  },
  {
   "cell_type": "markdown",
   "id": "28908349",
   "metadata": {},
   "source": [
    "Load your data in a format suitable for working with Pandas DataFrames. Use Pandas methods to inspect the shape and attributes of your data."
   ]
  },
  {
   "cell_type": "code",
   "execution_count": 3,
   "id": "c88e609b",
   "metadata": {},
   "outputs": [],
   "source": [
    "# [LOAD YOUR DATA HERE]"
   ]
  },
  {
   "cell_type": "markdown",
   "id": "1041845c",
   "metadata": {},
   "source": [
    "## 3. Data understanding"
   ]
  },
  {
   "cell_type": "markdown",
   "id": "2c4b3955",
   "metadata": {},
   "source": [
    "Explore the data by performing visualizations, check the ranges and distributions of numeric values using histograms, and examine correlations among the attribute variables. In supervised learning, examine correlations between the target variables and attributes."
   ]
  },
  {
   "cell_type": "markdown",
   "id": "6b7604ae",
   "metadata": {},
   "source": [
    "## 4. Data processing (optional)"
   ]
  },
  {
   "cell_type": "markdown",
   "id": "e6319842",
   "metadata": {},
   "source": [
    "Perform data cleaning and transformation tasks as necessary. These tasks may include:\n",
    "- Dealing with missing values and outliers\n",
    "- Drop attributes that provide no valuable information for the data mining goal\n",
    "- Discretize continuous attributes\n",
    "- Encode non-numeric attributes\n",
    "- Derive new attributes from existing ones\n",
    "- Feature scaling.\n",
    "\n",
    "You may need to perform some data processing operations after loading the data to enhance the exploration of the data and generate better visualizations in the data understanding phase."
   ]
  },
  {
   "cell_type": "markdown",
   "id": "ed6e3154",
   "metadata": {},
   "source": [
    "## 5. Data Modeling"
   ]
  },
  {
   "cell_type": "markdown",
   "id": "a276b5f8",
   "metadata": {},
   "source": [
    "Train different models and calibrate the parameters of the most promising ones to optimal values."
   ]
  },
  {
   "cell_type": "markdown",
   "id": "4117cd9d",
   "metadata": {},
   "source": [
    "### Fitting a model\n",
    "\n",
    "Train models from different categories using standard parameters."
   ]
  },
  {
   "cell_type": "markdown",
   "id": "912900b1",
   "metadata": {},
   "source": [
    "### Evaluating performance\n",
    "\n",
    "Measure and compare performance using cross-validation."
   ]
  },
  {
   "cell_type": "markdown",
   "id": "9d52f2e4",
   "metadata": {},
   "source": [
    "### Assessing feature importance\n",
    "\n",
    "In supervised learning, examine the importance of the attributes with respect to the target variable. You may use these results back in the data understanding phase."
   ]
  },
  {
   "cell_type": "markdown",
   "id": "051fd087",
   "metadata": {},
   "source": [
    "## 6. Evaluation"
   ]
  },
  {
   "cell_type": "markdown",
   "id": "21654d55",
   "metadata": {},
   "source": [
    "Measure the performance of your final model on the test set to estimate the generalization error."
   ]
  }
 ],
 "metadata": {
  "kernelspec": {
   "display_name": "Python 3 (ipykernel)",
   "language": "python",
   "name": "python3"
  },
  "language_info": {
   "codemirror_mode": {
    "name": "ipython",
    "version": 3
   },
   "file_extension": ".py",
   "mimetype": "text/x-python",
   "name": "python",
   "nbconvert_exporter": "python",
   "pygments_lexer": "ipython3",
   "version": "3.9.6"
  }
 },
 "nbformat": 4,
 "nbformat_minor": 5
}
