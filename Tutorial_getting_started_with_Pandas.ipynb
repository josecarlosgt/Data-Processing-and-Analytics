{
 "cells": [
  {
   "cell_type": "markdown",
   "id": "9c6b8bc6",
   "metadata": {},
   "source": [
    "# Tutorial: Getting started with Pandas\n",
    "\n",
    "Pandas contains data structures and data manipulation tools designed to make data processing efficient in Python. This tutorial introduces essential functionality in Pandas for representing and accessing data.\n",
    "\n",
    "Skills:\n",
    "1. Build DataFrames from Python built-in data structures\n",
    "2. Retrieve data from a dataset\n",
    "3. Sort a dataset\n",
    "4. Compute descriptive statistics"
   ]
  },
  {
   "cell_type": "markdown",
   "id": "9c61b845",
   "metadata": {},
   "source": [
    "## Importing Pandas"
   ]
  },
  {
   "cell_type": "markdown",
   "id": "053f5b47",
   "metadata": {},
   "source": [
    "Throughout the rest of the tutorials, we will use the the following import convention for pandas:"
   ]
  },
  {
   "cell_type": "code",
   "execution_count": 53,
   "id": "e54c1818",
   "metadata": {},
   "outputs": [],
   "source": [
    "import pandas as pd"
   ]
  },
  {
   "cell_type": "markdown",
   "id": "d3569c63",
   "metadata": {},
   "source": [
    "## 1. Building DataFrames\n",
    "\n",
    "**Series** and **DataFrame** constitute the two workhorse data structures in Pandas. Before getting started with DataFrames, we will begin with Series."
   ]
  },
  {
   "cell_type": "markdown",
   "id": "2b2dd222",
   "metadata": {},
   "source": [
    "### Series\n",
    "\n",
    "A **Series** is a one-dimensional array-like object containing a sequence of values and an associated array of *data labels*, called its **index**."
   ]
  },
  {
   "cell_type": "markdown",
   "id": "aa318db4",
   "metadata": {},
   "source": [
    "Create a Series from a list:"
   ]
  },
  {
   "cell_type": "code",
   "execution_count": 54,
   "id": "e3b98e6d",
   "metadata": {},
   "outputs": [
    {
     "data": {
      "text/plain": [
       "0    4\n",
       "1    7\n",
       "2   -5\n",
       "3    3\n",
       "dtype: int64"
      ]
     },
     "execution_count": 54,
     "metadata": {},
     "output_type": "execute_result"
    }
   ],
   "source": [
    "series = pd.Series([4, 7, -5, 3])\n",
    "series"
   ]
  },
  {
   "cell_type": "markdown",
   "id": "3b5ff7fa",
   "metadata": {},
   "source": [
    "The output above shows the index on the left and the values on the right. Since we did not specify an index for the data, default labels consisting of the integers 0 through N - 1 (where N is the length of the data) are created."
   ]
  },
  {
   "cell_type": "markdown",
   "id": "9c63c2b4",
   "metadata": {},
   "source": [
    "> In the same way ordinary objects in Python have a type associated, the values stored in a Series object also contain a data type or **dtype**. \n",
    " \n",
    "The numerical dtypes are named the same way. A type name, like float or int, followed by a number indicating the number of bits per element:\n",
    "- int8, int16, int32, int64\n",
    "- uint8, uint16, uint32, uint64\n",
    "- float16, float32, float64, float128\n",
    "- complex64, complex128, complex256\n",
    "\n",
    "Series objects can also contain non-numerical values:\n",
    "- bool\n",
    "- object\n",
    "- string_\n",
    "- unicode_\n",
    ">\n",
    "> *All values in a Series must be of the same dtype.*"
   ]
  },
  {
   "cell_type": "markdown",
   "id": "3c6ef4db",
   "metadata": {},
   "source": [
    "You can get an array representation of the values and the index object of a series via its *values* and *index* attributes:"
   ]
  },
  {
   "cell_type": "code",
   "execution_count": 55,
   "id": "ebe1d95b",
   "metadata": {},
   "outputs": [
    {
     "data": {
      "text/plain": [
       "array([ 4,  7, -5,  3])"
      ]
     },
     "execution_count": 55,
     "metadata": {},
     "output_type": "execute_result"
    }
   ],
   "source": [
    "series.values"
   ]
  },
  {
   "cell_type": "markdown",
   "id": "c4775f25",
   "metadata": {},
   "source": [
    "### DataFrames\n",
    "\n",
    "A DataFrame represents a rectangular table of data and contains an ordered collection of columns. \n",
    "\n",
    "In contrast to series:\n",
    "- Dataframes support different data types, as each column can be of a different value type.\n",
    "- A DataFrame has two indexes:\n",
    "    - A row index that contains labels for the rows. The row index is also referred to as *axis 0*.\n",
    "    - A column index that contains labels for the columns. The column index is also referred to as *axis 1*."
   ]
  },
  {
   "cell_type": "markdown",
   "id": "06a85882",
   "metadata": {},
   "source": [
    "### Creating a DataFrame from Python lists\n",
    "\n",
    "Create a DataFrame from a list representing names and ages from a group of people:"
   ]
  },
  {
   "cell_type": "code",
   "execution_count": 58,
   "id": "e08fcfa6",
   "metadata": {},
   "outputs": [
    {
     "data": {
      "text/html": [
       "<div>\n",
       "<style scoped>\n",
       "    .dataframe tbody tr th:only-of-type {\n",
       "        vertical-align: middle;\n",
       "    }\n",
       "\n",
       "    .dataframe tbody tr th {\n",
       "        vertical-align: top;\n",
       "    }\n",
       "\n",
       "    .dataframe thead th {\n",
       "        text-align: right;\n",
       "    }\n",
       "</style>\n",
       "<table border=\"1\" class=\"dataframe\">\n",
       "  <thead>\n",
       "    <tr style=\"text-align: right;\">\n",
       "      <th></th>\n",
       "      <th>0</th>\n",
       "      <th>1</th>\n",
       "    </tr>\n",
       "  </thead>\n",
       "  <tbody>\n",
       "    <tr>\n",
       "      <th>0</th>\n",
       "      <td>Jose</td>\n",
       "      <td>30</td>\n",
       "    </tr>\n",
       "    <tr>\n",
       "      <th>1</th>\n",
       "      <td>Erick</td>\n",
       "      <td>25</td>\n",
       "    </tr>\n",
       "    <tr>\n",
       "      <th>2</th>\n",
       "      <td>Mary</td>\n",
       "      <td>28</td>\n",
       "    </tr>\n",
       "  </tbody>\n",
       "</table>\n",
       "</div>"
      ],
      "text/plain": [
       "       0   1\n",
       "0   Jose  30\n",
       "1  Erick  25\n",
       "2   Mary  28"
      ]
     },
     "execution_count": 58,
     "metadata": {},
     "output_type": "execute_result"
    }
   ],
   "source": [
    "people_list = [\n",
    "    [\"Jose\", 30],\n",
    "    [\"Erick\", 25],\n",
    "    [\"Mary\", 28]\n",
    "]\n",
    "\n",
    "df = pd.DataFrame(people_list)\n",
    "df"
   ]
  },
  {
   "cell_type": "markdown",
   "id": "5b5b5444",
   "metadata": {},
   "source": [
    "> If not specified, Pandas automatically creates the labels in the row and column indexes."
   ]
  },
  {
   "cell_type": "markdown",
   "id": "07f25dfd",
   "metadata": {},
   "source": [
    "We can specify the column labels:"
   ]
  },
  {
   "cell_type": "code",
   "execution_count": 60,
   "id": "5e4afc0c",
   "metadata": {},
   "outputs": [
    {
     "data": {
      "text/html": [
       "<div>\n",
       "<style scoped>\n",
       "    .dataframe tbody tr th:only-of-type {\n",
       "        vertical-align: middle;\n",
       "    }\n",
       "\n",
       "    .dataframe tbody tr th {\n",
       "        vertical-align: top;\n",
       "    }\n",
       "\n",
       "    .dataframe thead th {\n",
       "        text-align: right;\n",
       "    }\n",
       "</style>\n",
       "<table border=\"1\" class=\"dataframe\">\n",
       "  <thead>\n",
       "    <tr style=\"text-align: right;\">\n",
       "      <th></th>\n",
       "      <th>name</th>\n",
       "      <th>age</th>\n",
       "    </tr>\n",
       "  </thead>\n",
       "  <tbody>\n",
       "    <tr>\n",
       "      <th>0</th>\n",
       "      <td>Jose</td>\n",
       "      <td>30</td>\n",
       "    </tr>\n",
       "    <tr>\n",
       "      <th>1</th>\n",
       "      <td>Erick</td>\n",
       "      <td>25</td>\n",
       "    </tr>\n",
       "    <tr>\n",
       "      <th>2</th>\n",
       "      <td>Mary</td>\n",
       "      <td>28</td>\n",
       "    </tr>\n",
       "  </tbody>\n",
       "</table>\n",
       "</div>"
      ],
      "text/plain": [
       "    name  age\n",
       "0   Jose   30\n",
       "1  Erick   25\n",
       "2   Mary   28"
      ]
     },
     "execution_count": 60,
     "metadata": {},
     "output_type": "execute_result"
    }
   ],
   "source": [
    "df = pd.DataFrame(\n",
    "    people_list,\n",
    "    # columns refers to the column index or axis 1\n",
    "    columns=[\"name\", \"age\"] \n",
    ")\n",
    "\n",
    "df"
   ]
  },
  {
   "cell_type": "markdown",
   "id": "0c4ac97e",
   "metadata": {},
   "source": [
    "We can also specify the rows index:"
   ]
  },
  {
   "cell_type": "code",
   "execution_count": 61,
   "id": "f383f28d",
   "metadata": {},
   "outputs": [
    {
     "data": {
      "text/html": [
       "<div>\n",
       "<style scoped>\n",
       "    .dataframe tbody tr th:only-of-type {\n",
       "        vertical-align: middle;\n",
       "    }\n",
       "\n",
       "    .dataframe tbody tr th {\n",
       "        vertical-align: top;\n",
       "    }\n",
       "\n",
       "    .dataframe thead th {\n",
       "        text-align: right;\n",
       "    }\n",
       "</style>\n",
       "<table border=\"1\" class=\"dataframe\">\n",
       "  <thead>\n",
       "    <tr style=\"text-align: right;\">\n",
       "      <th></th>\n",
       "      <th>name</th>\n",
       "      <th>age</th>\n",
       "    </tr>\n",
       "  </thead>\n",
       "  <tbody>\n",
       "    <tr>\n",
       "      <th>A1</th>\n",
       "      <td>Jose</td>\n",
       "      <td>30</td>\n",
       "    </tr>\n",
       "    <tr>\n",
       "      <th>A2</th>\n",
       "      <td>Erick</td>\n",
       "      <td>25</td>\n",
       "    </tr>\n",
       "    <tr>\n",
       "      <th>A3</th>\n",
       "      <td>Mary</td>\n",
       "      <td>28</td>\n",
       "    </tr>\n",
       "  </tbody>\n",
       "</table>\n",
       "</div>"
      ],
      "text/plain": [
       "     name  age\n",
       "A1   Jose   30\n",
       "A2  Erick   25\n",
       "A3   Mary   28"
      ]
     },
     "execution_count": 61,
     "metadata": {},
     "output_type": "execute_result"
    }
   ],
   "source": [
    "df = pd.DataFrame(\n",
    "    people_list,\n",
    "    columns=[\"name\", \"age\"],\n",
    "    # index refers to the row index\n",
    "    index=[\"A1\", \"A2\", \"A3\"] \n",
    ")\n",
    "df"
   ]
  },
  {
   "cell_type": "markdown",
   "id": "cb61eb1e",
   "metadata": {},
   "source": [
    "We can also access the *index* (row labels), *columns* (column labels), and *values* properties of a DataFrame:"
   ]
  },
  {
   "cell_type": "code",
   "execution_count": 62,
   "id": "0fc015c2",
   "metadata": {},
   "outputs": [
    {
     "data": {
      "text/plain": [
       "Index(['A1', 'A2', 'A3'], dtype='object')"
      ]
     },
     "execution_count": 62,
     "metadata": {},
     "output_type": "execute_result"
    }
   ],
   "source": [
    "df.index"
   ]
  },
  {
   "cell_type": "code",
   "execution_count": 63,
   "id": "2be86105",
   "metadata": {},
   "outputs": [
    {
     "data": {
      "text/plain": [
       "Index(['name', 'age'], dtype='object')"
      ]
     },
     "execution_count": 63,
     "metadata": {},
     "output_type": "execute_result"
    }
   ],
   "source": [
    "df.columns"
   ]
  },
  {
   "cell_type": "code",
   "execution_count": 64,
   "id": "32d941c1",
   "metadata": {},
   "outputs": [
    {
     "data": {
      "text/plain": [
       "array([['Jose', 30],\n",
       "       ['Erick', 25],\n",
       "       ['Mary', 28]], dtype=object)"
      ]
     },
     "execution_count": 64,
     "metadata": {},
     "output_type": "execute_result"
    }
   ],
   "source": [
    "df.values"
   ]
  },
  {
   "cell_type": "markdown",
   "id": "4c947ff2",
   "metadata": {},
   "source": [
    "Note that each column in a dataframe is a series object:"
   ]
  },
  {
   "cell_type": "code",
   "execution_count": 65,
   "id": "f414e4b3",
   "metadata": {},
   "outputs": [
    {
     "data": {
      "text/plain": [
       "pandas.core.series.Series"
      ]
     },
     "execution_count": 65,
     "metadata": {},
     "output_type": "execute_result"
    }
   ],
   "source": [
    "type(df['name'])"
   ]
  },
  {
   "cell_type": "markdown",
   "id": "3316d45b",
   "metadata": {},
   "source": [
    "> Internally, a DataFrame object consists of a collection of Series objects, each with a dtype (data type) associated."
   ]
  },
  {
   "cell_type": "markdown",
   "id": "eda04128",
   "metadata": {},
   "source": [
    "### Creating a DataFrame from dictionaries\n",
    "\n",
    "Another way to construct a dataframe is from a dictionary of equal-length lists.\n",
    "\n",
    "In this way, *Pandas automatically takes the keys in the dictionary as the column labels*:"
   ]
  },
  {
   "cell_type": "code",
   "execution_count": 66,
   "id": "12027858",
   "metadata": {},
   "outputs": [
    {
     "data": {
      "text/html": [
       "<div>\n",
       "<style scoped>\n",
       "    .dataframe tbody tr th:only-of-type {\n",
       "        vertical-align: middle;\n",
       "    }\n",
       "\n",
       "    .dataframe tbody tr th {\n",
       "        vertical-align: top;\n",
       "    }\n",
       "\n",
       "    .dataframe thead th {\n",
       "        text-align: right;\n",
       "    }\n",
       "</style>\n",
       "<table border=\"1\" class=\"dataframe\">\n",
       "  <thead>\n",
       "    <tr style=\"text-align: right;\">\n",
       "      <th></th>\n",
       "      <th>name</th>\n",
       "      <th>age</th>\n",
       "    </tr>\n",
       "  </thead>\n",
       "  <tbody>\n",
       "    <tr>\n",
       "      <th>0</th>\n",
       "      <td>Jose</td>\n",
       "      <td>30</td>\n",
       "    </tr>\n",
       "    <tr>\n",
       "      <th>1</th>\n",
       "      <td>Erick</td>\n",
       "      <td>25</td>\n",
       "    </tr>\n",
       "    <tr>\n",
       "      <th>2</th>\n",
       "      <td>Mary</td>\n",
       "      <td>28</td>\n",
       "    </tr>\n",
       "  </tbody>\n",
       "</table>\n",
       "</div>"
      ],
      "text/plain": [
       "    name  age\n",
       "0   Jose   30\n",
       "1  Erick   25\n",
       "2   Mary   28"
      ]
     },
     "execution_count": 66,
     "metadata": {},
     "output_type": "execute_result"
    }
   ],
   "source": [
    "people_dict = {\n",
    "    'name': ['Jose', 'Erick', 'Mary'],\n",
    "    'age': [30, 25, 28]}\n",
    "\n",
    "df = pd.DataFrame(people_dict)\n",
    "df"
   ]
  },
  {
   "cell_type": "markdown",
   "id": "eacb3891",
   "metadata": {},
   "source": [
    "### Inspecting the structure of a DataFrame\n",
    "\n",
    "We can use the head method to inspect the first rows of a Dataframe:"
   ]
  },
  {
   "cell_type": "code",
   "execution_count": 67,
   "id": "d18cc7e2",
   "metadata": {},
   "outputs": [
    {
     "data": {
      "text/html": [
       "<div>\n",
       "<style scoped>\n",
       "    .dataframe tbody tr th:only-of-type {\n",
       "        vertical-align: middle;\n",
       "    }\n",
       "\n",
       "    .dataframe tbody tr th {\n",
       "        vertical-align: top;\n",
       "    }\n",
       "\n",
       "    .dataframe thead th {\n",
       "        text-align: right;\n",
       "    }\n",
       "</style>\n",
       "<table border=\"1\" class=\"dataframe\">\n",
       "  <thead>\n",
       "    <tr style=\"text-align: right;\">\n",
       "      <th></th>\n",
       "      <th>name</th>\n",
       "      <th>age</th>\n",
       "    </tr>\n",
       "  </thead>\n",
       "  <tbody>\n",
       "    <tr>\n",
       "      <th>0</th>\n",
       "      <td>Jose</td>\n",
       "      <td>30</td>\n",
       "    </tr>\n",
       "    <tr>\n",
       "      <th>1</th>\n",
       "      <td>Erick</td>\n",
       "      <td>25</td>\n",
       "    </tr>\n",
       "    <tr>\n",
       "      <th>2</th>\n",
       "      <td>Mary</td>\n",
       "      <td>28</td>\n",
       "    </tr>\n",
       "  </tbody>\n",
       "</table>\n",
       "</div>"
      ],
      "text/plain": [
       "    name  age\n",
       "0   Jose   30\n",
       "1  Erick   25\n",
       "2   Mary   28"
      ]
     },
     "execution_count": 67,
     "metadata": {},
     "output_type": "execute_result"
    }
   ],
   "source": [
    "df.head()"
   ]
  },
  {
   "cell_type": "markdown",
   "id": "b4368904",
   "metadata": {},
   "source": [
    "The shape attribute returns a tuple representing the dimensionality of the DataFrame, the numer of rows and number of columns:"
   ]
  },
  {
   "cell_type": "code",
   "execution_count": 68,
   "id": "5095f645",
   "metadata": {},
   "outputs": [
    {
     "data": {
      "text/plain": [
       "(3, 2)"
      ]
     },
     "execution_count": 68,
     "metadata": {},
     "output_type": "execute_result"
    }
   ],
   "source": [
    "df.shape"
   ]
  },
  {
   "cell_type": "markdown",
   "id": "be45c936",
   "metadata": {},
   "source": [
    "### Manipulating columns in a DataFrame"
   ]
  },
  {
   "cell_type": "code",
   "execution_count": 127,
   "id": "42b65a0f",
   "metadata": {},
   "outputs": [
    {
     "data": {
      "text/html": [
       "<div>\n",
       "<style scoped>\n",
       "    .dataframe tbody tr th:only-of-type {\n",
       "        vertical-align: middle;\n",
       "    }\n",
       "\n",
       "    .dataframe tbody tr th {\n",
       "        vertical-align: top;\n",
       "    }\n",
       "\n",
       "    .dataframe thead th {\n",
       "        text-align: right;\n",
       "    }\n",
       "</style>\n",
       "<table border=\"1\" class=\"dataframe\">\n",
       "  <thead>\n",
       "    <tr style=\"text-align: right;\">\n",
       "      <th></th>\n",
       "      <th>name</th>\n",
       "      <th>age</th>\n",
       "    </tr>\n",
       "  </thead>\n",
       "  <tbody>\n",
       "    <tr>\n",
       "      <th>0</th>\n",
       "      <td>Jose</td>\n",
       "      <td>30</td>\n",
       "    </tr>\n",
       "    <tr>\n",
       "      <th>1</th>\n",
       "      <td>Erick</td>\n",
       "      <td>25</td>\n",
       "    </tr>\n",
       "    <tr>\n",
       "      <th>2</th>\n",
       "      <td>Mary</td>\n",
       "      <td>28</td>\n",
       "    </tr>\n",
       "  </tbody>\n",
       "</table>\n",
       "</div>"
      ],
      "text/plain": [
       "    name  age\n",
       "0   Jose   30\n",
       "1  Erick   25\n",
       "2   Mary   28"
      ]
     },
     "execution_count": 127,
     "metadata": {},
     "output_type": "execute_result"
    }
   ],
   "source": [
    "df = pd.DataFrame({\n",
    "    'name': ['Jose', 'Erick', 'Mary'],\n",
    "    'age': [30, 25, 28]})\n",
    "\n",
    "df"
   ]
  },
  {
   "cell_type": "markdown",
   "id": "928dfea4",
   "metadata": {},
   "source": [
    "Columns can be modified by assignment using the *=* operator. We can assign a scalar value, which assigns the same value to all rows:"
   ]
  },
  {
   "cell_type": "code",
   "execution_count": 128,
   "id": "3114fdb3",
   "metadata": {},
   "outputs": [
    {
     "data": {
      "text/html": [
       "<div>\n",
       "<style scoped>\n",
       "    .dataframe tbody tr th:only-of-type {\n",
       "        vertical-align: middle;\n",
       "    }\n",
       "\n",
       "    .dataframe tbody tr th {\n",
       "        vertical-align: top;\n",
       "    }\n",
       "\n",
       "    .dataframe thead th {\n",
       "        text-align: right;\n",
       "    }\n",
       "</style>\n",
       "<table border=\"1\" class=\"dataframe\">\n",
       "  <thead>\n",
       "    <tr style=\"text-align: right;\">\n",
       "      <th></th>\n",
       "      <th>name</th>\n",
       "      <th>age</th>\n",
       "      <th>year_income</th>\n",
       "    </tr>\n",
       "  </thead>\n",
       "  <tbody>\n",
       "    <tr>\n",
       "      <th>0</th>\n",
       "      <td>Jose</td>\n",
       "      <td>30</td>\n",
       "      <td>50000</td>\n",
       "    </tr>\n",
       "    <tr>\n",
       "      <th>1</th>\n",
       "      <td>Erick</td>\n",
       "      <td>25</td>\n",
       "      <td>50000</td>\n",
       "    </tr>\n",
       "    <tr>\n",
       "      <th>2</th>\n",
       "      <td>Mary</td>\n",
       "      <td>28</td>\n",
       "      <td>50000</td>\n",
       "    </tr>\n",
       "  </tbody>\n",
       "</table>\n",
       "</div>"
      ],
      "text/plain": [
       "    name  age  year_income\n",
       "0   Jose   30        50000\n",
       "1  Erick   25        50000\n",
       "2   Mary   28        50000"
      ]
     },
     "execution_count": 128,
     "metadata": {},
     "output_type": "execute_result"
    }
   ],
   "source": [
    "df['year_income'] = 50000\n",
    "df"
   ]
  },
  {
   "cell_type": "markdown",
   "id": "826c4677",
   "metadata": {},
   "source": [
    "We can also assign sequence-like objects. In this case, the sequence’s length must match the length of the DataFrame: "
   ]
  },
  {
   "cell_type": "code",
   "execution_count": 129,
   "id": "aa275899",
   "metadata": {},
   "outputs": [
    {
     "data": {
      "text/html": [
       "<div>\n",
       "<style scoped>\n",
       "    .dataframe tbody tr th:only-of-type {\n",
       "        vertical-align: middle;\n",
       "    }\n",
       "\n",
       "    .dataframe tbody tr th {\n",
       "        vertical-align: top;\n",
       "    }\n",
       "\n",
       "    .dataframe thead th {\n",
       "        text-align: right;\n",
       "    }\n",
       "</style>\n",
       "<table border=\"1\" class=\"dataframe\">\n",
       "  <thead>\n",
       "    <tr style=\"text-align: right;\">\n",
       "      <th></th>\n",
       "      <th>name</th>\n",
       "      <th>age</th>\n",
       "      <th>year_income</th>\n",
       "    </tr>\n",
       "  </thead>\n",
       "  <tbody>\n",
       "    <tr>\n",
       "      <th>0</th>\n",
       "      <td>Jose</td>\n",
       "      <td>30</td>\n",
       "      <td>40000</td>\n",
       "    </tr>\n",
       "    <tr>\n",
       "      <th>1</th>\n",
       "      <td>Erick</td>\n",
       "      <td>25</td>\n",
       "      <td>50000</td>\n",
       "    </tr>\n",
       "    <tr>\n",
       "      <th>2</th>\n",
       "      <td>Mary</td>\n",
       "      <td>28</td>\n",
       "      <td>55000</td>\n",
       "    </tr>\n",
       "  </tbody>\n",
       "</table>\n",
       "</div>"
      ],
      "text/plain": [
       "    name  age  year_income\n",
       "0   Jose   30        40000\n",
       "1  Erick   25        50000\n",
       "2   Mary   28        55000"
      ]
     },
     "execution_count": 129,
     "metadata": {},
     "output_type": "execute_result"
    }
   ],
   "source": [
    "df['year_income'] = [40000, 50000, 55000]\n",
    "df"
   ]
  },
  {
   "cell_type": "markdown",
   "id": "42e71a01",
   "metadata": {},
   "source": [
    "We can retrieve the columns of a dataframe either by attribute or dictionoary-like notation.\n",
    "\n",
    "Retrieve the state column by attribute notation:"
   ]
  },
  {
   "cell_type": "code",
   "execution_count": 132,
   "id": "32a9c827",
   "metadata": {},
   "outputs": [
    {
     "data": {
      "text/plain": [
       "0     Jose\n",
       "1    Erick\n",
       "2     Mary\n",
       "Name: name, dtype: object"
      ]
     },
     "execution_count": 132,
     "metadata": {},
     "output_type": "execute_result"
    }
   ],
   "source": [
    "df.name"
   ]
  },
  {
   "cell_type": "markdown",
   "id": "6dea36ac",
   "metadata": {},
   "source": [
    "Retrieve the state column by dictionoary-like notation:"
   ]
  },
  {
   "cell_type": "code",
   "execution_count": 133,
   "id": "c9a86e57",
   "metadata": {},
   "outputs": [
    {
     "data": {
      "text/plain": [
       "0     Jose\n",
       "1    Erick\n",
       "2     Mary\n",
       "Name: name, dtype: object"
      ]
     },
     "execution_count": 133,
     "metadata": {},
     "output_type": "execute_result"
    }
   ],
   "source": [
    "df['name']"
   ]
  },
  {
   "cell_type": "markdown",
   "id": "95f35744",
   "metadata": {},
   "source": [
    "You can also retrieve more than column at once by specifying several column names:"
   ]
  },
  {
   "cell_type": "code",
   "execution_count": 134,
   "id": "b0768d6b",
   "metadata": {},
   "outputs": [
    {
     "data": {
      "text/html": [
       "<div>\n",
       "<style scoped>\n",
       "    .dataframe tbody tr th:only-of-type {\n",
       "        vertical-align: middle;\n",
       "    }\n",
       "\n",
       "    .dataframe tbody tr th {\n",
       "        vertical-align: top;\n",
       "    }\n",
       "\n",
       "    .dataframe thead th {\n",
       "        text-align: right;\n",
       "    }\n",
       "</style>\n",
       "<table border=\"1\" class=\"dataframe\">\n",
       "  <thead>\n",
       "    <tr style=\"text-align: right;\">\n",
       "      <th></th>\n",
       "      <th>name</th>\n",
       "      <th>year_income</th>\n",
       "    </tr>\n",
       "  </thead>\n",
       "  <tbody>\n",
       "    <tr>\n",
       "      <th>0</th>\n",
       "      <td>Jose</td>\n",
       "      <td>40000</td>\n",
       "    </tr>\n",
       "    <tr>\n",
       "      <th>1</th>\n",
       "      <td>Erick</td>\n",
       "      <td>50000</td>\n",
       "    </tr>\n",
       "    <tr>\n",
       "      <th>2</th>\n",
       "      <td>Mary</td>\n",
       "      <td>55000</td>\n",
       "    </tr>\n",
       "  </tbody>\n",
       "</table>\n",
       "</div>"
      ],
      "text/plain": [
       "    name  year_income\n",
       "0   Jose        40000\n",
       "1  Erick        50000\n",
       "2   Mary        55000"
      ]
     },
     "execution_count": 134,
     "metadata": {},
     "output_type": "execute_result"
    }
   ],
   "source": [
    "df[['name', 'year_income']]"
   ]
  },
  {
   "cell_type": "markdown",
   "id": "547a67de",
   "metadata": {},
   "source": [
    "> When passing a single element or a list to the [] operator, Pandas matches each value in the list against the values in the column labels, returning a new DataFrame with the matched columns."
   ]
  },
  {
   "cell_type": "markdown",
   "id": "783e056f",
   "metadata": {},
   "source": [
    "We can use the drop method to remove entries from either the row or column axes (indexes). "
   ]
  },
  {
   "cell_type": "code",
   "execution_count": 135,
   "id": "c9fa63a7",
   "metadata": {},
   "outputs": [
    {
     "data": {
      "text/html": [
       "<div>\n",
       "<style scoped>\n",
       "    .dataframe tbody tr th:only-of-type {\n",
       "        vertical-align: middle;\n",
       "    }\n",
       "\n",
       "    .dataframe tbody tr th {\n",
       "        vertical-align: top;\n",
       "    }\n",
       "\n",
       "    .dataframe thead th {\n",
       "        text-align: right;\n",
       "    }\n",
       "</style>\n",
       "<table border=\"1\" class=\"dataframe\">\n",
       "  <thead>\n",
       "    <tr style=\"text-align: right;\">\n",
       "      <th></th>\n",
       "      <th>name</th>\n",
       "      <th>age</th>\n",
       "    </tr>\n",
       "  </thead>\n",
       "  <tbody>\n",
       "    <tr>\n",
       "      <th>0</th>\n",
       "      <td>Jose</td>\n",
       "      <td>30</td>\n",
       "    </tr>\n",
       "    <tr>\n",
       "      <th>1</th>\n",
       "      <td>Erick</td>\n",
       "      <td>25</td>\n",
       "    </tr>\n",
       "    <tr>\n",
       "      <th>2</th>\n",
       "      <td>Mary</td>\n",
       "      <td>28</td>\n",
       "    </tr>\n",
       "  </tbody>\n",
       "</table>\n",
       "</div>"
      ],
      "text/plain": [
       "    name  age\n",
       "0   Jose   30\n",
       "1  Erick   25\n",
       "2   Mary   28"
      ]
     },
     "execution_count": 135,
     "metadata": {},
     "output_type": "execute_result"
    }
   ],
   "source": [
    "new_df = df.drop('year_income', axis=1) \n",
    "new_df"
   ]
  },
  {
   "cell_type": "markdown",
   "id": "97e57ab5",
   "metadata": {},
   "source": [
    "Remove an element from the column index:"
   ]
  },
  {
   "cell_type": "code",
   "execution_count": 136,
   "id": "f24e8aa5",
   "metadata": {},
   "outputs": [
    {
     "data": {
      "text/html": [
       "<div>\n",
       "<style scoped>\n",
       "    .dataframe tbody tr th:only-of-type {\n",
       "        vertical-align: middle;\n",
       "    }\n",
       "\n",
       "    .dataframe tbody tr th {\n",
       "        vertical-align: top;\n",
       "    }\n",
       "\n",
       "    .dataframe thead th {\n",
       "        text-align: right;\n",
       "    }\n",
       "</style>\n",
       "<table border=\"1\" class=\"dataframe\">\n",
       "  <thead>\n",
       "    <tr style=\"text-align: right;\">\n",
       "      <th></th>\n",
       "      <th>name</th>\n",
       "      <th>age</th>\n",
       "      <th>year_income</th>\n",
       "    </tr>\n",
       "  </thead>\n",
       "  <tbody>\n",
       "    <tr>\n",
       "      <th>1</th>\n",
       "      <td>Erick</td>\n",
       "      <td>25</td>\n",
       "      <td>50000</td>\n",
       "    </tr>\n",
       "    <tr>\n",
       "      <th>2</th>\n",
       "      <td>Mary</td>\n",
       "      <td>28</td>\n",
       "      <td>55000</td>\n",
       "    </tr>\n",
       "  </tbody>\n",
       "</table>\n",
       "</div>"
      ],
      "text/plain": [
       "    name  age  year_income\n",
       "1  Erick   25        50000\n",
       "2   Mary   28        55000"
      ]
     },
     "execution_count": 136,
     "metadata": {},
     "output_type": "execute_result"
    }
   ],
   "source": [
    "new_df = df.drop(0) \n",
    "new_df"
   ]
  },
  {
   "cell_type": "markdown",
   "id": "723a9160",
   "metadata": {},
   "source": [
    "## 2. Retrieving data\n",
    "\n",
    "As shown earlier, the form `df[val]` selects a single column or sequence of columns from the DataFrame. \n",
    "\n",
    "We can also use the \\[\\] operator to retrieve data from DataFrame in other ways, known as special case conveniences:\n",
    "- **Boolean filtering**: useful for retrieving rows based on a criterion  \n",
    "- **Slicing**: useful for retrieving rows based on position ranges of the data \n",
    "\n",
    "Pandas also provide additional methods for retrieving data: \n",
    "- **loc and iloc**: useful for retrieving rows based on labels (loc) or label positions (iloc). We will look into these methods later in the semester."
   ]
  },
  {
   "cell_type": "code",
   "execution_count": 137,
   "id": "c1203fc2",
   "metadata": {},
   "outputs": [
    {
     "data": {
      "text/html": [
       "<div>\n",
       "<style scoped>\n",
       "    .dataframe tbody tr th:only-of-type {\n",
       "        vertical-align: middle;\n",
       "    }\n",
       "\n",
       "    .dataframe tbody tr th {\n",
       "        vertical-align: top;\n",
       "    }\n",
       "\n",
       "    .dataframe thead th {\n",
       "        text-align: right;\n",
       "    }\n",
       "</style>\n",
       "<table border=\"1\" class=\"dataframe\">\n",
       "  <thead>\n",
       "    <tr style=\"text-align: right;\">\n",
       "      <th></th>\n",
       "      <th>name</th>\n",
       "      <th>age</th>\n",
       "    </tr>\n",
       "  </thead>\n",
       "  <tbody>\n",
       "    <tr>\n",
       "      <th>0</th>\n",
       "      <td>Jose</td>\n",
       "      <td>30</td>\n",
       "    </tr>\n",
       "    <tr>\n",
       "      <th>1</th>\n",
       "      <td>Erick</td>\n",
       "      <td>25</td>\n",
       "    </tr>\n",
       "    <tr>\n",
       "      <th>2</th>\n",
       "      <td>Mary</td>\n",
       "      <td>28</td>\n",
       "    </tr>\n",
       "    <tr>\n",
       "      <th>3</th>\n",
       "      <td>John</td>\n",
       "      <td>29</td>\n",
       "    </tr>\n",
       "    <tr>\n",
       "      <th>4</th>\n",
       "      <td>Pedro</td>\n",
       "      <td>32</td>\n",
       "    </tr>\n",
       "  </tbody>\n",
       "</table>\n",
       "</div>"
      ],
      "text/plain": [
       "    name  age\n",
       "0   Jose   30\n",
       "1  Erick   25\n",
       "2   Mary   28\n",
       "3   John   29\n",
       "4  Pedro   32"
      ]
     },
     "execution_count": 137,
     "metadata": {},
     "output_type": "execute_result"
    }
   ],
   "source": [
    "df = pd.DataFrame({\n",
    "    'name': ['Jose', 'Erick', 'Mary', 'John', 'Pedro'],\n",
    "    'age': [30, 25, 28, 29, 32]})\n",
    "\n",
    "df"
   ]
  },
  {
   "cell_type": "markdown",
   "id": "eb3d0e33",
   "metadata": {},
   "source": [
    "### Boolean filtering\n",
    "\n",
    "We can filter rows in a DataFrame by specifying a *list of boolean values* to []. This approach takes the positions of the boolean values in the list and retrieves only those rows corresponding to the True values.\n",
    "\n",
    "The example below filters the second and third rows:"
   ]
  },
  {
   "cell_type": "code",
   "execution_count": 86,
   "id": "1f357a7d",
   "metadata": {},
   "outputs": [
    {
     "data": {
      "text/html": [
       "<div>\n",
       "<style scoped>\n",
       "    .dataframe tbody tr th:only-of-type {\n",
       "        vertical-align: middle;\n",
       "    }\n",
       "\n",
       "    .dataframe tbody tr th {\n",
       "        vertical-align: top;\n",
       "    }\n",
       "\n",
       "    .dataframe thead th {\n",
       "        text-align: right;\n",
       "    }\n",
       "</style>\n",
       "<table border=\"1\" class=\"dataframe\">\n",
       "  <thead>\n",
       "    <tr style=\"text-align: right;\">\n",
       "      <th></th>\n",
       "      <th>name</th>\n",
       "      <th>age</th>\n",
       "    </tr>\n",
       "  </thead>\n",
       "  <tbody>\n",
       "    <tr>\n",
       "      <th>1</th>\n",
       "      <td>Erick</td>\n",
       "      <td>25</td>\n",
       "    </tr>\n",
       "    <tr>\n",
       "      <th>3</th>\n",
       "      <td>John</td>\n",
       "      <td>29</td>\n",
       "    </tr>\n",
       "  </tbody>\n",
       "</table>\n",
       "</div>"
      ],
      "text/plain": [
       "    name  age\n",
       "1  Erick   25\n",
       "3   John   29"
      ]
     },
     "execution_count": 86,
     "metadata": {},
     "output_type": "execute_result"
    }
   ],
   "source": [
    "df[[False, True, False, True, False]]"
   ]
  },
  {
   "cell_type": "markdown",
   "id": "79014689",
   "metadata": {},
   "source": [
    "*Boolean filtering is useful for retrieving rows based on criteria specified on column values.*\n",
    "\n",
    "First, we specify a condition using the column labels. Specify a condition that checks if a record corresponds to the person with name Jose: "
   ]
  },
  {
   "cell_type": "code",
   "execution_count": 138,
   "id": "c6fb7d9a",
   "metadata": {},
   "outputs": [
    {
     "data": {
      "text/plain": [
       "0     True\n",
       "1    False\n",
       "2    False\n",
       "3    False\n",
       "4    False\n",
       "Name: name, dtype: bool"
      ]
     },
     "execution_count": 138,
     "metadata": {},
     "output_type": "execute_result"
    }
   ],
   "source": [
    "filter = df['name'] == 'Jose'\n",
    "filter"
   ]
  },
  {
   "cell_type": "markdown",
   "id": "97bbeb0e",
   "metadata": {},
   "source": [
    "We can then use the generated boolean list to perform boolean filtering:"
   ]
  },
  {
   "cell_type": "code",
   "execution_count": 139,
   "id": "fac7d1d5",
   "metadata": {},
   "outputs": [
    {
     "data": {
      "text/html": [
       "<div>\n",
       "<style scoped>\n",
       "    .dataframe tbody tr th:only-of-type {\n",
       "        vertical-align: middle;\n",
       "    }\n",
       "\n",
       "    .dataframe tbody tr th {\n",
       "        vertical-align: top;\n",
       "    }\n",
       "\n",
       "    .dataframe thead th {\n",
       "        text-align: right;\n",
       "    }\n",
       "</style>\n",
       "<table border=\"1\" class=\"dataframe\">\n",
       "  <thead>\n",
       "    <tr style=\"text-align: right;\">\n",
       "      <th></th>\n",
       "      <th>name</th>\n",
       "      <th>age</th>\n",
       "    </tr>\n",
       "  </thead>\n",
       "  <tbody>\n",
       "    <tr>\n",
       "      <th>0</th>\n",
       "      <td>Jose</td>\n",
       "      <td>30</td>\n",
       "    </tr>\n",
       "  </tbody>\n",
       "</table>\n",
       "</div>"
      ],
      "text/plain": [
       "   name  age\n",
       "0  Jose   30"
      ]
     },
     "execution_count": 139,
     "metadata": {},
     "output_type": "execute_result"
    }
   ],
   "source": [
    "df[filter]"
   ]
  },
  {
   "cell_type": "markdown",
   "id": "00443b7a",
   "metadata": {},
   "source": [
    "We can specify the condition in a single expression:"
   ]
  },
  {
   "cell_type": "code",
   "execution_count": 140,
   "id": "b3d12c7e",
   "metadata": {},
   "outputs": [
    {
     "data": {
      "text/html": [
       "<div>\n",
       "<style scoped>\n",
       "    .dataframe tbody tr th:only-of-type {\n",
       "        vertical-align: middle;\n",
       "    }\n",
       "\n",
       "    .dataframe tbody tr th {\n",
       "        vertical-align: top;\n",
       "    }\n",
       "\n",
       "    .dataframe thead th {\n",
       "        text-align: right;\n",
       "    }\n",
       "</style>\n",
       "<table border=\"1\" class=\"dataframe\">\n",
       "  <thead>\n",
       "    <tr style=\"text-align: right;\">\n",
       "      <th></th>\n",
       "      <th>name</th>\n",
       "      <th>age</th>\n",
       "    </tr>\n",
       "  </thead>\n",
       "  <tbody>\n",
       "    <tr>\n",
       "      <th>0</th>\n",
       "      <td>Jose</td>\n",
       "      <td>30</td>\n",
       "    </tr>\n",
       "  </tbody>\n",
       "</table>\n",
       "</div>"
      ],
      "text/plain": [
       "   name  age\n",
       "0  Jose   30"
      ]
     },
     "execution_count": 140,
     "metadata": {},
     "output_type": "execute_result"
    }
   ],
   "source": [
    "df[df['name'] == 'Jose']"
   ]
  },
  {
   "cell_type": "markdown",
   "id": "0a711625",
   "metadata": {},
   "source": [
    "Retrieve all records with age greater than 30:"
   ]
  },
  {
   "cell_type": "code",
   "execution_count": 141,
   "id": "d9198565",
   "metadata": {},
   "outputs": [
    {
     "data": {
      "text/html": [
       "<div>\n",
       "<style scoped>\n",
       "    .dataframe tbody tr th:only-of-type {\n",
       "        vertical-align: middle;\n",
       "    }\n",
       "\n",
       "    .dataframe tbody tr th {\n",
       "        vertical-align: top;\n",
       "    }\n",
       "\n",
       "    .dataframe thead th {\n",
       "        text-align: right;\n",
       "    }\n",
       "</style>\n",
       "<table border=\"1\" class=\"dataframe\">\n",
       "  <thead>\n",
       "    <tr style=\"text-align: right;\">\n",
       "      <th></th>\n",
       "      <th>name</th>\n",
       "      <th>age</th>\n",
       "    </tr>\n",
       "  </thead>\n",
       "  <tbody>\n",
       "    <tr>\n",
       "      <th>0</th>\n",
       "      <td>Jose</td>\n",
       "      <td>30</td>\n",
       "    </tr>\n",
       "    <tr>\n",
       "      <th>4</th>\n",
       "      <td>Pedro</td>\n",
       "      <td>32</td>\n",
       "    </tr>\n",
       "  </tbody>\n",
       "</table>\n",
       "</div>"
      ],
      "text/plain": [
       "    name  age\n",
       "0   Jose   30\n",
       "4  Pedro   32"
      ]
     },
     "execution_count": 141,
     "metadata": {},
     "output_type": "execute_result"
    }
   ],
   "source": [
    "df[df['age'] >= 30]"
   ]
  },
  {
   "cell_type": "markdown",
   "id": "f349d6c8",
   "metadata": {},
   "source": [
    "### Slicing\n",
    "\n",
    "We can also use list-slicing notation *start:stop:step* to filter rows in a DataFrame. The slicing notation operates over the positions of the row index:"
   ]
  },
  {
   "cell_type": "markdown",
   "id": "58a14bcf",
   "metadata": {},
   "source": [
    "Retrieve the first two rows:"
   ]
  },
  {
   "cell_type": "code",
   "execution_count": 142,
   "id": "0a0108b0",
   "metadata": {},
   "outputs": [
    {
     "data": {
      "text/html": [
       "<div>\n",
       "<style scoped>\n",
       "    .dataframe tbody tr th:only-of-type {\n",
       "        vertical-align: middle;\n",
       "    }\n",
       "\n",
       "    .dataframe tbody tr th {\n",
       "        vertical-align: top;\n",
       "    }\n",
       "\n",
       "    .dataframe thead th {\n",
       "        text-align: right;\n",
       "    }\n",
       "</style>\n",
       "<table border=\"1\" class=\"dataframe\">\n",
       "  <thead>\n",
       "    <tr style=\"text-align: right;\">\n",
       "      <th></th>\n",
       "      <th>name</th>\n",
       "      <th>age</th>\n",
       "    </tr>\n",
       "  </thead>\n",
       "  <tbody>\n",
       "    <tr>\n",
       "      <th>0</th>\n",
       "      <td>Jose</td>\n",
       "      <td>30</td>\n",
       "    </tr>\n",
       "    <tr>\n",
       "      <th>1</th>\n",
       "      <td>Erick</td>\n",
       "      <td>25</td>\n",
       "    </tr>\n",
       "  </tbody>\n",
       "</table>\n",
       "</div>"
      ],
      "text/plain": [
       "    name  age\n",
       "0   Jose   30\n",
       "1  Erick   25"
      ]
     },
     "execution_count": 142,
     "metadata": {},
     "output_type": "execute_result"
    }
   ],
   "source": [
    "df[:2]"
   ]
  },
  {
   "cell_type": "markdown",
   "id": "30eb18c2",
   "metadata": {},
   "source": [
    "## 3. Sorting\n",
    "\n",
    "Sorting a DataFrame by some criterion is another important feature in Pandas."
   ]
  },
  {
   "cell_type": "code",
   "execution_count": 143,
   "id": "6ab4dd77",
   "metadata": {},
   "outputs": [
    {
     "data": {
      "text/html": [
       "<div>\n",
       "<style scoped>\n",
       "    .dataframe tbody tr th:only-of-type {\n",
       "        vertical-align: middle;\n",
       "    }\n",
       "\n",
       "    .dataframe tbody tr th {\n",
       "        vertical-align: top;\n",
       "    }\n",
       "\n",
       "    .dataframe thead th {\n",
       "        text-align: right;\n",
       "    }\n",
       "</style>\n",
       "<table border=\"1\" class=\"dataframe\">\n",
       "  <thead>\n",
       "    <tr style=\"text-align: right;\">\n",
       "      <th></th>\n",
       "      <th>name</th>\n",
       "      <th>age</th>\n",
       "    </tr>\n",
       "  </thead>\n",
       "  <tbody>\n",
       "    <tr>\n",
       "      <th>0</th>\n",
       "      <td>Jose</td>\n",
       "      <td>30</td>\n",
       "    </tr>\n",
       "    <tr>\n",
       "      <th>1</th>\n",
       "      <td>Erick</td>\n",
       "      <td>25</td>\n",
       "    </tr>\n",
       "    <tr>\n",
       "      <th>2</th>\n",
       "      <td>Mary</td>\n",
       "      <td>28</td>\n",
       "    </tr>\n",
       "    <tr>\n",
       "      <th>3</th>\n",
       "      <td>John</td>\n",
       "      <td>29</td>\n",
       "    </tr>\n",
       "    <tr>\n",
       "      <th>4</th>\n",
       "      <td>Pedro</td>\n",
       "      <td>32</td>\n",
       "    </tr>\n",
       "  </tbody>\n",
       "</table>\n",
       "</div>"
      ],
      "text/plain": [
       "    name  age\n",
       "0   Jose   30\n",
       "1  Erick   25\n",
       "2   Mary   28\n",
       "3   John   29\n",
       "4  Pedro   32"
      ]
     },
     "execution_count": 143,
     "metadata": {},
     "output_type": "execute_result"
    }
   ],
   "source": [
    "df = pd.DataFrame({\n",
    "    'name': ['Jose', 'Erick', 'Mary', 'John', 'Pedro'],\n",
    "    'age': [30, 25, 28, 29, 32]})\n",
    "\n",
    "df"
   ]
  },
  {
   "cell_type": "markdown",
   "id": "e840a943",
   "metadata": {},
   "source": [
    "We can sort a DataFrame by one or more columns. To do so, pass one or more column names to the *by* parameter of the *sort_values* function:"
   ]
  },
  {
   "cell_type": "code",
   "execution_count": 144,
   "id": "73dc39bc",
   "metadata": {},
   "outputs": [
    {
     "data": {
      "text/html": [
       "<div>\n",
       "<style scoped>\n",
       "    .dataframe tbody tr th:only-of-type {\n",
       "        vertical-align: middle;\n",
       "    }\n",
       "\n",
       "    .dataframe tbody tr th {\n",
       "        vertical-align: top;\n",
       "    }\n",
       "\n",
       "    .dataframe thead th {\n",
       "        text-align: right;\n",
       "    }\n",
       "</style>\n",
       "<table border=\"1\" class=\"dataframe\">\n",
       "  <thead>\n",
       "    <tr style=\"text-align: right;\">\n",
       "      <th></th>\n",
       "      <th>name</th>\n",
       "      <th>age</th>\n",
       "    </tr>\n",
       "  </thead>\n",
       "  <tbody>\n",
       "    <tr>\n",
       "      <th>1</th>\n",
       "      <td>Erick</td>\n",
       "      <td>25</td>\n",
       "    </tr>\n",
       "    <tr>\n",
       "      <th>3</th>\n",
       "      <td>John</td>\n",
       "      <td>29</td>\n",
       "    </tr>\n",
       "    <tr>\n",
       "      <th>0</th>\n",
       "      <td>Jose</td>\n",
       "      <td>30</td>\n",
       "    </tr>\n",
       "    <tr>\n",
       "      <th>2</th>\n",
       "      <td>Mary</td>\n",
       "      <td>28</td>\n",
       "    </tr>\n",
       "    <tr>\n",
       "      <th>4</th>\n",
       "      <td>Pedro</td>\n",
       "      <td>32</td>\n",
       "    </tr>\n",
       "  </tbody>\n",
       "</table>\n",
       "</div>"
      ],
      "text/plain": [
       "    name  age\n",
       "1  Erick   25\n",
       "3   John   29\n",
       "0   Jose   30\n",
       "2   Mary   28\n",
       "4  Pedro   32"
      ]
     },
     "execution_count": 144,
     "metadata": {},
     "output_type": "execute_result"
    }
   ],
   "source": [
    "df.sort_values(by='name')"
   ]
  },
  {
   "cell_type": "code",
   "execution_count": 145,
   "id": "ae15a512",
   "metadata": {},
   "outputs": [
    {
     "data": {
      "text/html": [
       "<div>\n",
       "<style scoped>\n",
       "    .dataframe tbody tr th:only-of-type {\n",
       "        vertical-align: middle;\n",
       "    }\n",
       "\n",
       "    .dataframe tbody tr th {\n",
       "        vertical-align: top;\n",
       "    }\n",
       "\n",
       "    .dataframe thead th {\n",
       "        text-align: right;\n",
       "    }\n",
       "</style>\n",
       "<table border=\"1\" class=\"dataframe\">\n",
       "  <thead>\n",
       "    <tr style=\"text-align: right;\">\n",
       "      <th></th>\n",
       "      <th>name</th>\n",
       "      <th>age</th>\n",
       "    </tr>\n",
       "  </thead>\n",
       "  <tbody>\n",
       "    <tr>\n",
       "      <th>1</th>\n",
       "      <td>Erick</td>\n",
       "      <td>25</td>\n",
       "    </tr>\n",
       "    <tr>\n",
       "      <th>3</th>\n",
       "      <td>John</td>\n",
       "      <td>29</td>\n",
       "    </tr>\n",
       "    <tr>\n",
       "      <th>0</th>\n",
       "      <td>Jose</td>\n",
       "      <td>30</td>\n",
       "    </tr>\n",
       "    <tr>\n",
       "      <th>2</th>\n",
       "      <td>Mary</td>\n",
       "      <td>28</td>\n",
       "    </tr>\n",
       "    <tr>\n",
       "      <th>4</th>\n",
       "      <td>Pedro</td>\n",
       "      <td>32</td>\n",
       "    </tr>\n",
       "  </tbody>\n",
       "</table>\n",
       "</div>"
      ],
      "text/plain": [
       "    name  age\n",
       "1  Erick   25\n",
       "3   John   29\n",
       "0   Jose   30\n",
       "2   Mary   28\n",
       "4  Pedro   32"
      ]
     },
     "execution_count": 145,
     "metadata": {},
     "output_type": "execute_result"
    }
   ],
   "source": [
    "df.sort_values(by=['name', 'age'])"
   ]
  },
  {
   "cell_type": "markdown",
   "id": "7a097ce3",
   "metadata": {},
   "source": [
    "Sort in descending order:"
   ]
  },
  {
   "cell_type": "code",
   "execution_count": 146,
   "id": "08b9f680",
   "metadata": {},
   "outputs": [
    {
     "data": {
      "text/html": [
       "<div>\n",
       "<style scoped>\n",
       "    .dataframe tbody tr th:only-of-type {\n",
       "        vertical-align: middle;\n",
       "    }\n",
       "\n",
       "    .dataframe tbody tr th {\n",
       "        vertical-align: top;\n",
       "    }\n",
       "\n",
       "    .dataframe thead th {\n",
       "        text-align: right;\n",
       "    }\n",
       "</style>\n",
       "<table border=\"1\" class=\"dataframe\">\n",
       "  <thead>\n",
       "    <tr style=\"text-align: right;\">\n",
       "      <th></th>\n",
       "      <th>name</th>\n",
       "      <th>age</th>\n",
       "    </tr>\n",
       "  </thead>\n",
       "  <tbody>\n",
       "    <tr>\n",
       "      <th>4</th>\n",
       "      <td>Pedro</td>\n",
       "      <td>32</td>\n",
       "    </tr>\n",
       "    <tr>\n",
       "      <th>2</th>\n",
       "      <td>Mary</td>\n",
       "      <td>28</td>\n",
       "    </tr>\n",
       "    <tr>\n",
       "      <th>0</th>\n",
       "      <td>Jose</td>\n",
       "      <td>30</td>\n",
       "    </tr>\n",
       "    <tr>\n",
       "      <th>3</th>\n",
       "      <td>John</td>\n",
       "      <td>29</td>\n",
       "    </tr>\n",
       "    <tr>\n",
       "      <th>1</th>\n",
       "      <td>Erick</td>\n",
       "      <td>25</td>\n",
       "    </tr>\n",
       "  </tbody>\n",
       "</table>\n",
       "</div>"
      ],
      "text/plain": [
       "    name  age\n",
       "4  Pedro   32\n",
       "2   Mary   28\n",
       "0   Jose   30\n",
       "3   John   29\n",
       "1  Erick   25"
      ]
     },
     "execution_count": 146,
     "metadata": {},
     "output_type": "execute_result"
    }
   ],
   "source": [
    "df.sort_values(by='name', ascending=False)"
   ]
  },
  {
   "cell_type": "markdown",
   "id": "a7f2514a",
   "metadata": {},
   "source": [
    "## 4. Computing descriptive statistics\n",
    "\n",
    "Pandas objects are equipped with a set of common mathematical and statistical methods. Most of these fall into the category of reductions or summary statistics, methods that extract a single value (like the sum or mean) from a series of values from the rows or columns of a DataFrame."
   ]
  },
  {
   "cell_type": "code",
   "execution_count": 147,
   "id": "8188f76c",
   "metadata": {},
   "outputs": [
    {
     "data": {
      "text/html": [
       "<div>\n",
       "<style scoped>\n",
       "    .dataframe tbody tr th:only-of-type {\n",
       "        vertical-align: middle;\n",
       "    }\n",
       "\n",
       "    .dataframe tbody tr th {\n",
       "        vertical-align: top;\n",
       "    }\n",
       "\n",
       "    .dataframe thead th {\n",
       "        text-align: right;\n",
       "    }\n",
       "</style>\n",
       "<table border=\"1\" class=\"dataframe\">\n",
       "  <thead>\n",
       "    <tr style=\"text-align: right;\">\n",
       "      <th></th>\n",
       "      <th>name</th>\n",
       "      <th>age</th>\n",
       "      <th>year_income</th>\n",
       "    </tr>\n",
       "  </thead>\n",
       "  <tbody>\n",
       "    <tr>\n",
       "      <th>0</th>\n",
       "      <td>Jose</td>\n",
       "      <td>30</td>\n",
       "      <td>40000</td>\n",
       "    </tr>\n",
       "    <tr>\n",
       "      <th>1</th>\n",
       "      <td>Erick</td>\n",
       "      <td>25</td>\n",
       "      <td>50000</td>\n",
       "    </tr>\n",
       "    <tr>\n",
       "      <th>2</th>\n",
       "      <td>Mary</td>\n",
       "      <td>28</td>\n",
       "      <td>55000</td>\n",
       "    </tr>\n",
       "    <tr>\n",
       "      <th>3</th>\n",
       "      <td>John</td>\n",
       "      <td>29</td>\n",
       "      <td>21000</td>\n",
       "    </tr>\n",
       "    <tr>\n",
       "      <th>4</th>\n",
       "      <td>Pedro</td>\n",
       "      <td>32</td>\n",
       "      <td>38500</td>\n",
       "    </tr>\n",
       "  </tbody>\n",
       "</table>\n",
       "</div>"
      ],
      "text/plain": [
       "    name  age  year_income\n",
       "0   Jose   30        40000\n",
       "1  Erick   25        50000\n",
       "2   Mary   28        55000\n",
       "3   John   29        21000\n",
       "4  Pedro   32        38500"
      ]
     },
     "execution_count": 147,
     "metadata": {},
     "output_type": "execute_result"
    }
   ],
   "source": [
    "df = pd.DataFrame({\n",
    "    'name': ['Jose', 'Erick', 'Mary', 'John', 'Pedro'],\n",
    "    'age': [30, 25, 28, 29, 32],\n",
    "    'year_income': [40000, 50000, 55000, 21000, 38500]\n",
    "})\n",
    "\n",
    "df"
   ]
  },
  {
   "cell_type": "markdown",
   "id": "0267cac6",
   "metadata": {},
   "source": [
    "Calculate the sum of a column:"
   ]
  },
  {
   "cell_type": "code",
   "execution_count": 148,
   "id": "5197331e",
   "metadata": {},
   "outputs": [
    {
     "data": {
      "text/plain": [
       "204500"
      ]
     },
     "execution_count": 148,
     "metadata": {},
     "output_type": "execute_result"
    }
   ],
   "source": [
    "df['year_income'].sum()"
   ]
  },
  {
   "cell_type": "markdown",
   "id": "1e4d44e0",
   "metadata": {},
   "source": [
    "Calculate the mean of a column:"
   ]
  },
  {
   "cell_type": "code",
   "execution_count": 149,
   "id": "2846727b",
   "metadata": {},
   "outputs": [
    {
     "data": {
      "text/plain": [
       "28.8"
      ]
     },
     "execution_count": 149,
     "metadata": {},
     "output_type": "execute_result"
    }
   ],
   "source": [
    "df['age'].mean()"
   ]
  },
  {
   "cell_type": "markdown",
   "id": "b80ee0a5",
   "metadata": {},
   "source": [
    "Calculate the mean for every column:"
   ]
  },
  {
   "cell_type": "code",
   "execution_count": 150,
   "id": "023cdbd1",
   "metadata": {},
   "outputs": [
    {
     "data": {
      "text/plain": [
       "year_income    40900.0\n",
       "age               28.8\n",
       "dtype: float64"
      ]
     },
     "execution_count": 150,
     "metadata": {},
     "output_type": "execute_result"
    }
   ],
   "source": [
    "df[['year_income', 'age']].mean()"
   ]
  },
  {
   "cell_type": "markdown",
   "id": "9bfe726c",
   "metadata": {},
   "source": [
    "*describe* produces multiple summary statistics in one shot for each numeric column:"
   ]
  },
  {
   "cell_type": "code",
   "execution_count": 151,
   "id": "70131d33",
   "metadata": {},
   "outputs": [
    {
     "data": {
      "text/html": [
       "<div>\n",
       "<style scoped>\n",
       "    .dataframe tbody tr th:only-of-type {\n",
       "        vertical-align: middle;\n",
       "    }\n",
       "\n",
       "    .dataframe tbody tr th {\n",
       "        vertical-align: top;\n",
       "    }\n",
       "\n",
       "    .dataframe thead th {\n",
       "        text-align: right;\n",
       "    }\n",
       "</style>\n",
       "<table border=\"1\" class=\"dataframe\">\n",
       "  <thead>\n",
       "    <tr style=\"text-align: right;\">\n",
       "      <th></th>\n",
       "      <th>age</th>\n",
       "      <th>year_income</th>\n",
       "    </tr>\n",
       "  </thead>\n",
       "  <tbody>\n",
       "    <tr>\n",
       "      <th>count</th>\n",
       "      <td>5.000000</td>\n",
       "      <td>5.000000</td>\n",
       "    </tr>\n",
       "    <tr>\n",
       "      <th>mean</th>\n",
       "      <td>28.800000</td>\n",
       "      <td>40900.000000</td>\n",
       "    </tr>\n",
       "    <tr>\n",
       "      <th>std</th>\n",
       "      <td>2.588436</td>\n",
       "      <td>13078.608489</td>\n",
       "    </tr>\n",
       "    <tr>\n",
       "      <th>min</th>\n",
       "      <td>25.000000</td>\n",
       "      <td>21000.000000</td>\n",
       "    </tr>\n",
       "    <tr>\n",
       "      <th>25%</th>\n",
       "      <td>28.000000</td>\n",
       "      <td>38500.000000</td>\n",
       "    </tr>\n",
       "    <tr>\n",
       "      <th>50%</th>\n",
       "      <td>29.000000</td>\n",
       "      <td>40000.000000</td>\n",
       "    </tr>\n",
       "    <tr>\n",
       "      <th>75%</th>\n",
       "      <td>30.000000</td>\n",
       "      <td>50000.000000</td>\n",
       "    </tr>\n",
       "    <tr>\n",
       "      <th>max</th>\n",
       "      <td>32.000000</td>\n",
       "      <td>55000.000000</td>\n",
       "    </tr>\n",
       "  </tbody>\n",
       "</table>\n",
       "</div>"
      ],
      "text/plain": [
       "             age   year_income\n",
       "count   5.000000      5.000000\n",
       "mean   28.800000  40900.000000\n",
       "std     2.588436  13078.608489\n",
       "min    25.000000  21000.000000\n",
       "25%    28.000000  38500.000000\n",
       "50%    29.000000  40000.000000\n",
       "75%    30.000000  50000.000000\n",
       "max    32.000000  55000.000000"
      ]
     },
     "execution_count": 151,
     "metadata": {},
     "output_type": "execute_result"
    }
   ],
   "source": [
    "df.describe()"
   ]
  },
  {
   "cell_type": "code",
   "execution_count": null,
   "id": "c7c035e2",
   "metadata": {},
   "outputs": [],
   "source": []
  }
 ],
 "metadata": {
  "kernelspec": {
   "display_name": "Python 3 (ipykernel)",
   "language": "python",
   "name": "python3"
  },
  "language_info": {
   "codemirror_mode": {
    "name": "ipython",
    "version": 3
   },
   "file_extension": ".py",
   "mimetype": "text/x-python",
   "name": "python",
   "nbconvert_exporter": "python",
   "pygments_lexer": "ipython3",
   "version": "3.9.6"
  }
 },
 "nbformat": 4,
 "nbformat_minor": 5
}
